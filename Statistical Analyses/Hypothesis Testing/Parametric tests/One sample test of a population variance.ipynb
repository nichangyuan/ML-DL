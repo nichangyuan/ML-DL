{
 "cells": [
  {
   "cell_type": "code",
   "execution_count": 10,
   "metadata": {
    "collapsed": true
   },
   "outputs": [],
   "source": [
    "from scipy.stats import chi2\n",
    "import pandas as pd\n",
    "import numpy as np\n",
    "import statistics as stats "
   ]
  },
  {
   "cell_type": "markdown",
   "metadata": {},
   "source": [
    "## One sample test of hypothesis of population variance or standard deviation. \n",
    "## Right tailed test"
   ]
  },
  {
   "cell_type": "markdown",
   "metadata": {},
   "source": [
    "$\\begin{align}\n",
    "  & {{H}_{0}}:\\sigma ={{\\sigma }_{0}} \\\\ \n",
    " & {{H}_{1}}:\\sigma >{{\\sigma }_{0}} \\\\ \n",
    " & {{\\chi }^{2}}=\\frac{\\left( n-1 \\right){{s}^{2}}}{{{\\sigma }^{2}}} \\\\ \n",
    "\\end{align}$"
   ]
  },
  {
   "cell_type": "code",
   "execution_count": 11,
   "metadata": {},
   "outputs": [
    {
     "name": "stdout",
     "output_type": "stream",
     "text": [
      "The p-value is: 0.0675107152902\n"
     ]
    }
   ],
   "source": [
    "chisquare = 15.97\n",
    "sample_size = 10\n",
    "df = sample_size - 1\n",
    "p_value  = 1-chi2.cdf(chisquare,df)\n",
    "print(\"The p-value is:\",p_value)\n"
   ]
  },
  {
   "cell_type": "markdown",
   "metadata": {},
   "source": [
    "## One sample test of hypothesis of population variance or standard deviation.\n",
    "## Left tailed test"
   ]
  },
  {
   "cell_type": "markdown",
   "metadata": {},
   "source": [
    "$\\begin{align}\n",
    "  & {{H}_{0}}:\\sigma ={{\\sigma }_{0}} \\\\ \n",
    " & {{H}_{1}}:\\sigma <{{\\sigma }_{0}} \\\\ \n",
    " & {{\\chi }^{2}}=\\frac{\\left( n-1 \\right){{s}^{2}}}{{{\\sigma }^{2}}} \\\\ \n",
    "\\end{align}$"
   ]
  },
  {
   "cell_type": "code",
   "execution_count": 12,
   "metadata": {},
   "outputs": [
    {
     "name": "stdout",
     "output_type": "stream",
     "text": [
      "The p-value is: 0.93248928471\n"
     ]
    }
   ],
   "source": [
    "chisquare = 15.97\n",
    "sample_size = 10\n",
    "df = sample_size - 1\n",
    "p_value  = chi2.cdf(chisquare,df)\n",
    "print(\"The p-value is:\",p_value)"
   ]
  },
  {
   "cell_type": "markdown",
   "metadata": {},
   "source": [
    "## One sample test of hypothesis of population variance or standard deviation.\n",
    "## Two tailed test"
   ]
  },
  {
   "cell_type": "markdown",
   "metadata": {},
   "source": [
    "$\\begin{align}\n",
    "  & {{H}_{0}}:\\sigma ={{\\sigma }_{0}} \\\\ \n",
    " & {{H}_{1}}:\\sigma \\ne {{\\sigma }_{0}} \\\\ \n",
    " & {{\\chi }^{2}}=\\frac{\\left( n-1 \\right){{s}^{2}}}{{{\\sigma }^{2}}} \\\\ \n",
    "\\end{align}$"
   ]
  },
  {
   "cell_type": "code",
   "execution_count": 13,
   "metadata": {},
   "outputs": [
    {
     "name": "stdout",
     "output_type": "stream",
     "text": [
      "The p-value is: 0.13502143058\n"
     ]
    }
   ],
   "source": [
    "chisquare = 15.97\n",
    "sample_size = 10\n",
    "df = sample_size - 1\n",
    "p_value  = 2*(1-chi2.cdf(chisquare,df))\n",
    "print(\"The p-value is:\",p_value)"
   ]
  },
  {
   "cell_type": "markdown",
   "metadata": {},
   "source": [
    "##  Exemple with a real world problem"
   ]
  },
  {
   "cell_type": "markdown",
   "metadata": {},
   "source": [
    "> Consider the reaction time of twenty drivers after drinking one can of beer:\n",
    "> [6.85,4.78,5.57,4.01,5.91,5.34,6.09,5.84,4.19,5.75,6.25,7.23,4.55,6.42,5.25,5.59,3.96,5.93,6.03,3.72]\n",
    "> Is there any statistical evidence to suggest that the standard deviation of the reaction time \n",
    "> is greater than 0.60 seconds"
   ]
  },
  {
   "cell_type": "markdown",
   "metadata": {},
   "source": [
    "$\\begin{align}\n",
    "  & {{H}_{0}}:\\sigma ={0.6} \\\\ \n",
    " & {{H}_{1}}:\\sigma >{0.6} \\\\ \n",
    " & {{\\chi }^{2}}=\\frac{\\left( n-1 \\right){{s}^{2}}}{{{\\sigma }^{2}}} \\\\ \n",
    "\\end{align}$"
   ]
  },
  {
   "cell_type": "code",
   "execution_count": 14,
   "metadata": {},
   "outputs": [
    {
     "name": "stdout",
     "output_type": "stream",
     "text": [
      "The sample variance is  0.96606\n",
      "The chi-square is  50.98672\n",
      "The p-value is: 0.00009\n"
     ]
    }
   ],
   "source": [
    "time = [6.85,4.78,5.57,4.01,5.91,5.34,6.09,5.84,4.19,5.75,6.25,7.23,4.55,6.42,5.25,5.59,3.96,5.93,6.03,3.72]\n",
    "pop_var = 0.60\n",
    "df = len(time)-1\n",
    "sample_variance = stats.variance(time)\n",
    "chisquare = (len(time)-1)*sample_variance/pop_var**2\n",
    "p_value  = 1-chi2.cdf(chisquare,df)\n",
    "print(\"The sample variance is \", '{:.5f}'.format(sample_variance))\n",
    "print(\"The chi-square is \", '{:.5f}'.format(chisquare))\n",
    "print(\"The p-value is:\",'{:.5f}'.format(p_value))"
   ]
  },
  {
   "cell_type": "code",
   "execution_count": null,
   "metadata": {
    "collapsed": true
   },
   "outputs": [],
   "source": []
  }
 ],
 "metadata": {
  "kernelspec": {
   "display_name": "Python 3",
   "language": "python",
   "name": "python3"
  },
  "language_info": {
   "codemirror_mode": {
    "name": "ipython",
    "version": 3
   },
   "file_extension": ".py",
   "mimetype": "text/x-python",
   "name": "python",
   "nbconvert_exporter": "python",
   "pygments_lexer": "ipython3",
   "version": "3.6.4"
  }
 },
 "nbformat": 4,
 "nbformat_minor": 2
}