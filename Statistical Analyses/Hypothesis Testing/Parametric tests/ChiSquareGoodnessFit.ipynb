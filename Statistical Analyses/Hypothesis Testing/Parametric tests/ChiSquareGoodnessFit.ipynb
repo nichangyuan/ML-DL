{
 "cells": [
  {
   "cell_type": "code",
   "execution_count": 38,
   "metadata": {
    "collapsed": true
   },
   "outputs": [],
   "source": [
    "import numpy as np\n",
    "import pandas as pd\n",
    "from scipy.stats import chisquare"
   ]
  },
  {
   "cell_type": "markdown",
   "metadata": {},
   "source": [
    "## Exemple 1:  Sample of violent criminal from a US State\n",
    "### Hypothesized proportions in Ho: p1=0.01  p2=0.04, p3=0.35, p4=0.60"
   ]
  },
  {
   "cell_type": "code",
   "execution_count": 39,
   "metadata": {
    "collapsed": true
   },
   "outputs": [],
   "source": [
    "observed = [6, 50, 350,  594]   # categories of crimes: rape, murder, roberry, assault\n",
    "expected = [10, 40, 350, 600]   # expected cell count based on sample of 1000 and the different proportions"
   ]
  },
  {
   "cell_type": "code",
   "execution_count": 40,
   "metadata": {},
   "outputs": [
    {
     "name": "stdout",
     "output_type": "stream",
     "text": [
      "The chi-square is 4.16\n",
      "The P-value is 0.244697280581\n"
     ]
    }
   ],
   "source": [
    "(chisq, pvalue) = chisquare(f_obs=observed, f_exp=expected,ddof=0)\n",
    "print('The chi-square is',chisq)\n",
    "print('The P-value is', pvalue)"
   ]
  },
  {
   "cell_type": "markdown",
   "metadata": {},
   "source": [
    "### Conclusion: No evidence that the proportion of violent crimes has changed in that city"
   ]
  },
  {
   "cell_type": "markdown",
   "metadata": {},
   "source": [
    "### Ho: The data is normally distributed\n",
    "### H1: The data is not normally distributed"
   ]
  },
  {
   "cell_type": "markdown",
   "metadata": {},
   "source": [
    "> ddof : int, optional <br>\n",
    "> The p-value is computed using a chi-squared distribution with k - 1 - ddof degrees of freedom,<br>\n",
    "> where k is the number of observed frequencies. The default value of ddof is 0."
   ]
  },
  {
   "cell_type": "code",
   "execution_count": 41,
   "metadata": {
    "collapsed": true
   },
   "outputs": [],
   "source": [
    "observed = [24,   62,   72,    26,    16]\n",
    "expected = [26.7, 55.1, 66.64, 38.96, 12.6]"
   ]
  },
  {
   "cell_type": "markdown",
   "metadata": {},
   "source": [
    "## Computing the chi-square goodness of fit statistic and p_value\n",
    "### If no additional parameters have been estimated from the data, ddof =0 or omitted\n",
    "### If parameters where estimated (ex mean and std), then ddof equals to the number of estimated param\n",
    "### By default, the module uses K-1 df (where k is the number of observed vales)"
   ]
  },
  {
   "cell_type": "code",
   "execution_count": 43,
   "metadata": {},
   "outputs": [
    {
     "name": "stdout",
     "output_type": "stream",
     "text": [
      "The chi-square is 6.79680517111\n",
      "The P-value is 0.147023747257\n"
     ]
    }
   ],
   "source": [
    "(chisq, pvalue) = chisquare(f_obs=observed, f_exp=expected,ddof=2)\n",
    "print('The chi-square is',chisq)\n",
    "print('The P-value is', pvalue)"
   ]
  },
  {
   "cell_type": "code",
   "execution_count": null,
   "metadata": {
    "collapsed": true
   },
   "outputs": [],
   "source": []
  }
 ],
 "metadata": {
  "kernelspec": {
   "display_name": "Python 3",
   "language": "python",
   "name": "python3"
  },
  "language_info": {
   "codemirror_mode": {
    "name": "ipython",
    "version": 3
   },
   "file_extension": ".py",
   "mimetype": "text/x-python",
   "name": "python",
   "nbconvert_exporter": "python",
   "pygments_lexer": "ipython3",
   "version": "3.6.4"
  }
 },
 "nbformat": 4,
 "nbformat_minor": 2
}
