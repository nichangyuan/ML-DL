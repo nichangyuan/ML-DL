{
 "cells": [
  {
   "cell_type": "code",
   "execution_count": 8,
   "metadata": {
    "collapsed": true
   },
   "outputs": [],
   "source": [
    "from statsmodels.stats.proportion import proportions_ztest"
   ]
  },
  {
   "cell_type": "markdown",
   "metadata": {},
   "source": [
    "## One sample test of hypothesis of population proportion.  Two tailed test"
   ]
  },
  {
   "cell_type": "markdown",
   "metadata": {},
   "source": [
    "$\\begin{align}\n",
    "  & {{H}_{0}}:p={{p}_{0}} \\\\ \n",
    " & {{H}_{1}}:p\\ne {{p}_{0}} \\\\ \n",
    " & z\\,\\,=\\,\\,\\frac{p-{{p}_{0}}}{\\sqrt{\\frac{{{p}_{0}}{{q}_{0}}}{n}}} \\\\ \n",
    "\\end{align}$"
   ]
  },
  {
   "cell_type": "code",
   "execution_count": 9,
   "metadata": {},
   "outputs": [
    {
     "name": "stdout",
     "output_type": "stream",
     "text": [
      "The computed Z test statistic is:  2.76206488798\n",
      "The p-value is:  0.00574370621104\n"
     ]
    }
   ],
   "source": [
    "number_of_successes  = 121\n",
    "total_sample_sizes   = 710\n",
    "(test_stat, p_value) = proportions_ztest(number_of_successes, total_sample_sizes, value=0.135, \n",
    "                                         alternative='two-sided',prop_var=0.135)\n",
    "print(\"The computed Z test statistic is: \",test_stat)\n",
    "print(\"The p-value is: \",p_value)\n"
   ]
  },
  {
   "cell_type": "markdown",
   "metadata": {},
   "source": [
    "## One sample test of hypothesis of population proportion. left tailed test"
   ]
  },
  {
   "cell_type": "markdown",
   "metadata": {},
   "source": [
    "$\\begin{align}\n",
    "  & {{H}_{0}}:p={{p}_{0}} \\\\ \n",
    " & {{H}_{1}}:p<{{p}_{0}} \\\\ \n",
    " & z=\\frac{p-{{p}_{0}}}{\\sqrt{\\frac{{{p}_{0}}{{q}_{0}}}{n}}} \\\\ \n",
    "\\end{align}$"
   ]
  },
  {
   "cell_type": "code",
   "execution_count": 10,
   "metadata": {},
   "outputs": [
    {
     "name": "stdout",
     "output_type": "stream",
     "text": [
      "The computed Z test statistic is:  2.76206488798\n",
      "The p-value is:  0.997128146894\n"
     ]
    }
   ],
   "source": [
    "number_of_successes  = 121\n",
    "total_sample_sizes   = 710\n",
    "(test_stat, p_value) = proportions_ztest(number_of_successes, total_sample_sizes, value=0.135, \n",
    "                                         alternative='smaller',prop_var=0.135)\n",
    "print(\"The computed Z test statistic is: \",test_stat)\n",
    "print(\"The p-value is: \",p_value)"
   ]
  },
  {
   "cell_type": "markdown",
   "metadata": {},
   "source": [
    "## One sample test of hypothesis of population proportion. Right tailed test"
   ]
  },
  {
   "cell_type": "markdown",
   "metadata": {},
   "source": [
    "$\\begin{align}\n",
    "  & {{H}_{0}}:p={{p}_{0}} \\\\ \n",
    " & {{H}_{1}}:p>{{p}_{0}} \\\\ \n",
    " & z=\\frac{p-{{p}_{0}}}{\\sqrt{\\frac{{{p}_{0}}{{q}_{0}}}{n}}} \\\\ \n",
    "\\end{align}$"
   ]
  },
  {
   "cell_type": "code",
   "execution_count": 11,
   "metadata": {},
   "outputs": [
    {
     "name": "stdout",
     "output_type": "stream",
     "text": [
      "The computed Z test statistic is:  2.76206488798\n",
      "The p-value is:  0.00287185310552\n"
     ]
    }
   ],
   "source": [
    "number_of_successes  = 121\n",
    "total_sample_sizes   = 710\n",
    "(test_stat, p_value) = proportions_ztest(number_of_successes, total_sample_sizes, value=0.135, \n",
    "                                         alternative='larger',prop_var=0.135)\n",
    "print(\"The computed Z test statistic is: \",test_stat)\n",
    "print(\"The p-value is: \",p_value)"
   ]
  },
  {
   "cell_type": "markdown",
   "metadata": {},
   "source": [
    "##  Exemple with a real world problem"
   ]
  },
  {
   "cell_type": "markdown",
   "metadata": {},
   "source": [
    "> Suppose that in 2015 30% of motorcyclists riders in a given city were riding without wearing a helmet. <br>\n",
    "> A poll conducted in 2017 using a random sample of 1000 riders resulted in 450 respondents <br>\n",
    "> stating that they do not wear helmet while riding motorcycles.<br>\n",
    "> Is there significant evidence to indicate that the proportion of motorcycle riders who do not <br>\n",
    "> wear helmets has increased from the 2015 level ?"
   ]
  },
  {
   "cell_type": "markdown",
   "metadata": {},
   "source": [
    "$\\begin{align}\n",
    "  & {{H}_{0}}:p={{p}_{0}} \\\\ \n",
    " & {{H}_{1}}:p>{{p}_{0}} \\\\ \n",
    " & z=\\frac{p-{{p}_{0}}}{\\sqrt{\\frac{{{p}_{0}}{{q}_{0}}}{n}}} \\\\ \n",
    "\\end{align}$"
   ]
  },
  {
   "cell_type": "code",
   "execution_count": 14,
   "metadata": {},
   "outputs": [
    {
     "name": "stdout",
     "output_type": "stream",
     "text": [
      "The computed Z test statistic is:  10.3509833901\n",
      "The p-value is:  0.000000000000000\n"
     ]
    }
   ],
   "source": [
    "number_of_successes  = 450\n",
    "total_sample_sizes   = 1000\n",
    "(test_stat, p_value) = proportions_ztest(number_of_successes, total_sample_sizes, value=0.30, \n",
    "                                         alternative='larger',prop_var=0.30)\n",
    "print(\"The computed Z test statistic is: \",test_stat)\n",
    "print(\"The p-value is: \",'{:.15f}'.format(p_value)) "
   ]
  },
  {
   "cell_type": "code",
   "execution_count": null,
   "metadata": {
    "collapsed": true
   },
   "outputs": [],
   "source": []
  }
 ],
 "metadata": {
  "kernelspec": {
   "display_name": "Python 3",
   "language": "python",
   "name": "python3"
  },
  "language_info": {
   "codemirror_mode": {
    "name": "ipython",
    "version": 3
   },
   "file_extension": ".py",
   "mimetype": "text/x-python",
   "name": "python",
   "nbconvert_exporter": "python",
   "pygments_lexer": "ipython3",
   "version": "3.6.4"
  }
 },
 "nbformat": 4,
 "nbformat_minor": 2
}
