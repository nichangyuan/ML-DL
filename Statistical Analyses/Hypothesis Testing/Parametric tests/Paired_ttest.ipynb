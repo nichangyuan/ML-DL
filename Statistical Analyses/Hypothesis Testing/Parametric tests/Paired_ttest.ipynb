{
 "cells": [
  {
   "cell_type": "code",
   "execution_count": 31,
   "metadata": {
    "collapsed": true
   },
   "outputs": [],
   "source": [
    "import scipy.stats as stats\n",
    "import pandas as pd"
   ]
  },
  {
   "cell_type": "code",
   "execution_count": 32,
   "metadata": {
    "collapsed": true
   },
   "outputs": [],
   "source": [
    "df = pd.read_csv(\"C:/Users/ouaga/Dropbox/PythonScripts/Stats_tests/Life_Expectancy_Before_After.csv\")"
   ]
  },
  {
   "cell_type": "code",
   "execution_count": 33,
   "metadata": {},
   "outputs": [
    {
     "data": {
      "text/html": [
       "<div>\n",
       "<style>\n",
       "    .dataframe thead tr:only-child th {\n",
       "        text-align: right;\n",
       "    }\n",
       "\n",
       "    .dataframe thead th {\n",
       "        text-align: left;\n",
       "    }\n",
       "\n",
       "    .dataframe tbody tr th {\n",
       "        vertical-align: top;\n",
       "    }\n",
       "</style>\n",
       "<table border=\"1\" class=\"dataframe\">\n",
       "  <thead>\n",
       "    <tr style=\"text-align: right;\">\n",
       "      <th></th>\n",
       "      <th>WHO region</th>\n",
       "      <th>Male_life_2010</th>\n",
       "      <th>Male_life_2015</th>\n",
       "      <th>Female_life_2010</th>\n",
       "      <th>Female_life_2015</th>\n",
       "    </tr>\n",
       "  </thead>\n",
       "  <tbody>\n",
       "    <tr>\n",
       "      <th>0</th>\n",
       "      <td>Africa</td>\n",
       "      <td>55.6</td>\n",
       "      <td>58.3</td>\n",
       "      <td>58.4</td>\n",
       "      <td>61.8</td>\n",
       "    </tr>\n",
       "    <tr>\n",
       "      <th>1</th>\n",
       "      <td>Americas</td>\n",
       "      <td>72.3</td>\n",
       "      <td>74.0</td>\n",
       "      <td>78.4</td>\n",
       "      <td>79.9</td>\n",
       "    </tr>\n",
       "    <tr>\n",
       "      <th>2</th>\n",
       "      <td>South-East Asia</td>\n",
       "      <td>65.8</td>\n",
       "      <td>67.3</td>\n",
       "      <td>68.7</td>\n",
       "      <td>70.7</td>\n",
       "    </tr>\n",
       "    <tr>\n",
       "      <th>3</th>\n",
       "      <td>Europe</td>\n",
       "      <td>71.5</td>\n",
       "      <td>73.2</td>\n",
       "      <td>79.0</td>\n",
       "      <td>80.2</td>\n",
       "    </tr>\n",
       "    <tr>\n",
       "      <th>4</th>\n",
       "      <td>Eastern Mediterranean</td>\n",
       "      <td>66.5</td>\n",
       "      <td>67.3</td>\n",
       "      <td>69.3</td>\n",
       "      <td>70.3</td>\n",
       "    </tr>\n",
       "    <tr>\n",
       "      <th>5</th>\n",
       "      <td>Western Pacific</td>\n",
       "      <td>73.5</td>\n",
       "      <td>74.5</td>\n",
       "      <td>77.8</td>\n",
       "      <td>78.7</td>\n",
       "    </tr>\n",
       "  </tbody>\n",
       "</table>\n",
       "</div>"
      ],
      "text/plain": [
       "              WHO region  Male_life_2010  Male_life_2015  Female_life_2010  \\\n",
       "0                 Africa            55.6            58.3              58.4   \n",
       "1               Americas            72.3            74.0              78.4   \n",
       "2        South-East Asia            65.8            67.3              68.7   \n",
       "3                 Europe            71.5            73.2              79.0   \n",
       "4  Eastern Mediterranean            66.5            67.3              69.3   \n",
       "5        Western Pacific            73.5            74.5              77.8   \n",
       "\n",
       "   Female_life_2015  \n",
       "0              61.8  \n",
       "1              79.9  \n",
       "2              70.7  \n",
       "3              80.2  \n",
       "4              70.3  \n",
       "5              78.7  "
      ]
     },
     "execution_count": 33,
     "metadata": {},
     "output_type": "execute_result"
    }
   ],
   "source": [
    "df.head(10)"
   ]
  },
  {
   "cell_type": "markdown",
   "metadata": {},
   "source": [
    "## Ho: D = 0  <br> H1:  D is different than 0\n"
   ]
  },
  {
   "cell_type": "markdown",
   "metadata": {},
   "source": [
    "###  Compute the paired t-test - with nan_policy='omit' missing values are deleted otherwise we receive nan"
   ]
  },
  {
   "cell_type": "markdown",
   "metadata": {},
   "source": [
    "### Paired t-test for Males"
   ]
  },
  {
   "cell_type": "code",
   "execution_count": 35,
   "metadata": {},
   "outputs": [
    {
     "name": "stdout",
     "output_type": "stream",
     "text": [
      "The test statistic is:  -5.74196\n",
      "The p-value is:  0.00225\n"
     ]
    }
   ],
   "source": [
    "(test_statistic, p_value) = stats.ttest_rel(df['Male_life_2010'],df['Male_life_2015'], nan_policy='omit')\n",
    "print(\"The test statistic is: \", round(test_statistic,5))\n",
    "print(\"The p-value is: \", round(p_value,5))"
   ]
  },
  {
   "cell_type": "markdown",
   "metadata": {},
   "source": [
    "### Paired t-test for females"
   ]
  },
  {
   "cell_type": "code",
   "execution_count": 36,
   "metadata": {},
   "outputs": [
    {
     "name": "stdout",
     "output_type": "stream",
     "text": [
      "The test statistic is:  4.35524\n",
      "The p-value is:  0.00732\n"
     ]
    }
   ],
   "source": [
    "(test_statistic, p_value) = stats.ttest_rel(df['Female_life_2015'],df['Female_life_2010'], nan_policy='omit')\n",
    "print(\"The test statistic is: \", round(test_statistic,5))\n",
    "print(\"The p-value is: \", round(p_value,5))"
   ]
  },
  {
   "cell_type": "code",
   "execution_count": null,
   "metadata": {
    "collapsed": true
   },
   "outputs": [],
   "source": []
  }
 ],
 "metadata": {
  "kernelspec": {
   "display_name": "Python 3",
   "language": "python",
   "name": "python3"
  },
  "language_info": {
   "codemirror_mode": {
    "name": "ipython",
    "version": 3
   },
   "file_extension": ".py",
   "mimetype": "text/x-python",
   "name": "python",
   "nbconvert_exporter": "python",
   "pygments_lexer": "ipython3",
   "version": "3.6.4"
  }
 },
 "nbformat": 4,
 "nbformat_minor": 2
}