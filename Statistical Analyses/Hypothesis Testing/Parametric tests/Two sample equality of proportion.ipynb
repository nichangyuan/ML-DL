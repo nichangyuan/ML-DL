{
 "cells": [
  {
   "cell_type": "code",
   "execution_count": 5,
   "metadata": {
    "collapsed": true
   },
   "outputs": [],
   "source": [
    "from statsmodels.stats.proportion import proportions_ztest\n",
    "import pandas as pd\n",
    "import matplotlib.pyplot as plt\n",
    "import seaborn as sns\n",
    "import numpy as np"
   ]
  },
  {
   "cell_type": "markdown",
   "metadata": {},
   "source": [
    "## Testing hypothesis about two population proportions"
   ]
  },
  {
   "cell_type": "markdown",
   "metadata": {},
   "source": [
    "$\\begin{align}\n",
    "  & {{H}_{0}}:{{P}_{1}}={{P}_{2}} \\\\ \n",
    " & {{H}_{1}}:{{P}_{1}}\\ne {{P}_{2}} \\\\ \n",
    "\\end{align}$"
   ]
  },
  {
   "cell_type": "markdown",
   "metadata": {},
   "source": [
    "> ### Hypothesis alternative useage: string in [‘two-sided’, ‘smaller’, ‘larger’]"
   ]
  },
  {
   "cell_type": "markdown",
   "metadata": {},
   "source": [
    "## Example of a two-sample binomial proportions problem"
   ]
  },
  {
   "cell_type": "markdown",
   "metadata": {},
   "source": [
    "### In 2015 in a big city, on a sample of 1000 drivers 17% where driving while drunk\n",
    "### The folowing year, on a sample of 1000 drivers, 21% where found driving while drunk\n",
    "###  At 0.05 level of significance, is there any significant difference between the \n",
    "### percent of drunk drivers in both samples?"
   ]
  },
  {
   "cell_type": "code",
   "execution_count": null,
   "metadata": {
    "collapsed": true
   },
   "outputs": [],
   "source": []
  },
  {
   "cell_type": "code",
   "execution_count": 6,
   "metadata": {},
   "outputs": [
    {
     "name": "stdout",
     "output_type": "stream",
     "text": [
      "The computed Z test statistic is:  -2.27995189352\n",
      "The p-value is:  0.0226105417888\n"
     ]
    }
   ],
   "source": [
    "number_of_successes  = np.array([170, 210])\n",
    "total_sample_sizes   = np.array([1000, 1000])\n",
    "(test_stat, p_value) = proportions_ztest(number_of_successes, total_sample_sizes,alternative='two-sided')\n",
    "print(\"The computed Z test statistic is: \",test_stat)\n",
    "print(\"The p-value is: \",p_value)\n"
   ]
  },
  {
   "cell_type": "markdown",
   "metadata": {},
   "source": [
    "## Testing hypothesis about two population proportions: Left-Tailed case"
   ]
  },
  {
   "cell_type": "markdown",
   "metadata": {},
   "source": [
    "## In 2015 in a big city, on a sample of 1000 drivers 17% where driving while drunk<br><br>The folowing year, on a sample of 1000 drivers, 21% where found driving while drunk<br><br>At 0.05 level of significance, is the percent of drunk drivers in 2015 significantly lower than <br><br> of year 2016 ?"
   ]
  },
  {
   "cell_type": "markdown",
   "metadata": {},
   "source": [
    "$\\begin{align}\n",
    "  & {{H}_{0}}:{{P}_{1}}={{P}_{2}} \\\\ \n",
    " & {{H}_{1}}:{{P}_{1}}<{{P}_{2}} \\\\ \n",
    "\\end{align}$"
   ]
  },
  {
   "cell_type": "code",
   "execution_count": 7,
   "metadata": {},
   "outputs": [
    {
     "name": "stdout",
     "output_type": "stream",
     "text": [
      "The computed Z test statistic is:  -2.27995189352\n",
      "The p-value is:  0.0113052708944\n"
     ]
    }
   ],
   "source": [
    "number_of_successes  = np.array([170, 210])\n",
    "total_sample_sizes   = np.array([1000, 1000])\n",
    "(test_stat, p_value) = proportions_ztest(number_of_successes, total_sample_sizes,alternative='smaller')\n",
    "print(\"The computed Z test statistic is: \",test_stat)\n",
    "print(\"The p-value is: \",p_value)\n"
   ]
  },
  {
   "cell_type": "markdown",
   "metadata": {},
   "source": [
    "## Testing hypothesis about two population proportions: RIGHT-Tailed case"
   ]
  },
  {
   "cell_type": "markdown",
   "metadata": {},
   "source": [
    "## In 2015 in a big city, on a sample of 1000 drivers 17% where driving while drunk<br><br>The folowing year, on a sample of 1000 drivers, 21% where found driving while drunk<br><br>At 0.05 level of significance, is the percent of drunk drivers in 2015 significantly higher than <br><br> of year 2016 ?"
   ]
  },
  {
   "cell_type": "markdown",
   "metadata": {},
   "source": [
    "$\\begin{align}\n",
    "  & {{H}_{0}}:{{P}_{1}}={{P}_{2}} \\\\ \n",
    " & {{H}_{1}}:{{P}_{1}}>{{P}_{2}} \\\\ \n",
    "\\end{align}$"
   ]
  },
  {
   "cell_type": "code",
   "execution_count": 8,
   "metadata": {},
   "outputs": [
    {
     "name": "stdout",
     "output_type": "stream",
     "text": [
      "The computed Z test statistic is:  -2.27995189352\n",
      "The p-value is:  0.988694729106\n"
     ]
    }
   ],
   "source": [
    "number_of_successes  = np.array([170, 210])\n",
    "total_sample_sizes   = np.array([1000, 1000])\n",
    "(test_stat, p_value) = proportions_ztest(number_of_successes, total_sample_sizes,alternative='larger')\n",
    "print(\"The computed Z test statistic is: \",test_stat)\n",
    "print(\"The p-value is: \",p_value)\n"
   ]
  },
  {
   "cell_type": "code",
   "execution_count": null,
   "metadata": {
    "collapsed": true
   },
   "outputs": [],
   "source": []
  }
 ],
 "metadata": {
  "kernelspec": {
   "display_name": "Python 3",
   "language": "python",
   "name": "python3"
  },
  "language_info": {
   "codemirror_mode": {
    "name": "ipython",
    "version": 3
   },
   "file_extension": ".py",
   "mimetype": "text/x-python",
   "name": "python",
   "nbconvert_exporter": "python",
   "pygments_lexer": "ipython3",
   "version": "3.6.4"
  }
 },
 "nbformat": 4,
 "nbformat_minor": 2
}
