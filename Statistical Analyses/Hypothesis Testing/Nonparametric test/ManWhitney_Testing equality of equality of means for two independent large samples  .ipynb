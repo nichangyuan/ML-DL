{
 "cells": [
  {
   "cell_type": "code",
   "execution_count": 35,
   "metadata": {
    "collapsed": true
   },
   "outputs": [],
   "source": [
    "import scipy.stats as stats\n",
    "import pandas as pd"
   ]
  },
  {
   "cell_type": "markdown",
   "metadata": {},
   "source": [
    " > The Mann Whitney test, or the Mann Whitney Wilcoxon test or the Wilcoxon Rank Sum Test <br>\n",
    " > is and alternative to the two-samples independent t-test <br>\n",
    " > when the samples are not normally distributed or sufficiently large (n1 and n2 greater or equal to 30) <br>\n",
    " > It is the most powerful (or sensitive) nonparametric alternative to the t-test for independent samples<br>\n",
    " > In some cases, it may offer even greater power to reject the null hypothesis than the t-test.<br>\n",
    " > It is a nonparametric equivalent of the two sample independent t-test"
   ]
  },
  {
   "cell_type": "code",
   "execution_count": 36,
   "metadata": {
    "collapsed": true
   },
   "outputs": [],
   "source": [
    "df = pd.read_csv(\"C:/Users/ouaga/Dropbox/PythonScripts/Stats_tests/LifeCompare.csv\")"
   ]
  },
  {
   "cell_type": "code",
   "execution_count": 37,
   "metadata": {},
   "outputs": [
    {
     "data": {
      "text/html": [
       "<div>\n",
       "<style>\n",
       "    .dataframe thead tr:only-child th {\n",
       "        text-align: right;\n",
       "    }\n",
       "\n",
       "    .dataframe thead th {\n",
       "        text-align: left;\n",
       "    }\n",
       "\n",
       "    .dataframe tbody tr th {\n",
       "        vertical-align: top;\n",
       "    }\n",
       "</style>\n",
       "<table border=\"1\" class=\"dataframe\">\n",
       "  <thead>\n",
       "    <tr style=\"text-align: right;\">\n",
       "      <th></th>\n",
       "      <th>Africa</th>\n",
       "      <th>Asia</th>\n",
       "      <th>CentralAndSouthAmerica</th>\n",
       "      <th>Europe</th>\n",
       "    </tr>\n",
       "  </thead>\n",
       "  <tbody>\n",
       "    <tr>\n",
       "      <th>0</th>\n",
       "      <td>72</td>\n",
       "      <td>44</td>\n",
       "      <td>73</td>\n",
       "      <td>77</td>\n",
       "    </tr>\n",
       "    <tr>\n",
       "      <th>1</th>\n",
       "      <td>49</td>\n",
       "      <td>69</td>\n",
       "      <td>72</td>\n",
       "      <td>78</td>\n",
       "    </tr>\n",
       "    <tr>\n",
       "      <th>2</th>\n",
       "      <td>54</td>\n",
       "      <td>71</td>\n",
       "      <td>74</td>\n",
       "      <td>70</td>\n",
       "    </tr>\n",
       "    <tr>\n",
       "      <th>3</th>\n",
       "      <td>54</td>\n",
       "      <td>73</td>\n",
       "      <td>72</td>\n",
       "      <td>80</td>\n",
       "    </tr>\n",
       "    <tr>\n",
       "      <th>4</th>\n",
       "      <td>55</td>\n",
       "      <td>68</td>\n",
       "      <td>77</td>\n",
       "      <td>77</td>\n",
       "    </tr>\n",
       "    <tr>\n",
       "      <th>5</th>\n",
       "      <td>56</td>\n",
       "      <td>68</td>\n",
       "      <td>76</td>\n",
       "      <td>67</td>\n",
       "    </tr>\n",
       "    <tr>\n",
       "      <th>6</th>\n",
       "      <td>50</td>\n",
       "      <td>77</td>\n",
       "      <td>73</td>\n",
       "      <td>68</td>\n",
       "    </tr>\n",
       "    <tr>\n",
       "      <th>7</th>\n",
       "      <td>70</td>\n",
       "      <td>60</td>\n",
       "      <td>69</td>\n",
       "      <td>79</td>\n",
       "    </tr>\n",
       "    <tr>\n",
       "      <th>8</th>\n",
       "      <td>48</td>\n",
       "      <td>72</td>\n",
       "      <td>67</td>\n",
       "      <td>68</td>\n",
       "    </tr>\n",
       "    <tr>\n",
       "      <th>9</th>\n",
       "      <td>48</td>\n",
       "      <td>80</td>\n",
       "      <td>74</td>\n",
       "      <td>78</td>\n",
       "    </tr>\n",
       "  </tbody>\n",
       "</table>\n",
       "</div>"
      ],
      "text/plain": [
       "   Africa  Asia  CentralAndSouthAmerica  Europe\n",
       "0      72    44                      73      77\n",
       "1      49    69                      72      78\n",
       "2      54    71                      74      70\n",
       "3      54    73                      72      80\n",
       "4      55    68                      77      77\n",
       "5      56    68                      76      67\n",
       "6      50    77                      73      68\n",
       "7      70    60                      69      79\n",
       "8      48    72                      67      68\n",
       "9      48    80                      74      78"
      ]
     },
     "execution_count": 37,
     "metadata": {},
     "output_type": "execute_result"
    }
   ],
   "source": [
    "df.head(10)"
   ]
  },
  {
   "cell_type": "markdown",
   "metadata": {},
   "source": [
    "### Test of equality of means using Man Whitney Wilcoxon test"
   ]
  },
  {
   "cell_type": "markdown",
   "metadata": {},
   "source": [
    "### Two tailed-test"
   ]
  },
  {
   "cell_type": "markdown",
   "metadata": {},
   "source": [
    "$\\begin{align}\n",
    "  & {{H}_{0}}:\\,{{\\mu }_{1}}\\,=\\,{{\\mu }_{2}} \\\\ \n",
    " & {{H}_{1}}:\\,{{\\mu }_{1}}\\,\\ne \\,{{\\mu }_{2}} \\\\ \n",
    "\\end{align}$\n"
   ]
  },
  {
   "cell_type": "code",
   "execution_count": 38,
   "metadata": {
    "collapsed": true
   },
   "outputs": [],
   "source": [
    "(test_statistic, p_value) = stats.mannwhitneyu(df['Asia'], df['Europe'], alternative='two-sided')"
   ]
  },
  {
   "cell_type": "code",
   "execution_count": 39,
   "metadata": {},
   "outputs": [
    {
     "name": "stdout",
     "output_type": "stream",
     "text": [
      "The test statistic is:  205.00000\n",
      "The p-value is: 0.03734\n"
     ]
    }
   ],
   "source": [
    "print(\"The test statistic is: \", '{:.5f}'.format(test_statistic))\n",
    "print(\"The p-value is:\",'{:.5f}'.format(p_value))\n"
   ]
  },
  {
   "cell_type": "markdown",
   "metadata": {
    "collapsed": true
   },
   "source": [
    "> Conclusion: since the p-value is less than 0.05 <br>\n",
    "> we conclude that the two life expectancies means are different"
   ]
  },
  {
   "cell_type": "code",
   "execution_count": 40,
   "metadata": {},
   "outputs": [
    {
     "data": {
      "text/plain": [
       "Africa                  count    25.00\n",
       "                        mean     56.00\n",
       "                        std       7.23\n",
       "                        min      47.00\n",
       "                        25%      50.00\n",
       "                        50%      55.00\n",
       "                        75%      60.00\n",
       "                        max      72.00\n",
       "Asia                    count    25.00\n",
       "                        mean     69.48\n",
       "                        std       7.93\n",
       "                        min      44.00\n",
       "                        25%      65.00\n",
       "                        50%      69.00\n",
       "                        75%      74.00\n",
       "                        max      80.00\n",
       "CentralAndSouthAmerica  count    25.00\n",
       "                        mean     71.16\n",
       "                        std       3.67\n",
       "                        min      61.00\n",
       "                        25%      70.00\n",
       "                        50%      72.00\n",
       "                        75%      74.00\n",
       "                        max      77.00\n",
       "Europe                  count    25.00\n",
       "                        mean     74.12\n",
       "                        std       5.25\n",
       "                        min      63.00\n",
       "                        25%      70.00\n",
       "                        50%      76.00\n",
       "                        75%      79.00\n",
       "                        max      80.00\n",
       "dtype: float64"
      ]
     },
     "execution_count": 40,
     "metadata": {},
     "output_type": "execute_result"
    }
   ],
   "source": [
    "df.describe().unstack().round(2)"
   ]
  },
  {
   "cell_type": "markdown",
   "metadata": {},
   "source": [
    "### Left tailed test"
   ]
  },
  {
   "cell_type": "markdown",
   "metadata": {
    "collapsed": true
   },
   "source": [
    "$\\begin{align}\n",
    "  & {{H}_{0}}:{{\\mu }_{1}}={{\\mu }_{2}} \\\\ \n",
    " & {{H}_{1}}:{{\\mu }_{1}}<{{\\mu }_{2}} \\\\ \n",
    "\\end{align}$"
   ]
  },
  {
   "cell_type": "code",
   "execution_count": 41,
   "metadata": {
    "collapsed": true
   },
   "outputs": [],
   "source": [
    "(test_statistic, p_value) = stats.mannwhitneyu(df['Asia'], df['Europe'], alternative='less')"
   ]
  },
  {
   "cell_type": "code",
   "execution_count": 42,
   "metadata": {},
   "outputs": [
    {
     "name": "stdout",
     "output_type": "stream",
     "text": [
      "The test statistic is:  205.00000\n",
      "The p-value is: 0.01867\n"
     ]
    }
   ],
   "source": [
    "print(\"The test statistic is: \", '{:.5f}'.format(test_statistic))\n",
    "print(\"The p-value is:\",'{:.5f}'.format(p_value))"
   ]
  },
  {
   "cell_type": "markdown",
   "metadata": {},
   "source": [
    "### Right tailed test"
   ]
  },
  {
   "cell_type": "markdown",
   "metadata": {
    "collapsed": true
   },
   "source": [
    "$\\begin{align}\n",
    "  & {{H}_{0}}:{{\\mu }_{1}}={{\\mu }_{2}} \\\\ \n",
    " & {{H}_{1}}:{{\\mu }_{1}}>{{\\mu }_{2}} \\\\ \n",
    "\\end{align}$"
   ]
  },
  {
   "cell_type": "code",
   "execution_count": 43,
   "metadata": {
    "collapsed": true
   },
   "outputs": [],
   "source": [
    "(test_statistic, p_value) = stats.mannwhitneyu(df['Asia'], df['Europe'], alternative='greater')"
   ]
  },
  {
   "cell_type": "code",
   "execution_count": 44,
   "metadata": {},
   "outputs": [
    {
     "name": "stdout",
     "output_type": "stream",
     "text": [
      "The test statistic is:  205.00000\n",
      "The p-value is: 0.98220\n"
     ]
    }
   ],
   "source": [
    "print(\"The test statistic is: \", '{:.5f}'.format(test_statistic))\n",
    "print(\"The p-value is:\",'{:.5f}'.format(p_value))"
   ]
  },
  {
   "cell_type": "code",
   "execution_count": null,
   "metadata": {
    "collapsed": true
   },
   "outputs": [],
   "source": []
  }
 ],
 "metadata": {
  "kernelspec": {
   "display_name": "Python 3",
   "language": "python",
   "name": "python3"
  },
  "language_info": {
   "codemirror_mode": {
    "name": "ipython",
    "version": 3
   },
   "file_extension": ".py",
   "mimetype": "text/x-python",
   "name": "python",
   "nbconvert_exporter": "python",
   "pygments_lexer": "ipython3",
   "version": "3.6.6"
  }
 },
 "nbformat": 4,
 "nbformat_minor": 2
}
