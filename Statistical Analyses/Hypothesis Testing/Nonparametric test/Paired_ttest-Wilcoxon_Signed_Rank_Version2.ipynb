{
 "cells": [
  {
   "cell_type": "code",
   "execution_count": 9,
   "metadata": {
    "collapsed": true
   },
   "outputs": [],
   "source": [
    "import scipy.stats as stats\n",
    "import pandas as pd\n",
    "import matplotlib.pyplot as plt\n",
    "import seaborn as sns\n",
    "import numpy as np"
   ]
  },
  {
   "cell_type": "code",
   "execution_count": 10,
   "metadata": {},
   "outputs": [],
   "source": [
    "df = pd.read_csv(\"C:/Users/ouaga/Dropbox/PythonScripts/Stats_tests/ReactionTime.csv\")"
   ]
  },
  {
   "cell_type": "code",
   "execution_count": 11,
   "metadata": {
    "collapsed": true
   },
   "outputs": [],
   "source": [
    "df['Difference'] = df['After'] - df['Before']"
   ]
  },
  {
   "cell_type": "code",
   "execution_count": 12,
   "metadata": {},
   "outputs": [
    {
     "data": {
      "text/html": [
       "<div>\n",
       "<style>\n",
       "    .dataframe thead tr:only-child th {\n",
       "        text-align: right;\n",
       "    }\n",
       "\n",
       "    .dataframe thead th {\n",
       "        text-align: left;\n",
       "    }\n",
       "\n",
       "    .dataframe tbody tr th {\n",
       "        vertical-align: top;\n",
       "    }\n",
       "</style>\n",
       "<table border=\"1\" class=\"dataframe\">\n",
       "  <thead>\n",
       "    <tr style=\"text-align: right;\">\n",
       "      <th></th>\n",
       "      <th>Before</th>\n",
       "      <th>After</th>\n",
       "      <th>Difference</th>\n",
       "    </tr>\n",
       "  </thead>\n",
       "  <tbody>\n",
       "    <tr>\n",
       "      <th>0</th>\n",
       "      <td>6.25</td>\n",
       "      <td>6.85</td>\n",
       "      <td>0.60</td>\n",
       "    </tr>\n",
       "    <tr>\n",
       "      <th>1</th>\n",
       "      <td>2.96</td>\n",
       "      <td>4.78</td>\n",
       "      <td>1.82</td>\n",
       "    </tr>\n",
       "    <tr>\n",
       "      <th>2</th>\n",
       "      <td>4.95</td>\n",
       "      <td>5.57</td>\n",
       "      <td>0.62</td>\n",
       "    </tr>\n",
       "    <tr>\n",
       "      <th>3</th>\n",
       "      <td>3.94</td>\n",
       "      <td>4.01</td>\n",
       "      <td>0.07</td>\n",
       "    </tr>\n",
       "    <tr>\n",
       "      <th>4</th>\n",
       "      <td>4.85</td>\n",
       "      <td>5.91</td>\n",
       "      <td>1.06</td>\n",
       "    </tr>\n",
       "    <tr>\n",
       "      <th>5</th>\n",
       "      <td>4.81</td>\n",
       "      <td>5.34</td>\n",
       "      <td>0.53</td>\n",
       "    </tr>\n",
       "    <tr>\n",
       "      <th>6</th>\n",
       "      <td>6.60</td>\n",
       "      <td>6.09</td>\n",
       "      <td>-0.51</td>\n",
       "    </tr>\n",
       "    <tr>\n",
       "      <th>7</th>\n",
       "      <td>5.33</td>\n",
       "      <td>5.84</td>\n",
       "      <td>0.51</td>\n",
       "    </tr>\n",
       "    <tr>\n",
       "      <th>8</th>\n",
       "      <td>5.19</td>\n",
       "      <td>4.19</td>\n",
       "      <td>-1.00</td>\n",
       "    </tr>\n",
       "    <tr>\n",
       "      <th>9</th>\n",
       "      <td>4.88</td>\n",
       "      <td>5.75</td>\n",
       "      <td>0.87</td>\n",
       "    </tr>\n",
       "    <tr>\n",
       "      <th>10</th>\n",
       "      <td>5.75</td>\n",
       "      <td>6.25</td>\n",
       "      <td>0.50</td>\n",
       "    </tr>\n",
       "    <tr>\n",
       "      <th>11</th>\n",
       "      <td>5.26</td>\n",
       "      <td>7.23</td>\n",
       "      <td>1.97</td>\n",
       "    </tr>\n",
       "    <tr>\n",
       "      <th>12</th>\n",
       "      <td>3.16</td>\n",
       "      <td>4.55</td>\n",
       "      <td>1.39</td>\n",
       "    </tr>\n",
       "    <tr>\n",
       "      <th>13</th>\n",
       "      <td>6.65</td>\n",
       "      <td>6.42</td>\n",
       "      <td>-0.23</td>\n",
       "    </tr>\n",
       "    <tr>\n",
       "      <th>14</th>\n",
       "      <td>5.49</td>\n",
       "      <td>5.25</td>\n",
       "      <td>-0.24</td>\n",
       "    </tr>\n",
       "    <tr>\n",
       "      <th>15</th>\n",
       "      <td>4.05</td>\n",
       "      <td>5.59</td>\n",
       "      <td>1.54</td>\n",
       "    </tr>\n",
       "    <tr>\n",
       "      <th>16</th>\n",
       "      <td>4.42</td>\n",
       "      <td>3.96</td>\n",
       "      <td>-0.46</td>\n",
       "    </tr>\n",
       "    <tr>\n",
       "      <th>17</th>\n",
       "      <td>4.99</td>\n",
       "      <td>5.93</td>\n",
       "      <td>0.94</td>\n",
       "    </tr>\n",
       "    <tr>\n",
       "      <th>18</th>\n",
       "      <td>5.01</td>\n",
       "      <td>6.03</td>\n",
       "      <td>1.02</td>\n",
       "    </tr>\n",
       "    <tr>\n",
       "      <th>19</th>\n",
       "      <td>4.69</td>\n",
       "      <td>3.72</td>\n",
       "      <td>-0.97</td>\n",
       "    </tr>\n",
       "  </tbody>\n",
       "</table>\n",
       "</div>"
      ],
      "text/plain": [
       "    Before  After  Difference\n",
       "0     6.25   6.85        0.60\n",
       "1     2.96   4.78        1.82\n",
       "2     4.95   5.57        0.62\n",
       "3     3.94   4.01        0.07\n",
       "4     4.85   5.91        1.06\n",
       "5     4.81   5.34        0.53\n",
       "6     6.60   6.09       -0.51\n",
       "7     5.33   5.84        0.51\n",
       "8     5.19   4.19       -1.00\n",
       "9     4.88   5.75        0.87\n",
       "10    5.75   6.25        0.50\n",
       "11    5.26   7.23        1.97\n",
       "12    3.16   4.55        1.39\n",
       "13    6.65   6.42       -0.23\n",
       "14    5.49   5.25       -0.24\n",
       "15    4.05   5.59        1.54\n",
       "16    4.42   3.96       -0.46\n",
       "17    4.99   5.93        0.94\n",
       "18    5.01   6.03        1.02\n",
       "19    4.69   3.72       -0.97"
      ]
     },
     "execution_count": 12,
     "metadata": {},
     "output_type": "execute_result"
    }
   ],
   "source": [
    "df.head(20)"
   ]
  },
  {
   "cell_type": "markdown",
   "metadata": {},
   "source": [
    "###  Compute the Wilcoxon signed Rank test"
   ]
  },
  {
   "cell_type": "markdown",
   "metadata": {},
   "source": [
    "### Reaction before and after drinking two beers"
   ]
  },
  {
   "cell_type": "code",
   "execution_count": 13,
   "metadata": {},
   "outputs": [
    {
     "name": "stdout",
     "output_type": "stream",
     "text": [
      "The test statistic is:  42.5\n",
      "The p-value is:  0.01962\n"
     ]
    }
   ],
   "source": [
    "(test_statistic, p_value) = stats.wilcoxon(df['Before'],df['After'])\n",
    "print(\"The test statistic is: \", round(test_statistic,5))\n",
    "print(\"The p-value is: \", round(p_value,5))"
   ]
  },
  {
   "cell_type": "code",
   "execution_count": 14,
   "metadata": {},
   "outputs": [
    {
     "data": {
      "text/plain": [
       "Before      count    20.00\n",
       "            mean      4.96\n",
       "            std       0.97\n",
       "            min       2.96\n",
       "            25%       4.62\n",
       "            50%       4.97\n",
       "            75%       5.37\n",
       "            max       6.65\n",
       "After       count    20.00\n",
       "            mean      5.46\n",
       "            std       0.98\n",
       "            min       3.72\n",
       "            25%       4.72\n",
       "            50%       5.67\n",
       "            75%       6.04\n",
       "            max       7.23\n",
       "Difference  count    20.00\n",
       "            mean      0.50\n",
       "            std       0.87\n",
       "            min      -1.00\n",
       "            25%      -0.23\n",
       "            50%       0.56\n",
       "            75%       1.03\n",
       "            max       1.97\n",
       "dtype: float64"
      ]
     },
     "execution_count": 14,
     "metadata": {},
     "output_type": "execute_result"
    }
   ],
   "source": [
    "df.describe().unstack().round(2)"
   ]
  },
  {
   "cell_type": "code",
   "execution_count": 15,
   "metadata": {},
   "outputs": [
    {
     "data": {
      "image/png": "[encoded data removed]",
      "text/plain": [
       "<matplotlib.figure.Figure at 0x1d5d6319eb8>"
      ]
     },
     "metadata": {},
     "output_type": "display_data"
    }
   ],
   "source": [
    "plt.rcParams[\"figure.figsize\"] = [10,8]\n",
    "sns.set_style(\"darkgrid\")\n",
    "sns.distplot(df['Difference'],fit=stats.norm,kde=False)\n",
    "sns.set_context(\"notebook\", font_scale=1.5, rc={\"font.size\":16,\"axes.titlesize\":16,\"axes.labelsize\":16}) \n",
    "plt.title('Histogram distribution of the difference of reaction time')\n",
    "plt.xlabel('Reaction time after drinking two beers')\n",
    "plt.show()"
   ]
  },
  {
   "cell_type": "code",
   "execution_count": null,
   "metadata": {
    "collapsed": true
   },
   "outputs": [],
   "source": []
  }
 ],
 "metadata": {
  "kernelspec": {
   "display_name": "Python 3",
   "language": "python",
   "name": "python3"
  },
  "language_info": {
   "codemirror_mode": {
    "name": "ipython",
    "version": 3
   },
   "file_extension": ".py",
   "mimetype": "text/x-python",
   "name": "python",
   "nbconvert_exporter": "python",
   "pygments_lexer": "ipython3",
   "version": "3.6.4"
  }
 },
 "nbformat": 4,
 "nbformat_minor": 2
}
