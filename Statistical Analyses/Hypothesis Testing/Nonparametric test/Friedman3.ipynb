{
 "cells": [
  {
   "cell_type": "code",
   "execution_count": 24,
   "metadata": {
    "collapsed": true
   },
   "outputs": [],
   "source": [
    "import pandas as pd\n",
    "import numpy as np\n",
    "from scipy.stats import friedmanchisquare"
   ]
  },
  {
   "cell_type": "code",
   "execution_count": 25,
   "metadata": {
    "collapsed": true
   },
   "outputs": [],
   "source": [
    "df = pd.read_csv(\"C:/Users/ouaga/Dropbox/PythonScripts/Anova/Friedman3.csv\")"
   ]
  },
  {
   "cell_type": "code",
   "execution_count": 26,
   "metadata": {},
   "outputs": [
    {
     "data": {
      "text/html": [
       "<div>\n",
       "<style>\n",
       "    .dataframe thead tr:only-child th {\n",
       "        text-align: right;\n",
       "    }\n",
       "\n",
       "    .dataframe thead th {\n",
       "        text-align: left;\n",
       "    }\n",
       "\n",
       "    .dataframe tbody tr th {\n",
       "        vertical-align: top;\n",
       "    }\n",
       "</style>\n",
       "<table border=\"1\" class=\"dataframe\">\n",
       "  <thead>\n",
       "    <tr style=\"text-align: right;\">\n",
       "      <th></th>\n",
       "      <th>Persons</th>\n",
       "      <th>A</th>\n",
       "      <th>B</th>\n",
       "      <th>C</th>\n",
       "      <th>D</th>\n",
       "      <th>E</th>\n",
       "      <th>F</th>\n",
       "    </tr>\n",
       "  </thead>\n",
       "  <tbody>\n",
       "    <tr>\n",
       "      <th>0</th>\n",
       "      <td>1</td>\n",
       "      <td>3.88</td>\n",
       "      <td>30.58</td>\n",
       "      <td>25.24</td>\n",
       "      <td>4.44</td>\n",
       "      <td>29.41</td>\n",
       "      <td>38.87</td>\n",
       "    </tr>\n",
       "    <tr>\n",
       "      <th>1</th>\n",
       "      <td>2</td>\n",
       "      <td>5.64</td>\n",
       "      <td>30.14</td>\n",
       "      <td>33.52</td>\n",
       "      <td>7.94</td>\n",
       "      <td>30.72</td>\n",
       "      <td>33.12</td>\n",
       "    </tr>\n",
       "    <tr>\n",
       "      <th>2</th>\n",
       "      <td>3</td>\n",
       "      <td>5.76</td>\n",
       "      <td>16.92</td>\n",
       "      <td>25.45</td>\n",
       "      <td>4.04</td>\n",
       "      <td>32.92</td>\n",
       "      <td>39.15</td>\n",
       "    </tr>\n",
       "    <tr>\n",
       "      <th>3</th>\n",
       "      <td>4</td>\n",
       "      <td>4.25</td>\n",
       "      <td>23.19</td>\n",
       "      <td>18.85</td>\n",
       "      <td>4.40</td>\n",
       "      <td>28.23</td>\n",
       "      <td>28.06</td>\n",
       "    </tr>\n",
       "    <tr>\n",
       "      <th>4</th>\n",
       "      <td>5</td>\n",
       "      <td>5.91</td>\n",
       "      <td>26.74</td>\n",
       "      <td>20.45</td>\n",
       "      <td>4.23</td>\n",
       "      <td>23.35</td>\n",
       "      <td>38.23</td>\n",
       "    </tr>\n",
       "    <tr>\n",
       "      <th>5</th>\n",
       "      <td>6</td>\n",
       "      <td>4.33</td>\n",
       "      <td>10.91</td>\n",
       "      <td>26.67</td>\n",
       "      <td>4.36</td>\n",
       "      <td>12.00</td>\n",
       "      <td>26.65</td>\n",
       "    </tr>\n",
       "  </tbody>\n",
       "</table>\n",
       "</div>"
      ],
      "text/plain": [
       "   Persons     A      B      C     D      E      F\n",
       "0        1  3.88  30.58  25.24  4.44  29.41  38.87\n",
       "1        2  5.64  30.14  33.52  7.94  30.72  33.12\n",
       "2        3  5.76  16.92  25.45  4.04  32.92  39.15\n",
       "3        4  4.25  23.19  18.85  4.40  28.23  28.06\n",
       "4        5  5.91  26.74  20.45  4.23  23.35  38.23\n",
       "5        6  4.33  10.91  26.67  4.36  12.00  26.65"
      ]
     },
     "execution_count": 26,
     "metadata": {},
     "output_type": "execute_result"
    }
   ],
   "source": [
    "df.head(20)  "
   ]
  },
  {
   "cell_type": "code",
   "execution_count": 27,
   "metadata": {},
   "outputs": [],
   "source": [
    "df.drop(['Persons'],axis=1, inplace=True)"
   ]
  },
  {
   "cell_type": "code",
   "execution_count": 28,
   "metadata": {
    "collapsed": true
   },
   "outputs": [],
   "source": [
    "dft = df.T"
   ]
  },
  {
   "cell_type": "code",
   "execution_count": 29,
   "metadata": {},
   "outputs": [
    {
     "data": {
      "text/html": [
       "<div>\n",
       "<style>\n",
       "    .dataframe thead tr:only-child th {\n",
       "        text-align: right;\n",
       "    }\n",
       "\n",
       "    .dataframe thead th {\n",
       "        text-align: left;\n",
       "    }\n",
       "\n",
       "    .dataframe tbody tr th {\n",
       "        vertical-align: top;\n",
       "    }\n",
       "</style>\n",
       "<table border=\"1\" class=\"dataframe\">\n",
       "  <thead>\n",
       "    <tr style=\"text-align: right;\">\n",
       "      <th></th>\n",
       "      <th>0</th>\n",
       "      <th>1</th>\n",
       "      <th>2</th>\n",
       "      <th>3</th>\n",
       "      <th>4</th>\n",
       "      <th>5</th>\n",
       "    </tr>\n",
       "  </thead>\n",
       "  <tbody>\n",
       "    <tr>\n",
       "      <th>A</th>\n",
       "      <td>3.88</td>\n",
       "      <td>5.64</td>\n",
       "      <td>5.76</td>\n",
       "      <td>4.25</td>\n",
       "      <td>5.91</td>\n",
       "      <td>4.33</td>\n",
       "    </tr>\n",
       "    <tr>\n",
       "      <th>B</th>\n",
       "      <td>30.58</td>\n",
       "      <td>30.14</td>\n",
       "      <td>16.92</td>\n",
       "      <td>23.19</td>\n",
       "      <td>26.74</td>\n",
       "      <td>10.91</td>\n",
       "    </tr>\n",
       "    <tr>\n",
       "      <th>C</th>\n",
       "      <td>25.24</td>\n",
       "      <td>33.52</td>\n",
       "      <td>25.45</td>\n",
       "      <td>18.85</td>\n",
       "      <td>20.45</td>\n",
       "      <td>26.67</td>\n",
       "    </tr>\n",
       "    <tr>\n",
       "      <th>D</th>\n",
       "      <td>4.44</td>\n",
       "      <td>7.94</td>\n",
       "      <td>4.04</td>\n",
       "      <td>4.40</td>\n",
       "      <td>4.23</td>\n",
       "      <td>4.36</td>\n",
       "    </tr>\n",
       "    <tr>\n",
       "      <th>E</th>\n",
       "      <td>29.41</td>\n",
       "      <td>30.72</td>\n",
       "      <td>32.92</td>\n",
       "      <td>28.23</td>\n",
       "      <td>23.35</td>\n",
       "      <td>12.00</td>\n",
       "    </tr>\n",
       "    <tr>\n",
       "      <th>F</th>\n",
       "      <td>38.87</td>\n",
       "      <td>33.12</td>\n",
       "      <td>39.15</td>\n",
       "      <td>28.06</td>\n",
       "      <td>38.23</td>\n",
       "      <td>26.65</td>\n",
       "    </tr>\n",
       "  </tbody>\n",
       "</table>\n",
       "</div>"
      ],
      "text/plain": [
       "       0      1      2      3      4      5\n",
       "A   3.88   5.64   5.76   4.25   5.91   4.33\n",
       "B  30.58  30.14  16.92  23.19  26.74  10.91\n",
       "C  25.24  33.52  25.45  18.85  20.45  26.67\n",
       "D   4.44   7.94   4.04   4.40   4.23   4.36\n",
       "E  29.41  30.72  32.92  28.23  23.35  12.00\n",
       "F  38.87  33.12  39.15  28.06  38.23  26.65"
      ]
     },
     "execution_count": 29,
     "metadata": {},
     "output_type": "execute_result"
    }
   ],
   "source": [
    "dft"
   ]
  },
  {
   "cell_type": "code",
   "execution_count": 30,
   "metadata": {
    "collapsed": true
   },
   "outputs": [],
   "source": [
    "df2 = np.array(dft)\n",
    "(chisq, pvalue) =  friedmanchisquare(*[df2[x, :] for x in range(df2.shape[0])])"
   ]
  },
  {
   "cell_type": "code",
   "execution_count": 31,
   "metadata": {},
   "outputs": [
    {
     "name": "stdout",
     "output_type": "stream",
     "text": [
      "The chi-square is 23.3333333333\n"
     ]
    }
   ],
   "source": [
    "print(\"The chi-square is\", chisq)"
   ]
  },
  {
   "cell_type": "code",
   "execution_count": 32,
   "metadata": {},
   "outputs": [
    {
     "name": "stdout",
     "output_type": "stream",
     "text": [
      "The p-value is 0.0003\n"
     ]
    }
   ],
   "source": [
    "print(\"The p-value is\", round(pvalue,4))"
   ]
  },
  {
   "cell_type": "code",
   "execution_count": null,
   "metadata": {
    "collapsed": true
   },
   "outputs": [],
   "source": []
  }
 ],
 "metadata": {
  "kernelspec": {
   "display_name": "Python 3",
   "language": "python",
   "name": "python3"
  },
  "language_info": {
   "codemirror_mode": {
    "name": "ipython",
    "version": 3
   },
   "file_extension": ".py",
   "mimetype": "text/x-python",
   "name": "python",
   "nbconvert_exporter": "python",
   "pygments_lexer": "ipython3",
   "version": "3.6.4"
  }
 },
 "nbformat": 4,
 "nbformat_minor": 2
}
