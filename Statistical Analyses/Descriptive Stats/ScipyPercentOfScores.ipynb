{
 "cells": [
  {
   "cell_type": "code",
   "execution_count": 18,
   "metadata": {
    "collapsed": true
   },
   "outputs": [],
   "source": [
    "import pandas as pd\n",
    "import numpy as np\n",
    "import scipy.stats as sp"
   ]
  },
  {
   "cell_type": "code",
   "execution_count": 19,
   "metadata": {
    "collapsed": true
   },
   "outputs": [],
   "source": [
    "df = pd.read_csv(\"InfantMortalityGNI.csv\",encoding='latin1')\n"
   ]
  },
  {
   "cell_type": "code",
   "execution_count": 20,
   "metadata": {},
   "outputs": [
    {
     "data": {
      "text/html": [
       "<div>\n",
       "<style>\n",
       "    .dataframe thead tr:only-child th {\n",
       "        text-align: right;\n",
       "    }\n",
       "\n",
       "    .dataframe thead th {\n",
       "        text-align: left;\n",
       "    }\n",
       "\n",
       "    .dataframe tbody tr th {\n",
       "        vertical-align: top;\n",
       "    }\n",
       "</style>\n",
       "<table border=\"1\" class=\"dataframe\">\n",
       "  <thead>\n",
       "    <tr style=\"text-align: right;\">\n",
       "      <th></th>\n",
       "      <th>Countries</th>\n",
       "      <th>GNI_PER_CAPITA</th>\n",
       "      <th>Infant_Mortality</th>\n",
       "    </tr>\n",
       "  </thead>\n",
       "  <tbody>\n",
       "    <tr>\n",
       "      <th>0</th>\n",
       "      <td>Afghanistan</td>\n",
       "      <td>590.0</td>\n",
       "      <td>73.2</td>\n",
       "    </tr>\n",
       "    <tr>\n",
       "      <th>1</th>\n",
       "      <td>Albania</td>\n",
       "      <td>4290.0</td>\n",
       "      <td>14.0</td>\n",
       "    </tr>\n",
       "    <tr>\n",
       "      <th>2</th>\n",
       "      <td>Algeria</td>\n",
       "      <td>4800.0</td>\n",
       "      <td>25.5</td>\n",
       "    </tr>\n",
       "    <tr>\n",
       "      <th>3</th>\n",
       "      <td>Andorra</td>\n",
       "      <td>NaN</td>\n",
       "      <td>2.8</td>\n",
       "    </tr>\n",
       "    <tr>\n",
       "      <th>4</th>\n",
       "      <td>Angola</td>\n",
       "      <td>4040.0</td>\n",
       "      <td>86.5</td>\n",
       "    </tr>\n",
       "    <tr>\n",
       "      <th>5</th>\n",
       "      <td>Antigua and Barbuda</td>\n",
       "      <td>12850.0</td>\n",
       "      <td>8.7</td>\n",
       "    </tr>\n",
       "    <tr>\n",
       "      <th>6</th>\n",
       "      <td>Argentina</td>\n",
       "      <td>12430.0</td>\n",
       "      <td>11.6</td>\n",
       "    </tr>\n",
       "    <tr>\n",
       "      <th>7</th>\n",
       "      <td>Armenia</td>\n",
       "      <td>4030.0</td>\n",
       "      <td>14.0</td>\n",
       "    </tr>\n",
       "    <tr>\n",
       "      <th>8</th>\n",
       "      <td>Australia</td>\n",
       "      <td>60330.0</td>\n",
       "      <td>3.8</td>\n",
       "    </tr>\n",
       "    <tr>\n",
       "      <th>9</th>\n",
       "      <td>Austria</td>\n",
       "      <td>47610.0</td>\n",
       "      <td>3.6</td>\n",
       "    </tr>\n",
       "    <tr>\n",
       "      <th>10</th>\n",
       "      <td>Azerbaijan</td>\n",
       "      <td>6550.0</td>\n",
       "      <td>32.0</td>\n",
       "    </tr>\n",
       "    <tr>\n",
       "      <th>11</th>\n",
       "      <td>Bahamas, The</td>\n",
       "      <td>26130.0</td>\n",
       "      <td>11.0</td>\n",
       "    </tr>\n",
       "    <tr>\n",
       "      <th>12</th>\n",
       "      <td>Bahrain</td>\n",
       "      <td>22660.0</td>\n",
       "      <td>7.7</td>\n",
       "    </tr>\n",
       "    <tr>\n",
       "      <th>13</th>\n",
       "      <td>Bangladesh</td>\n",
       "      <td>1190.0</td>\n",
       "      <td>36.3</td>\n",
       "    </tr>\n",
       "    <tr>\n",
       "      <th>14</th>\n",
       "      <td>Barbados</td>\n",
       "      <td>15310.0</td>\n",
       "      <td>12.6</td>\n",
       "    </tr>\n",
       "    <tr>\n",
       "      <th>15</th>\n",
       "      <td>Belarus</td>\n",
       "      <td>6720.0</td>\n",
       "      <td>4.0</td>\n",
       "    </tr>\n",
       "    <tr>\n",
       "      <th>16</th>\n",
       "      <td>Belgium</td>\n",
       "      <td>44340.0</td>\n",
       "      <td>4.0</td>\n",
       "    </tr>\n",
       "    <tr>\n",
       "      <th>17</th>\n",
       "      <td>Belize</td>\n",
       "      <td>4510.0</td>\n",
       "      <td>15.6</td>\n",
       "    </tr>\n",
       "    <tr>\n",
       "      <th>18</th>\n",
       "      <td>Benin</td>\n",
       "      <td>870.0</td>\n",
       "      <td>100.3</td>\n",
       "    </tr>\n",
       "    <tr>\n",
       "      <th>19</th>\n",
       "      <td>Bhutan</td>\n",
       "      <td>2340.0</td>\n",
       "      <td>33.6</td>\n",
       "    </tr>\n",
       "    <tr>\n",
       "      <th>20</th>\n",
       "      <td>Bolivia</td>\n",
       "      <td>3000.0</td>\n",
       "      <td>38.2</td>\n",
       "    </tr>\n",
       "    <tr>\n",
       "      <th>21</th>\n",
       "      <td>Bosnia and Herzegovina</td>\n",
       "      <td>5050.0</td>\n",
       "      <td>6.1</td>\n",
       "    </tr>\n",
       "    <tr>\n",
       "      <th>22</th>\n",
       "      <td>Botswana</td>\n",
       "      <td>6680.0</td>\n",
       "      <td>42.1</td>\n",
       "    </tr>\n",
       "    <tr>\n",
       "      <th>23</th>\n",
       "      <td>Brazil</td>\n",
       "      <td>10080.0</td>\n",
       "      <td>15.7</td>\n",
       "    </tr>\n",
       "    <tr>\n",
       "      <th>24</th>\n",
       "      <td>Brunei Darussalam</td>\n",
       "      <td>38590.0</td>\n",
       "      <td>10.0</td>\n",
       "    </tr>\n",
       "    <tr>\n",
       "      <th>25</th>\n",
       "      <td>Bulgaria</td>\n",
       "      <td>7480.0</td>\n",
       "      <td>8.2</td>\n",
       "    </tr>\n",
       "    <tr>\n",
       "      <th>26</th>\n",
       "      <td>Burkina Faso</td>\n",
       "      <td>620.0</td>\n",
       "      <td>88.5</td>\n",
       "    </tr>\n",
       "    <tr>\n",
       "      <th>27</th>\n",
       "      <td>Burundi</td>\n",
       "      <td>280.0</td>\n",
       "      <td>74.6</td>\n",
       "    </tr>\n",
       "    <tr>\n",
       "      <th>28</th>\n",
       "      <td>Cabo Verde</td>\n",
       "      <td>3150.0</td>\n",
       "      <td>22.2</td>\n",
       "    </tr>\n",
       "    <tr>\n",
       "      <th>29</th>\n",
       "      <td>Cambodia</td>\n",
       "      <td>1070.0</td>\n",
       "      <td>32.0</td>\n",
       "    </tr>\n",
       "    <tr>\n",
       "      <th>30</th>\n",
       "      <td>Cameroon</td>\n",
       "      <td>1470.0</td>\n",
       "      <td>83.3</td>\n",
       "    </tr>\n",
       "    <tr>\n",
       "      <th>31</th>\n",
       "      <td>Canada</td>\n",
       "      <td>47250.0</td>\n",
       "      <td>5.1</td>\n",
       "    </tr>\n",
       "    <tr>\n",
       "      <th>32</th>\n",
       "      <td>Central African Republic</td>\n",
       "      <td>360.0</td>\n",
       "      <td>128.8</td>\n",
       "    </tr>\n",
       "    <tr>\n",
       "      <th>33</th>\n",
       "      <td>Chad</td>\n",
       "      <td>880.0</td>\n",
       "      <td>130.9</td>\n",
       "    </tr>\n",
       "    <tr>\n",
       "      <th>34</th>\n",
       "      <td>Chile</td>\n",
       "      <td>14340.0</td>\n",
       "      <td>8.4</td>\n",
       "    </tr>\n",
       "    <tr>\n",
       "      <th>35</th>\n",
       "      <td>China</td>\n",
       "      <td>7950.0</td>\n",
       "      <td>10.7</td>\n",
       "    </tr>\n",
       "    <tr>\n",
       "      <th>36</th>\n",
       "      <td>Colombia</td>\n",
       "      <td>7130.0</td>\n",
       "      <td>15.8</td>\n",
       "    </tr>\n",
       "    <tr>\n",
       "      <th>37</th>\n",
       "      <td>Comoros</td>\n",
       "      <td>790.0</td>\n",
       "      <td>75.8</td>\n",
       "    </tr>\n",
       "    <tr>\n",
       "      <th>38</th>\n",
       "      <td>Congo, Dem. Rep.</td>\n",
       "      <td>430.0</td>\n",
       "      <td>97.6</td>\n",
       "    </tr>\n",
       "    <tr>\n",
       "      <th>39</th>\n",
       "      <td>Congo, Rep.</td>\n",
       "      <td>2350.0</td>\n",
       "      <td>55.4</td>\n",
       "    </tr>\n",
       "    <tr>\n",
       "      <th>40</th>\n",
       "      <td>Costa Rica</td>\n",
       "      <td>10570.0</td>\n",
       "      <td>9.1</td>\n",
       "    </tr>\n",
       "    <tr>\n",
       "      <th>41</th>\n",
       "      <td>Cote d'Ivoire</td>\n",
       "      <td>1490.0</td>\n",
       "      <td>95.1</td>\n",
       "    </tr>\n",
       "    <tr>\n",
       "      <th>42</th>\n",
       "      <td>Croatia</td>\n",
       "      <td>12810.0</td>\n",
       "      <td>4.8</td>\n",
       "    </tr>\n",
       "    <tr>\n",
       "      <th>43</th>\n",
       "      <td>Cuba</td>\n",
       "      <td>NaN</td>\n",
       "      <td>5.6</td>\n",
       "    </tr>\n",
       "    <tr>\n",
       "      <th>44</th>\n",
       "      <td>Cyprus</td>\n",
       "      <td>25810.0</td>\n",
       "      <td>2.7</td>\n",
       "    </tr>\n",
       "    <tr>\n",
       "      <th>45</th>\n",
       "      <td>Czech Republic</td>\n",
       "      <td>18130.0</td>\n",
       "      <td>3.2</td>\n",
       "    </tr>\n",
       "    <tr>\n",
       "      <th>46</th>\n",
       "      <td>Denmark</td>\n",
       "      <td>60300.0</td>\n",
       "      <td>4.3</td>\n",
       "    </tr>\n",
       "    <tr>\n",
       "      <th>47</th>\n",
       "      <td>Djibouti</td>\n",
       "      <td>NaN</td>\n",
       "      <td>66.2</td>\n",
       "    </tr>\n",
       "    <tr>\n",
       "      <th>48</th>\n",
       "      <td>Dominica</td>\n",
       "      <td>6760.0</td>\n",
       "      <td>33.0</td>\n",
       "    </tr>\n",
       "    <tr>\n",
       "      <th>49</th>\n",
       "      <td>Dominican Republic</td>\n",
       "      <td>6240.0</td>\n",
       "      <td>31.5</td>\n",
       "    </tr>\n",
       "  </tbody>\n",
       "</table>\n",
       "</div>"
      ],
      "text/plain": [
       "                   Countries  GNI_PER_CAPITA  Infant_Mortality\n",
       "0                Afghanistan           590.0              73.2\n",
       "1                    Albania          4290.0              14.0\n",
       "2                    Algeria          4800.0              25.5\n",
       "3                    Andorra             NaN               2.8\n",
       "4                     Angola          4040.0              86.5\n",
       "5        Antigua and Barbuda         12850.0               8.7\n",
       "6                  Argentina         12430.0              11.6\n",
       "7                    Armenia          4030.0              14.0\n",
       "8                  Australia         60330.0               3.8\n",
       "9                    Austria         47610.0               3.6\n",
       "10                Azerbaijan          6550.0              32.0\n",
       "11              Bahamas, The         26130.0              11.0\n",
       "12                   Bahrain         22660.0               7.7\n",
       "13                Bangladesh          1190.0              36.3\n",
       "14                  Barbados         15310.0              12.6\n",
       "15                   Belarus          6720.0               4.0\n",
       "16                   Belgium         44340.0               4.0\n",
       "17                    Belize          4510.0              15.6\n",
       "18                     Benin           870.0             100.3\n",
       "19                    Bhutan          2340.0              33.6\n",
       "20                   Bolivia          3000.0              38.2\n",
       "21    Bosnia and Herzegovina          5050.0               6.1\n",
       "22                  Botswana          6680.0              42.1\n",
       "23                    Brazil         10080.0              15.7\n",
       "24         Brunei Darussalam         38590.0              10.0\n",
       "25                  Bulgaria          7480.0               8.2\n",
       "26              Burkina Faso           620.0              88.5\n",
       "27                   Burundi           280.0              74.6\n",
       "28                Cabo Verde          3150.0              22.2\n",
       "29                  Cambodia          1070.0              32.0\n",
       "30                  Cameroon          1470.0              83.3\n",
       "31                    Canada         47250.0               5.1\n",
       "32  Central African Republic           360.0             128.8\n",
       "33                      Chad           880.0             130.9\n",
       "34                     Chile         14340.0               8.4\n",
       "35                     China          7950.0              10.7\n",
       "36                  Colombia          7130.0              15.8\n",
       "37                   Comoros           790.0              75.8\n",
       "38          Congo, Dem. Rep.           430.0              97.6\n",
       "39               Congo, Rep.          2350.0              55.4\n",
       "40                Costa Rica         10570.0               9.1\n",
       "41             Cote d'Ivoire          1490.0              95.1\n",
       "42                   Croatia         12810.0               4.8\n",
       "43                      Cuba             NaN               5.6\n",
       "44                    Cyprus         25810.0               2.7\n",
       "45            Czech Republic         18130.0               3.2\n",
       "46                   Denmark         60300.0               4.3\n",
       "47                  Djibouti             NaN              66.2\n",
       "48                  Dominica          6760.0              33.0\n",
       "49        Dominican Republic          6240.0              31.5"
      ]
     },
     "execution_count": 20,
     "metadata": {},
     "output_type": "execute_result"
    }
   ],
   "source": [
    "df.head(50)"
   ]
  },
  {
   "cell_type": "code",
   "execution_count": null,
   "metadata": {
    "collapsed": true
   },
   "outputs": [],
   "source": []
  },
  {
   "cell_type": "markdown",
   "metadata": {},
   "source": [
    "### Always need to drop missing values in data or use options provided to drop them"
   ]
  },
  {
   "cell_type": "markdown",
   "metadata": {},
   "source": [
    "### Using percentileOfScore <br> kind : {‘rank’, ‘weak’, ‘strict’, ‘mean’}, optional\n",
    "      1. “rank”: Average percentage ranking of score. \n",
    "      2. “weak”: This kind corresponds to the definition of a cumulative distribution function.<br>\n",
    "      3. A percentileofscore of 80% means that 80% of values are less than or equal to the provided score.\n",
    "      4. “strict”: Similar to “weak”, except that only values that are          \n",
    "      5. strictly less than the given score are counted.\n",
    "      6. “mean”: The average of the “weak” and “strict” scores, often used in"
   ]
  },
  {
   "cell_type": "code",
   "execution_count": 21,
   "metadata": {},
   "outputs": [
    {
     "name": "stdout",
     "output_type": "stream",
     "text": [
      "The percentile value is 64.7668393782\n"
     ]
    }
   ],
   "source": [
    "Value = 32\n",
    "x = df['Infant_Mortality'].dropna() \n",
    "Percentile_Value = sp.percentileofscore(x, Value, kind='weak')\n",
    "print(\"The percentile value is\", Percentile_Value)"
   ]
  },
  {
   "cell_type": "markdown",
   "metadata": {},
   "source": [
    "### Computing percentiles\n",
    "> Function will be deprecated in near future <br>\n",
    "> use numpy.percentile"
   ]
  },
  {
   "cell_type": "code",
   "execution_count": 22,
   "metadata": {},
   "outputs": [
    {
     "data": {
      "text/plain": [
       "49.5"
      ]
     },
     "execution_count": 22,
     "metadata": {},
     "output_type": "execute_result"
    }
   ],
   "source": [
    "sp.scoreatpercentile(df['Infant_Mortality'].dropna(), 75)"
   ]
  },
  {
   "cell_type": "code",
   "execution_count": 23,
   "metadata": {},
   "outputs": [],
   "source": [
    "numpy7thp  = np.nanpercentile(df['Infant_Mortality'],75)"
   ]
  },
  {
   "cell_type": "code",
   "execution_count": 24,
   "metadata": {},
   "outputs": [
    {
     "data": {
      "text/plain": [
       "49.5"
      ]
     },
     "execution_count": 24,
     "metadata": {},
     "output_type": "execute_result"
    }
   ],
   "source": [
    "numpy7thp"
   ]
  },
  {
   "cell_type": "markdown",
   "metadata": {
    "collapsed": true
   },
   "source": [
    "###  Scipy IQR"
   ]
  },
  {
   "cell_type": "code",
   "execution_count": 25,
   "metadata": {
    "collapsed": true
   },
   "outputs": [],
   "source": [
    "IQR_infant =  sp.iqr(df['Infant_Mortality'], nan_policy=\"omit\")"
   ]
  },
  {
   "cell_type": "code",
   "execution_count": 26,
   "metadata": {},
   "outputs": [
    {
     "name": "stdout",
     "output_type": "stream",
     "text": [
      "The IQR for infant mortality is: 41.3\n"
     ]
    }
   ],
   "source": [
    "print(\"The IQR for infant mortality is:\", IQR_infant)"
   ]
  },
  {
   "cell_type": "code",
   "execution_count": 27,
   "metadata": {
    "collapsed": true
   },
   "outputs": [],
   "source": [
    "IQR_GNI_PERCAPITA = sp.iqr(df['GNI_PER_CAPITA'], nan_policy=\"omit\")"
   ]
  },
  {
   "cell_type": "code",
   "execution_count": 28,
   "metadata": {},
   "outputs": [
    {
     "name": "stdout",
     "output_type": "stream",
     "text": [
      "The IQR for GNI per capita is: 13310.0\n"
     ]
    }
   ],
   "source": [
    "print(\"The IQR for GNI per capita is:\",IQR_GNI_PERCAPITA)"
   ]
  },
  {
   "cell_type": "code",
   "execution_count": null,
   "metadata": {
    "collapsed": true
   },
   "outputs": [],
   "source": []
  }
 ],
 "metadata": {
  "kernelspec": {
   "display_name": "Python 3",
   "language": "python",
   "name": "python3"
  },
  "language_info": {
   "codemirror_mode": {
    "name": "ipython",
    "version": 3
   },
   "file_extension": ".py",
   "mimetype": "text/x-python",
   "name": "python",
   "nbconvert_exporter": "python",
   "pygments_lexer": "ipython3",
   "version": "3.7.4"
  }
 },
 "nbformat": 4,
 "nbformat_minor": 2
}
