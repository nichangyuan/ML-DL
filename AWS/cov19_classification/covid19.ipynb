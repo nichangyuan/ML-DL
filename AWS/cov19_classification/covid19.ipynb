{
 "cells": [
  {
   "cell_type": "markdown",
   "metadata": {},
   "source": [
    "## Note: <br><br><font color='red'>1).</font> this notebook is to prepare COVID-19 data for AWS sagemaker analysis; <br><font color='red'>2).</font> also, it serves as preanalysis to find the best model"
   ]
  },
  {
   "cell_type": "markdown",
   "metadata": {},
   "source": []
  },
  {
   "cell_type": "markdown",
   "metadata": {},
   "source": [
    "## 1. Pre-model Analysis: process and visualize data; get insights of features and target."
   ]
  },
  {
   "cell_type": "code",
   "execution_count": 1,
   "metadata": {},
   "outputs": [
    {
     "data": {
      "text/html": [
       "<div>\n",
       "<style scoped>\n",
       "    .dataframe tbody tr th:only-of-type {\n",
       "        vertical-align: middle;\n",
       "    }\n",
       "\n",
       "    .dataframe tbody tr th {\n",
       "        vertical-align: top;\n",
       "    }\n",
       "\n",
       "    .dataframe thead th {\n",
       "        text-align: right;\n",
       "    }\n",
       "</style>\n",
       "<table border=\"1\" class=\"dataframe\">\n",
       "  <thead>\n",
       "    <tr style=\"text-align: right;\">\n",
       "      <th></th>\n",
       "      <th>age</th>\n",
       "      <th>age_band</th>\n",
       "      <th>background_diseases</th>\n",
       "      <th>background_diseases_binary</th>\n",
       "      <th>city</th>\n",
       "      <th>confirmed_date</th>\n",
       "      <th>country</th>\n",
       "      <th>date_onset_symptoms</th>\n",
       "      <th>deceased_date</th>\n",
       "      <th>infected_by</th>\n",
       "      <th>...</th>\n",
       "      <th>sex</th>\n",
       "      <th>smoking</th>\n",
       "      <th>symptoms</th>\n",
       "      <th>treatment</th>\n",
       "      <th>id</th>\n",
       "      <th>return_date_until_date_onset_symptoms</th>\n",
       "      <th>date_onset_symptoms_until_confirmed_date</th>\n",
       "      <th>confirmed_date_until_released_date</th>\n",
       "      <th>confirmed_date_until_deceased_date</th>\n",
       "      <th>severity_illness_infectious_person</th>\n",
       "    </tr>\n",
       "  </thead>\n",
       "  <tbody>\n",
       "    <tr>\n",
       "      <td>0</td>\n",
       "      <td>NaN</td>\n",
       "      <td>NaN</td>\n",
       "      <td>NaN</td>\n",
       "      <td>NaN</td>\n",
       "      <td>NaN</td>\n",
       "      <td>2020-02-28</td>\n",
       "      <td>france</td>\n",
       "      <td>NaN</td>\n",
       "      <td>NaN</td>\n",
       "      <td>NaN</td>\n",
       "      <td>...</td>\n",
       "      <td>male</td>\n",
       "      <td>NaN</td>\n",
       "      <td>NaN</td>\n",
       "      <td>hospitalized</td>\n",
       "      <td>0</td>\n",
       "      <td>NaN</td>\n",
       "      <td>NaN</td>\n",
       "      <td>-25.0</td>\n",
       "      <td>NaN</td>\n",
       "      <td>NaN</td>\n",
       "    </tr>\n",
       "    <tr>\n",
       "      <td>1</td>\n",
       "      <td>NaN</td>\n",
       "      <td>NaN</td>\n",
       "      <td>NaN</td>\n",
       "      <td>NaN</td>\n",
       "      <td>NaN</td>\n",
       "      <td>2020-02-28</td>\n",
       "      <td>france</td>\n",
       "      <td>NaN</td>\n",
       "      <td>NaN</td>\n",
       "      <td>NaN</td>\n",
       "      <td>...</td>\n",
       "      <td>male</td>\n",
       "      <td>NaN</td>\n",
       "      <td>NaN</td>\n",
       "      <td>hospitalized</td>\n",
       "      <td>1</td>\n",
       "      <td>NaN</td>\n",
       "      <td>NaN</td>\n",
       "      <td>NaN</td>\n",
       "      <td>NaN</td>\n",
       "      <td>NaN</td>\n",
       "    </tr>\n",
       "    <tr>\n",
       "      <td>2</td>\n",
       "      <td>NaN</td>\n",
       "      <td>NaN</td>\n",
       "      <td>NaN</td>\n",
       "      <td>NaN</td>\n",
       "      <td>NaN</td>\n",
       "      <td>2020-02-28</td>\n",
       "      <td>france</td>\n",
       "      <td>NaN</td>\n",
       "      <td>NaN</td>\n",
       "      <td>NaN</td>\n",
       "      <td>...</td>\n",
       "      <td>female</td>\n",
       "      <td>NaN</td>\n",
       "      <td>NaN</td>\n",
       "      <td>hospitalized</td>\n",
       "      <td>2</td>\n",
       "      <td>NaN</td>\n",
       "      <td>NaN</td>\n",
       "      <td>NaN</td>\n",
       "      <td>NaN</td>\n",
       "      <td>NaN</td>\n",
       "    </tr>\n",
       "    <tr>\n",
       "      <td>3</td>\n",
       "      <td>NaN</td>\n",
       "      <td>NaN</td>\n",
       "      <td>NaN</td>\n",
       "      <td>NaN</td>\n",
       "      <td>NaN</td>\n",
       "      <td>2020-03-03</td>\n",
       "      <td>france</td>\n",
       "      <td>NaN</td>\n",
       "      <td>NaN</td>\n",
       "      <td>NaN</td>\n",
       "      <td>...</td>\n",
       "      <td>male</td>\n",
       "      <td>NaN</td>\n",
       "      <td>NaN</td>\n",
       "      <td>hospitalized</td>\n",
       "      <td>3</td>\n",
       "      <td>NaN</td>\n",
       "      <td>NaN</td>\n",
       "      <td>3.0</td>\n",
       "      <td>NaN</td>\n",
       "      <td>NaN</td>\n",
       "    </tr>\n",
       "    <tr>\n",
       "      <td>4</td>\n",
       "      <td>NaN</td>\n",
       "      <td>NaN</td>\n",
       "      <td>NaN</td>\n",
       "      <td>NaN</td>\n",
       "      <td>NaN</td>\n",
       "      <td>2020-03-05</td>\n",
       "      <td>france</td>\n",
       "      <td>NaN</td>\n",
       "      <td>NaN</td>\n",
       "      <td>NaN</td>\n",
       "      <td>...</td>\n",
       "      <td>male</td>\n",
       "      <td>NaN</td>\n",
       "      <td>NaN</td>\n",
       "      <td>home isolation</td>\n",
       "      <td>4</td>\n",
       "      <td>NaN</td>\n",
       "      <td>NaN</td>\n",
       "      <td>NaN</td>\n",
       "      <td>NaN</td>\n",
       "      <td>NaN</td>\n",
       "    </tr>\n",
       "  </tbody>\n",
       "</table>\n",
       "<p>5 rows × 25 columns</p>\n",
       "</div>"
      ],
      "text/plain": [
       "   age  age_band background_diseases  background_diseases_binary city  \\\n",
       "0  NaN       NaN                 NaN                         NaN  NaN   \n",
       "1  NaN       NaN                 NaN                         NaN  NaN   \n",
       "2  NaN       NaN                 NaN                         NaN  NaN   \n",
       "3  NaN       NaN                 NaN                         NaN  NaN   \n",
       "4  NaN       NaN                 NaN                         NaN  NaN   \n",
       "\n",
       "  confirmed_date country date_onset_symptoms deceased_date infected_by  ...  \\\n",
       "0     2020-02-28  france                 NaN           NaN         NaN  ...   \n",
       "1     2020-02-28  france                 NaN           NaN         NaN  ...   \n",
       "2     2020-02-28  france                 NaN           NaN         NaN  ...   \n",
       "3     2020-03-03  france                 NaN           NaN         NaN  ...   \n",
       "4     2020-03-05  france                 NaN           NaN         NaN  ...   \n",
       "\n",
       "      sex smoking symptoms       treatment id  \\\n",
       "0    male     NaN      NaN    hospitalized  0   \n",
       "1    male     NaN      NaN    hospitalized  1   \n",
       "2  female     NaN      NaN    hospitalized  2   \n",
       "3    male     NaN      NaN    hospitalized  3   \n",
       "4    male     NaN      NaN  home isolation  4   \n",
       "\n",
       "  return_date_until_date_onset_symptoms  \\\n",
       "0                                   NaN   \n",
       "1                                   NaN   \n",
       "2                                   NaN   \n",
       "3                                   NaN   \n",
       "4                                   NaN   \n",
       "\n",
       "   date_onset_symptoms_until_confirmed_date  \\\n",
       "0                                       NaN   \n",
       "1                                       NaN   \n",
       "2                                       NaN   \n",
       "3                                       NaN   \n",
       "4                                       NaN   \n",
       "\n",
       "  confirmed_date_until_released_date confirmed_date_until_deceased_date  \\\n",
       "0                              -25.0                                NaN   \n",
       "1                                NaN                                NaN   \n",
       "2                                NaN                                NaN   \n",
       "3                                3.0                                NaN   \n",
       "4                                NaN                                NaN   \n",
       "\n",
       "   severity_illness_infectious_person  \n",
       "0                                 NaN  \n",
       "1                                 NaN  \n",
       "2                                 NaN  \n",
       "3                                 NaN  \n",
       "4                                 NaN  \n",
       "\n",
       "[5 rows x 25 columns]"
      ]
     },
     "execution_count": 1,
     "metadata": {},
     "output_type": "execute_result"
    }
   ],
   "source": [
    "import pandas as pd\n",
    "import numpy as np\n",
    "import datetime as dt\n",
    "import matplotlib.pyplot as plt\n",
    "%matplotlib inline\n",
    "import seaborn as sns\n",
    "from sklearn.preprocessing import MinMaxScaler\n",
    "from sklearn.pipeline import Pipeline\n",
    "from sklearn.model_selection import RandomizedSearchCV\n",
    "from sklearn.model_selection import train_test_split\n",
    "\n",
    "pd.set_option('display.max_rows', 999)\n",
    "\n",
    "df = pd.read_csv('./data/version 6 - 19-5-20.csv', low_memory=False,)\n",
    "df.head()"
   ]
  },
  {
   "cell_type": "code",
   "execution_count": 2,
   "metadata": {},
   "outputs": [
    {
     "data": {
      "text/plain": [
       "Index(['age', 'age_band', 'background_diseases', 'background_diseases_binary',\n",
       "       'city', 'confirmed_date', 'country', 'date_onset_symptoms',\n",
       "       'deceased_date', 'infected_by', 'infection_place', 'region',\n",
       "       'released_date', 'return_date', 'severity_illness', 'sex', 'smoking',\n",
       "       'symptoms', 'treatment', 'id', 'return_date_until_date_onset_symptoms',\n",
       "       'date_onset_symptoms_until_confirmed_date',\n",
       "       'confirmed_date_until_released_date',\n",
       "       'confirmed_date_until_deceased_date',\n",
       "       'severity_illness_infectious_person'],\n",
       "      dtype='object')"
      ]
     },
     "execution_count": 2,
     "metadata": {},
     "output_type": "execute_result"
    }
   ],
   "source": [
    "df.columns"
   ]
  },
  {
   "cell_type": "code",
   "execution_count": 3,
   "metadata": {},
   "outputs": [
    {
     "name": "stdout",
     "output_type": "stream",
     "text": [
      "<class 'pandas.core.frame.DataFrame'>\n",
      "RangeIndex: 695045 entries, 0 to 695044\n",
      "Data columns (total 25 columns):\n",
      "age                                         214690 non-null float64\n",
      "age_band                                    215072 non-null float64\n",
      "background_diseases                         67881 non-null object\n",
      "background_diseases_binary                  543106 non-null float64\n",
      "city                                        357200 non-null object\n",
      "confirmed_date                              689551 non-null object\n",
      "country                                     694044 non-null object\n",
      "date_onset_symptoms                         196285 non-null object\n",
      "deceased_date                               8978 non-null object\n",
      "infected_by                                 1667 non-null object\n",
      "infection_place                             11544 non-null object\n",
      "region                                      496212 non-null object\n",
      "released_date                               6447 non-null object\n",
      "return_date                                 2160 non-null object\n",
      "severity_illness                            32758 non-null object\n",
      "sex                                         220105 non-null object\n",
      "smoking                                     176456 non-null float64\n",
      "symptoms                                    1631 non-null object\n",
      "treatment                                   195773 non-null object\n",
      "id                                          695045 non-null int64\n",
      "return_date_until_date_onset_symptoms       1280 non-null float64\n",
      "date_onset_symptoms_until_confirmed_date    196168 non-null float64\n",
      "confirmed_date_until_released_date          6443 non-null float64\n",
      "confirmed_date_until_deceased_date          8930 non-null float64\n",
      "severity_illness_infectious_person          1069 non-null object\n",
      "dtypes: float64(8), int64(1), object(16)\n",
      "memory usage: 132.6+ MB\n"
     ]
    }
   ],
   "source": [
    "df.info()"
   ]
  },
  {
   "cell_type": "code",
   "execution_count": 4,
   "metadata": {},
   "outputs": [
    {
     "data": {
      "text/html": [
       "<div>\n",
       "<style scoped>\n",
       "    .dataframe tbody tr th:only-of-type {\n",
       "        vertical-align: middle;\n",
       "    }\n",
       "\n",
       "    .dataframe tbody tr th {\n",
       "        vertical-align: top;\n",
       "    }\n",
       "\n",
       "    .dataframe thead th {\n",
       "        text-align: right;\n",
       "    }\n",
       "</style>\n",
       "<table border=\"1\" class=\"dataframe\">\n",
       "  <thead>\n",
       "    <tr style=\"text-align: right;\">\n",
       "      <th></th>\n",
       "      <th>count</th>\n",
       "      <th>mean</th>\n",
       "      <th>std</th>\n",
       "      <th>min</th>\n",
       "      <th>25%</th>\n",
       "      <th>50%</th>\n",
       "      <th>75%</th>\n",
       "      <th>max</th>\n",
       "      <th>var</th>\n",
       "      <th>skew</th>\n",
       "      <th>kurt</th>\n",
       "    </tr>\n",
       "  </thead>\n",
       "  <tbody>\n",
       "    <tr>\n",
       "      <td>age</td>\n",
       "      <td>214690.0</td>\n",
       "      <td>42.620018</td>\n",
       "      <td>17.335928</td>\n",
       "      <td>0.0</td>\n",
       "      <td>30.0</td>\n",
       "      <td>41.0</td>\n",
       "      <td>54.0</td>\n",
       "      <td>120.0</td>\n",
       "      <td>3.005344e+02</td>\n",
       "      <td>2.560915e-01</td>\n",
       "      <td>0.036377</td>\n",
       "    </tr>\n",
       "    <tr>\n",
       "      <td>age_band</td>\n",
       "      <td>215072.0</td>\n",
       "      <td>38.162336</td>\n",
       "      <td>17.484730</td>\n",
       "      <td>0.0</td>\n",
       "      <td>30.0</td>\n",
       "      <td>40.0</td>\n",
       "      <td>50.0</td>\n",
       "      <td>120.0</td>\n",
       "      <td>3.057158e+02</td>\n",
       "      <td>2.871296e-01</td>\n",
       "      <td>-0.035397</td>\n",
       "    </tr>\n",
       "    <tr>\n",
       "      <td>background_diseases_binary</td>\n",
       "      <td>543106.0</td>\n",
       "      <td>0.125007</td>\n",
       "      <td>0.330727</td>\n",
       "      <td>0.0</td>\n",
       "      <td>0.0</td>\n",
       "      <td>0.0</td>\n",
       "      <td>0.0</td>\n",
       "      <td>1.0</td>\n",
       "      <td>1.093804e-01</td>\n",
       "      <td>2.267698e+00</td>\n",
       "      <td>3.142464</td>\n",
       "    </tr>\n",
       "    <tr>\n",
       "      <td>smoking</td>\n",
       "      <td>176456.0</td>\n",
       "      <td>0.093173</td>\n",
       "      <td>0.290676</td>\n",
       "      <td>0.0</td>\n",
       "      <td>0.0</td>\n",
       "      <td>0.0</td>\n",
       "      <td>0.0</td>\n",
       "      <td>1.0</td>\n",
       "      <td>8.449257e-02</td>\n",
       "      <td>2.799207e+00</td>\n",
       "      <td>5.835626</td>\n",
       "    </tr>\n",
       "    <tr>\n",
       "      <td>id</td>\n",
       "      <td>695045.0</td>\n",
       "      <td>347522.000000</td>\n",
       "      <td>200642.353261</td>\n",
       "      <td>0.0</td>\n",
       "      <td>173761.0</td>\n",
       "      <td>347522.0</td>\n",
       "      <td>521283.0</td>\n",
       "      <td>695044.0</td>\n",
       "      <td>4.025735e+10</td>\n",
       "      <td>1.651800e-15</td>\n",
       "      <td>-1.200000</td>\n",
       "    </tr>\n",
       "    <tr>\n",
       "      <td>return_date_until_date_onset_symptoms</td>\n",
       "      <td>1280.0</td>\n",
       "      <td>0.000000</td>\n",
       "      <td>0.000000</td>\n",
       "      <td>0.0</td>\n",
       "      <td>0.0</td>\n",
       "      <td>0.0</td>\n",
       "      <td>0.0</td>\n",
       "      <td>0.0</td>\n",
       "      <td>0.000000e+00</td>\n",
       "      <td>0.000000e+00</td>\n",
       "      <td>0.000000</td>\n",
       "    </tr>\n",
       "    <tr>\n",
       "      <td>date_onset_symptoms_until_confirmed_date</td>\n",
       "      <td>196168.0</td>\n",
       "      <td>3.976668</td>\n",
       "      <td>4.010828</td>\n",
       "      <td>-8.0</td>\n",
       "      <td>1.0</td>\n",
       "      <td>3.0</td>\n",
       "      <td>6.0</td>\n",
       "      <td>90.0</td>\n",
       "      <td>1.608674e+01</td>\n",
       "      <td>2.779863e+00</td>\n",
       "      <td>19.089732</td>\n",
       "    </tr>\n",
       "    <tr>\n",
       "      <td>confirmed_date_until_released_date</td>\n",
       "      <td>6443.0</td>\n",
       "      <td>832.160019</td>\n",
       "      <td>3775.432061</td>\n",
       "      <td>-25.0</td>\n",
       "      <td>10.0</td>\n",
       "      <td>15.0</td>\n",
       "      <td>25.0</td>\n",
       "      <td>18352.0</td>\n",
       "      <td>1.425389e+07</td>\n",
       "      <td>4.416424e+00</td>\n",
       "      <td>17.510410</td>\n",
       "    </tr>\n",
       "    <tr>\n",
       "      <td>confirmed_date_until_deceased_date</td>\n",
       "      <td>8930.0</td>\n",
       "      <td>337.943337</td>\n",
       "      <td>2445.722213</td>\n",
       "      <td>-30.0</td>\n",
       "      <td>1.0</td>\n",
       "      <td>4.0</td>\n",
       "      <td>9.0</td>\n",
       "      <td>18357.0</td>\n",
       "      <td>5.981557e+06</td>\n",
       "      <td>7.222086e+00</td>\n",
       "      <td>50.170183</td>\n",
       "    </tr>\n",
       "  </tbody>\n",
       "</table>\n",
       "</div>"
      ],
      "text/plain": [
       "                                             count           mean  \\\n",
       "age                                       214690.0      42.620018   \n",
       "age_band                                  215072.0      38.162336   \n",
       "background_diseases_binary                543106.0       0.125007   \n",
       "smoking                                   176456.0       0.093173   \n",
       "id                                        695045.0  347522.000000   \n",
       "return_date_until_date_onset_symptoms       1280.0       0.000000   \n",
       "date_onset_symptoms_until_confirmed_date  196168.0       3.976668   \n",
       "confirmed_date_until_released_date          6443.0     832.160019   \n",
       "confirmed_date_until_deceased_date          8930.0     337.943337   \n",
       "\n",
       "                                                    std   min       25%  \\\n",
       "age                                           17.335928   0.0      30.0   \n",
       "age_band                                      17.484730   0.0      30.0   \n",
       "background_diseases_binary                     0.330727   0.0       0.0   \n",
       "smoking                                        0.290676   0.0       0.0   \n",
       "id                                        200642.353261   0.0  173761.0   \n",
       "return_date_until_date_onset_symptoms          0.000000   0.0       0.0   \n",
       "date_onset_symptoms_until_confirmed_date       4.010828  -8.0       1.0   \n",
       "confirmed_date_until_released_date          3775.432061 -25.0      10.0   \n",
       "confirmed_date_until_deceased_date          2445.722213 -30.0       1.0   \n",
       "\n",
       "                                               50%       75%       max  \\\n",
       "age                                           41.0      54.0     120.0   \n",
       "age_band                                      40.0      50.0     120.0   \n",
       "background_diseases_binary                     0.0       0.0       1.0   \n",
       "smoking                                        0.0       0.0       1.0   \n",
       "id                                        347522.0  521283.0  695044.0   \n",
       "return_date_until_date_onset_symptoms          0.0       0.0       0.0   \n",
       "date_onset_symptoms_until_confirmed_date       3.0       6.0      90.0   \n",
       "confirmed_date_until_released_date            15.0      25.0   18352.0   \n",
       "confirmed_date_until_deceased_date             4.0       9.0   18357.0   \n",
       "\n",
       "                                                   var          skew  \\\n",
       "age                                       3.005344e+02  2.560915e-01   \n",
       "age_band                                  3.057158e+02  2.871296e-01   \n",
       "background_diseases_binary                1.093804e-01  2.267698e+00   \n",
       "smoking                                   8.449257e-02  2.799207e+00   \n",
       "id                                        4.025735e+10  1.651800e-15   \n",
       "return_date_until_date_onset_symptoms     0.000000e+00  0.000000e+00   \n",
       "date_onset_symptoms_until_confirmed_date  1.608674e+01  2.779863e+00   \n",
       "confirmed_date_until_released_date        1.425389e+07  4.416424e+00   \n",
       "confirmed_date_until_deceased_date        5.981557e+06  7.222086e+00   \n",
       "\n",
       "                                               kurt  \n",
       "age                                        0.036377  \n",
       "age_band                                  -0.035397  \n",
       "background_diseases_binary                 3.142464  \n",
       "smoking                                    5.835626  \n",
       "id                                        -1.200000  \n",
       "return_date_until_date_onset_symptoms      0.000000  \n",
       "date_onset_symptoms_until_confirmed_date  19.089732  \n",
       "confirmed_date_until_released_date        17.510410  \n",
       "confirmed_date_until_deceased_date        50.170183  "
      ]
     },
     "execution_count": 4,
     "metadata": {},
     "output_type": "execute_result"
    }
   ],
   "source": [
    "from scipy.stats import describe\n",
    "\n",
    "stats = df.describe()\n",
    "stats.loc['var'] = df.var().tolist()\n",
    "stats.loc['skew'] = df.skew().tolist()\n",
    "stats.loc['kurt'] = df.kurtosis().tolist()\n",
    "#print(stats)\n",
    "#print(stats.transpose())\n",
    "stats.transpose()"
   ]
  },
  {
   "cell_type": "code",
   "execution_count": 5,
   "metadata": {},
   "outputs": [
    {
     "data": {
      "text/html": [
       "<div>\n",
       "<style scoped>\n",
       "    .dataframe tbody tr th:only-of-type {\n",
       "        vertical-align: middle;\n",
       "    }\n",
       "\n",
       "    .dataframe tbody tr th {\n",
       "        vertical-align: top;\n",
       "    }\n",
       "\n",
       "    .dataframe thead th {\n",
       "        text-align: right;\n",
       "    }\n",
       "</style>\n",
       "<table border=\"1\" class=\"dataframe\">\n",
       "  <thead>\n",
       "    <tr style=\"text-align: right;\">\n",
       "      <th></th>\n",
       "      <th>background_diseases</th>\n",
       "      <th>city</th>\n",
       "      <th>confirmed_date</th>\n",
       "      <th>country</th>\n",
       "      <th>date_onset_symptoms</th>\n",
       "      <th>deceased_date</th>\n",
       "      <th>infected_by</th>\n",
       "      <th>infection_place</th>\n",
       "      <th>region</th>\n",
       "      <th>released_date</th>\n",
       "      <th>return_date</th>\n",
       "      <th>severity_illness</th>\n",
       "      <th>sex</th>\n",
       "      <th>symptoms</th>\n",
       "      <th>treatment</th>\n",
       "      <th>severity_illness_infectious_person</th>\n",
       "    </tr>\n",
       "  </thead>\n",
       "  <tbody>\n",
       "    <tr>\n",
       "      <td>count</td>\n",
       "      <td>67881</td>\n",
       "      <td>357200</td>\n",
       "      <td>689551</td>\n",
       "      <td>694044</td>\n",
       "      <td>196285</td>\n",
       "      <td>8978</td>\n",
       "      <td>1667</td>\n",
       "      <td>11544</td>\n",
       "      <td>496212</td>\n",
       "      <td>6447</td>\n",
       "      <td>2160</td>\n",
       "      <td>32758</td>\n",
       "      <td>220105</td>\n",
       "      <td>1631</td>\n",
       "      <td>195773</td>\n",
       "      <td>1069</td>\n",
       "    </tr>\n",
       "    <tr>\n",
       "      <td>unique</td>\n",
       "      <td>291</td>\n",
       "      <td>4513</td>\n",
       "      <td>140</td>\n",
       "      <td>139</td>\n",
       "      <td>140</td>\n",
       "      <td>106</td>\n",
       "      <td>1002</td>\n",
       "      <td>1535</td>\n",
       "      <td>955</td>\n",
       "      <td>114</td>\n",
       "      <td>39</td>\n",
       "      <td>5</td>\n",
       "      <td>2</td>\n",
       "      <td>264</td>\n",
       "      <td>3</td>\n",
       "      <td>5</td>\n",
       "    </tr>\n",
       "    <tr>\n",
       "      <td>top</td>\n",
       "      <td>obesity,</td>\n",
       "      <td>Moscow</td>\n",
       "      <td>1970-01-01</td>\n",
       "      <td>mexico</td>\n",
       "      <td>2020-05-01</td>\n",
       "      <td>2020-05-11</td>\n",
       "      <td>4668</td>\n",
       "      <td>contact with patient</td>\n",
       "      <td>Lombardia</td>\n",
       "      <td>2020-05-05</td>\n",
       "      <td>1970-01-01</td>\n",
       "      <td>good</td>\n",
       "      <td>male</td>\n",
       "      <td>fever</td>\n",
       "      <td>clinic</td>\n",
       "      <td>cured</td>\n",
       "    </tr>\n",
       "    <tr>\n",
       "      <td>freq</td>\n",
       "      <td>15621</td>\n",
       "      <td>18000</td>\n",
       "      <td>471310</td>\n",
       "      <td>179245</td>\n",
       "      <td>6613</td>\n",
       "      <td>282</td>\n",
       "      <td>51</td>\n",
       "      <td>994</td>\n",
       "      <td>58060</td>\n",
       "      <td>291</td>\n",
       "      <td>1902</td>\n",
       "      <td>13663</td>\n",
       "      <td>110997</td>\n",
       "      <td>405</td>\n",
       "      <td>132042</td>\n",
       "      <td>577</td>\n",
       "    </tr>\n",
       "  </tbody>\n",
       "</table>\n",
       "</div>"
      ],
      "text/plain": [
       "       background_diseases    city confirmed_date country date_onset_symptoms  \\\n",
       "count                67881  357200         689551  694044              196285   \n",
       "unique                 291    4513            140     139                 140   \n",
       "top               obesity,  Moscow     1970-01-01  mexico          2020-05-01   \n",
       "freq                 15621   18000         471310  179245                6613   \n",
       "\n",
       "       deceased_date infected_by       infection_place     region  \\\n",
       "count           8978        1667                 11544     496212   \n",
       "unique           106        1002                  1535        955   \n",
       "top       2020-05-11        4668  contact with patient  Lombardia   \n",
       "freq             282          51                   994      58060   \n",
       "\n",
       "       released_date return_date severity_illness     sex symptoms treatment  \\\n",
       "count           6447        2160            32758  220105     1631    195773   \n",
       "unique           114          39                5       2      264         3   \n",
       "top       2020-05-05  1970-01-01             good    male    fever    clinic   \n",
       "freq             291        1902            13663  110997      405    132042   \n",
       "\n",
       "       severity_illness_infectious_person  \n",
       "count                                1069  \n",
       "unique                                  5  \n",
       "top                                 cured  \n",
       "freq                                  577  "
      ]
     },
     "execution_count": 5,
     "metadata": {},
     "output_type": "execute_result"
    }
   ],
   "source": [
    "df.describe(include = np.object)"
   ]
  },
  {
   "cell_type": "code",
   "execution_count": 6,
   "metadata": {},
   "outputs": [
    {
     "data": {
      "text/plain": [
       "<matplotlib.axes._subplots.AxesSubplot at 0x21a469355c8>"
      ]
     },
     "execution_count": 6,
     "metadata": {},
     "output_type": "execute_result"
    },
    {
     "data": {
      "image/png": "[encoded data removed]",
      "text/plain": [
       "<Figure size 432x288 with 1 Axes>"
      ]
     },
     "metadata": {
      "needs_background": "light"
     },
     "output_type": "display_data"
    }
   ],
   "source": [
    "symptoms_onset_date_fl = df.date_onset_symptoms.map(lambda x: 1 if (type(x) == str)  else 0) \n",
    "\n",
    "symptoms_onset_date_fl.value_counts().plot.bar()"
   ]
  },
  {
   "cell_type": "code",
   "execution_count": 7,
   "metadata": {},
   "outputs": [
    {
     "data": {
      "text/plain": [
       "good            13663\n",
       "deceased         7772\n",
       "cured            7185\n",
       "critical         4050\n",
       "asymptomatic       88\n",
       "Name: severity_illness, dtype: int64"
      ]
     },
     "execution_count": 7,
     "metadata": {},
     "output_type": "execute_result"
    }
   ],
   "source": [
    "df.severity_illness.value_counts() "
   ]
  },
  {
   "cell_type": "code",
   "execution_count": 8,
   "metadata": {},
   "outputs": [
    {
     "data": {
      "text/plain": [
       "mexico                              179245\n",
       "italy                               158004\n",
       "united states                       118002\n",
       "china                                42345\n",
       "russia                               32759\n",
       "united kingdom                       17814\n",
       "colombia                             16672\n",
       "spain                                16158\n",
       "canada                               14690\n",
       "france                               12178\n",
       "ecuador                              10947\n",
       "south korea                           7084\n",
       "iran                                  7026\n",
       "germany                               6517\n",
       "egypt                                 4635\n",
       "south africa                          4542\n",
       "austria                               4240\n",
       "netherlands                           4150\n",
       "brazil                                4121\n",
       "belgium                               3746\n",
       "singapore                             3570\n",
       "korea                                 3491\n",
       "chile                                 2739\n",
       "philippines                           2319\n",
       "japan                                 2080\n",
       "portugal                              2063\n",
       "algeria                               1267\n",
       "india                                 1225\n",
       "argentina                             1137\n",
       "cuba                                   854\n",
       "switzerland                            723\n",
       "nigeria                                668\n",
       "norway                                 658\n",
       "sweden                                 636\n",
       "australia                              546\n",
       "uruguay                                415\n",
       "maharashtra                            405\n",
       "delhi                                  378\n",
       "ghana                                  367\n",
       "kenya                                  337\n",
       "poland                                 325\n",
       "vietnam                                323\n",
       "kazakhstan                             302\n",
       "denmark                                250\n",
       "guatemala                              119\n",
       "paraguay                               113\n",
       "niger                                   98\n",
       "ethiopia                                98\n",
       "rajasthan                               96\n",
       "new zealand                             95\n",
       "kuwait                                  84\n",
       "uttar pradesh                           83\n",
       "bolivia                                 81\n",
       "thailand                                80\n",
       "puerto rico                             69\n",
       "georgia                                 68\n",
       "bahrain                                 68\n",
       "madhya pradesh                          63\n",
       "andhra pradesh                          59\n",
       "rwanda                                  54\n",
       "malta                                   49\n",
       "west bengal                             45\n",
       "united arab emirates                    40\n",
       "iraq                                    36\n",
       "haryana                                 35\n",
       "iceland                                 34\n",
       "malaysia                                34\n",
       "zimbabwe                                30\n",
       "oman                                    30\n",
       "greece                                  29\n",
       "tunisia                                 29\n",
       "jammu and kashmir                       27\n",
       "romania                                 25\n",
       "israel                                  22\n",
       "reunion                                 18\n",
       "qatar                                   18\n",
       "kerala                                  17\n",
       "uttarakhand                             16\n",
       "ireland                                 14\n",
       "namibia                                 14\n",
       "senegal                                 12\n",
       "pakistan                                12\n",
       "lebanon                                 12\n",
       "peru                                    10\n",
       "afghanistan                              8\n",
       "saudi arabia                             8\n",
       "finland                                  7\n",
       "odisha                                   7\n",
       "azerbaijan                               6\n",
       "croatia                                  6\n",
       "gambia                                   6\n",
       "kosovo                                   5\n",
       "benin                                    5\n",
       "guyana                                   5\n",
       "morocco                                  4\n",
       "czech republic                           4\n",
       "bulgaria                                 4\n",
       "burkina faso                             4\n",
       "himachal pradesh                         4\n",
       "ladakh                                   4\n",
       "maldives                                 4\n",
       "cameroon                                 4\n",
       "mongolia                                 3\n",
       "ukraine                                  3\n",
       "tamil nadu                               3\n",
       "luxembourg                               3\n",
       "panama                                   2\n",
       "bosnia and herzegovina                   2\n",
       "armenia                                  2\n",
       "nepal                                    2\n",
       "guinea                                   2\n",
       "democratic republic of the congo         2\n",
       "san marino                               2\n",
       "bhutan                                   2\n",
       "sudan                                    2\n",
       "sri lanka                                2\n",
       "jordan                                   2\n",
       "venezuela                                2\n",
       "cambodia                                 2\n",
       "puducherry                               2\n",
       "virgin islands, u.s.                     2\n",
       "andorra                                  1\n",
       "north macedonia                          1\n",
       "serbia                                   1\n",
       "bangladesh                               1\n",
       "saint vincent and the grenadines         1\n",
       "slovakia                                 1\n",
       "england                                  1\n",
       "gibraltar                                1\n",
       "lithuania                                1\n",
       "indonesia                                1\n",
       "moldova                                  1\n",
       "slovenia                                 1\n",
       "latvia                                   1\n",
       "jharkhand                                1\n",
       "telangana                                1\n",
       "foreign                                  1\n",
       "liechtenstein                            1\n",
       "estonia                                  1\n",
       "Name: country, dtype: int64"
      ]
     },
     "execution_count": 8,
     "metadata": {},
     "output_type": "execute_result"
    }
   ],
   "source": [
    "df.country.value_counts()"
   ]
  },
  {
   "cell_type": "code",
   "execution_count": 9,
   "metadata": {},
   "outputs": [
    {
     "data": {
      "text/plain": [
       "139"
      ]
     },
     "execution_count": 9,
     "metadata": {},
     "output_type": "execute_result"
    }
   ],
   "source": [
    "len(df[df[\"country\"].notnull()].country.unique() )"
   ]
  },
  {
   "cell_type": "code",
   "execution_count": 10,
   "metadata": {},
   "outputs": [
    {
     "data": {
      "text/plain": [
       "139"
      ]
     },
     "execution_count": 10,
     "metadata": {},
     "output_type": "execute_result"
    }
   ],
   "source": [
    "len(df.country.value_counts() )"
   ]
  },
  {
   "cell_type": "code",
   "execution_count": 11,
   "metadata": {},
   "outputs": [],
   "source": [
    "#df.country.value_counts()[0:5].plot.bar()"
   ]
  },
  {
   "cell_type": "code",
   "execution_count": 12,
   "metadata": {},
   "outputs": [],
   "source": [
    "dfoi = df[df['date_onset_symptoms'].notnull()]"
   ]
  },
  {
   "cell_type": "code",
   "execution_count": 13,
   "metadata": {},
   "outputs": [
    {
     "name": "stdout",
     "output_type": "stream",
     "text": [
      "mexico           179245\n",
      "italy            158004\n",
      "united states    118002\n",
      "china             42345\n",
      "russia            32759\n",
      "Name: country, dtype: int64 \n",
      "\n",
      "########################\n",
      "\n",
      "mexico      179239\n",
      "colombia     14297\n",
      "china          940\n",
      "korea          491\n",
      "japan          486\n",
      "Name: country, dtype: int64\n",
      "\n",
      "\n",
      "\n",
      "Barcharts of Patients Counts by Country\n"
     ]
    },
    {
     "data": {
      "text/plain": [
       "Text(0.5, 1.0, 'dfoi - has Symptoms Onset Date')"
      ]
     },
     "execution_count": 13,
     "metadata": {},
     "output_type": "execute_result"
    },
    {
     "data": {
      "image/png": "[encoded data removed]",
      "text/plain": [
       "<Figure size 864x288 with 2 Axes>"
      ]
     },
     "metadata": {
      "needs_background": "light"
     },
     "output_type": "display_data"
    }
   ],
   "source": [
    "print(df.country.value_counts()[0:5], \\\n",
    "      '\\n\\n########################\\n\\n' \\\n",
    "      + str(dfoi.country.value_counts()[0:5]))\n",
    "\n",
    "print('\\n\\n\\nBarcharts of Patients Counts by Country')\n",
    "fig = plt.figure(figsize=(12,4))\n",
    "#fig = plt.figure(2,1)\n",
    "plt.subplot(1,2,1)\n",
    "plt.bar(height = df.country.value_counts()[0:5], x = df.country.value_counts()[0:5].index)\n",
    "plt.xticks(rotation=30)\n",
    "plt.title('df - All Data')\n",
    "\n",
    "plt.subplot(1,2, 2)\n",
    "plt.bar(height = dfoi.country.value_counts()[0:5], x = dfoi.country.value_counts()[0:5].index)\n",
    "plt.xticks(rotation=30)\n",
    "plt.title('dfoi - has Symptoms Onset Date')\n",
    "#dfoi.symptoms.value_counts()[0:10].plot.bar(logy =True)"
   ]
  },
  {
   "cell_type": "code",
   "execution_count": 14,
   "metadata": {},
   "outputs": [
    {
     "data": {
      "text/plain": [
       "(264, 185)"
      ]
     },
     "execution_count": 14,
     "metadata": {},
     "output_type": "execute_result"
    }
   ],
   "source": [
    "len(df.symptoms.value_counts() ), len(dfoi.symptoms.value_counts() )"
   ]
  },
  {
   "cell_type": "code",
   "execution_count": 15,
   "metadata": {},
   "outputs": [
    {
     "name": "stdout",
     "output_type": "stream",
     "text": [
      "fever                                 405\n",
      "cough, fever                          213\n",
      "cough                                  70\n",
      "pneumonia                              64\n",
      "no_symptom                             46\n",
      "cough, fever, myalgia                  38\n",
      "breathing difficulty, cough, fever     36\n",
      "breathing difficulty, pneumonia        27\n",
      "breathing difficulty                   23\n",
      "fever, sore throat                     22\n",
      "Name: symptoms, dtype: int64 \n",
      "\n",
      "###############################\n",
      "\n",
      "fever                                 356\n",
      "cough, fever                          174\n",
      "cough                                  54\n",
      "pneumonia                              44\n",
      "cough, fever, myalgia                  22\n",
      "fever, sore throat                     19\n",
      "cough, fever, sputum                   19\n",
      "breathing difficulty, cough, fever     19\n",
      "breathing difficulty                   17\n",
      "fatigue, fever                         13\n",
      "Name: symptoms, dtype: int64\n"
     ]
    }
   ],
   "source": [
    "print( df.symptoms.value_counts()[:10], \\\n",
    "      '\\n\\n###############################\\n\\n' \\\n",
    "      + str(dfoi.symptoms.value_counts()[:10] ))"
   ]
  },
  {
   "cell_type": "code",
   "execution_count": 16,
   "metadata": {},
   "outputs": [
    {
     "name": "stdout",
     "output_type": "stream",
     "text": [
      "\n",
      "\n",
      "Barcharts of Patients Counts by Symptoms\n"
     ]
    },
    {
     "data": {
      "text/plain": [
       "Text(0.5, 1.0, 'dfoi - has Symptoms Onset Date')"
      ]
     },
     "execution_count": 16,
     "metadata": {},
     "output_type": "execute_result"
    },
    {
     "data": {
      "image/png": "[encoded data removed]",
      "text/plain": [
       "<Figure size 864x288 with 2 Axes>"
      ]
     },
     "metadata": {
      "needs_background": "light"
     },
     "output_type": "display_data"
    }
   ],
   "source": [
    "print('\\n\\nBarcharts of Patients Counts by Symptoms')\n",
    "fig = plt.figure(figsize=(12,4))\n",
    "#fig = plt.figure(2,1)\n",
    "plt.subplot(1,2,1)\n",
    "plt.bar(height = df.symptoms.value_counts()[0:5], x = df.symptoms.value_counts()[0:5].index)\n",
    "plt.xticks(rotation=30)\n",
    "plt.title('df - All Data')\n",
    "\n",
    "plt.subplot(1,2, 2)\n",
    "plt.bar(height = dfoi.symptoms.value_counts()[0:5], x = dfoi.symptoms.value_counts()[0:5].index)\n",
    "plt.xticks(rotation=30)\n",
    "plt.title('dfoi - has Symptoms Onset Date')\n",
    "#dfoi.symptoms.value_counts()[0:10].plot.bar(logy =True)"
   ]
  },
  {
   "cell_type": "code",
   "execution_count": 17,
   "metadata": {},
   "outputs": [
    {
     "name": "stdout",
     "output_type": "stream",
     "text": [
      "\n",
      "Death = 1, Others = 0 \n",
      "\n",
      "All Dataset\n",
      "0    686067\n",
      "1      8978\n",
      "Name: death, dtype: int64\n",
      "\n",
      "Selected: Patient has Symptoms Onset Date\n",
      "0    187607\n",
      "1      8678\n",
      "Name: death, dtype: int64\n",
      "\n",
      "Mexico\n",
      "0    171248\n",
      "1      7997\n",
      "Name: death, dtype: int64\n",
      "\n",
      "Mexico + Colombia\n",
      "0    187313\n",
      "1      8604\n",
      "Name: death, dtype: int64\n",
      "\n",
      "\n",
      "\n",
      "Barcharts of Patients Counts by Healthcare Outcome\n"
     ]
    },
    {
     "data": {
      "image/png": "[encoded data removed]",
      "text/plain": [
       "<Figure size 864x288 with 4 Axes>"
      ]
     },
     "metadata": {
      "needs_background": "light"
     },
     "output_type": "display_data"
    }
   ],
   "source": [
    "data1 = {'death': np.where(df['deceased_date'].isnull(), 0, 1)}\n",
    "#pd.DataFrame(data1).death.value_counts().plot.bar(logy=True)\n",
    "\n",
    "data2 = {'death': np.where(dfoi['deceased_date'].isnull(), 0, 1)}\n",
    "#pd.DataFrame(data2).death.value_counts().plot.bar(logy=True)\n",
    "\n",
    "mex = pd.DataFrame()\n",
    "mex['death'] = df[(df['country']=='mexico')]['deceased_date'].map(lambda x: 1 if (type(x) == str)  else 0) \n",
    "\n",
    "mc = pd.DataFrame()\n",
    "mc['death'] = df[( (df['country'] == 'mexico') | (df['country'] == 'colombia')  )]\\\n",
    "              ['deceased_date'].map(lambda x: 1 if (type(x) == str)  else 0) \n",
    "#print('\\nDeath = 1, Others = 0 \\n' + str(mex.death.value_counts() ))\n",
    "\n",
    "print('\\nDeath = 1, Others = 0 \\n\\nAll Dataset\\n'\\\n",
    "      + str(pd.DataFrame(data1).death.value_counts())\\\n",
    "      + '\\n\\nSelected: Patient has Symptoms Onset Date\\n'+ str(pd.DataFrame(data2).death.value_counts() )\\\n",
    "      + '\\n\\nMexico\\n' + str(mex.death.value_counts() )\\\n",
    "      + '\\n\\nMexico + Colombia\\n' + str(mc.death.value_counts() ))\n",
    "\n",
    "\n",
    "print('\\n\\n\\nBarcharts of Patients Counts by Healthcare Outcome')\n",
    "fig = plt.subplots(figsize=(12,4), sharey = True)\n",
    "plt.subplot(1,4,1)\n",
    "plt.bar(height = pd.DataFrame(data1).death.value_counts(), x = ('0', '1'), width=0.5,)\n",
    "plt.xticks(rotation=30)\n",
    "plt.title('df - All Data')\n",
    "#plt.yscale('log')\n",
    "\n",
    "plt.subplot(1,4, 2)\n",
    "plt.bar(height = pd.DataFrame(data2).death.value_counts(), x = ('0', '1'),width=0.5,)\n",
    "plt.xticks(rotation=30)\n",
    "plt.title('dfoi - has Symptoms Onset Date')\n",
    "#plt.yscale('log')\n",
    "\n",
    "plt.subplot(1,4, 3)\n",
    "plt.bar(height = mex.death.value_counts(), x = ('0', '1'),width=0.5,)\n",
    "plt.xticks(rotation=30)\n",
    "plt.title('mexico')\n",
    "#plt.yscale('log')\n",
    "\n",
    "plt.subplot(1,4, 4)\n",
    "plt.bar(height = mc.death.value_counts(), x = ('0', '1'),width=0.5,)\n",
    "plt.xticks(rotation=30)\n",
    "plt.title('mexico + colombia')\n",
    "#plt.yscale('log')\n",
    "\n",
    "plt.tight_layout()"
   ]
  },
  {
   "cell_type": "code",
   "execution_count": 18,
   "metadata": {},
   "outputs": [
    {
     "data": {
      "text/plain": [
       "179239"
      ]
     },
     "execution_count": 18,
     "metadata": {},
     "output_type": "execute_result"
    }
   ],
   "source": [
    "df2 = df[( (df['country']=='mexico') | (df['country']=='colombus') ) & df['date_onset_symptoms'].notnull()]\n",
    "len(df2)"
   ]
  },
  {
   "cell_type": "markdown",
   "metadata": {},
   "source": [
    "## 2. Problem Definition: translate the business needs into machine learning problems; design metrics to measure model performance."
   ]
  },
  {
   "cell_type": "markdown",
   "metadata": {},
   "source": [
    "###  1). We will classify the data into two parts: survival or death of patient health outcome. Create a label \"Death\", and transform other data into features, like patient's age, gender, country, region, symptoms onset days, background disease."
   ]
  },
  {
   "cell_type": "markdown",
   "metadata": {},
   "source": [
    "### 2). We will apply classification metrics like accuracy, recall, precision, ROC AUC, threshold to evaluate model performance."
   ]
  },
  {
   "cell_type": "markdown",
   "metadata": {},
   "source": [
    "## 3. Feature Engineering: create features which might improve model performance.\n"
   ]
  },
  {
   "cell_type": "code",
   "execution_count": 19,
   "metadata": {},
   "outputs": [],
   "source": [
    "# from sklearn.model_selection import train_test_split\n",
    "# X, X_test = train_test_split(df2, \n",
    "#                                    test_size=0.2, \n",
    "#                                    random_state=2019)\n",
    "\n",
    "# X = X.reset_index(drop=True)\n",
    "# X_test = X_test.reset_index(drop=True)\n",
    "\n",
    "# len(X), len(X_test)"
   ]
  },
  {
   "cell_type": "code",
   "execution_count": 20,
   "metadata": {},
   "outputs": [],
   "source": [
    "class FeatureTransformer(object):\n",
    "    \n",
    "    def fit(self, X, y=None):\n",
    "        df = pd.DataFrame()\n",
    "        #df['background_diseases_binary'] = X['background_diseases_binary']\n",
    "        df['bg_disease_cnt'] = X.background_diseases.map(lambda x: len(x.split(',')) if type(x) == str  else 0) \n",
    "        df['symptoms_cnt'] = X.symptoms.map(lambda x: len(x.split(',')) if (type(x) == str and x != 'no_symptom')  else 0)\n",
    "        df['days_onset'] =  (pd.to_datetime(np.where(X['deceased_date'].isnull(), ('2020-05-19'), X['deceased_date']))\\\n",
    "                             - pd.to_datetime(X.date_onset_symptoms) ).dt.days + 1\n",
    "        df['days_confirm'] =  (pd.to_datetime(np.where(X['deceased_date'].isnull(), ('2020-05-19'), X['deceased_date']))\\\n",
    "                               - pd.to_datetime(X.confirmed_date) ).dt.days + 1\n",
    "        df['days_confirm'] = df['days_confirm'].fillna(df['days_confirm'].mean()) \n",
    "        #df['death'] = np.where(X['deceased_date'].isnull(), 0, 1)\n",
    "        df['gender'] = X.sex.map(lambda x: 2 if x == 'male' else (1 if x == 'female' else 0) )\n",
    "        df['age'] = X.age.fillna(X['age'].mean())\n",
    "        df['smoke'] = np.where(X['smoking'].isnull(), 0, 1)\n",
    "        df['treat'] = X.treatment.map(lambda x: 3 if x == 'hospitalized' else (2 if x == 'hospital' or x == 'clinical' else \\\n",
    "                                        (1 if x == 'home isolation' else 0 ) ) )\n",
    "        \n",
    "        self.means = df.mean()\n",
    "        \n",
    "    def transform(self, X, y=None):\n",
    "        df = pd.DataFrame()\n",
    "        #df['background_diseases_binary'] = X['background_diseases_binary']\n",
    "        df['bg_disease_cnt'] = X.background_diseases.map(lambda x: len(x.split(',')) if type(x) == str  else 0) \n",
    "        df['symptoms_cnt'] = X.symptoms.map(lambda x: len(x.split(',')) if (type(x) == str and x != 'no_symptom')  else 0)\n",
    "        df['days_onset'] =  (pd.to_datetime(np.where(X['deceased_date'].isnull(), ('2020-05-19'), X['deceased_date']))\\\n",
    "                             - pd.to_datetime(X.date_onset_symptoms) ).dt.days + 1\n",
    "        df['days_confirm'] =  (pd.to_datetime(np.where(X['deceased_date'].isnull(), ('2020-05-19'), X['deceased_date']))\\\n",
    "                               - pd.to_datetime(X.confirmed_date) ).dt.days + 1\n",
    "        df['days_confirm'] = df['days_confirm'].fillna(df['days_confirm'].mean()) \n",
    "        #df['death'] = np.where(X['deceased_date'].isnull(), 0, 1)\n",
    "        df['gender'] = X.sex.map(lambda x: 2 if x == 'male' else (1 if x == 'female' else 0) )\n",
    "        df['age'] = X.age.fillna(X['age'].mean())\n",
    "        df['smoke'] = np.where(X['smoking'].isnull(), 0, 1)\n",
    "        df['treat'] = X.treatment.map(lambda x: 3 if x == 'hospitalized' else (2 if x == 'hospital' or x == 'clinical' else \\\n",
    "                                        (1 if x == 'home isolation' else 0 ) ) )\n",
    "        \n",
    "        #return df.fillna(self.mean)                              # equivalent\n",
    "\n",
    "        return df\n",
    "    \n",
    "    def fit_transform(self, X, y=None):\n",
    "        self.fit(X)\n",
    "        return self.transform(X)\n"
   ]
  },
  {
   "cell_type": "code",
   "execution_count": 21,
   "metadata": {},
   "outputs": [
    {
     "data": {
      "text/html": [
       "<div>\n",
       "<style scoped>\n",
       "    .dataframe tbody tr th:only-of-type {\n",
       "        vertical-align: middle;\n",
       "    }\n",
       "\n",
       "    .dataframe tbody tr th {\n",
       "        vertical-align: top;\n",
       "    }\n",
       "\n",
       "    .dataframe thead th {\n",
       "        text-align: right;\n",
       "    }\n",
       "</style>\n",
       "<table border=\"1\" class=\"dataframe\">\n",
       "  <thead>\n",
       "    <tr style=\"text-align: right;\">\n",
       "      <th></th>\n",
       "      <th>age</th>\n",
       "      <th>age_band</th>\n",
       "      <th>background_diseases</th>\n",
       "      <th>background_diseases_binary</th>\n",
       "      <th>city</th>\n",
       "      <th>confirmed_date</th>\n",
       "      <th>country</th>\n",
       "      <th>date_onset_symptoms</th>\n",
       "      <th>deceased_date</th>\n",
       "      <th>infected_by</th>\n",
       "      <th>...</th>\n",
       "      <th>sex</th>\n",
       "      <th>smoking</th>\n",
       "      <th>symptoms</th>\n",
       "      <th>treatment</th>\n",
       "      <th>id</th>\n",
       "      <th>return_date_until_date_onset_symptoms</th>\n",
       "      <th>date_onset_symptoms_until_confirmed_date</th>\n",
       "      <th>confirmed_date_until_released_date</th>\n",
       "      <th>confirmed_date_until_deceased_date</th>\n",
       "      <th>severity_illness_infectious_person</th>\n",
       "    </tr>\n",
       "  </thead>\n",
       "  <tbody>\n",
       "    <tr>\n",
       "      <td>41786</td>\n",
       "      <td>51.0</td>\n",
       "      <td>50.0</td>\n",
       "      <td>NaN</td>\n",
       "      <td>NaN</td>\n",
       "      <td>NaN</td>\n",
       "      <td>2020-05-11</td>\n",
       "      <td>mexico</td>\n",
       "      <td>2020-05-09</td>\n",
       "      <td>NaN</td>\n",
       "      <td>NaN</td>\n",
       "      <td>...</td>\n",
       "      <td>male</td>\n",
       "      <td>0.0</td>\n",
       "      <td>NaN</td>\n",
       "      <td>hospitalized</td>\n",
       "      <td>41786</td>\n",
       "      <td>NaN</td>\n",
       "      <td>2.0</td>\n",
       "      <td>NaN</td>\n",
       "      <td>NaN</td>\n",
       "      <td>NaN</td>\n",
       "    </tr>\n",
       "    <tr>\n",
       "      <td>41787</td>\n",
       "      <td>46.0</td>\n",
       "      <td>40.0</td>\n",
       "      <td>NaN</td>\n",
       "      <td>NaN</td>\n",
       "      <td>NaN</td>\n",
       "      <td>2020-05-12</td>\n",
       "      <td>mexico</td>\n",
       "      <td>2020-05-07</td>\n",
       "      <td>NaN</td>\n",
       "      <td>NaN</td>\n",
       "      <td>...</td>\n",
       "      <td>male</td>\n",
       "      <td>0.0</td>\n",
       "      <td>NaN</td>\n",
       "      <td>clinic</td>\n",
       "      <td>41787</td>\n",
       "      <td>NaN</td>\n",
       "      <td>5.0</td>\n",
       "      <td>NaN</td>\n",
       "      <td>NaN</td>\n",
       "      <td>NaN</td>\n",
       "    </tr>\n",
       "    <tr>\n",
       "      <td>41788</td>\n",
       "      <td>45.0</td>\n",
       "      <td>40.0</td>\n",
       "      <td>obesity,</td>\n",
       "      <td>1.0</td>\n",
       "      <td>NaN</td>\n",
       "      <td>2020-05-14</td>\n",
       "      <td>mexico</td>\n",
       "      <td>2020-05-11</td>\n",
       "      <td>NaN</td>\n",
       "      <td>NaN</td>\n",
       "      <td>...</td>\n",
       "      <td>male</td>\n",
       "      <td>0.0</td>\n",
       "      <td>NaN</td>\n",
       "      <td>clinic</td>\n",
       "      <td>41788</td>\n",
       "      <td>NaN</td>\n",
       "      <td>3.0</td>\n",
       "      <td>NaN</td>\n",
       "      <td>NaN</td>\n",
       "      <td>NaN</td>\n",
       "    </tr>\n",
       "    <tr>\n",
       "      <td>41789</td>\n",
       "      <td>27.0</td>\n",
       "      <td>20.0</td>\n",
       "      <td>asthma,</td>\n",
       "      <td>1.0</td>\n",
       "      <td>NaN</td>\n",
       "      <td>2020-03-28</td>\n",
       "      <td>mexico</td>\n",
       "      <td>2020-03-26</td>\n",
       "      <td>NaN</td>\n",
       "      <td>NaN</td>\n",
       "      <td>...</td>\n",
       "      <td>female</td>\n",
       "      <td>0.0</td>\n",
       "      <td>NaN</td>\n",
       "      <td>hospitalized</td>\n",
       "      <td>41789</td>\n",
       "      <td>NaN</td>\n",
       "      <td>2.0</td>\n",
       "      <td>NaN</td>\n",
       "      <td>NaN</td>\n",
       "      <td>NaN</td>\n",
       "    </tr>\n",
       "    <tr>\n",
       "      <td>41790</td>\n",
       "      <td>37.0</td>\n",
       "      <td>30.0</td>\n",
       "      <td>NaN</td>\n",
       "      <td>NaN</td>\n",
       "      <td>NaN</td>\n",
       "      <td>2020-03-30</td>\n",
       "      <td>mexico</td>\n",
       "      <td>2020-03-24</td>\n",
       "      <td>NaN</td>\n",
       "      <td>NaN</td>\n",
       "      <td>...</td>\n",
       "      <td>female</td>\n",
       "      <td>0.0</td>\n",
       "      <td>NaN</td>\n",
       "      <td>clinic</td>\n",
       "      <td>41790</td>\n",
       "      <td>NaN</td>\n",
       "      <td>6.0</td>\n",
       "      <td>NaN</td>\n",
       "      <td>NaN</td>\n",
       "      <td>NaN</td>\n",
       "    </tr>\n",
       "  </tbody>\n",
       "</table>\n",
       "<p>5 rows × 25 columns</p>\n",
       "</div>"
      ],
      "text/plain": [
       "        age  age_band background_diseases  background_diseases_binary city  \\\n",
       "41786  51.0      50.0                 NaN                         NaN  NaN   \n",
       "41787  46.0      40.0                 NaN                         NaN  NaN   \n",
       "41788  45.0      40.0            obesity,                         1.0  NaN   \n",
       "41789  27.0      20.0             asthma,                         1.0  NaN   \n",
       "41790  37.0      30.0                 NaN                         NaN  NaN   \n",
       "\n",
       "      confirmed_date country date_onset_symptoms deceased_date infected_by  \\\n",
       "41786     2020-05-11  mexico          2020-05-09           NaN         NaN   \n",
       "41787     2020-05-12  mexico          2020-05-07           NaN         NaN   \n",
       "41788     2020-05-14  mexico          2020-05-11           NaN         NaN   \n",
       "41789     2020-03-28  mexico          2020-03-26           NaN         NaN   \n",
       "41790     2020-03-30  mexico          2020-03-24           NaN         NaN   \n",
       "\n",
       "       ...     sex smoking symptoms     treatment     id  \\\n",
       "41786  ...    male     0.0      NaN  hospitalized  41786   \n",
       "41787  ...    male     0.0      NaN        clinic  41787   \n",
       "41788  ...    male     0.0      NaN        clinic  41788   \n",
       "41789  ...  female     0.0      NaN  hospitalized  41789   \n",
       "41790  ...  female     0.0      NaN        clinic  41790   \n",
       "\n",
       "      return_date_until_date_onset_symptoms  \\\n",
       "41786                                   NaN   \n",
       "41787                                   NaN   \n",
       "41788                                   NaN   \n",
       "41789                                   NaN   \n",
       "41790                                   NaN   \n",
       "\n",
       "       date_onset_symptoms_until_confirmed_date  \\\n",
       "41786                                       2.0   \n",
       "41787                                       5.0   \n",
       "41788                                       3.0   \n",
       "41789                                       2.0   \n",
       "41790                                       6.0   \n",
       "\n",
       "      confirmed_date_until_released_date confirmed_date_until_deceased_date  \\\n",
       "41786                                NaN                                NaN   \n",
       "41787                                NaN                                NaN   \n",
       "41788                                NaN                                NaN   \n",
       "41789                                NaN                                NaN   \n",
       "41790                                NaN                                NaN   \n",
       "\n",
       "       severity_illness_infectious_person  \n",
       "41786                                 NaN  \n",
       "41787                                 NaN  \n",
       "41788                                 NaN  \n",
       "41789                                 NaN  \n",
       "41790                                 NaN  \n",
       "\n",
       "[5 rows x 25 columns]"
      ]
     },
     "execution_count": 21,
     "metadata": {},
     "output_type": "execute_result"
    }
   ],
   "source": [
    "def death(x):\n",
    "    if type(x) != str:     # NaN is not string\n",
    "        x = 0\n",
    "    else:\n",
    "        x = 1\n",
    "    return x\n",
    "\n",
    "features = list(df2.columns)\n",
    "#features = ['background_diseases', 'symptoms', 'date_onset_symptoms', 'confirmed_date', 'sex', 'age', 'smoking', 'treatment']\n",
    "\n",
    "# Actual engineered features:\n",
    "#features = ['bg_disease_cnt', 'symptoms_cnt', 'days_onset',     'days_confirm',     'gender', 'age',  'smoke',   'treat']\n",
    "\n",
    "target = 'deceased_date'\n",
    "#features.remove(target)\n",
    "\n",
    "X = df2[features]\n",
    "y = df2[target].map(death)\n",
    "X.head()"
   ]
  },
  {
   "cell_type": "code",
   "execution_count": 22,
   "metadata": {},
   "outputs": [],
   "source": [
    "X_train, X_valid, y_train, y_valid = train_test_split(X, \n",
    "                                                      y, \n",
    "                                                      test_size=0.2, \n",
    "                                                      random_state=2019)"
   ]
  },
  {
   "cell_type": "code",
   "execution_count": 23,
   "metadata": {},
   "outputs": [
    {
     "data": {
      "text/plain": [
       "(143391, 35848, 143391, 35848)"
      ]
     },
     "execution_count": 23,
     "metadata": {},
     "output_type": "execute_result"
    }
   ],
   "source": [
    "len(X_train), len(X_valid), len(y_train), len(y_valid)"
   ]
  },
  {
   "cell_type": "markdown",
   "metadata": {},
   "source": [
    "# 4. Modeling: Model selection, feature elimination, validation, hyperparameter tuning.\n"
   ]
  },
  {
   "cell_type": "code",
   "execution_count": 24,
   "metadata": {},
   "outputs": [
    {
     "name": "stderr",
     "output_type": "stream",
     "text": [
      "C:\\ProgramData\\Anaconda3\\lib\\site-packages\\sklearn\\utils\\deprecation.py:143: FutureWarning: The sklearn.neighbors.base module is  deprecated in version 0.22 and will be removed in version 0.24. The corresponding classes / functions should instead be imported from sklearn.neighbors. Anything that cannot be imported from sklearn.neighbors is now part of the private API.\n",
      "  warnings.warn(message, FutureWarning)\n",
      "C:\\ProgramData\\Anaconda3\\lib\\site-packages\\sklearn\\utils\\deprecation.py:143: FutureWarning: The sklearn.ensemble.bagging module is  deprecated in version 0.22 and will be removed in version 0.24. The corresponding classes / functions should instead be imported from sklearn.ensemble. Anything that cannot be imported from sklearn.ensemble is now part of the private API.\n",
      "  warnings.warn(message, FutureWarning)\n",
      "C:\\ProgramData\\Anaconda3\\lib\\site-packages\\sklearn\\utils\\deprecation.py:143: FutureWarning: The sklearn.ensemble.base module is  deprecated in version 0.22 and will be removed in version 0.24. The corresponding classes / functions should instead be imported from sklearn.ensemble. Anything that cannot be imported from sklearn.ensemble is now part of the private API.\n",
      "  warnings.warn(message, FutureWarning)\n",
      "C:\\ProgramData\\Anaconda3\\lib\\site-packages\\sklearn\\utils\\deprecation.py:143: FutureWarning: The sklearn.ensemble.forest module is  deprecated in version 0.22 and will be removed in version 0.24. The corresponding classes / functions should instead be imported from sklearn.ensemble. Anything that cannot be imported from sklearn.ensemble is now part of the private API.\n",
      "  warnings.warn(message, FutureWarning)\n",
      "Using TensorFlow backend.\n",
      "C:\\ProgramData\\Anaconda3\\lib\\site-packages\\sklearn\\utils\\deprecation.py:143: FutureWarning: The sklearn.utils.testing module is  deprecated in version 0.22 and will be removed in version 0.24. The corresponding classes / functions should instead be imported from sklearn.utils. Anything that cannot be imported from sklearn.utils is now part of the private API.\n",
      "  warnings.warn(message, FutureWarning)\n",
      "C:\\ProgramData\\Anaconda3\\lib\\site-packages\\sklearn\\utils\\deprecation.py:143: FutureWarning: The sklearn.metrics.classification module is  deprecated in version 0.22 and will be removed in version 0.24. The corresponding classes / functions should instead be imported from sklearn.metrics. Anything that cannot be imported from sklearn.metrics is now part of the private API.\n",
      "  warnings.warn(message, FutureWarning)\n",
      "C:\\ProgramData\\Anaconda3\\lib\\site-packages\\sklearn\\utils\\deprecation.py:86: FutureWarning: Function safe_indexing is deprecated; safe_indexing is deprecated in version 0.22 and will be removed in version 0.24.\n",
      "  warnings.warn(msg, category=FutureWarning)\n"
     ]
    },
    {
     "data": {
      "text/plain": [
       "Pipeline(steps=[('ft',\n",
       "                 <__main__.FeatureTransformer object at 0x0000021A3C64C588>),\n",
       "                ('smt', SMOTE(random_state=42)), ('rescale', MinMaxScaler()),\n",
       "                ('logr', LogisticRegression(random_state=2019))])"
      ]
     },
     "execution_count": 24,
     "metadata": {},
     "output_type": "execute_result"
    }
   ],
   "source": [
    "#from sklearn.pipeline import Pipeline\n",
    "from sklearn.preprocessing import MinMaxScaler\n",
    "from imblearn.over_sampling import SMOTE\n",
    "from imblearn.pipeline import Pipeline\n",
    "from sklearn.linear_model import LogisticRegression\n",
    "\n",
    "steps = [('ft', FeatureTransformer()),\n",
    "         ('smt', SMOTE (random_state=42)),\n",
    "         ('rescale', MinMaxScaler()), \n",
    "         ('logr', LogisticRegression(random_state = 2019)), ]\n",
    "model = Pipeline(steps)\n",
    "model.fit(X_train, y_train)"
   ]
  },
  {
   "cell_type": "code",
   "execution_count": 25,
   "metadata": {},
   "outputs": [],
   "source": [
    "X_train_res = model[0].fit_transform(X_train)\n",
    "#X_test_res = model[0].fit_transform(X_test)\n",
    "X_valid_res = model[0].fit_transform(X_valid)"
   ]
  },
  {
   "cell_type": "code",
   "execution_count": 26,
   "metadata": {},
   "outputs": [
    {
     "data": {
      "text/html": [
       "<div>\n",
       "<style scoped>\n",
       "    .dataframe tbody tr th:only-of-type {\n",
       "        vertical-align: middle;\n",
       "    }\n",
       "\n",
       "    .dataframe tbody tr th {\n",
       "        vertical-align: top;\n",
       "    }\n",
       "\n",
       "    .dataframe thead th {\n",
       "        text-align: right;\n",
       "    }\n",
       "</style>\n",
       "<table border=\"1\" class=\"dataframe\">\n",
       "  <thead>\n",
       "    <tr style=\"text-align: right;\">\n",
       "      <th></th>\n",
       "      <th>bg_disease_cnt</th>\n",
       "      <th>symptoms_cnt</th>\n",
       "      <th>days_onset</th>\n",
       "      <th>days_confirm</th>\n",
       "      <th>gender</th>\n",
       "      <th>age</th>\n",
       "      <th>smoke</th>\n",
       "      <th>treat</th>\n",
       "    </tr>\n",
       "  </thead>\n",
       "  <tbody>\n",
       "    <tr>\n",
       "      <td>47608</td>\n",
       "      <td>2</td>\n",
       "      <td>0</td>\n",
       "      <td>10</td>\n",
       "      <td>7.0</td>\n",
       "      <td>1</td>\n",
       "      <td>56.0</td>\n",
       "      <td>1</td>\n",
       "      <td>3</td>\n",
       "    </tr>\n",
       "    <tr>\n",
       "      <td>117299</td>\n",
       "      <td>2</td>\n",
       "      <td>0</td>\n",
       "      <td>41</td>\n",
       "      <td>34.0</td>\n",
       "      <td>2</td>\n",
       "      <td>24.0</td>\n",
       "      <td>1</td>\n",
       "      <td>0</td>\n",
       "    </tr>\n",
       "    <tr>\n",
       "      <td>130814</td>\n",
       "      <td>2</td>\n",
       "      <td>0</td>\n",
       "      <td>5</td>\n",
       "      <td>5.0</td>\n",
       "      <td>1</td>\n",
       "      <td>31.0</td>\n",
       "      <td>1</td>\n",
       "      <td>0</td>\n",
       "    </tr>\n",
       "    <tr>\n",
       "      <td>161290</td>\n",
       "      <td>0</td>\n",
       "      <td>0</td>\n",
       "      <td>15</td>\n",
       "      <td>13.0</td>\n",
       "      <td>2</td>\n",
       "      <td>27.0</td>\n",
       "      <td>1</td>\n",
       "      <td>0</td>\n",
       "    </tr>\n",
       "    <tr>\n",
       "      <td>190052</td>\n",
       "      <td>0</td>\n",
       "      <td>0</td>\n",
       "      <td>52</td>\n",
       "      <td>47.0</td>\n",
       "      <td>2</td>\n",
       "      <td>41.0</td>\n",
       "      <td>1</td>\n",
       "      <td>0</td>\n",
       "    </tr>\n",
       "  </tbody>\n",
       "</table>\n",
       "</div>"
      ],
      "text/plain": [
       "        bg_disease_cnt  symptoms_cnt  days_onset  days_confirm  gender   age  \\\n",
       "47608                2             0          10           7.0       1  56.0   \n",
       "117299               2             0          41          34.0       2  24.0   \n",
       "130814               2             0           5           5.0       1  31.0   \n",
       "161290               0             0          15          13.0       2  27.0   \n",
       "190052               0             0          52          47.0       2  41.0   \n",
       "\n",
       "        smoke  treat  \n",
       "47608       1      3  \n",
       "117299      1      0  \n",
       "130814      1      0  \n",
       "161290      1      0  \n",
       "190052      1      0  "
      ]
     },
     "execution_count": 26,
     "metadata": {},
     "output_type": "execute_result"
    }
   ],
   "source": [
    "X_train_res.head()"
   ]
  },
  {
   "cell_type": "code",
   "execution_count": 27,
   "metadata": {},
   "outputs": [
    {
     "data": {
      "text/plain": [
       "(6429, 143391, 22.303779748016797)"
      ]
     },
     "execution_count": 27,
     "metadata": {},
     "output_type": "execute_result"
    }
   ],
   "source": [
    "sum(y_train), len(y_train), len(y_train)/sum(y_train)  # the ratio will be used in xgboost for hyperparameter tuning"
   ]
  },
  {
   "cell_type": "code",
   "execution_count": 28,
   "metadata": {},
   "outputs": [],
   "source": [
    "covid_train = pd.DataFrame(y_train).join(X_train_res)\n",
    "covid_train\n",
    "covid_train.to_csv('./data/covid_train.csv',header=False, index = False) #covid_train and covid_test will be used for sagemaker input data in AWS"
   ]
  },
  {
   "cell_type": "code",
   "execution_count": 29,
   "metadata": {},
   "outputs": [],
   "source": [
    "covid_test = pd.DataFrame(y_valid).join(X_valid_res)\n",
    "covid_test\n",
    "covid_test.to_csv('./data/covid_test.csv',header=False, index = False)  #covid_train and covid_test will be used for sagemaker input data in AWS"
   ]
  },
  {
   "cell_type": "code",
   "execution_count": null,
   "metadata": {},
   "outputs": [],
   "source": []
  },
  {
   "cell_type": "markdown",
   "metadata": {
    "scrolled": true
   },
   "source": [
    "### Model 1 = Logistic regression"
   ]
  },
  {
   "cell_type": "code",
   "execution_count": 30,
   "metadata": {
    "scrolled": true
   },
   "outputs": [
    {
     "name": "stderr",
     "output_type": "stream",
     "text": [
      "C:\\ProgramData\\Anaconda3\\lib\\site-packages\\sklearn\\utils\\deprecation.py:86: FutureWarning: Function safe_indexing is deprecated; safe_indexing is deprecated in version 0.22 and will be removed in version 0.24.\n",
      "  warnings.warn(msg, category=FutureWarning)\n"
     ]
    },
    {
     "data": {
      "text/plain": [
       "Pipeline(steps=[('ft',\n",
       "                 <__main__.FeatureTransformer object at 0x0000021A56C0AE48>),\n",
       "                ('smt', SMOTE(random_state=42)), ('rescale', MinMaxScaler()),\n",
       "                ('logr',\n",
       "                 LogisticRegression(C=1000, class_weight='balanced',\n",
       "                                    random_state=0, solver='newton-cg'))])"
      ]
     },
     "execution_count": 30,
     "metadata": {},
     "output_type": "execute_result"
    }
   ],
   "source": [
    "from sklearn.preprocessing import MinMaxScaler\n",
    "from imblearn.over_sampling import SMOTE\n",
    "from imblearn.pipeline import Pipeline\n",
    "from sklearn.linear_model import LogisticRegression\n",
    "\n",
    "steps = [('ft', FeatureTransformer()),\n",
    "         ('smt', SMOTE (random_state=42)),\n",
    "         ('rescale', MinMaxScaler()), \n",
    "         ('logr', LogisticRegression(C = 1000, random_state = 0, solver = 'newton-cg', class_weight = 'balanced')), ]\n",
    "model = Pipeline(steps)\n",
    "model.fit(X_train, y_train)"
   ]
  },
  {
   "cell_type": "code",
   "execution_count": 31,
   "metadata": {},
   "outputs": [
    {
     "data": {
      "text/plain": [
       "((143391,),\n",
       " (35848,),\n",
       " array([1, 0, 0, ..., 0, 0, 0], dtype=int64),\n",
       " array([0, 0, 0, ..., 0, 0, 0], dtype=int64))"
      ]
     },
     "execution_count": 31,
     "metadata": {},
     "output_type": "execute_result"
    }
   ],
   "source": [
    "y_train_pred = model.predict(X_train)\n",
    "\n",
    "y_valid_pred = model.predict(X_valid)\n",
    "\n",
    "y_train_pred.shape, y_valid_pred.shape, y_train_pred, y_valid_pred"
   ]
  },
  {
   "cell_type": "code",
   "execution_count": 32,
   "metadata": {},
   "outputs": [
    {
     "name": "stdout",
     "output_type": "stream",
     "text": [
      "y_train Accuracy Rate, which is calculated by accuracy_score() is: 0.887\n",
      "y_test Accuracy Rate, which is calculated by accuracy_score() is: 0.888\n"
     ]
    }
   ],
   "source": [
    "from sklearn.metrics import accuracy_score\n",
    "\n",
    "print (\"y_train Accuracy Rate, which is calculated by accuracy_score() is: %.3f\"%accuracy_score(y_train, y_train_pred) )\n",
    "print (\"y_test Accuracy Rate, which is calculated by accuracy_score() is: %.3f\"%accuracy_score(y_valid, y_valid_pred) )"
   ]
  },
  {
   "cell_type": "code",
   "execution_count": 33,
   "metadata": {},
   "outputs": [
    {
     "name": "stdout",
     "output_type": "stream",
     "text": [
      "              precision    recall  f1-score   support\n",
      "\n",
      "           0       1.00      0.89      0.94    136962\n",
      "           1       0.27      0.91      0.42      6429\n",
      "\n",
      "    accuracy                           0.89    143391\n",
      "   macro avg       0.63      0.90      0.68    143391\n",
      "weighted avg       0.96      0.89      0.91    143391\n",
      "\n"
     ]
    }
   ],
   "source": [
    "from sklearn.metrics import classification_report\n",
    "print(classification_report(y_train, y_train_pred,))"
   ]
  },
  {
   "cell_type": "code",
   "execution_count": 34,
   "metadata": {
    "scrolled": false
   },
   "outputs": [
    {
     "name": "stdout",
     "output_type": "stream",
     "text": [
      "              precision    recall  f1-score   support\n",
      "\n",
      "           0       1.00      0.89      0.94     34280\n",
      "           1       0.27      0.92      0.42      1568\n",
      "\n",
      "    accuracy                           0.89     35848\n",
      "   macro avg       0.63      0.90      0.68     35848\n",
      "weighted avg       0.96      0.89      0.92     35848\n",
      "\n"
     ]
    }
   ],
   "source": [
    "print(classification_report(y_valid, y_valid_pred,))"
   ]
  },
  {
   "cell_type": "code",
   "execution_count": 35,
   "metadata": {},
   "outputs": [
    {
     "data": {
      "text/plain": [
       "array([[121271,  15691],\n",
       "       [   579,   5850]], dtype=int64)"
      ]
     },
     "execution_count": 35,
     "metadata": {},
     "output_type": "execute_result"
    }
   ],
   "source": [
    "from sklearn.metrics import confusion_matrix\n",
    "cm = confusion_matrix(y_train, y_train_pred)\n",
    "cm"
   ]
  },
  {
   "cell_type": "code",
   "execution_count": 36,
   "metadata": {},
   "outputs": [
    {
     "data": {
      "text/plain": [
       "array([[30405,  3875],\n",
       "       [  132,  1436]], dtype=int64)"
      ]
     },
     "execution_count": 36,
     "metadata": {},
     "output_type": "execute_result"
    }
   ],
   "source": [
    "from sklearn.metrics import confusion_matrix\n",
    "cm = confusion_matrix(y_valid, y_valid_pred)\n",
    "cm"
   ]
  },
  {
   "cell_type": "code",
   "execution_count": 37,
   "metadata": {},
   "outputs": [
    {
     "name": "stdout",
     "output_type": "stream",
     "text": [
      "train roc_auc_scores: 0.8976873568066263\n",
      "valid roc_auc_scores:  0.9013883266258662\n"
     ]
    }
   ],
   "source": [
    "# ROC AUC\n",
    "\n",
    "from sklearn.metrics import roc_auc_score\n",
    "print('train roc_auc_scores:', roc_auc_score(y_train, y_train_pred, average='macro', ) )\n",
    "print('valid roc_auc_scores: ', roc_auc_score(y_valid, y_valid_pred, average='macro', ) )"
   ]
  },
  {
   "cell_type": "code",
   "execution_count": null,
   "metadata": {},
   "outputs": [],
   "source": []
  },
  {
   "cell_type": "markdown",
   "metadata": {},
   "source": [
    "### Model 2 = Random forest"
   ]
  },
  {
   "cell_type": "code",
   "execution_count": 38,
   "metadata": {},
   "outputs": [
    {
     "name": "stderr",
     "output_type": "stream",
     "text": [
      "C:\\ProgramData\\Anaconda3\\lib\\site-packages\\sklearn\\utils\\deprecation.py:86: FutureWarning: Function safe_indexing is deprecated; safe_indexing is deprecated in version 0.22 and will be removed in version 0.24.\n",
      "  warnings.warn(msg, category=FutureWarning)\n"
     ]
    },
    {
     "data": {
      "text/plain": [
       "Pipeline(steps=[('ft',\n",
       "                 <__main__.FeatureTransformer object at 0x0000021A5688A608>),\n",
       "                ('smt', SMOTE(random_state=42)), ('rescale', MinMaxScaler()),\n",
       "                ('rf',\n",
       "                 RandomForestClassifier(criterion='entropy',\n",
       "                                        max_features='sqrt', n_estimators=1000,\n",
       "                                        random_state=0))])"
      ]
     },
     "execution_count": 38,
     "metadata": {},
     "output_type": "execute_result"
    }
   ],
   "source": [
    "from sklearn.ensemble import RandomForestClassifier\n",
    "from sklearn.preprocessing import MinMaxScaler\n",
    "from imblearn.over_sampling import SMOTE\n",
    "from imblearn.pipeline import Pipeline\n",
    "\n",
    "steps = [('ft', FeatureTransformer()),\n",
    "         ('smt', SMOTE (random_state=42)),\n",
    "         ('rescale', MinMaxScaler()),  \n",
    "         ('rf', RandomForestClassifier(n_estimators = 1000, max_features = 'sqrt', criterion = 'entropy', random_state = 0)), ]\n",
    "model = Pipeline(steps)\n",
    "model.fit(X_train, y_train)"
   ]
  },
  {
   "cell_type": "code",
   "execution_count": 39,
   "metadata": {},
   "outputs": [
    {
     "name": "stdout",
     "output_type": "stream",
     "text": [
      "y_train Accuracy Rate, which is calculated by accuracy_score() is: 0.994\n",
      "y_test Accuracy Rate, which is calculated by accuracy_score() is: 0.959\n",
      "              precision    recall  f1-score   support\n",
      "\n",
      "           0       1.00      1.00      1.00    136962\n",
      "           1       0.94      0.92      0.93      6429\n",
      "\n",
      "    accuracy                           0.99    143391\n",
      "   macro avg       0.97      0.96      0.96    143391\n",
      "weighted avg       0.99      0.99      0.99    143391\n",
      "\n",
      "              precision    recall  f1-score   support\n",
      "\n",
      "           0       0.98      0.98      0.98     34280\n",
      "           1       0.53      0.46      0.49      1568\n",
      "\n",
      "    accuracy                           0.96     35848\n",
      "   macro avg       0.75      0.72      0.74     35848\n",
      "weighted avg       0.96      0.96      0.96     35848\n",
      "\n"
     ]
    }
   ],
   "source": [
    "y_train_pred = model.predict(X_train)\n",
    "\n",
    "y_valid_pred = model.predict(X_valid)\n",
    "\n",
    "# y_train_pred.shape, y_valid_pred.shape, y_train_pred, y_valid_pred\n",
    "\n",
    "from sklearn.metrics import accuracy_score\n",
    "\n",
    "print (\"y_train Accuracy Rate, which is calculated by accuracy_score() is: %.3f\"%accuracy_score(y_train, y_train_pred) )\n",
    "print (\"y_test Accuracy Rate, which is calculated by accuracy_score() is: %.3f\"%accuracy_score(y_valid, y_valid_pred) )\n",
    "\n",
    "from sklearn.metrics import classification_report\n",
    "print(classification_report(y_train, y_train_pred,))\n",
    "\n",
    "print(classification_report(y_valid, y_valid_pred,))"
   ]
  },
  {
   "cell_type": "code",
   "execution_count": 40,
   "metadata": {},
   "outputs": [
    {
     "data": {
      "text/plain": [
       "array([[136572,    390],\n",
       "       [   513,   5916]], dtype=int64)"
      ]
     },
     "execution_count": 40,
     "metadata": {},
     "output_type": "execute_result"
    }
   ],
   "source": [
    "from sklearn.metrics import confusion_matrix\n",
    "cm = confusion_matrix(y_train, y_train_pred)\n",
    "cm"
   ]
  },
  {
   "cell_type": "code",
   "execution_count": 41,
   "metadata": {},
   "outputs": [
    {
     "data": {
      "text/plain": [
       "array([[33654,   626],\n",
       "       [  851,   717]], dtype=int64)"
      ]
     },
     "execution_count": 41,
     "metadata": {},
     "output_type": "execute_result"
    }
   ],
   "source": [
    "from sklearn.metrics import confusion_matrix\n",
    "cm = confusion_matrix(y_valid, y_valid_pred)\n",
    "cm"
   ]
  },
  {
   "cell_type": "code",
   "execution_count": 42,
   "metadata": {},
   "outputs": [
    {
     "name": "stdout",
     "output_type": "stream",
     "text": [
      "train roc_auc_scores: 0.958678907248972\n",
      "valid roc_auc_scores:  0.719504515633558\n"
     ]
    }
   ],
   "source": [
    "# ROC AUC\n",
    "\n",
    "from sklearn.metrics import roc_auc_score\n",
    "print('train roc_auc_scores:', roc_auc_score(y_train, y_train_pred, average='macro', ) )\n",
    "print('valid roc_auc_scores: ', roc_auc_score(y_valid, y_valid_pred, average='macro', ) )"
   ]
  },
  {
   "cell_type": "code",
   "execution_count": null,
   "metadata": {},
   "outputs": [],
   "source": []
  },
  {
   "cell_type": "markdown",
   "metadata": {},
   "source": [
    "### Model 3 = SVM"
   ]
  },
  {
   "cell_type": "code",
   "execution_count": 43,
   "metadata": {},
   "outputs": [
    {
     "name": "stderr",
     "output_type": "stream",
     "text": [
      "C:\\ProgramData\\Anaconda3\\lib\\site-packages\\sklearn\\utils\\deprecation.py:86: FutureWarning: Function safe_indexing is deprecated; safe_indexing is deprecated in version 0.22 and will be removed in version 0.24.\n",
      "  warnings.warn(msg, category=FutureWarning)\n"
     ]
    },
    {
     "data": {
      "text/plain": [
       "Pipeline(steps=[('ft',\n",
       "                 <__main__.FeatureTransformer object at 0x0000021A004917C8>),\n",
       "                ('smt', SMOTE(random_state=42)), ('rescale', MinMaxScaler()),\n",
       "                ('svc', SVC(random_state=0))])"
      ]
     },
     "execution_count": 43,
     "metadata": {},
     "output_type": "execute_result"
    }
   ],
   "source": [
    "from sklearn import svm\n",
    "from sklearn.preprocessing import MinMaxScaler\n",
    "from imblearn.over_sampling import SMOTE\n",
    "from imblearn.pipeline import Pipeline\n",
    "\n",
    "steps = [('ft', FeatureTransformer()),\n",
    "         ('smt', SMOTE (random_state=42)),\n",
    "         ('rescale', MinMaxScaler()),  \n",
    "         ('svc', svm.SVC(random_state = 0)), ]\n",
    "model = Pipeline(steps)\n",
    "model.fit(X_train, y_train)"
   ]
  },
  {
   "cell_type": "code",
   "execution_count": 44,
   "metadata": {},
   "outputs": [
    {
     "name": "stdout",
     "output_type": "stream",
     "text": [
      "y_train Accuracy Rate, which is calculated by accuracy_score() is: 0.813\n",
      "y_test Accuracy Rate, which is calculated by accuracy_score() is: 0.814\n",
      "              precision    recall  f1-score   support\n",
      "\n",
      "           0       0.99      0.81      0.89    136962\n",
      "           1       0.18      0.88      0.30      6429\n",
      "\n",
      "    accuracy                           0.81    143391\n",
      "   macro avg       0.59      0.85      0.59    143391\n",
      "weighted avg       0.96      0.81      0.87    143391\n",
      "\n",
      "              precision    recall  f1-score   support\n",
      "\n",
      "           0       0.99      0.81      0.89     34280\n",
      "           1       0.18      0.88      0.29      1568\n",
      "\n",
      "    accuracy                           0.81     35848\n",
      "   macro avg       0.58      0.84      0.59     35848\n",
      "weighted avg       0.96      0.81      0.87     35848\n",
      "\n"
     ]
    }
   ],
   "source": [
    "y_train_pred = model.predict(X_train)\n",
    "\n",
    "y_valid_pred = model.predict(X_valid)\n",
    "\n",
    "# y_train_pred.shape, y_valid_pred.shape, y_train_pred, y_valid_pred\n",
    "\n",
    "from sklearn.metrics import accuracy_score\n",
    "\n",
    "print (\"y_train Accuracy Rate, which is calculated by accuracy_score() is: %.3f\"%accuracy_score(y_train, y_train_pred) )\n",
    "print (\"y_test Accuracy Rate, which is calculated by accuracy_score() is: %.3f\"%accuracy_score(y_valid, y_valid_pred) )\n",
    "\n",
    "from sklearn.metrics import classification_report\n",
    "print(classification_report(y_train, y_train_pred,))\n",
    "\n",
    "print(classification_report(y_valid, y_valid_pred,))"
   ]
  },
  {
   "cell_type": "code",
   "execution_count": 45,
   "metadata": {},
   "outputs": [
    {
     "data": {
      "text/plain": [
       "array([[110962,  26000],\n",
       "       [   767,   5662]], dtype=int64)"
      ]
     },
     "execution_count": 45,
     "metadata": {},
     "output_type": "execute_result"
    }
   ],
   "source": [
    "from sklearn.metrics import confusion_matrix\n",
    "cm = confusion_matrix(y_train, y_train_pred)\n",
    "cm"
   ]
  },
  {
   "cell_type": "code",
   "execution_count": 46,
   "metadata": {},
   "outputs": [
    {
     "data": {
      "text/plain": [
       "array([[27817,  6463],\n",
       "       [  194,  1374]], dtype=int64)"
      ]
     },
     "execution_count": 46,
     "metadata": {},
     "output_type": "execute_result"
    }
   ],
   "source": [
    "from sklearn.metrics import confusion_matrix\n",
    "cm = confusion_matrix(y_valid, y_valid_pred)\n",
    "cm"
   ]
  },
  {
   "cell_type": "code",
   "execution_count": 47,
   "metadata": {},
   "outputs": [
    {
     "name": "stdout",
     "output_type": "stream",
     "text": [
      "train roc_auc_scores: 0.8454315829692582\n",
      "valid roc_auc_scores:  0.8438699604696022\n"
     ]
    }
   ],
   "source": [
    "# ROC AUC\n",
    "\n",
    "from sklearn.metrics import roc_auc_score\n",
    "print('train roc_auc_scores:', roc_auc_score(y_train, y_train_pred, average='macro', ) )\n",
    "print('valid roc_auc_scores: ', roc_auc_score(y_valid, y_valid_pred, average='macro', ) )"
   ]
  },
  {
   "cell_type": "code",
   "execution_count": null,
   "metadata": {},
   "outputs": [],
   "source": []
  },
  {
   "cell_type": "markdown",
   "metadata": {},
   "source": [
    "### Model 4 = KNN"
   ]
  },
  {
   "cell_type": "code",
   "execution_count": 48,
   "metadata": {},
   "outputs": [
    {
     "name": "stderr",
     "output_type": "stream",
     "text": [
      "C:\\ProgramData\\Anaconda3\\lib\\site-packages\\sklearn\\utils\\deprecation.py:86: FutureWarning: Function safe_indexing is deprecated; safe_indexing is deprecated in version 0.22 and will be removed in version 0.24.\n",
      "  warnings.warn(msg, category=FutureWarning)\n"
     ]
    },
    {
     "data": {
      "text/plain": [
       "Pipeline(steps=[('ft',\n",
       "                 <__main__.FeatureTransformer object at 0x0000021A585E7248>),\n",
       "                ('smt', SMOTE(random_state=42)), ('rescale', MinMaxScaler()),\n",
       "                ('knn', KNeighborsClassifier(n_neighbors=3))])"
      ]
     },
     "execution_count": 48,
     "metadata": {},
     "output_type": "execute_result"
    }
   ],
   "source": [
    "from sklearn.neighbors import KNeighborsClassifier\n",
    "from sklearn import svm\n",
    "from sklearn.preprocessing import MinMaxScaler\n",
    "from imblearn.over_sampling import SMOTE\n",
    "from imblearn.pipeline import Pipeline\n",
    "\n",
    "steps = [('ft', FeatureTransformer()),\n",
    "         ('smt', SMOTE (random_state=42)),\n",
    "         ('rescale', MinMaxScaler()),  \n",
    "         ('knn', KNeighborsClassifier(n_neighbors=3)), ]\n",
    "model = Pipeline(steps)\n",
    "model.fit(X_train, y_train)"
   ]
  },
  {
   "cell_type": "code",
   "execution_count": 49,
   "metadata": {},
   "outputs": [
    {
     "name": "stdout",
     "output_type": "stream",
     "text": [
      "y_train Accuracy Rate, which is calculated by accuracy_score() is: 0.974\n",
      "y_test Accuracy Rate, which is calculated by accuracy_score() is: 0.953\n",
      "              precision    recall  f1-score   support\n",
      "\n",
      "           0       0.99      0.99      0.99    136962\n",
      "           1       0.72      0.69      0.71      6429\n",
      "\n",
      "    accuracy                           0.97    143391\n",
      "   macro avg       0.85      0.84      0.85    143391\n",
      "weighted avg       0.97      0.97      0.97    143391\n",
      "\n",
      "              precision    recall  f1-score   support\n",
      "\n",
      "           0       0.97      0.98      0.98     34280\n",
      "           1       0.46      0.42      0.44      1568\n",
      "\n",
      "    accuracy                           0.95     35848\n",
      "   macro avg       0.72      0.70      0.71     35848\n",
      "weighted avg       0.95      0.95      0.95     35848\n",
      "\n"
     ]
    }
   ],
   "source": [
    "y_train_pred = model.predict(X_train)\n",
    "\n",
    "y_valid_pred = model.predict(X_valid)\n",
    "\n",
    "# y_train_pred.shape, y_valid_pred.shape, y_train_pred, y_valid_pred\n",
    "\n",
    "from sklearn.metrics import accuracy_score\n",
    "\n",
    "print (\"y_train Accuracy Rate, which is calculated by accuracy_score() is: %.3f\"%accuracy_score(y_train, y_train_pred) )\n",
    "print (\"y_test Accuracy Rate, which is calculated by accuracy_score() is: %.3f\"%accuracy_score(y_valid, y_valid_pred) )\n",
    "\n",
    "from sklearn.metrics import classification_report\n",
    "print(classification_report(y_train, y_train_pred,))\n",
    "\n",
    "print(classification_report(y_valid, y_valid_pred,))"
   ]
  },
  {
   "cell_type": "code",
   "execution_count": 50,
   "metadata": {},
   "outputs": [
    {
     "data": {
      "text/plain": [
       "array([[135252,   1710],\n",
       "       [  1992,   4437]], dtype=int64)"
      ]
     },
     "execution_count": 50,
     "metadata": {},
     "output_type": "execute_result"
    }
   ],
   "source": [
    "from sklearn.metrics import confusion_matrix\n",
    "cm = confusion_matrix(y_train, y_train_pred)\n",
    "cm"
   ]
  },
  {
   "cell_type": "code",
   "execution_count": 51,
   "metadata": {},
   "outputs": [
    {
     "data": {
      "text/plain": [
       "array([[33505,   775],\n",
       "       [  903,   665]], dtype=int64)"
      ]
     },
     "execution_count": 51,
     "metadata": {},
     "output_type": "execute_result"
    }
   ],
   "source": [
    "from sklearn.metrics import confusion_matrix\n",
    "cm = confusion_matrix(y_valid, y_valid_pred)\n",
    "cm"
   ]
  },
  {
   "cell_type": "code",
   "execution_count": 52,
   "metadata": {},
   "outputs": [
    {
     "name": "stdout",
     "output_type": "stream",
     "text": [
      "train roc_auc_scores: 0.8388343874284494\n",
      "valid roc_auc_scores:  0.7007496041006834\n"
     ]
    }
   ],
   "source": [
    "# ROC AUC\n",
    "\n",
    "from sklearn.metrics import roc_auc_score\n",
    "print('train roc_auc_scores:', roc_auc_score(y_train, y_train_pred, average='macro', ) )\n",
    "print('valid roc_auc_scores: ', roc_auc_score(y_valid, y_valid_pred, average='macro', ) )"
   ]
  },
  {
   "cell_type": "code",
   "execution_count": null,
   "metadata": {},
   "outputs": [],
   "source": []
  },
  {
   "cell_type": "markdown",
   "metadata": {},
   "source": [
    "### Model 5 = XGBOOST"
   ]
  },
  {
   "cell_type": "code",
   "execution_count": 53,
   "metadata": {},
   "outputs": [
    {
     "name": "stderr",
     "output_type": "stream",
     "text": [
      "C:\\ProgramData\\Anaconda3\\lib\\site-packages\\sklearn\\utils\\deprecation.py:86: FutureWarning: Function safe_indexing is deprecated; safe_indexing is deprecated in version 0.22 and will be removed in version 0.24.\n",
      "  warnings.warn(msg, category=FutureWarning)\n"
     ]
    },
    {
     "data": {
      "text/plain": [
       "Pipeline(steps=[('ft',\n",
       "                 <__main__.FeatureTransformer object at 0x0000021A3C64CCC8>),\n",
       "                ('smt', SMOTE(random_state=42)), ('rescale', MinMaxScaler()),\n",
       "                ('xgb',\n",
       "                 XGBClassifier(eval_metric='auc', num_classes=2, num_round=10,\n",
       "                               scale_pos_weight=24))])"
      ]
     },
     "execution_count": 53,
     "metadata": {},
     "output_type": "execute_result"
    }
   ],
   "source": [
    "from xgboost import XGBClassifier\n",
    "from sklearn.preprocessing import MinMaxScaler\n",
    "from imblearn.over_sampling import SMOTE\n",
    "from imblearn.pipeline import Pipeline\n",
    "\n",
    "steps = [('ft', FeatureTransformer()),\n",
    "         ('smt', SMOTE (random_state=42)),\n",
    "         ('rescale', MinMaxScaler()),  \n",
    "         ('xgb', XGBClassifier(scale_pos_weight=24,random_state = 0, num_round = 10, objective = 'binary:logistic', \n",
    "                               num_classes = 2, eval_metric = 'auc')), ]\n",
    "model = Pipeline(steps)\n",
    "model.fit(X_train, y_train)"
   ]
  },
  {
   "cell_type": "code",
   "execution_count": 54,
   "metadata": {},
   "outputs": [
    {
     "name": "stdout",
     "output_type": "stream",
     "text": [
      "y_train Accuracy Rate, which is calculated by accuracy_score() is: 0.759\n",
      "y_test Accuracy Rate, which is calculated by accuracy_score() is: 0.760\n",
      "              precision    recall  f1-score   support\n",
      "\n",
      "           0       1.00      0.75      0.86    136962\n",
      "           1       0.15      0.98      0.27      6429\n",
      "\n",
      "    accuracy                           0.76    143391\n",
      "   macro avg       0.58      0.87      0.56    143391\n",
      "weighted avg       0.96      0.76      0.83    143391\n",
      "\n",
      "              precision    recall  f1-score   support\n",
      "\n",
      "           0       1.00      0.75      0.86     34280\n",
      "           1       0.15      0.98      0.26      1568\n",
      "\n",
      "    accuracy                           0.76     35848\n",
      "   macro avg       0.58      0.87      0.56     35848\n",
      "weighted avg       0.96      0.76      0.83     35848\n",
      "\n"
     ]
    }
   ],
   "source": [
    "y_train_pred = model.predict(X_train)\n",
    "\n",
    "y_valid_pred = model.predict(X_valid)\n",
    "\n",
    "# y_train_pred.shape, y_valid_pred.shape, y_train_pred, y_valid_pred\n",
    "\n",
    "from sklearn.metrics import accuracy_score\n",
    "\n",
    "print (\"y_train Accuracy Rate, which is calculated by accuracy_score() is: %.3f\"%accuracy_score(y_train, y_train_pred) )\n",
    "print (\"y_test Accuracy Rate, which is calculated by accuracy_score() is: %.3f\"%accuracy_score(y_valid, y_valid_pred) )\n",
    "\n",
    "from sklearn.metrics import classification_report\n",
    "print(classification_report(y_train, y_train_pred,))\n",
    "\n",
    "print(classification_report(y_valid, y_valid_pred,))"
   ]
  },
  {
   "cell_type": "code",
   "execution_count": 55,
   "metadata": {},
   "outputs": [
    {
     "data": {
      "text/plain": [
       "array([[102528,  34434],\n",
       "       [   116,   6313]], dtype=int64)"
      ]
     },
     "execution_count": 55,
     "metadata": {},
     "output_type": "execute_result"
    }
   ],
   "source": [
    "from sklearn.metrics import confusion_matrix\n",
    "cm = confusion_matrix(y_train, y_train_pred)\n",
    "cm"
   ]
  },
  {
   "cell_type": "code",
   "execution_count": 56,
   "metadata": {},
   "outputs": [
    {
     "data": {
      "text/plain": [
       "array([[25708,  8572],\n",
       "       [   28,  1540]], dtype=int64)"
      ]
     },
     "execution_count": 56,
     "metadata": {},
     "output_type": "execute_result"
    }
   ],
   "source": [
    "from sklearn.metrics import confusion_matrix\n",
    "cm = confusion_matrix(y_valid, y_valid_pred)\n",
    "cm"
   ]
  },
  {
   "cell_type": "code",
   "execution_count": 57,
   "metadata": {},
   "outputs": [
    {
     "name": "stdout",
     "output_type": "stream",
     "text": [
      "train roc_auc_scores: 0.8652719789037471\n",
      "valid roc_auc_scores:  0.8660422570428405\n"
     ]
    }
   ],
   "source": [
    "# ROC AUC\n",
    "\n",
    "from sklearn.metrics import roc_auc_score\n",
    "print('train roc_auc_scores:', roc_auc_score(y_train, y_train_pred, average='macro', ) )\n",
    "print('valid roc_auc_scores: ', roc_auc_score(y_valid, y_valid_pred, average='macro', ) )"
   ]
  },
  {
   "cell_type": "code",
   "execution_count": null,
   "metadata": {},
   "outputs": [],
   "source": []
  },
  {
   "cell_type": "markdown",
   "metadata": {},
   "source": [
    "### Model 6 = xgboost without SMOTE/MINMAX scaler"
   ]
  },
  {
   "cell_type": "code",
   "execution_count": 58,
   "metadata": {},
   "outputs": [
    {
     "name": "stdout",
     "output_type": "stream",
     "text": [
      "y_train Accuracy Rate, which is calculated by accuracy_score() is: 0.879\n",
      "y_test Accuracy Rate, which is calculated by accuracy_score() is: 0.882\n",
      "              precision    recall  f1-score   support\n",
      "\n",
      "           0       1.00      0.88      0.93    136962\n",
      "           1       0.26      0.93      0.41      6429\n",
      "\n",
      "    accuracy                           0.88    143391\n",
      "   macro avg       0.63      0.91      0.67    143391\n",
      "weighted avg       0.96      0.88      0.91    143391\n",
      "\n",
      "              precision    recall  f1-score   support\n",
      "\n",
      "           0       1.00      0.88      0.93     34280\n",
      "           1       0.26      0.94      0.41      1568\n",
      "\n",
      "    accuracy                           0.88     35848\n",
      "   macro avg       0.63      0.91      0.67     35848\n",
      "weighted avg       0.96      0.88      0.91     35848\n",
      "\n"
     ]
    }
   ],
   "source": [
    "from xgboost import XGBClassifier\n",
    "from sklearn.pipeline import Pipeline\n",
    "\n",
    "steps = [('ft', FeatureTransformer()),\n",
    "         ('xgb', XGBClassifier(scale_pos_weight=24,random_state = 2019, num_round = 10, objective = 'binary:logistic', \n",
    "                               num_classes = 2, eval_metric = 'auc')), ]\n",
    "model = Pipeline(steps)\n",
    "model.fit(X_train, y_train)\n",
    "\n",
    "y_train_pred = model.predict(X_train)\n",
    "\n",
    "y_valid_pred = model.predict(X_valid)\n",
    "\n",
    "# y_train_pred.shape, y_valid_pred.shape, y_train_pred, y_valid_pred\n",
    "\n",
    "from sklearn.metrics import accuracy_score\n",
    "\n",
    "print (\"y_train Accuracy Rate, which is calculated by accuracy_score() is: %.3f\"%accuracy_score(y_train, y_train_pred) )\n",
    "print (\"y_test Accuracy Rate, which is calculated by accuracy_score() is: %.3f\"%accuracy_score(y_valid, y_valid_pred) )\n",
    "\n",
    "from sklearn.metrics import classification_report\n",
    "print(classification_report(y_train, y_train_pred,))\n",
    "\n",
    "print(classification_report(y_valid, y_valid_pred,))"
   ]
  },
  {
   "cell_type": "code",
   "execution_count": 59,
   "metadata": {},
   "outputs": [
    {
     "data": {
      "text/plain": [
       "array([[120035,  16927],\n",
       "       [   421,   6008]], dtype=int64)"
      ]
     },
     "execution_count": 59,
     "metadata": {},
     "output_type": "execute_result"
    }
   ],
   "source": [
    "from sklearn.metrics import confusion_matrix\n",
    "cm = confusion_matrix(y_train, y_train_pred)\n",
    "cm"
   ]
  },
  {
   "cell_type": "code",
   "execution_count": 60,
   "metadata": {},
   "outputs": [
    {
     "data": {
      "text/plain": [
       "array([[30131,  4149],\n",
       "       [   97,  1471]], dtype=int64)"
      ]
     },
     "execution_count": 60,
     "metadata": {},
     "output_type": "execute_result"
    }
   ],
   "source": [
    "from sklearn.metrics import confusion_matrix\n",
    "cm = confusion_matrix(y_valid, y_valid_pred)\n",
    "cm"
   ]
  },
  {
   "cell_type": "code",
   "execution_count": 61,
   "metadata": {},
   "outputs": [
    {
     "name": "stdout",
     "output_type": "stream",
     "text": [
      "train roc_auc_scores: 0.9054632260265071\n",
      "valid roc_auc_scores:  0.9085525414950111\n"
     ]
    }
   ],
   "source": [
    "# ROC AUC\n",
    "\n",
    "from sklearn.metrics import roc_auc_score\n",
    "print('train roc_auc_scores:', roc_auc_score(y_train, y_train_pred, average='macro', ) )\n",
    "print('valid roc_auc_scores: ', roc_auc_score(y_valid, y_valid_pred, average='macro', ) )"
   ]
  },
  {
   "cell_type": "code",
   "execution_count": null,
   "metadata": {},
   "outputs": [],
   "source": []
  },
  {
   "cell_type": "markdown",
   "metadata": {},
   "source": [
    "## For summary of above model analysis and results from Sagemaker, please see Readme.MD"
   ]
  },
  {
   "cell_type": "code",
   "execution_count": null,
   "metadata": {},
   "outputs": [],
   "source": []
  }
 ],
 "metadata": {
  "kernelspec": {
   "display_name": "Python 3",
   "language": "python",
   "name": "python3"
  },
  "language_info": {
   "codemirror_mode": {
    "name": "ipython",
    "version": 3
   },
   "file_extension": ".py",
   "mimetype": "text/x-python",
   "name": "python",
   "nbconvert_exporter": "python",
   "pygments_lexer": "ipython3",
   "version": "3.7.4"
  }
 },
 "nbformat": 4,
 "nbformat_minor": 2
}
