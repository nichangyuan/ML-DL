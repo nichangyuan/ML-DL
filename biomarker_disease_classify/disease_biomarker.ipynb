{
 "cells": [
  {
   "cell_type": "markdown",
   "metadata": {},
   "source": [
    "## Disease prediction from 15 thousand of biomarkers \n",
    "\n",
    "- This is simulated data\n",
    "- Read in data from 3 resources, process json file to have patient profile in a pandas dataframe, then, merge all 3 sources of data into one dataframe\n",
    "- Feature selection and feature engineering including data imputation, use **DictVectiverizer** to transform character columns into numeric features\n",
    "- Model exploration to establish machine learning model\n",
    "- Further feature selection based on **Feature Importance**\n",
    "- Use pipeline to build multiple models to find the best performing classification model and establish the model with optimized hyperparameters"
   ]
  },
  {
   "cell_type": "code",
   "execution_count": null,
   "metadata": {},
   "outputs": [],
   "source": []
  },
  {
   "cell_type": "markdown",
   "metadata": {},
   "source": [
    "### 1. Pre-model Analysis: process and get insights of features and target."
   ]
  },
  {
   "cell_type": "code",
   "execution_count": 1,
   "metadata": {},
   "outputs": [
    {
     "data": {
      "text/html": [
       "<style>.container {width:80% !important;}</style>"
      ],
      "text/plain": [
       "<IPython.core.display.HTML object>"
      ]
     },
     "metadata": {},
     "output_type": "display_data"
    }
   ],
   "source": [
    "from IPython.core.display import display, HTML\n",
    "display(HTML(\"<style>.container {width:80% !important;}</style>\"))\n",
    "\n",
    "!jt -t grade3 -f  firacode  -fs 115  -of merriserif  -ofs 115 -tf firacode -tfs 120"
   ]
  },
  {
   "cell_type": "code",
   "execution_count": 2,
   "metadata": {},
   "outputs": [],
   "source": [
    "import pandas as pd\n",
    "import numpy as np\n",
    "import datetime as dt\n",
    "import matplotlib.pyplot as plt\n",
    "%matplotlib inline\n",
    "import seaborn as sns\n",
    "from sklearn.preprocessing import MinMaxScaler\n",
    "from sklearn.pipeline import Pipeline\n",
    "from sklearn.model_selection import RandomizedSearchCV\n",
    "from sklearn.model_selection import train_test_split"
   ]
  },
  {
   "cell_type": "code",
   "execution_count": 3,
   "metadata": {},
   "outputs": [],
   "source": [
    "pd.set_option('display.max_rows', 999)"
   ]
  },
  {
   "cell_type": "markdown",
   "metadata": {},
   "source": [
    "### 1.1 Working on biomarker data"
   ]
  },
  {
   "cell_type": "code",
   "execution_count": 4,
   "metadata": {},
   "outputs": [
    {
     "data": {
      "text/html": [
       "<div>\n",
       "<style scoped>\n",
       "    .dataframe tbody tr th:only-of-type {\n",
       "        vertical-align: middle;\n",
       "    }\n",
       "\n",
       "    .dataframe tbody tr th {\n",
       "        vertical-align: top;\n",
       "    }\n",
       "\n",
       "    .dataframe thead th {\n",
       "        text-align: right;\n",
       "    }\n",
       "</style>\n",
       "<table border=\"1\" class=\"dataframe\">\n",
       "  <thead>\n",
       "    <tr style=\"text-align: right;\">\n",
       "      <th></th>\n",
       "      <th>biomarker_id</th>\n",
       "      <th>BM00000</th>\n",
       "      <th>BM00001</th>\n",
       "      <th>BM00002</th>\n",
       "      <th>BM00003</th>\n",
       "      <th>BM00004</th>\n",
       "      <th>BM00005</th>\n",
       "      <th>BM00006</th>\n",
       "      <th>BM00007</th>\n",
       "      <th>BM00008</th>\n",
       "      <th>...</th>\n",
       "      <th>BM15147</th>\n",
       "      <th>BM15148</th>\n",
       "      <th>BM15149</th>\n",
       "      <th>BM15150</th>\n",
       "      <th>BM15151</th>\n",
       "      <th>BM15152</th>\n",
       "      <th>BM15153</th>\n",
       "      <th>BM15154</th>\n",
       "      <th>BM15155</th>\n",
       "      <th>BM15156</th>\n",
       "    </tr>\n",
       "  </thead>\n",
       "  <tbody>\n",
       "    <tr>\n",
       "      <td>0</td>\n",
       "      <td>100505de2</td>\n",
       "      <td>1</td>\n",
       "      <td>1</td>\n",
       "      <td>1</td>\n",
       "      <td>0</td>\n",
       "      <td>0</td>\n",
       "      <td>0</td>\n",
       "      <td>1</td>\n",
       "      <td>0</td>\n",
       "      <td>0</td>\n",
       "      <td>...</td>\n",
       "      <td>1</td>\n",
       "      <td>0</td>\n",
       "      <td>1</td>\n",
       "      <td>1</td>\n",
       "      <td>0</td>\n",
       "      <td>0</td>\n",
       "      <td>1</td>\n",
       "      <td>1.0</td>\n",
       "      <td>1</td>\n",
       "      <td>1</td>\n",
       "    </tr>\n",
       "    <tr>\n",
       "      <td>1</td>\n",
       "      <td>10075c5c2</td>\n",
       "      <td>1</td>\n",
       "      <td>1</td>\n",
       "      <td>1</td>\n",
       "      <td>0</td>\n",
       "      <td>0</td>\n",
       "      <td>0</td>\n",
       "      <td>1</td>\n",
       "      <td>0</td>\n",
       "      <td>1</td>\n",
       "      <td>...</td>\n",
       "      <td>1</td>\n",
       "      <td>0</td>\n",
       "      <td>0</td>\n",
       "      <td>0</td>\n",
       "      <td>0</td>\n",
       "      <td>0</td>\n",
       "      <td>1</td>\n",
       "      <td>NaN</td>\n",
       "      <td>1</td>\n",
       "      <td>1</td>\n",
       "    </tr>\n",
       "    <tr>\n",
       "      <td>2</td>\n",
       "      <td>10105cb22</td>\n",
       "      <td>1</td>\n",
       "      <td>1</td>\n",
       "      <td>1</td>\n",
       "      <td>0</td>\n",
       "      <td>0</td>\n",
       "      <td>0</td>\n",
       "      <td>1</td>\n",
       "      <td>0</td>\n",
       "      <td>1</td>\n",
       "      <td>...</td>\n",
       "      <td>1</td>\n",
       "      <td>0</td>\n",
       "      <td>0</td>\n",
       "      <td>0</td>\n",
       "      <td>0</td>\n",
       "      <td>0</td>\n",
       "      <td>1</td>\n",
       "      <td>NaN</td>\n",
       "      <td>1</td>\n",
       "      <td>1</td>\n",
       "    </tr>\n",
       "    <tr>\n",
       "      <td>3</td>\n",
       "      <td>101219d6e</td>\n",
       "      <td>1</td>\n",
       "      <td>0</td>\n",
       "      <td>1</td>\n",
       "      <td>0</td>\n",
       "      <td>0</td>\n",
       "      <td>0</td>\n",
       "      <td>0</td>\n",
       "      <td>0</td>\n",
       "      <td>1</td>\n",
       "      <td>...</td>\n",
       "      <td>1</td>\n",
       "      <td>0</td>\n",
       "      <td>0</td>\n",
       "      <td>0</td>\n",
       "      <td>0</td>\n",
       "      <td>0</td>\n",
       "      <td>1</td>\n",
       "      <td>1.0</td>\n",
       "      <td>1</td>\n",
       "      <td>1</td>\n",
       "    </tr>\n",
       "    <tr>\n",
       "      <td>4</td>\n",
       "      <td>10135ad45</td>\n",
       "      <td>1</td>\n",
       "      <td>0</td>\n",
       "      <td>1</td>\n",
       "      <td>0</td>\n",
       "      <td>1</td>\n",
       "      <td>0</td>\n",
       "      <td>1</td>\n",
       "      <td>0</td>\n",
       "      <td>1</td>\n",
       "      <td>...</td>\n",
       "      <td>1</td>\n",
       "      <td>0</td>\n",
       "      <td>1</td>\n",
       "      <td>0</td>\n",
       "      <td>0</td>\n",
       "      <td>0</td>\n",
       "      <td>1</td>\n",
       "      <td>1.0</td>\n",
       "      <td>1</td>\n",
       "      <td>1</td>\n",
       "    </tr>\n",
       "  </tbody>\n",
       "</table>\n",
       "<p>5 rows × 15158 columns</p>\n",
       "</div>"
      ],
      "text/plain": [
       "  biomarker_id  BM00000  BM00001  BM00002  BM00003  BM00004  BM00005  BM00006  \\\n",
       "0    100505de2        1        1        1        0        0        0        1   \n",
       "1    10075c5c2        1        1        1        0        0        0        1   \n",
       "2    10105cb22        1        1        1        0        0        0        1   \n",
       "3    101219d6e        1        0        1        0        0        0        0   \n",
       "4    10135ad45        1        0        1        0        1        0        1   \n",
       "\n",
       "   BM00007  BM00008  ...  BM15147  BM15148  BM15149  BM15150  BM15151  \\\n",
       "0        0        0  ...        1        0        1        1        0   \n",
       "1        0        1  ...        1        0        0        0        0   \n",
       "2        0        1  ...        1        0        0        0        0   \n",
       "3        0        1  ...        1        0        0        0        0   \n",
       "4        0        1  ...        1        0        1        0        0   \n",
       "\n",
       "   BM15152  BM15153  BM15154  BM15155  BM15156  \n",
       "0        0        1      1.0        1        1  \n",
       "1        0        1      NaN        1        1  \n",
       "2        0        1      NaN        1        1  \n",
       "3        0        1      1.0        1        1  \n",
       "4        0        1      1.0        1        1  \n",
       "\n",
       "[5 rows x 15158 columns]"
      ]
     },
     "execution_count": 4,
     "metadata": {},
     "output_type": "execute_result"
    }
   ],
   "source": [
    "bio = pd.read_csv('./data/biomarkers.csv', low_memory=False,)\n",
    "bio.head()"
   ]
  },
  {
   "cell_type": "code",
   "execution_count": 5,
   "metadata": {},
   "outputs": [
    {
     "name": "stdout",
     "output_type": "stream",
     "text": [
      "<class 'pandas.core.frame.DataFrame'>\n",
      "RangeIndex: 1960 entries, 0 to 1959\n",
      "Columns: 15158 entries, biomarker_id to BM15156\n",
      "dtypes: float64(46), int64(15111), object(1)\n",
      "memory usage: 226.7+ MB\n"
     ]
    }
   ],
   "source": [
    "bio.info()"
   ]
  },
  {
   "cell_type": "code",
   "execution_count": 6,
   "metadata": {},
   "outputs": [],
   "source": [
    "# check how many columns have missing values and how many missings ewach\n",
    "BioMiss = []\n",
    "for i in bio.columns:\n",
    "    if bio[i].isnull().sum() >1:\n",
    "        BioMiss.append(i+':'+str(bio[i].isnull().sum()))\n",
    "# BioMiss, len(BioMiss)        "
   ]
  },
  {
   "cell_type": "code",
   "execution_count": 7,
   "metadata": {},
   "outputs": [],
   "source": [
    "# there are 46 columns each has 772 values missing (out of 1960 rows), so will drop these 46 columns\n",
    "\n",
    "bio.dropna(axis='columns', inplace=True)   "
   ]
  },
  {
   "cell_type": "code",
   "execution_count": 8,
   "metadata": {},
   "outputs": [],
   "source": [
    "# check how many columns have all 0 values and how many missings ewach\n",
    "Zero = []\n",
    "L = bio.columns.to_list()\n",
    "L.remove('biomarker_id')\n",
    "for i in L:\n",
    "    if bio[i].sum() == 0:\n",
    "        Zero.append(i)\n",
    "# Zero, len(Zero) "
   ]
  },
  {
   "cell_type": "code",
   "execution_count": 9,
   "metadata": {},
   "outputs": [],
   "source": [
    "# there are 157 columns having all 0 values, so will drop these 157 columns\n",
    "\n",
    "bio.drop(Zero, axis='columns', inplace=True)  "
   ]
  },
  {
   "cell_type": "code",
   "execution_count": 10,
   "metadata": {},
   "outputs": [
    {
     "name": "stdout",
     "output_type": "stream",
     "text": [
      "<class 'pandas.core.frame.DataFrame'>\n",
      "RangeIndex: 1960 entries, 0 to 1959\n",
      "Columns: 14955 entries, biomarker_id to BM15156\n",
      "dtypes: int64(14954), object(1)\n",
      "memory usage: 223.6+ MB\n"
     ]
    }
   ],
   "source": [
    "bio.info()"
   ]
  },
  {
   "cell_type": "code",
   "execution_count": null,
   "metadata": {},
   "outputs": [],
   "source": []
  },
  {
   "cell_type": "markdown",
   "metadata": {},
   "source": [
    "### 1.2 Working on target data"
   ]
  },
  {
   "cell_type": "code",
   "execution_count": 11,
   "metadata": {},
   "outputs": [
    {
     "data": {
      "text/html": [
       "<div>\n",
       "<style scoped>\n",
       "    .dataframe tbody tr th:only-of-type {\n",
       "        vertical-align: middle;\n",
       "    }\n",
       "\n",
       "    .dataframe tbody tr th {\n",
       "        vertical-align: top;\n",
       "    }\n",
       "\n",
       "    .dataframe thead th {\n",
       "        text-align: right;\n",
       "    }\n",
       "</style>\n",
       "<table border=\"1\" class=\"dataframe\">\n",
       "  <thead>\n",
       "    <tr style=\"text-align: right;\">\n",
       "      <th></th>\n",
       "      <th>patient_id</th>\n",
       "      <th>biomarker_id</th>\n",
       "      <th>target_label</th>\n",
       "    </tr>\n",
       "  </thead>\n",
       "  <tbody>\n",
       "    <tr>\n",
       "      <td>0</td>\n",
       "      <td>1002df1d3</td>\n",
       "      <td>89c43bb4</td>\n",
       "      <td>0</td>\n",
       "    </tr>\n",
       "    <tr>\n",
       "      <td>1</td>\n",
       "      <td>1010441f</td>\n",
       "      <td>3ae31327</td>\n",
       "      <td>0</td>\n",
       "    </tr>\n",
       "    <tr>\n",
       "      <td>2</td>\n",
       "      <td>101eb6af1</td>\n",
       "      <td>1d8f7bab9</td>\n",
       "      <td>0</td>\n",
       "    </tr>\n",
       "    <tr>\n",
       "      <td>3</td>\n",
       "      <td>10204394e</td>\n",
       "      <td>129ee8c6c</td>\n",
       "      <td>0</td>\n",
       "    </tr>\n",
       "    <tr>\n",
       "      <td>4</td>\n",
       "      <td>1021d329b</td>\n",
       "      <td>1b44145bd</td>\n",
       "      <td>0</td>\n",
       "    </tr>\n",
       "  </tbody>\n",
       "</table>\n",
       "</div>"
      ],
      "text/plain": [
       "  patient_id biomarker_id  target_label\n",
       "0  1002df1d3     89c43bb4             0\n",
       "1   1010441f     3ae31327             0\n",
       "2  101eb6af1    1d8f7bab9             0\n",
       "3  10204394e    129ee8c6c             0\n",
       "4  1021d329b    1b44145bd             0"
      ]
     },
     "execution_count": 11,
     "metadata": {},
     "output_type": "execute_result"
    }
   ],
   "source": [
    "tar = pd.read_csv('./data/targets.csv', low_memory=False,)\n",
    "tar.head()"
   ]
  },
  {
   "cell_type": "code",
   "execution_count": 12,
   "metadata": {},
   "outputs": [
    {
     "name": "stdout",
     "output_type": "stream",
     "text": [
      "<class 'pandas.core.frame.DataFrame'>\n",
      "RangeIndex: 1734 entries, 0 to 1733\n",
      "Data columns (total 3 columns):\n",
      "patient_id      1734 non-null object\n",
      "biomarker_id    1734 non-null object\n",
      "target_label    1734 non-null int64\n",
      "dtypes: int64(1), object(2)\n",
      "memory usage: 40.8+ KB\n"
     ]
    }
   ],
   "source": [
    "tar.info()"
   ]
  },
  {
   "cell_type": "code",
   "execution_count": 13,
   "metadata": {},
   "outputs": [
    {
     "data": {
      "text/plain": [
       "0    1353\n",
       "1     381\n",
       "Name: target_label, dtype: int64"
      ]
     },
     "execution_count": 13,
     "metadata": {},
     "output_type": "execute_result"
    }
   ],
   "source": [
    "tar.target_label.value_counts()"
   ]
  },
  {
   "cell_type": "code",
   "execution_count": 14,
   "metadata": {},
   "outputs": [
    {
     "data": {
      "text/plain": [
       "<matplotlib.axes._subplots.AxesSubplot at 0x1b5b6200708>"
      ]
     },
     "execution_count": 14,
     "metadata": {},
     "output_type": "execute_result"
    },
    {
     "data": {
      "image/png": "[encoded data removed]",
      "text/plain": [
       "<Figure size 864x432 with 1 Axes>"
      ]
     },
     "metadata": {
      "needs_background": "light"
     },
     "output_type": "display_data"
    }
   ],
   "source": [
    "tar.target_label.value_counts(ascending=True).plot(kind='bar', figsize=(12,6))\n"
   ]
  },
  {
   "cell_type": "markdown",
   "metadata": {},
   "source": [
    "### 1.3 Working on patient profiles data"
   ]
  },
  {
   "cell_type": "code",
   "execution_count": 15,
   "metadata": {},
   "outputs": [],
   "source": [
    "import json\n",
    "\n",
    "with open('./data/patient_profiles.json') as f:\n",
    "  data = json.load(f)\n",
    "# print(data)"
   ]
  },
  {
   "cell_type": "code",
   "execution_count": 16,
   "metadata": {},
   "outputs": [],
   "source": [
    "# print(json.dumps(data, indent = 4, sort_keys=True))"
   ]
  },
  {
   "cell_type": "code",
   "execution_count": 17,
   "metadata": {},
   "outputs": [],
   "source": [
    "data1= pd.DataFrame(data)\n",
    "# data1.head()"
   ]
  },
  {
   "cell_type": "code",
   "execution_count": 18,
   "metadata": {},
   "outputs": [
    {
     "data": {
      "text/plain": [
       "'ff4c5607'"
      ]
     },
     "execution_count": 18,
     "metadata": {},
     "output_type": "execute_result"
    }
   ],
   "source": [
    "data1['patient_profiles'][0][256]['patient_id']\n",
    "# data1['patient_profiles'][0][0]['status']\n",
    "# data1['patient_profiles'][0][0]['status']['smoking_status']"
   ]
  },
  {
   "cell_type": "code",
   "execution_count": 19,
   "metadata": {},
   "outputs": [],
   "source": [
    "def flatten_json(nested_json):\n",
    "    \"\"\"\n",
    "        Flatten json object with nested keys into a single level.\n",
    "        Args:\n",
    "            nested_json: A nested json object.\n",
    "        Returns:\n",
    "            The flattened json object if successful, None otherwise.\n",
    "    \"\"\"\n",
    "    out = {}\n",
    "\n",
    "    def flatten(x, name=''):\n",
    "        if type(x) is dict:\n",
    "            for a in x:\n",
    "                flatten(x[a], name + a + '-')\n",
    "        elif type(x) is list:\n",
    "            i = 0\n",
    "            for a in x:\n",
    "                flatten(a, name + str(i) + '-')\n",
    "                i += 1\n",
    "        else:\n",
    "            out[name[:-1]] = x\n",
    "\n",
    "    flatten(nested_json)\n",
    "    return out"
   ]
  },
  {
   "cell_type": "code",
   "execution_count": 20,
   "metadata": {},
   "outputs": [],
   "source": [
    "pp = pd.Series(flatten_json(data), name = \"value\" ).to_frame()"
   ]
  },
  {
   "cell_type": "code",
   "execution_count": 21,
   "metadata": {},
   "outputs": [
    {
     "data": {
      "text/plain": [
       "7"
      ]
     },
     "execution_count": 21,
     "metadata": {},
     "output_type": "execute_result"
    }
   ],
   "source": [
    "len(data)"
   ]
  },
  {
   "cell_type": "code",
   "execution_count": 22,
   "metadata": {},
   "outputs": [
    {
     "data": {
      "text/html": [
       "<div>\n",
       "<style scoped>\n",
       "    .dataframe tbody tr th:only-of-type {\n",
       "        vertical-align: middle;\n",
       "    }\n",
       "\n",
       "    .dataframe tbody tr th {\n",
       "        vertical-align: top;\n",
       "    }\n",
       "\n",
       "    .dataframe thead th {\n",
       "        text-align: right;\n",
       "    }\n",
       "</style>\n",
       "<table border=\"1\" class=\"dataframe\">\n",
       "  <thead>\n",
       "    <tr style=\"text-align: right;\">\n",
       "      <th></th>\n",
       "      <th>value</th>\n",
       "    </tr>\n",
       "  </thead>\n",
       "  <tbody>\n",
       "    <tr>\n",
       "      <td>0-institution</td>\n",
       "      <td>Saint Penelope Medical Center</td>\n",
       "    </tr>\n",
       "    <tr>\n",
       "      <td>0-cohort_id</td>\n",
       "      <td>14562556998</td>\n",
       "    </tr>\n",
       "    <tr>\n",
       "      <td>0-patient_profiles-0-patient_id</td>\n",
       "      <td>102bb8fae</td>\n",
       "    </tr>\n",
       "    <tr>\n",
       "      <td>0-patient_profiles-0-demographics-gender</td>\n",
       "      <td>Female</td>\n",
       "    </tr>\n",
       "    <tr>\n",
       "      <td>0-patient_profiles-0-demographics-age</td>\n",
       "      <td>68</td>\n",
       "    </tr>\n",
       "    <tr>\n",
       "      <td>0-patient_profiles-0-status-disease_sub_type</td>\n",
       "      <td>A</td>\n",
       "    </tr>\n",
       "    <tr>\n",
       "      <td>0-patient_profiles-0-status-comorbidity_index</td>\n",
       "      <td>0</td>\n",
       "    </tr>\n",
       "    <tr>\n",
       "      <td>0-patient_profiles-0-status-cohort_qualifier</td>\n",
       "      <td>True</td>\n",
       "    </tr>\n",
       "    <tr>\n",
       "      <td>0-patient_profiles-0-status-smoking_status</td>\n",
       "      <td>never</td>\n",
       "    </tr>\n",
       "    <tr>\n",
       "      <td>0-patient_profiles-0-status-months_since_diagnosis</td>\n",
       "      <td>1</td>\n",
       "    </tr>\n",
       "    <tr>\n",
       "      <td>0-patient_profiles-1-patient_id</td>\n",
       "      <td>10e32947f</td>\n",
       "    </tr>\n",
       "    <tr>\n",
       "      <td>0-patient_profiles-1-demographics-gender</td>\n",
       "      <td>Female</td>\n",
       "    </tr>\n",
       "    <tr>\n",
       "      <td>0-patient_profiles-1-demographics-age</td>\n",
       "      <td>66</td>\n",
       "    </tr>\n",
       "    <tr>\n",
       "      <td>0-patient_profiles-1-demographics-race</td>\n",
       "      <td>White</td>\n",
       "    </tr>\n",
       "    <tr>\n",
       "      <td>0-patient_profiles-1-status-disease_sub_type</td>\n",
       "      <td>A</td>\n",
       "    </tr>\n",
       "    <tr>\n",
       "      <td>0-patient_profiles-1-status-comorbidity_index</td>\n",
       "      <td>None</td>\n",
       "    </tr>\n",
       "    <tr>\n",
       "      <td>0-patient_profiles-1-status-cohort_qualifier</td>\n",
       "      <td>True</td>\n",
       "    </tr>\n",
       "    <tr>\n",
       "      <td>0-patient_profiles-1-status-smoking_status</td>\n",
       "      <td>former</td>\n",
       "    </tr>\n",
       "    <tr>\n",
       "      <td>0-patient_profiles-1-status-months_since_diagnosis</td>\n",
       "      <td>0</td>\n",
       "    </tr>\n",
       "    <tr>\n",
       "      <td>0-patient_profiles-2-patient_id</td>\n",
       "      <td>11156e14a</td>\n",
       "    </tr>\n",
       "  </tbody>\n",
       "</table>\n",
       "</div>"
      ],
      "text/plain": [
       "                                                                            value\n",
       "0-institution                                       Saint Penelope Medical Center\n",
       "0-cohort_id                                                           14562556998\n",
       "0-patient_profiles-0-patient_id                                         102bb8fae\n",
       "0-patient_profiles-0-demographics-gender                                   Female\n",
       "0-patient_profiles-0-demographics-age                                          68\n",
       "0-patient_profiles-0-status-disease_sub_type                                    A\n",
       "0-patient_profiles-0-status-comorbidity_index                                   0\n",
       "0-patient_profiles-0-status-cohort_qualifier                                 True\n",
       "0-patient_profiles-0-status-smoking_status                                  never\n",
       "0-patient_profiles-0-status-months_since_diagnosis                              1\n",
       "0-patient_profiles-1-patient_id                                         10e32947f\n",
       "0-patient_profiles-1-demographics-gender                                   Female\n",
       "0-patient_profiles-1-demographics-age                                          66\n",
       "0-patient_profiles-1-demographics-race                                      White\n",
       "0-patient_profiles-1-status-disease_sub_type                                    A\n",
       "0-patient_profiles-1-status-comorbidity_index                                None\n",
       "0-patient_profiles-1-status-cohort_qualifier                                 True\n",
       "0-patient_profiles-1-status-smoking_status                                 former\n",
       "0-patient_profiles-1-status-months_since_diagnosis                              0\n",
       "0-patient_profiles-2-patient_id                                         11156e14a"
      ]
     },
     "execution_count": 22,
     "metadata": {},
     "output_type": "execute_result"
    }
   ],
   "source": [
    "pp.head(20)"
   ]
  },
  {
   "cell_type": "code",
   "execution_count": null,
   "metadata": {},
   "outputs": [],
   "source": []
  },
  {
   "cell_type": "code",
   "execution_count": 23,
   "metadata": {},
   "outputs": [],
   "source": [
    "pp.reset_index(inplace=True)"
   ]
  },
  {
   "cell_type": "code",
   "execution_count": 24,
   "metadata": {},
   "outputs": [],
   "source": [
    "pp.columns = ['name', 'value']"
   ]
  },
  {
   "cell_type": "code",
   "execution_count": 25,
   "metadata": {},
   "outputs": [
    {
     "data": {
      "text/html": [
       "<div>\n",
       "<style scoped>\n",
       "    .dataframe tbody tr th:only-of-type {\n",
       "        vertical-align: middle;\n",
       "    }\n",
       "\n",
       "    .dataframe tbody tr th {\n",
       "        vertical-align: top;\n",
       "    }\n",
       "\n",
       "    .dataframe thead th {\n",
       "        text-align: right;\n",
       "    }\n",
       "</style>\n",
       "<table border=\"1\" class=\"dataframe\">\n",
       "  <thead>\n",
       "    <tr style=\"text-align: right;\">\n",
       "      <th></th>\n",
       "      <th>name</th>\n",
       "      <th>value</th>\n",
       "    </tr>\n",
       "  </thead>\n",
       "  <tbody>\n",
       "    <tr>\n",
       "      <td>0</td>\n",
       "      <td>0-institution</td>\n",
       "      <td>Saint Penelope Medical Center</td>\n",
       "    </tr>\n",
       "    <tr>\n",
       "      <td>1</td>\n",
       "      <td>0-cohort_id</td>\n",
       "      <td>14562556998</td>\n",
       "    </tr>\n",
       "    <tr>\n",
       "      <td>2265</td>\n",
       "      <td>1-institution</td>\n",
       "      <td>BioLab, Inc.</td>\n",
       "    </tr>\n",
       "    <tr>\n",
       "      <td>2266</td>\n",
       "      <td>1-cohort_id</td>\n",
       "      <td>14562556998</td>\n",
       "    </tr>\n",
       "    <tr>\n",
       "      <td>9230</td>\n",
       "      <td>2-institution</td>\n",
       "      <td>University Hospital System</td>\n",
       "    </tr>\n",
       "    <tr>\n",
       "      <td>9231</td>\n",
       "      <td>2-cohort_id</td>\n",
       "      <td>14562556998</td>\n",
       "    </tr>\n",
       "    <tr>\n",
       "      <td>12176</td>\n",
       "      <td>3-institution</td>\n",
       "      <td>Goodfellow Research Institute</td>\n",
       "    </tr>\n",
       "    <tr>\n",
       "      <td>12177</td>\n",
       "      <td>3-cohort_id</td>\n",
       "      <td>14562556998</td>\n",
       "    </tr>\n",
       "    <tr>\n",
       "      <td>12970</td>\n",
       "      <td>4-institution</td>\n",
       "      <td>Montague Hospital</td>\n",
       "    </tr>\n",
       "    <tr>\n",
       "      <td>12971</td>\n",
       "      <td>4-cohort_id</td>\n",
       "      <td>14562556998</td>\n",
       "    </tr>\n",
       "    <tr>\n",
       "      <td>17436</td>\n",
       "      <td>5-institution</td>\n",
       "      <td>Johnson &amp; Bloom Hospitals</td>\n",
       "    </tr>\n",
       "    <tr>\n",
       "      <td>17437</td>\n",
       "      <td>5-cohort_id</td>\n",
       "      <td>14562556998</td>\n",
       "    </tr>\n",
       "    <tr>\n",
       "      <td>17987</td>\n",
       "      <td>6-institution</td>\n",
       "      <td>Medical Information Exchange</td>\n",
       "    </tr>\n",
       "    <tr>\n",
       "      <td>17988</td>\n",
       "      <td>6-cohort_id</td>\n",
       "      <td>14562556998</td>\n",
       "    </tr>\n",
       "  </tbody>\n",
       "</table>\n",
       "</div>"
      ],
      "text/plain": [
       "                name                          value\n",
       "0      0-institution  Saint Penelope Medical Center\n",
       "1        0-cohort_id                    14562556998\n",
       "2265   1-institution                   BioLab, Inc.\n",
       "2266     1-cohort_id                    14562556998\n",
       "9230   2-institution     University Hospital System\n",
       "9231     2-cohort_id                    14562556998\n",
       "12176  3-institution  Goodfellow Research Institute\n",
       "12177    3-cohort_id                    14562556998\n",
       "12970  4-institution              Montague Hospital\n",
       "12971    4-cohort_id                    14562556998\n",
       "17436  5-institution      Johnson & Bloom Hospitals\n",
       "17437    5-cohort_id                    14562556998\n",
       "17987  6-institution   Medical Information Exchange\n",
       "17988    6-cohort_id                    14562556998"
      ]
     },
     "execution_count": 25,
     "metadata": {},
     "output_type": "execute_result"
    }
   ],
   "source": [
    "general = pp[~pp.name.str.contains('patient_profiles')]\n",
    "general"
   ]
  },
  {
   "cell_type": "code",
   "execution_count": 26,
   "metadata": {},
   "outputs": [],
   "source": [
    "patients = pp[pp.name.str.contains('patient_profiles')]"
   ]
  },
  {
   "cell_type": "code",
   "execution_count": 27,
   "metadata": {},
   "outputs": [
    {
     "data": {
      "text/plain": [
       "21436"
      ]
     },
     "execution_count": 27,
     "metadata": {},
     "output_type": "execute_result"
    }
   ],
   "source": [
    "len(patients)"
   ]
  },
  {
   "cell_type": "code",
   "execution_count": 28,
   "metadata": {},
   "outputs": [
    {
     "data": {
      "text/html": [
       "<div>\n",
       "<style scoped>\n",
       "    .dataframe tbody tr th:only-of-type {\n",
       "        vertical-align: middle;\n",
       "    }\n",
       "\n",
       "    .dataframe tbody tr th {\n",
       "        vertical-align: top;\n",
       "    }\n",
       "\n",
       "    .dataframe thead th {\n",
       "        text-align: right;\n",
       "    }\n",
       "</style>\n",
       "<table border=\"1\" class=\"dataframe\">\n",
       "  <thead>\n",
       "    <tr style=\"text-align: right;\">\n",
       "      <th></th>\n",
       "      <th>name</th>\n",
       "      <th>value</th>\n",
       "    </tr>\n",
       "  </thead>\n",
       "  <tbody>\n",
       "    <tr>\n",
       "      <td>2</td>\n",
       "      <td>0-patient_profiles-0-patient_id</td>\n",
       "      <td>102bb8fae</td>\n",
       "    </tr>\n",
       "    <tr>\n",
       "      <td>3</td>\n",
       "      <td>0-patient_profiles-0-demographics-gender</td>\n",
       "      <td>Female</td>\n",
       "    </tr>\n",
       "    <tr>\n",
       "      <td>4</td>\n",
       "      <td>0-patient_profiles-0-demographics-age</td>\n",
       "      <td>68</td>\n",
       "    </tr>\n",
       "    <tr>\n",
       "      <td>5</td>\n",
       "      <td>0-patient_profiles-0-status-disease_sub_type</td>\n",
       "      <td>A</td>\n",
       "    </tr>\n",
       "    <tr>\n",
       "      <td>6</td>\n",
       "      <td>0-patient_profiles-0-status-comorbidity_index</td>\n",
       "      <td>0</td>\n",
       "    </tr>\n",
       "    <tr>\n",
       "      <td>...</td>\n",
       "      <td>...</td>\n",
       "      <td>...</td>\n",
       "    </tr>\n",
       "    <tr>\n",
       "      <td>21445</td>\n",
       "      <td>6-patient_profiles-393-status-disease_sub_type</td>\n",
       "      <td>A</td>\n",
       "    </tr>\n",
       "    <tr>\n",
       "      <td>21446</td>\n",
       "      <td>6-patient_profiles-393-status-comorbidity_index</td>\n",
       "      <td>None</td>\n",
       "    </tr>\n",
       "    <tr>\n",
       "      <td>21447</td>\n",
       "      <td>6-patient_profiles-393-status-cohort_qualifier</td>\n",
       "      <td>True</td>\n",
       "    </tr>\n",
       "    <tr>\n",
       "      <td>21448</td>\n",
       "      <td>6-patient_profiles-393-status-smoking_status</td>\n",
       "      <td>current</td>\n",
       "    </tr>\n",
       "    <tr>\n",
       "      <td>21449</td>\n",
       "      <td>6-patient_profiles-393-status-months_since_dia...</td>\n",
       "      <td>6</td>\n",
       "    </tr>\n",
       "  </tbody>\n",
       "</table>\n",
       "<p>21436 rows × 2 columns</p>\n",
       "</div>"
      ],
      "text/plain": [
       "                                                    name      value\n",
       "2                        0-patient_profiles-0-patient_id  102bb8fae\n",
       "3               0-patient_profiles-0-demographics-gender     Female\n",
       "4                  0-patient_profiles-0-demographics-age         68\n",
       "5           0-patient_profiles-0-status-disease_sub_type          A\n",
       "6          0-patient_profiles-0-status-comorbidity_index          0\n",
       "...                                                  ...        ...\n",
       "21445     6-patient_profiles-393-status-disease_sub_type          A\n",
       "21446    6-patient_profiles-393-status-comorbidity_index       None\n",
       "21447     6-patient_profiles-393-status-cohort_qualifier       True\n",
       "21448       6-patient_profiles-393-status-smoking_status    current\n",
       "21449  6-patient_profiles-393-status-months_since_dia...          6\n",
       "\n",
       "[21436 rows x 2 columns]"
      ]
     },
     "execution_count": 28,
     "metadata": {},
     "output_type": "execute_result"
    }
   ],
   "source": [
    "patients"
   ]
  },
  {
   "cell_type": "code",
   "execution_count": 29,
   "metadata": {},
   "outputs": [
    {
     "name": "stderr",
     "output_type": "stream",
     "text": [
      "C:\\ProgramData\\Anaconda3\\lib\\site-packages\\ipykernel_launcher.py:1: SettingWithCopyWarning: \n",
      "A value is trying to be set on a copy of a slice from a DataFrame.\n",
      "Try using .loc[row_indexer,col_indexer] = value instead\n",
      "\n",
      "See the caveats in the documentation: http://pandas.pydata.org/pandas-docs/stable/user_guide/indexing.html#returning-a-view-versus-a-copy\n",
      "  \"\"\"Entry point for launching an IPython kernel.\n"
     ]
    }
   ],
   "source": [
    "patients['patient'] = patients.name.apply(lambda x: x.replace('patient_profiles-', ''))"
   ]
  },
  {
   "cell_type": "code",
   "execution_count": 30,
   "metadata": {},
   "outputs": [
    {
     "name": "stderr",
     "output_type": "stream",
     "text": [
      "C:\\ProgramData\\Anaconda3\\lib\\site-packages\\ipykernel_launcher.py:7: SettingWithCopyWarning: \n",
      "A value is trying to be set on a copy of a slice from a DataFrame.\n",
      "Try using .loc[row_indexer,col_indexer] = value instead\n",
      "\n",
      "See the caveats in the documentation: http://pandas.pydata.org/pandas-docs/stable/user_guide/indexing.html#returning-a-view-versus-a-copy\n",
      "  import sys\n"
     ]
    }
   ],
   "source": [
    "def pt(col):\n",
    "    pt=[]\n",
    "    for i in col:\n",
    "        if i.isnumeric():\n",
    "            pt.append(i)\n",
    "    return ''.join(pt)\n",
    "patients['pat'] = patients['patient'].apply(pt) \n",
    "#patients['pat']"
   ]
  },
  {
   "cell_type": "code",
   "execution_count": 31,
   "metadata": {},
   "outputs": [
    {
     "name": "stderr",
     "output_type": "stream",
     "text": [
      "C:\\ProgramData\\Anaconda3\\lib\\site-packages\\ipykernel_launcher.py:11: SettingWithCopyWarning: \n",
      "A value is trying to be set on a copy of a slice from a DataFrame.\n",
      "Try using .loc[row_indexer,col_indexer] = value instead\n",
      "\n",
      "See the caveats in the documentation: http://pandas.pydata.org/pandas-docs/stable/user_guide/indexing.html#returning-a-view-versus-a-copy\n",
      "  # This is added back by InteractiveShellApp.init_path()\n"
     ]
    }
   ],
   "source": [
    "def sta(col):\n",
    "    newcol = reversed(col)\n",
    "    stat = []\n",
    "    for i in newcol:\n",
    "        if i.isalpha() or i == '_':\n",
    "            stat.append(i)\n",
    "        else:\n",
    "            break\n",
    "    return ''.join(reversed(stat))\n",
    "\n",
    "patients['stat'] = patients['patient'].apply(sta)\n",
    "#patients['stat']"
   ]
  },
  {
   "cell_type": "code",
   "execution_count": null,
   "metadata": {},
   "outputs": [],
   "source": []
  },
  {
   "cell_type": "code",
   "execution_count": 32,
   "metadata": {},
   "outputs": [
    {
     "data": {
      "text/html": [
       "<div>\n",
       "<style scoped>\n",
       "    .dataframe tbody tr th:only-of-type {\n",
       "        vertical-align: middle;\n",
       "    }\n",
       "\n",
       "    .dataframe tbody tr th {\n",
       "        vertical-align: top;\n",
       "    }\n",
       "\n",
       "    .dataframe thead th {\n",
       "        text-align: right;\n",
       "    }\n",
       "</style>\n",
       "<table border=\"1\" class=\"dataframe\">\n",
       "  <thead>\n",
       "    <tr style=\"text-align: right;\">\n",
       "      <th></th>\n",
       "      <th>name</th>\n",
       "      <th>value</th>\n",
       "      <th>patient</th>\n",
       "      <th>pat</th>\n",
       "      <th>stat</th>\n",
       "    </tr>\n",
       "  </thead>\n",
       "  <tbody>\n",
       "    <tr>\n",
       "      <td>21445</td>\n",
       "      <td>6-patient_profiles-393-status-disease_sub_type</td>\n",
       "      <td>A</td>\n",
       "      <td>6-393-status-disease_sub_type</td>\n",
       "      <td>6393</td>\n",
       "      <td>disease_sub_type</td>\n",
       "    </tr>\n",
       "    <tr>\n",
       "      <td>21446</td>\n",
       "      <td>6-patient_profiles-393-status-comorbidity_index</td>\n",
       "      <td>None</td>\n",
       "      <td>6-393-status-comorbidity_index</td>\n",
       "      <td>6393</td>\n",
       "      <td>comorbidity_index</td>\n",
       "    </tr>\n",
       "    <tr>\n",
       "      <td>21447</td>\n",
       "      <td>6-patient_profiles-393-status-cohort_qualifier</td>\n",
       "      <td>True</td>\n",
       "      <td>6-393-status-cohort_qualifier</td>\n",
       "      <td>6393</td>\n",
       "      <td>cohort_qualifier</td>\n",
       "    </tr>\n",
       "    <tr>\n",
       "      <td>21448</td>\n",
       "      <td>6-patient_profiles-393-status-smoking_status</td>\n",
       "      <td>current</td>\n",
       "      <td>6-393-status-smoking_status</td>\n",
       "      <td>6393</td>\n",
       "      <td>smoking_status</td>\n",
       "    </tr>\n",
       "    <tr>\n",
       "      <td>21449</td>\n",
       "      <td>6-patient_profiles-393-status-months_since_dia...</td>\n",
       "      <td>6</td>\n",
       "      <td>6-393-status-months_since_diagnosis</td>\n",
       "      <td>6393</td>\n",
       "      <td>months_since_diagnosis</td>\n",
       "    </tr>\n",
       "  </tbody>\n",
       "</table>\n",
       "</div>"
      ],
      "text/plain": [
       "                                                    name    value  \\\n",
       "21445     6-patient_profiles-393-status-disease_sub_type        A   \n",
       "21446    6-patient_profiles-393-status-comorbidity_index     None   \n",
       "21447     6-patient_profiles-393-status-cohort_qualifier     True   \n",
       "21448       6-patient_profiles-393-status-smoking_status  current   \n",
       "21449  6-patient_profiles-393-status-months_since_dia...        6   \n",
       "\n",
       "                                   patient   pat                    stat  \n",
       "21445        6-393-status-disease_sub_type  6393        disease_sub_type  \n",
       "21446       6-393-status-comorbidity_index  6393       comorbidity_index  \n",
       "21447        6-393-status-cohort_qualifier  6393        cohort_qualifier  \n",
       "21448          6-393-status-smoking_status  6393          smoking_status  \n",
       "21449  6-393-status-months_since_diagnosis  6393  months_since_diagnosis  "
      ]
     },
     "execution_count": 32,
     "metadata": {},
     "output_type": "execute_result"
    }
   ],
   "source": [
    "patients.tail()"
   ]
  },
  {
   "cell_type": "code",
   "execution_count": 33,
   "metadata": {},
   "outputs": [
    {
     "data": {
      "text/html": [
       "<div>\n",
       "<style scoped>\n",
       "    .dataframe tbody tr th:only-of-type {\n",
       "        vertical-align: middle;\n",
       "    }\n",
       "\n",
       "    .dataframe tbody tr th {\n",
       "        vertical-align: top;\n",
       "    }\n",
       "\n",
       "    .dataframe thead th {\n",
       "        text-align: right;\n",
       "    }\n",
       "</style>\n",
       "<table border=\"1\" class=\"dataframe\">\n",
       "  <thead>\n",
       "    <tr style=\"text-align: right;\">\n",
       "      <th>stat</th>\n",
       "      <th>age</th>\n",
       "      <th>alcohol_usage</th>\n",
       "      <th>bmi_level</th>\n",
       "      <th>cohort_qualifier</th>\n",
       "      <th>comorbidity_index</th>\n",
       "      <th>days_since_diagnosis</th>\n",
       "      <th>disease_sub_type</th>\n",
       "      <th>exercise_frequency</th>\n",
       "      <th>gender</th>\n",
       "      <th>months_since_diagnosis</th>\n",
       "      <th>patient_id</th>\n",
       "      <th>race</th>\n",
       "      <th>smoking_status</th>\n",
       "    </tr>\n",
       "    <tr>\n",
       "      <th>pat</th>\n",
       "      <th></th>\n",
       "      <th></th>\n",
       "      <th></th>\n",
       "      <th></th>\n",
       "      <th></th>\n",
       "      <th></th>\n",
       "      <th></th>\n",
       "      <th></th>\n",
       "      <th></th>\n",
       "      <th></th>\n",
       "      <th></th>\n",
       "      <th></th>\n",
       "      <th></th>\n",
       "    </tr>\n",
       "  </thead>\n",
       "  <tbody>\n",
       "    <tr>\n",
       "      <td>00</td>\n",
       "      <td>68</td>\n",
       "      <td>NaN</td>\n",
       "      <td>NaN</td>\n",
       "      <td>True</td>\n",
       "      <td>0</td>\n",
       "      <td>NaN</td>\n",
       "      <td>A</td>\n",
       "      <td>NaN</td>\n",
       "      <td>Female</td>\n",
       "      <td>1</td>\n",
       "      <td>102bb8fae</td>\n",
       "      <td>NaN</td>\n",
       "      <td>never</td>\n",
       "    </tr>\n",
       "    <tr>\n",
       "      <td>01</td>\n",
       "      <td>66</td>\n",
       "      <td>NaN</td>\n",
       "      <td>NaN</td>\n",
       "      <td>True</td>\n",
       "      <td>NaN</td>\n",
       "      <td>NaN</td>\n",
       "      <td>A</td>\n",
       "      <td>NaN</td>\n",
       "      <td>Female</td>\n",
       "      <td>0</td>\n",
       "      <td>10e32947f</td>\n",
       "      <td>White</td>\n",
       "      <td>former</td>\n",
       "    </tr>\n",
       "    <tr>\n",
       "      <td>010</td>\n",
       "      <td>56</td>\n",
       "      <td>NaN</td>\n",
       "      <td>NaN</td>\n",
       "      <td>True</td>\n",
       "      <td>NaN</td>\n",
       "      <td>NaN</td>\n",
       "      <td>E</td>\n",
       "      <td>NaN</td>\n",
       "      <td>Male</td>\n",
       "      <td>0</td>\n",
       "      <td>11d09fadd</td>\n",
       "      <td>Asian</td>\n",
       "      <td>never</td>\n",
       "    </tr>\n",
       "    <tr>\n",
       "      <td>0100</td>\n",
       "      <td>65</td>\n",
       "      <td>NaN</td>\n",
       "      <td>NaN</td>\n",
       "      <td>True</td>\n",
       "      <td>NaN</td>\n",
       "      <td>NaN</td>\n",
       "      <td>A</td>\n",
       "      <td>NaN</td>\n",
       "      <td>Male</td>\n",
       "      <td>2</td>\n",
       "      <td>1f22eb6a0</td>\n",
       "      <td>NaN</td>\n",
       "      <td>never</td>\n",
       "    </tr>\n",
       "    <tr>\n",
       "      <td>0101</td>\n",
       "      <td>52</td>\n",
       "      <td>NaN</td>\n",
       "      <td>NaN</td>\n",
       "      <td>True</td>\n",
       "      <td>NaN</td>\n",
       "      <td>NaN</td>\n",
       "      <td>A</td>\n",
       "      <td>NaN</td>\n",
       "      <td>Female</td>\n",
       "      <td>0</td>\n",
       "      <td>1f4b96d81</td>\n",
       "      <td>Black or African American</td>\n",
       "      <td>current</td>\n",
       "    </tr>\n",
       "  </tbody>\n",
       "</table>\n",
       "</div>"
      ],
      "text/plain": [
       "stat age alcohol_usage bmi_level cohort_qualifier comorbidity_index  \\\n",
       "pat                                                                   \n",
       "00    68           NaN       NaN             True                 0   \n",
       "01    66           NaN       NaN             True               NaN   \n",
       "010   56           NaN       NaN             True               NaN   \n",
       "0100  65           NaN       NaN             True               NaN   \n",
       "0101  52           NaN       NaN             True               NaN   \n",
       "\n",
       "stat days_since_diagnosis disease_sub_type exercise_frequency  gender  \\\n",
       "pat                                                                     \n",
       "00                    NaN                A                NaN  Female   \n",
       "01                    NaN                A                NaN  Female   \n",
       "010                   NaN                E                NaN    Male   \n",
       "0100                  NaN                A                NaN    Male   \n",
       "0101                  NaN                A                NaN  Female   \n",
       "\n",
       "stat months_since_diagnosis patient_id                       race  \\\n",
       "pat                                                                 \n",
       "00                        1  102bb8fae                        NaN   \n",
       "01                        0  10e32947f                      White   \n",
       "010                       0  11d09fadd                      Asian   \n",
       "0100                      2  1f22eb6a0                        NaN   \n",
       "0101                      0  1f4b96d81  Black or African American   \n",
       "\n",
       "stat smoking_status  \n",
       "pat                  \n",
       "00            never  \n",
       "01           former  \n",
       "010           never  \n",
       "0100          never  \n",
       "0101        current  "
      ]
     },
     "execution_count": 33,
     "metadata": {},
     "output_type": "execute_result"
    }
   ],
   "source": [
    "table = pd.pivot_table(patients, index=['pat'], columns=['stat'],  values='value',\n",
    "                    aggfunc= lambda x: x)\n",
    "table.head()"
   ]
  },
  {
   "cell_type": "code",
   "execution_count": 34,
   "metadata": {},
   "outputs": [
    {
     "data": {
      "text/plain": [
       "2351"
      ]
     },
     "execution_count": 34,
     "metadata": {},
     "output_type": "execute_result"
    }
   ],
   "source": [
    "table.patient_id.nunique()"
   ]
  },
  {
   "cell_type": "code",
   "execution_count": 35,
   "metadata": {
    "scrolled": false
   },
   "outputs": [
    {
     "name": "stdout",
     "output_type": "stream",
     "text": [
      "<class 'pandas.core.frame.DataFrame'>\n",
      "Index: 2351 entries, 00 to 699\n",
      "Data columns (total 13 columns):\n",
      "age                       2219 non-null object\n",
      "alcohol_usage             378 non-null object\n",
      "bmi_level                 266 non-null object\n",
      "cohort_qualifier          2351 non-null object\n",
      "comorbidity_index         485 non-null object\n",
      "days_since_diagnosis      132 non-null object\n",
      "disease_sub_type          2351 non-null object\n",
      "exercise_frequency        378 non-null object\n",
      "gender                    2351 non-null object\n",
      "months_since_diagnosis    2219 non-null object\n",
      "patient_id                2351 non-null object\n",
      "race                      1758 non-null object\n",
      "smoking_status            2219 non-null object\n",
      "dtypes: object(13)\n",
      "memory usage: 257.1+ KB\n"
     ]
    }
   ],
   "source": [
    "table.info()"
   ]
  },
  {
   "cell_type": "code",
   "execution_count": 36,
   "metadata": {},
   "outputs": [
    {
     "data": {
      "text/plain": [
       "True    2351\n",
       "Name: cohort_qualifier, dtype: int64"
      ]
     },
     "execution_count": 36,
     "metadata": {},
     "output_type": "execute_result"
    }
   ],
   "source": [
    "table.cohort_qualifier.value_counts()"
   ]
  },
  {
   "cell_type": "code",
   "execution_count": 37,
   "metadata": {},
   "outputs": [
    {
     "data": {
      "text/html": [
       "<div>\n",
       "<style scoped>\n",
       "    .dataframe tbody tr th:only-of-type {\n",
       "        vertical-align: middle;\n",
       "    }\n",
       "\n",
       "    .dataframe tbody tr th {\n",
       "        vertical-align: top;\n",
       "    }\n",
       "\n",
       "    .dataframe thead th {\n",
       "        text-align: right;\n",
       "    }\n",
       "</style>\n",
       "<table border=\"1\" class=\"dataframe\">\n",
       "  <thead>\n",
       "    <tr style=\"text-align: right;\">\n",
       "      <th>stat</th>\n",
       "      <th>age</th>\n",
       "      <th>disease_sub_type</th>\n",
       "      <th>gender</th>\n",
       "      <th>months_since_diagnosis</th>\n",
       "      <th>patient_id</th>\n",
       "      <th>race</th>\n",
       "      <th>smoking_status</th>\n",
       "    </tr>\n",
       "    <tr>\n",
       "      <th>pat</th>\n",
       "      <th></th>\n",
       "      <th></th>\n",
       "      <th></th>\n",
       "      <th></th>\n",
       "      <th></th>\n",
       "      <th></th>\n",
       "      <th></th>\n",
       "    </tr>\n",
       "  </thead>\n",
       "  <tbody>\n",
       "    <tr>\n",
       "      <td>00</td>\n",
       "      <td>68</td>\n",
       "      <td>A</td>\n",
       "      <td>Female</td>\n",
       "      <td>1</td>\n",
       "      <td>102bb8fae</td>\n",
       "      <td>NaN</td>\n",
       "      <td>never</td>\n",
       "    </tr>\n",
       "    <tr>\n",
       "      <td>01</td>\n",
       "      <td>66</td>\n",
       "      <td>A</td>\n",
       "      <td>Female</td>\n",
       "      <td>0</td>\n",
       "      <td>10e32947f</td>\n",
       "      <td>White</td>\n",
       "      <td>former</td>\n",
       "    </tr>\n",
       "    <tr>\n",
       "      <td>010</td>\n",
       "      <td>56</td>\n",
       "      <td>E</td>\n",
       "      <td>Male</td>\n",
       "      <td>0</td>\n",
       "      <td>11d09fadd</td>\n",
       "      <td>Asian</td>\n",
       "      <td>never</td>\n",
       "    </tr>\n",
       "    <tr>\n",
       "      <td>0100</td>\n",
       "      <td>65</td>\n",
       "      <td>A</td>\n",
       "      <td>Male</td>\n",
       "      <td>2</td>\n",
       "      <td>1f22eb6a0</td>\n",
       "      <td>NaN</td>\n",
       "      <td>never</td>\n",
       "    </tr>\n",
       "    <tr>\n",
       "      <td>0101</td>\n",
       "      <td>52</td>\n",
       "      <td>A</td>\n",
       "      <td>Female</td>\n",
       "      <td>0</td>\n",
       "      <td>1f4b96d81</td>\n",
       "      <td>Black or African American</td>\n",
       "      <td>current</td>\n",
       "    </tr>\n",
       "  </tbody>\n",
       "</table>\n",
       "</div>"
      ],
      "text/plain": [
       "stat age disease_sub_type  gender months_since_diagnosis patient_id  \\\n",
       "pat                                                                   \n",
       "00    68                A  Female                      1  102bb8fae   \n",
       "01    66                A  Female                      0  10e32947f   \n",
       "010   56                E    Male                      0  11d09fadd   \n",
       "0100  65                A    Male                      2  1f22eb6a0   \n",
       "0101  52                A  Female                      0  1f4b96d81   \n",
       "\n",
       "stat                       race smoking_status  \n",
       "pat                                             \n",
       "00                          NaN          never  \n",
       "01                        White         former  \n",
       "010                       Asian          never  \n",
       "0100                        NaN          never  \n",
       "0101  Black or African American        current  "
      ]
     },
     "execution_count": 37,
     "metadata": {},
     "output_type": "execute_result"
    }
   ],
   "source": [
    "# the following columns have too many NaN values, are dropped from the table\n",
    "table.drop(['cohort_qualifier','alcohol_usage', 'bmi_level', 'comorbidity_index', 'days_since_diagnosis', 'exercise_frequency'], axis=1, inplace=True)\n",
    "table.head(5)"
   ]
  },
  {
   "cell_type": "code",
   "execution_count": 38,
   "metadata": {},
   "outputs": [],
   "source": [
    "# impute NaN with mean for numeric, Unknown for character/categorical\n",
    "table.loc[table['age'].isnull(),'age']=table.age.mean()\n",
    "table.loc[table['disease_sub_type'].isnull(),'disease_sub_type']='Unknown'\n",
    "table.loc[table['months_since_diagnosis'].isnull(),'months_since_diagnosis']=table.months_since_diagnosis.mean()\n",
    "table.loc[table['race'].isnull(),'race']='Unknown'\n",
    "table.race = table.race.apply(lambda x: x.lower() )\n",
    "table.loc[table['smoking_status'].isnull(),'smoking_status']='Unknown'\n",
    "table.smoking_status = table.smoking_status.apply(lambda x: x.lower() )\n"
   ]
  },
  {
   "cell_type": "code",
   "execution_count": 39,
   "metadata": {},
   "outputs": [
    {
     "data": {
      "text/plain": [
       "A    1562\n",
       "B     349\n",
       "C     216\n",
       "F      82\n",
       "D      72\n",
       "E      70\n",
       "Name: disease_sub_type, dtype: int64"
      ]
     },
     "execution_count": 39,
     "metadata": {},
     "output_type": "execute_result"
    }
   ],
   "source": [
    "table.disease_sub_type.value_counts()"
   ]
  },
  {
   "cell_type": "code",
   "execution_count": 40,
   "metadata": {},
   "outputs": [
    {
     "data": {
      "text/plain": [
       "white                                        1075\n",
       "unknown                                       593\n",
       "black or african american                     428\n",
       "asian                                         221\n",
       "native hawaiian or other pacific islander      19\n",
       "american indian or alaska native               15\n",
       "Name: race, dtype: int64"
      ]
     },
     "execution_count": 40,
     "metadata": {},
     "output_type": "execute_result"
    }
   ],
   "source": [
    "table.race.value_counts()"
   ]
  },
  {
   "cell_type": "code",
   "execution_count": 41,
   "metadata": {},
   "outputs": [
    {
     "data": {
      "text/plain": [
       "never      1025\n",
       "current     588\n",
       "former      484\n",
       "unknown     254\n",
       "Name: smoking_status, dtype: int64"
      ]
     },
     "execution_count": 41,
     "metadata": {},
     "output_type": "execute_result"
    }
   ],
   "source": [
    "table.smoking_status.value_counts()"
   ]
  },
  {
   "cell_type": "code",
   "execution_count": 42,
   "metadata": {},
   "outputs": [
    {
     "data": {
      "text/plain": [
       "<matplotlib.axes._subplots.AxesSubplot at 0x1b5b6d15e08>"
      ]
     },
     "execution_count": 42,
     "metadata": {},
     "output_type": "execute_result"
    },
    {
     "data": {
      "image/png": "[encoded data removed]",
      "text/plain": [
       "<Figure size 432x288 with 1 Axes>"
      ]
     },
     "metadata": {
      "needs_background": "light"
     },
     "output_type": "display_data"
    }
   ],
   "source": [
    "table.age.plot(kind='hist', bins=30)"
   ]
  },
  {
   "cell_type": "code",
   "execution_count": 43,
   "metadata": {},
   "outputs": [
    {
     "name": "stdout",
     "output_type": "stream",
     "text": [
      "<class 'pandas.core.frame.DataFrame'>\n",
      "Index: 2351 entries, 00 to 699\n",
      "Data columns (total 7 columns):\n",
      "age                       2351 non-null object\n",
      "disease_sub_type          2351 non-null object\n",
      "gender                    2351 non-null object\n",
      "months_since_diagnosis    2351 non-null object\n",
      "patient_id                2351 non-null object\n",
      "race                      2351 non-null object\n",
      "smoking_status            2351 non-null object\n",
      "dtypes: object(7)\n",
      "memory usage: 146.9+ KB\n"
     ]
    }
   ],
   "source": [
    "# after imputation each column has the same length of rows and not missing\n",
    "table.info()"
   ]
  },
  {
   "cell_type": "code",
   "execution_count": 44,
   "metadata": {},
   "outputs": [
    {
     "name": "stdout",
     "output_type": "stream",
     "text": [
      "<class 'pandas.core.frame.DataFrame'>\n",
      "RangeIndex: 1960 entries, 0 to 1959\n",
      "Columns: 14955 entries, biomarker_id to BM15156\n",
      "dtypes: int64(14954), object(1)\n",
      "memory usage: 223.6+ MB\n"
     ]
    }
   ],
   "source": [
    "bio.info()"
   ]
  },
  {
   "cell_type": "code",
   "execution_count": 45,
   "metadata": {},
   "outputs": [
    {
     "name": "stdout",
     "output_type": "stream",
     "text": [
      "<class 'pandas.core.frame.DataFrame'>\n",
      "RangeIndex: 1734 entries, 0 to 1733\n",
      "Data columns (total 3 columns):\n",
      "patient_id      1734 non-null object\n",
      "biomarker_id    1734 non-null object\n",
      "target_label    1734 non-null int64\n",
      "dtypes: int64(1), object(2)\n",
      "memory usage: 40.8+ KB\n"
     ]
    }
   ],
   "source": [
    "tar.info()"
   ]
  },
  {
   "cell_type": "code",
   "execution_count": null,
   "metadata": {},
   "outputs": [],
   "source": []
  },
  {
   "cell_type": "code",
   "execution_count": 46,
   "metadata": {},
   "outputs": [],
   "source": [
    "df = table.merge(tar, on='patient_id', how='inner')"
   ]
  },
  {
   "cell_type": "code",
   "execution_count": 47,
   "metadata": {},
   "outputs": [
    {
     "data": {
      "text/html": [
       "<div>\n",
       "<style scoped>\n",
       "    .dataframe tbody tr th:only-of-type {\n",
       "        vertical-align: middle;\n",
       "    }\n",
       "\n",
       "    .dataframe tbody tr th {\n",
       "        vertical-align: top;\n",
       "    }\n",
       "\n",
       "    .dataframe thead th {\n",
       "        text-align: right;\n",
       "    }\n",
       "</style>\n",
       "<table border=\"1\" class=\"dataframe\">\n",
       "  <thead>\n",
       "    <tr style=\"text-align: right;\">\n",
       "      <th></th>\n",
       "      <th>age</th>\n",
       "      <th>disease_sub_type</th>\n",
       "      <th>gender</th>\n",
       "      <th>months_since_diagnosis</th>\n",
       "      <th>patient_id</th>\n",
       "      <th>race</th>\n",
       "      <th>smoking_status</th>\n",
       "      <th>biomarker_id</th>\n",
       "      <th>target_label</th>\n",
       "    </tr>\n",
       "  </thead>\n",
       "  <tbody>\n",
       "    <tr>\n",
       "      <td>0</td>\n",
       "      <td>56</td>\n",
       "      <td>E</td>\n",
       "      <td>Male</td>\n",
       "      <td>0</td>\n",
       "      <td>11d09fadd</td>\n",
       "      <td>asian</td>\n",
       "      <td>never</td>\n",
       "      <td>ca9fd9fe</td>\n",
       "      <td>1</td>\n",
       "    </tr>\n",
       "    <tr>\n",
       "      <td>1</td>\n",
       "      <td>65</td>\n",
       "      <td>A</td>\n",
       "      <td>Male</td>\n",
       "      <td>2</td>\n",
       "      <td>1f22eb6a0</td>\n",
       "      <td>unknown</td>\n",
       "      <td>never</td>\n",
       "      <td>962019b9</td>\n",
       "      <td>0</td>\n",
       "    </tr>\n",
       "    <tr>\n",
       "      <td>2</td>\n",
       "      <td>52</td>\n",
       "      <td>A</td>\n",
       "      <td>Female</td>\n",
       "      <td>0</td>\n",
       "      <td>1f4b96d81</td>\n",
       "      <td>black or african american</td>\n",
       "      <td>current</td>\n",
       "      <td>e1603e02</td>\n",
       "      <td>0</td>\n",
       "    </tr>\n",
       "    <tr>\n",
       "      <td>3</td>\n",
       "      <td>57</td>\n",
       "      <td>D</td>\n",
       "      <td>Male</td>\n",
       "      <td>6</td>\n",
       "      <td>1f6b554e3</td>\n",
       "      <td>black or african american</td>\n",
       "      <td>current</td>\n",
       "      <td>18224ab9f</td>\n",
       "      <td>1</td>\n",
       "    </tr>\n",
       "    <tr>\n",
       "      <td>4</td>\n",
       "      <td>63</td>\n",
       "      <td>A</td>\n",
       "      <td>Female</td>\n",
       "      <td>4</td>\n",
       "      <td>1f748af57</td>\n",
       "      <td>black or african american</td>\n",
       "      <td>unknown</td>\n",
       "      <td>a2274b04</td>\n",
       "      <td>0</td>\n",
       "    </tr>\n",
       "  </tbody>\n",
       "</table>\n",
       "</div>"
      ],
      "text/plain": [
       "  age disease_sub_type  gender months_since_diagnosis patient_id  \\\n",
       "0  56                E    Male                      0  11d09fadd   \n",
       "1  65                A    Male                      2  1f22eb6a0   \n",
       "2  52                A  Female                      0  1f4b96d81   \n",
       "3  57                D    Male                      6  1f6b554e3   \n",
       "4  63                A  Female                      4  1f748af57   \n",
       "\n",
       "                        race smoking_status biomarker_id  target_label  \n",
       "0                      asian          never     ca9fd9fe             1  \n",
       "1                    unknown          never     962019b9             0  \n",
       "2  black or african american        current     e1603e02             0  \n",
       "3  black or african american        current    18224ab9f             1  \n",
       "4  black or african american        unknown     a2274b04             0  "
      ]
     },
     "execution_count": 47,
     "metadata": {},
     "output_type": "execute_result"
    }
   ],
   "source": [
    "df.head()"
   ]
  },
  {
   "cell_type": "code",
   "execution_count": 48,
   "metadata": {},
   "outputs": [],
   "source": [
    "df = df.merge(bio, on='biomarker_id', how='inner')"
   ]
  },
  {
   "cell_type": "code",
   "execution_count": 49,
   "metadata": {},
   "outputs": [],
   "source": [
    "#df"
   ]
  },
  {
   "cell_type": "code",
   "execution_count": 50,
   "metadata": {},
   "outputs": [],
   "source": [
    "# delete 'patient_id','biomarker_id' from the dataframe for modeling\n",
    "df.drop(['patient_id','biomarker_id'], axis =1, inplace=True)"
   ]
  },
  {
   "cell_type": "code",
   "execution_count": 51,
   "metadata": {},
   "outputs": [
    {
     "data": {
      "text/html": [
       "<div>\n",
       "<style scoped>\n",
       "    .dataframe tbody tr th:only-of-type {\n",
       "        vertical-align: middle;\n",
       "    }\n",
       "\n",
       "    .dataframe tbody tr th {\n",
       "        vertical-align: top;\n",
       "    }\n",
       "\n",
       "    .dataframe thead th {\n",
       "        text-align: right;\n",
       "    }\n",
       "</style>\n",
       "<table border=\"1\" class=\"dataframe\">\n",
       "  <thead>\n",
       "    <tr style=\"text-align: right;\">\n",
       "      <th></th>\n",
       "      <th>age</th>\n",
       "      <th>disease_sub_type</th>\n",
       "      <th>gender</th>\n",
       "      <th>months_since_diagnosis</th>\n",
       "      <th>race</th>\n",
       "      <th>smoking_status</th>\n",
       "      <th>target_label</th>\n",
       "      <th>BM00000</th>\n",
       "      <th>BM00001</th>\n",
       "      <th>BM00002</th>\n",
       "      <th>...</th>\n",
       "      <th>BM15146</th>\n",
       "      <th>BM15147</th>\n",
       "      <th>BM15148</th>\n",
       "      <th>BM15149</th>\n",
       "      <th>BM15150</th>\n",
       "      <th>BM15151</th>\n",
       "      <th>BM15152</th>\n",
       "      <th>BM15153</th>\n",
       "      <th>BM15155</th>\n",
       "      <th>BM15156</th>\n",
       "    </tr>\n",
       "  </thead>\n",
       "  <tbody>\n",
       "    <tr>\n",
       "      <td>0</td>\n",
       "      <td>56</td>\n",
       "      <td>E</td>\n",
       "      <td>Male</td>\n",
       "      <td>0</td>\n",
       "      <td>asian</td>\n",
       "      <td>never</td>\n",
       "      <td>1</td>\n",
       "      <td>1</td>\n",
       "      <td>1</td>\n",
       "      <td>1</td>\n",
       "      <td>...</td>\n",
       "      <td>1</td>\n",
       "      <td>0</td>\n",
       "      <td>0</td>\n",
       "      <td>1</td>\n",
       "      <td>0</td>\n",
       "      <td>1</td>\n",
       "      <td>0</td>\n",
       "      <td>1</td>\n",
       "      <td>1</td>\n",
       "      <td>1</td>\n",
       "    </tr>\n",
       "    <tr>\n",
       "      <td>1</td>\n",
       "      <td>65</td>\n",
       "      <td>A</td>\n",
       "      <td>Male</td>\n",
       "      <td>2</td>\n",
       "      <td>unknown</td>\n",
       "      <td>never</td>\n",
       "      <td>0</td>\n",
       "      <td>1</td>\n",
       "      <td>1</td>\n",
       "      <td>1</td>\n",
       "      <td>...</td>\n",
       "      <td>1</td>\n",
       "      <td>1</td>\n",
       "      <td>0</td>\n",
       "      <td>0</td>\n",
       "      <td>1</td>\n",
       "      <td>0</td>\n",
       "      <td>0</td>\n",
       "      <td>1</td>\n",
       "      <td>1</td>\n",
       "      <td>1</td>\n",
       "    </tr>\n",
       "    <tr>\n",
       "      <td>2</td>\n",
       "      <td>52</td>\n",
       "      <td>A</td>\n",
       "      <td>Female</td>\n",
       "      <td>0</td>\n",
       "      <td>black or african american</td>\n",
       "      <td>current</td>\n",
       "      <td>0</td>\n",
       "      <td>0</td>\n",
       "      <td>1</td>\n",
       "      <td>0</td>\n",
       "      <td>...</td>\n",
       "      <td>0</td>\n",
       "      <td>1</td>\n",
       "      <td>0</td>\n",
       "      <td>1</td>\n",
       "      <td>0</td>\n",
       "      <td>0</td>\n",
       "      <td>0</td>\n",
       "      <td>1</td>\n",
       "      <td>1</td>\n",
       "      <td>0</td>\n",
       "    </tr>\n",
       "    <tr>\n",
       "      <td>3</td>\n",
       "      <td>57</td>\n",
       "      <td>D</td>\n",
       "      <td>Male</td>\n",
       "      <td>6</td>\n",
       "      <td>black or african american</td>\n",
       "      <td>current</td>\n",
       "      <td>1</td>\n",
       "      <td>1</td>\n",
       "      <td>1</td>\n",
       "      <td>1</td>\n",
       "      <td>...</td>\n",
       "      <td>1</td>\n",
       "      <td>0</td>\n",
       "      <td>0</td>\n",
       "      <td>0</td>\n",
       "      <td>0</td>\n",
       "      <td>0</td>\n",
       "      <td>1</td>\n",
       "      <td>1</td>\n",
       "      <td>0</td>\n",
       "      <td>1</td>\n",
       "    </tr>\n",
       "    <tr>\n",
       "      <td>4</td>\n",
       "      <td>63</td>\n",
       "      <td>A</td>\n",
       "      <td>Female</td>\n",
       "      <td>4</td>\n",
       "      <td>black or african american</td>\n",
       "      <td>unknown</td>\n",
       "      <td>0</td>\n",
       "      <td>1</td>\n",
       "      <td>1</td>\n",
       "      <td>1</td>\n",
       "      <td>...</td>\n",
       "      <td>0</td>\n",
       "      <td>1</td>\n",
       "      <td>0</td>\n",
       "      <td>0</td>\n",
       "      <td>0</td>\n",
       "      <td>0</td>\n",
       "      <td>0</td>\n",
       "      <td>1</td>\n",
       "      <td>1</td>\n",
       "      <td>1</td>\n",
       "    </tr>\n",
       "  </tbody>\n",
       "</table>\n",
       "<p>5 rows × 14961 columns</p>\n",
       "</div>"
      ],
      "text/plain": [
       "  age disease_sub_type  gender months_since_diagnosis  \\\n",
       "0  56                E    Male                      0   \n",
       "1  65                A    Male                      2   \n",
       "2  52                A  Female                      0   \n",
       "3  57                D    Male                      6   \n",
       "4  63                A  Female                      4   \n",
       "\n",
       "                        race smoking_status  target_label  BM00000  BM00001  \\\n",
       "0                      asian          never             1        1        1   \n",
       "1                    unknown          never             0        1        1   \n",
       "2  black or african american        current             0        0        1   \n",
       "3  black or african american        current             1        1        1   \n",
       "4  black or african american        unknown             0        1        1   \n",
       "\n",
       "   BM00002  ...  BM15146  BM15147  BM15148  BM15149  BM15150  BM15151  \\\n",
       "0        1  ...        1        0        0        1        0        1   \n",
       "1        1  ...        1        1        0        0        1        0   \n",
       "2        0  ...        0        1        0        1        0        0   \n",
       "3        1  ...        1        0        0        0        0        0   \n",
       "4        1  ...        0        1        0        0        0        0   \n",
       "\n",
       "   BM15152  BM15153  BM15155  BM15156  \n",
       "0        0        1        1        1  \n",
       "1        0        1        1        1  \n",
       "2        0        1        1        0  \n",
       "3        1        1        0        1  \n",
       "4        0        1        1        1  \n",
       "\n",
       "[5 rows x 14961 columns]"
      ]
     },
     "execution_count": 51,
     "metadata": {},
     "output_type": "execute_result"
    }
   ],
   "source": [
    "df.head()"
   ]
  },
  {
   "cell_type": "code",
   "execution_count": null,
   "metadata": {},
   "outputs": [],
   "source": []
  },
  {
   "cell_type": "markdown",
   "metadata": {},
   "source": [
    "### 2. feature engineering"
   ]
  },
  {
   "cell_type": "markdown",
   "metadata": {},
   "source": [
    "<font color=\"blue\" font-size=18px>There are many ways for feature engineering, like manual dictionary, lambda function, OneHotEncoder, Countervecterizer, DictVectorizer\n",
    "I choose DictVectorizer here for the speed and high quality for the feature engineering</font>"
   ]
  },
  {
   "cell_type": "code",
   "execution_count": 52,
   "metadata": {},
   "outputs": [],
   "source": [
    "# data type conversion and put target out as independent data structure for modeling\n",
    "df.age = df.age.astype(int)\n",
    "df.months_since_diagnosis = df.months_since_diagnosis.astype(int)\n",
    "\n",
    "target = df.target_label\n",
    "df = df.drop('target_label', axis=1)"
   ]
  },
  {
   "cell_type": "code",
   "execution_count": 53,
   "metadata": {},
   "outputs": [
    {
     "data": {
      "text/plain": [
       "array([[1., 1., 1., ..., 0., 1., 0.],\n",
       "       [1., 1., 1., ..., 0., 1., 0.],\n",
       "       [0., 1., 0., ..., 0., 0., 0.],\n",
       "       ...,\n",
       "       [1., 1., 0., ..., 0., 0., 0.],\n",
       "       [1., 1., 1., ..., 1., 0., 0.],\n",
       "       [1., 1., 1., ..., 1., 0., 0.]])"
      ]
     },
     "execution_count": 53,
     "metadata": {},
     "output_type": "execute_result"
    }
   ],
   "source": [
    "# turn df into dict: don’t need to extract the categorical features, convert the whole dataframe into a dict.\n",
    "df_dict = df.to_dict(orient='records') # turn each row as key-value pairs\n",
    "# show X_dict\n",
    "df_dict\n",
    "\n",
    "# DictVectorizer\n",
    "from sklearn.feature_extraction import DictVectorizer\n",
    "# instantiate a Dictvectorizer object for X\n",
    "dv = DictVectorizer(sparse=False) \n",
    "# sparse = False makes the output is not a sparse matrix\n",
    "\n",
    "# apply dv_X on X_dict\n",
    "df_encoded = dv.fit_transform(df_dict)\n",
    "# show X_encoded\n",
    "df_encoded"
   ]
  },
  {
   "cell_type": "code",
   "execution_count": 54,
   "metadata": {},
   "outputs": [
    {
     "data": {
      "text/plain": [
       "14976"
      ]
     },
     "execution_count": 54,
     "metadata": {},
     "output_type": "execute_result"
    }
   ],
   "source": [
    "vocab = dv.vocabulary_\n",
    "len(vocab)"
   ]
  },
  {
   "cell_type": "code",
   "execution_count": 55,
   "metadata": {},
   "outputs": [],
   "source": [
    "columns = [a[0] for a in sorted(dv.vocabulary_.items(), key=lambda x: x[-1])]\n",
    "df_encoded = pd.DataFrame(df_encoded, columns=columns)\n",
    "#df_encoded"
   ]
  },
  {
   "cell_type": "code",
   "execution_count": 56,
   "metadata": {},
   "outputs": [
    {
     "name": "stdout",
     "output_type": "stream",
     "text": [
      "target type:  <class 'pandas.core.series.Series'> ;  data frame type:  <class 'pandas.core.frame.DataFrame'>\n"
     ]
    }
   ],
   "source": [
    "print('target type: ', type(target), \";  \" 'data frame type: ', type(df)  )"
   ]
  },
  {
   "cell_type": "code",
   "execution_count": 57,
   "metadata": {},
   "outputs": [
    {
     "name": "stdout",
     "output_type": "stream",
     "text": [
      "target length:  1734 ;  data frame rows:  1734\n"
     ]
    }
   ],
   "source": [
    "print('target length: ', len(target), \";  \" 'data frame rows: ', len(df)  )"
   ]
  },
  {
   "cell_type": "code",
   "execution_count": 58,
   "metadata": {},
   "outputs": [
    {
     "data": {
      "text/plain": [
       "(1213, 521, 1213, 521)"
      ]
     },
     "execution_count": 58,
     "metadata": {},
     "output_type": "execute_result"
    }
   ],
   "source": [
    "from sklearn.model_selection import train_test_split\n",
    "X_train, X_valid, y_train, y_valid = train_test_split(df_encoded, target,\n",
    "                                   test_size=0.3, \n",
    "                                   random_state=2019)\n",
    "\n",
    "X_train = X_train.reset_index(drop=True)\n",
    "X_test = X_valid.reset_index(drop=True)\n",
    "\n",
    "len(X_train), len(X_valid), len(y_train), len(y_valid)"
   ]
  },
  {
   "cell_type": "code",
   "execution_count": 59,
   "metadata": {},
   "outputs": [
    {
     "data": {
      "text/plain": [
       "0    1353\n",
       "1     381\n",
       "Name: target_label, dtype: int64"
      ]
     },
     "execution_count": 59,
     "metadata": {},
     "output_type": "execute_result"
    }
   ],
   "source": [
    "target.value_counts()"
   ]
  },
  {
   "cell_type": "code",
   "execution_count": 60,
   "metadata": {},
   "outputs": [
    {
     "data": {
      "text/plain": [
       "0    949\n",
       "1    264\n",
       "Name: target_label, dtype: int64"
      ]
     },
     "execution_count": 60,
     "metadata": {},
     "output_type": "execute_result"
    }
   ],
   "source": [
    "y_train.value_counts()"
   ]
  },
  {
   "cell_type": "code",
   "execution_count": 61,
   "metadata": {},
   "outputs": [
    {
     "data": {
      "text/plain": [
       "0    404\n",
       "1    117\n",
       "Name: target_label, dtype: int64"
      ]
     },
     "execution_count": 61,
     "metadata": {},
     "output_type": "execute_result"
    }
   ],
   "source": [
    "y_valid.value_counts()"
   ]
  },
  {
   "cell_type": "markdown",
   "metadata": {},
   "source": [
    "### <font color=blue>From above feature engineering, there are about 15,000 features and 1734 rows of observations. The target has about 80% of 0's and 20% of 1's. That means the label is imbalanced and the features much much more than observations. Let's try some modeling first to collect some information.</font>"
   ]
  },
  {
   "cell_type": "markdown",
   "metadata": {},
   "source": [
    "### 3. Modeling: Model selection."
   ]
  },
  {
   "cell_type": "markdown",
   "metadata": {},
   "source": [
    "### 3.1 logistic regression model"
   ]
  },
  {
   "cell_type": "code",
   "execution_count": 62,
   "metadata": {},
   "outputs": [
    {
     "name": "stderr",
     "output_type": "stream",
     "text": [
      "C:\\ProgramData\\Anaconda3\\lib\\site-packages\\sklearn\\utils\\deprecation.py:143: FutureWarning: The sklearn.neighbors.base module is  deprecated in version 0.22 and will be removed in version 0.24. The corresponding classes / functions should instead be imported from sklearn.neighbors. Anything that cannot be imported from sklearn.neighbors is now part of the private API.\n",
      "  warnings.warn(message, FutureWarning)\n",
      "C:\\ProgramData\\Anaconda3\\lib\\site-packages\\sklearn\\utils\\deprecation.py:143: FutureWarning: The sklearn.ensemble.bagging module is  deprecated in version 0.22 and will be removed in version 0.24. The corresponding classes / functions should instead be imported from sklearn.ensemble. Anything that cannot be imported from sklearn.ensemble is now part of the private API.\n",
      "  warnings.warn(message, FutureWarning)\n",
      "C:\\ProgramData\\Anaconda3\\lib\\site-packages\\sklearn\\utils\\deprecation.py:143: FutureWarning: The sklearn.ensemble.base module is  deprecated in version 0.22 and will be removed in version 0.24. The corresponding classes / functions should instead be imported from sklearn.ensemble. Anything that cannot be imported from sklearn.ensemble is now part of the private API.\n",
      "  warnings.warn(message, FutureWarning)\n",
      "C:\\ProgramData\\Anaconda3\\lib\\site-packages\\sklearn\\utils\\deprecation.py:143: FutureWarning: The sklearn.ensemble.forest module is  deprecated in version 0.22 and will be removed in version 0.24. The corresponding classes / functions should instead be imported from sklearn.ensemble. Anything that cannot be imported from sklearn.ensemble is now part of the private API.\n",
      "  warnings.warn(message, FutureWarning)\n",
      "Using TensorFlow backend.\n",
      "C:\\ProgramData\\Anaconda3\\lib\\site-packages\\sklearn\\utils\\deprecation.py:143: FutureWarning: The sklearn.utils.testing module is  deprecated in version 0.22 and will be removed in version 0.24. The corresponding classes / functions should instead be imported from sklearn.utils. Anything that cannot be imported from sklearn.utils is now part of the private API.\n",
      "  warnings.warn(message, FutureWarning)\n",
      "C:\\ProgramData\\Anaconda3\\lib\\site-packages\\sklearn\\utils\\deprecation.py:143: FutureWarning: The sklearn.metrics.classification module is  deprecated in version 0.22 and will be removed in version 0.24. The corresponding classes / functions should instead be imported from sklearn.metrics. Anything that cannot be imported from sklearn.metrics is now part of the private API.\n",
      "  warnings.warn(message, FutureWarning)\n",
      "C:\\ProgramData\\Anaconda3\\lib\\site-packages\\sklearn\\utils\\deprecation.py:86: FutureWarning: Function safe_indexing is deprecated; safe_indexing is deprecated in version 0.22 and will be removed in version 0.24.\n",
      "  warnings.warn(msg, category=FutureWarning)\n",
      "C:\\ProgramData\\Anaconda3\\lib\\site-packages\\sklearn\\linear_model\\_sag.py:330: ConvergenceWarning: The max_iter was reached which means the coef_ did not converge\n",
      "  \"the coef_ did not converge\", ConvergenceWarning)\n"
     ]
    },
    {
     "data": {
      "text/plain": [
       "Pipeline(steps=[('smt', SMOTE(random_state=2019)), ('rescale', MinMaxScaler()),\n",
       "                ('logr',\n",
       "                 LogisticRegression(C=0.1, random_state=2019, solver='sag'))])"
      ]
     },
     "execution_count": 62,
     "metadata": {},
     "output_type": "execute_result"
    }
   ],
   "source": [
    "from sklearn.preprocessing import MinMaxScaler\n",
    "from imblearn.over_sampling import SMOTE\n",
    "from imblearn.pipeline import Pipeline\n",
    "from sklearn.decomposition import PCA\n",
    "from sklearn.linear_model import LogisticRegression\n",
    "\n",
    "steps = [ ('smt', SMOTE (random_state=2019)),\n",
    "          ('rescale', MinMaxScaler()), \n",
    "          #('pca',     PCA(n_components=3) ),\n",
    "          ('logr', LogisticRegression(C = 0.1, random_state = 2019, solver = 'sag')), ]\n",
    "model = Pipeline(steps)\n",
    "model.fit(X_train, y_train)"
   ]
  },
  {
   "cell_type": "code",
   "execution_count": 63,
   "metadata": {},
   "outputs": [
    {
     "data": {
      "text/plain": [
       "((1213,), (521,))"
      ]
     },
     "execution_count": 63,
     "metadata": {},
     "output_type": "execute_result"
    }
   ],
   "source": [
    "y_train_pred = model.predict(X_train)\n",
    "\n",
    "y_valid_pred = model.predict(X_valid)\n",
    "\n",
    "y_train_pred.shape, y_valid_pred.shape, #y_train_pred, y_valid_pred"
   ]
  },
  {
   "cell_type": "code",
   "execution_count": 64,
   "metadata": {},
   "outputs": [
    {
     "name": "stdout",
     "output_type": "stream",
     "text": [
      "              precision    recall  f1-score   support\n",
      "\n",
      "           0       1.00      1.00      1.00       949\n",
      "           1       1.00      1.00      1.00       264\n",
      "\n",
      "    accuracy                           1.00      1213\n",
      "   macro avg       1.00      1.00      1.00      1213\n",
      "weighted avg       1.00      1.00      1.00      1213\n",
      "\n",
      "              precision    recall  f1-score   support\n",
      "\n",
      "           0       0.77      0.99      0.87       404\n",
      "           1       0.14      0.01      0.02       117\n",
      "\n",
      "    accuracy                           0.77       521\n",
      "   macro avg       0.46      0.50      0.44       521\n",
      "weighted avg       0.63      0.77      0.68       521\n",
      "\n"
     ]
    }
   ],
   "source": [
    "from sklearn.metrics import classification_report\n",
    "print(classification_report(y_train, y_train_pred,))\n",
    "\n",
    "print(classification_report(y_valid, y_valid_pred,))"
   ]
  },
  {
   "cell_type": "code",
   "execution_count": 65,
   "metadata": {},
   "outputs": [
    {
     "data": {
      "text/plain": [
       "array([[949,   0],\n",
       "       [  0, 264]], dtype=int64)"
      ]
     },
     "execution_count": 65,
     "metadata": {},
     "output_type": "execute_result"
    }
   ],
   "source": [
    "from sklearn.metrics import confusion_matrix\n",
    "cm = confusion_matrix(y_train, y_train_pred)\n",
    "cm"
   ]
  },
  {
   "cell_type": "code",
   "execution_count": 66,
   "metadata": {},
   "outputs": [
    {
     "data": {
      "text/plain": [
       "array([[398,   6],\n",
       "       [116,   1]], dtype=int64)"
      ]
     },
     "execution_count": 66,
     "metadata": {},
     "output_type": "execute_result"
    }
   ],
   "source": [
    "from sklearn.metrics import confusion_matrix\n",
    "cm = confusion_matrix(y_valid, y_valid_pred)\n",
    "cm"
   ]
  },
  {
   "cell_type": "code",
   "execution_count": 67,
   "metadata": {},
   "outputs": [
    {
     "name": "stdout",
     "output_type": "stream",
     "text": [
      "train roc_auc_scores: 1.0\n",
      "valid roc_auc_scores:  0.4968477616992468\n"
     ]
    }
   ],
   "source": [
    "### ROC AUC\n",
    "from sklearn.metrics import roc_auc_score\n",
    "print('train roc_auc_scores:', roc_auc_score(y_train, y_train_pred, average='macro', ) )\n",
    "print('valid roc_auc_scores: ', roc_auc_score(y_valid, y_valid_pred, average='macro', ) )"
   ]
  },
  {
   "cell_type": "code",
   "execution_count": 68,
   "metadata": {},
   "outputs": [
    {
     "data": {
      "text/plain": [
       "14976"
      ]
     },
     "execution_count": 68,
     "metadata": {},
     "output_type": "execute_result"
    }
   ],
   "source": [
    "importance = model[2].coef_\n",
    "len(importance[0])"
   ]
  },
  {
   "cell_type": "markdown",
   "metadata": {},
   "source": [
    "### 3.2 Random forest model"
   ]
  },
  {
   "cell_type": "code",
   "execution_count": 69,
   "metadata": {},
   "outputs": [
    {
     "name": "stderr",
     "output_type": "stream",
     "text": [
      "C:\\ProgramData\\Anaconda3\\lib\\site-packages\\sklearn\\utils\\deprecation.py:86: FutureWarning: Function safe_indexing is deprecated; safe_indexing is deprecated in version 0.22 and will be removed in version 0.24.\n",
      "  warnings.warn(msg, category=FutureWarning)\n"
     ]
    },
    {
     "data": {
      "text/plain": [
       "Pipeline(steps=[('smt', SMOTE(random_state=2019)), ('rescale', MinMaxScaler()),\n",
       "                ('pca', PCA(n_components=3)),\n",
       "                ('rf',\n",
       "                 RandomForestClassifier(criterion='entropy',\n",
       "                                        random_state=2019))])"
      ]
     },
     "execution_count": 69,
     "metadata": {},
     "output_type": "execute_result"
    }
   ],
   "source": [
    "#from sklearn.pipeline import Pipeline\n",
    "from imblearn.over_sampling import SMOTE\n",
    "from imblearn.pipeline import Pipeline\n",
    "from sklearn.preprocessing import MinMaxScaler\n",
    "from sklearn.ensemble import RandomForestClassifier\n",
    "\n",
    "steps = [ ('smt', SMOTE (random_state=2019)),\n",
    "          ('rescale', MinMaxScaler()),  \n",
    "          ('pca',     PCA(n_components=3) ),\n",
    "          ('rf', RandomForestClassifier(n_estimators = 100,  criterion = 'entropy', random_state = 2019)), ]\n",
    "model = Pipeline(steps)\n",
    "model.fit(X_train, y_train)"
   ]
  },
  {
   "cell_type": "code",
   "execution_count": 70,
   "metadata": {},
   "outputs": [
    {
     "data": {
      "text/plain": [
       "((1213,), (521,))"
      ]
     },
     "execution_count": 70,
     "metadata": {},
     "output_type": "execute_result"
    }
   ],
   "source": [
    "y_train_pred = model.predict(X_train)\n",
    "\n",
    "y_valid_pred = model.predict(X_valid)\n",
    "\n",
    "y_train_pred.shape, y_valid_pred.shape#, y_train_pred, y_valid_pred"
   ]
  },
  {
   "cell_type": "code",
   "execution_count": 71,
   "metadata": {},
   "outputs": [
    {
     "name": "stdout",
     "output_type": "stream",
     "text": [
      "              precision    recall  f1-score   support\n",
      "\n",
      "           0       1.00      1.00      1.00       949\n",
      "           1       1.00      1.00      1.00       264\n",
      "\n",
      "    accuracy                           1.00      1213\n",
      "   macro avg       1.00      1.00      1.00      1213\n",
      "weighted avg       1.00      1.00      1.00      1213\n",
      "\n",
      "              precision    recall  f1-score   support\n",
      "\n",
      "           0       0.78      0.84      0.81       404\n",
      "           1       0.24      0.17      0.20       117\n",
      "\n",
      "    accuracy                           0.69       521\n",
      "   macro avg       0.51      0.51      0.50       521\n",
      "weighted avg       0.66      0.69      0.67       521\n",
      "\n"
     ]
    }
   ],
   "source": [
    "from sklearn.metrics import classification_report\n",
    "print(classification_report(y_train, y_train_pred,))\n",
    "\n",
    "print(classification_report(y_valid, y_valid_pred,))"
   ]
  },
  {
   "cell_type": "code",
   "execution_count": 72,
   "metadata": {},
   "outputs": [
    {
     "data": {
      "text/plain": [
       "array([[949,   0],\n",
       "       [  0, 264]], dtype=int64)"
      ]
     },
     "execution_count": 72,
     "metadata": {},
     "output_type": "execute_result"
    }
   ],
   "source": [
    "from sklearn.metrics import confusion_matrix\n",
    "cm = confusion_matrix(y_train, y_train_pred)\n",
    "cm"
   ]
  },
  {
   "cell_type": "code",
   "execution_count": 73,
   "metadata": {},
   "outputs": [
    {
     "data": {
      "text/plain": [
       "array([[341,  63],\n",
       "       [ 97,  20]], dtype=int64)"
      ]
     },
     "execution_count": 73,
     "metadata": {},
     "output_type": "execute_result"
    }
   ],
   "source": [
    "from sklearn.metrics import confusion_matrix\n",
    "cm = confusion_matrix(y_valid, y_valid_pred)\n",
    "cm"
   ]
  },
  {
   "cell_type": "code",
   "execution_count": 74,
   "metadata": {},
   "outputs": [
    {
     "name": "stdout",
     "output_type": "stream",
     "text": [
      "train roc_auc_scores: 1.0\n",
      "valid roc_auc_scores:  0.5074997884403825\n"
     ]
    }
   ],
   "source": [
    "### ROC AUC\n",
    "\n",
    "from sklearn.metrics import roc_auc_score\n",
    "print('train roc_auc_scores:', roc_auc_score(y_train, y_train_pred, average='macro', ) )\n",
    "print('valid roc_auc_scores: ', roc_auc_score(y_valid, y_valid_pred, average='macro', ) )"
   ]
  },
  {
   "cell_type": "code",
   "execution_count": null,
   "metadata": {},
   "outputs": [],
   "source": []
  },
  {
   "cell_type": "markdown",
   "metadata": {},
   "source": [
    "### 3.3 SVM model: SVM is for the situation when feature number outsize observations"
   ]
  },
  {
   "cell_type": "code",
   "execution_count": 75,
   "metadata": {},
   "outputs": [],
   "source": [
    "#from sklearn.pipeline import Pipeline\n",
    "from imblearn.over_sampling import SMOTE\n",
    "from imblearn.pipeline import Pipeline\n",
    "from sklearn.preprocessing import MinMaxScaler\n",
    "from sklearn.svm import SVC"
   ]
  },
  {
   "cell_type": "code",
   "execution_count": 76,
   "metadata": {},
   "outputs": [
    {
     "name": "stderr",
     "output_type": "stream",
     "text": [
      "C:\\ProgramData\\Anaconda3\\lib\\site-packages\\sklearn\\utils\\deprecation.py:86: FutureWarning: Function safe_indexing is deprecated; safe_indexing is deprecated in version 0.22 and will be removed in version 0.24.\n",
      "  warnings.warn(msg, category=FutureWarning)\n"
     ]
    },
    {
     "data": {
      "text/plain": [
       "Pipeline(steps=[('smt', SMOTE(random_state=2019)), ('rescale', MinMaxScaler()),\n",
       "                ('SVM', SVC(random_state=2019))])"
      ]
     },
     "execution_count": 76,
     "metadata": {},
     "output_type": "execute_result"
    }
   ],
   "source": [
    "steps = [ ('smt', SMOTE (random_state=2019)),\n",
    "          ('rescale', MinMaxScaler()), \n",
    "          ('SVM', SVC( random_state = 2019)), ]\n",
    "model = Pipeline(steps)\n",
    "model.fit(X_train, y_train)"
   ]
  },
  {
   "cell_type": "code",
   "execution_count": 77,
   "metadata": {},
   "outputs": [
    {
     "data": {
      "text/plain": [
       "((1213,), (521,))"
      ]
     },
     "execution_count": 77,
     "metadata": {},
     "output_type": "execute_result"
    }
   ],
   "source": [
    "y_train_pred = model.predict(X_train)\n",
    "\n",
    "y_valid_pred = model.predict(X_valid)\n",
    "\n",
    "y_train_pred.shape, y_valid_pred.shape, #y_train_pred, y_valid_pred"
   ]
  },
  {
   "cell_type": "code",
   "execution_count": 78,
   "metadata": {},
   "outputs": [
    {
     "name": "stdout",
     "output_type": "stream",
     "text": [
      "              precision    recall  f1-score   support\n",
      "\n",
      "           0       0.99      1.00      0.99       949\n",
      "           1       1.00      0.95      0.97       264\n",
      "\n",
      "    accuracy                           0.99      1213\n",
      "   macro avg       0.99      0.98      0.98      1213\n",
      "weighted avg       0.99      0.99      0.99      1213\n",
      "\n",
      "              precision    recall  f1-score   support\n",
      "\n",
      "           0       0.78      1.00      0.87       404\n",
      "           1       0.00      0.00      0.00       117\n",
      "\n",
      "    accuracy                           0.78       521\n",
      "   macro avg       0.39      0.50      0.44       521\n",
      "weighted avg       0.60      0.78      0.68       521\n",
      "\n"
     ]
    },
    {
     "name": "stderr",
     "output_type": "stream",
     "text": [
      "C:\\ProgramData\\Anaconda3\\lib\\site-packages\\sklearn\\metrics\\_classification.py:1221: UndefinedMetricWarning: Precision and F-score are ill-defined and being set to 0.0 in labels with no predicted samples. Use `zero_division` parameter to control this behavior.\n",
      "  _warn_prf(average, modifier, msg_start, len(result))\n"
     ]
    }
   ],
   "source": [
    "from sklearn.metrics import classification_report\n",
    "print(classification_report(y_train, y_train_pred,))\n",
    "\n",
    "print(classification_report(y_valid, y_valid_pred,))"
   ]
  },
  {
   "cell_type": "code",
   "execution_count": 79,
   "metadata": {},
   "outputs": [
    {
     "data": {
      "text/plain": [
       "array([[949,   0],\n",
       "       [ 13, 251]], dtype=int64)"
      ]
     },
     "execution_count": 79,
     "metadata": {},
     "output_type": "execute_result"
    }
   ],
   "source": [
    "from sklearn.metrics import confusion_matrix\n",
    "cm = confusion_matrix(y_train, y_train_pred)\n",
    "cm"
   ]
  },
  {
   "cell_type": "code",
   "execution_count": 80,
   "metadata": {},
   "outputs": [
    {
     "data": {
      "text/plain": [
       "array([[404,   0],\n",
       "       [117,   0]], dtype=int64)"
      ]
     },
     "execution_count": 80,
     "metadata": {},
     "output_type": "execute_result"
    }
   ],
   "source": [
    "from sklearn.metrics import confusion_matrix\n",
    "cm = confusion_matrix(y_valid, y_valid_pred)\n",
    "cm"
   ]
  },
  {
   "cell_type": "code",
   "execution_count": 81,
   "metadata": {},
   "outputs": [
    {
     "name": "stdout",
     "output_type": "stream",
     "text": [
      "train roc_auc_scores: 0.9753787878787878\n",
      "valid roc_auc_scores:  0.5\n"
     ]
    }
   ],
   "source": [
    "### ROC AUC\n",
    "from sklearn.metrics import roc_auc_score\n",
    "print('train roc_auc_scores:', roc_auc_score(y_train, y_train_pred, average='macro', ) )\n",
    "print('valid roc_auc_scores: ', roc_auc_score(y_valid, y_valid_pred, average='macro', ) )"
   ]
  },
  {
   "cell_type": "markdown",
   "metadata": {},
   "source": [
    "### <font color=blue>From above models, I see each model has test data ROC AUC equal or close to 0.5, which means the models are all overfitting, and does not provide any guidance for the classification. The reason may be because there are too many features combined with too few rows of data.</font>\n",
    "### <font color=blue> Since I cannot add data for now, what I can do is to reduce features. </font>"
   ]
  },
  {
   "cell_type": "code",
   "execution_count": null,
   "metadata": {},
   "outputs": [],
   "source": []
  },
  {
   "cell_type": "markdown",
   "metadata": {},
   "source": [
    "### 4. Feature Selection and Pipeline for Model Analysis: Model performance, feature importance."
   ]
  },
  {
   "cell_type": "markdown",
   "metadata": {},
   "source": [
    "### 4.1 retrieve the feature importance information from logistic regression, and use it to select importannt features to rebuild the model"
   ]
  },
  {
   "cell_type": "code",
   "execution_count": 82,
   "metadata": {},
   "outputs": [
    {
     "data": {
      "text/plain": [
       "(array([[ 0.00287843,  0.02284779,  0.03435197, ...,  0.02117537,\n",
       "         -0.08210021,  0.00743898]]), 14976)"
      ]
     },
     "execution_count": 82,
     "metadata": {},
     "output_type": "execute_result"
    }
   ],
   "source": [
    "importance, len(importance[0])"
   ]
  },
  {
   "cell_type": "code",
   "execution_count": 83,
   "metadata": {},
   "outputs": [
    {
     "data": {
      "text/plain": [
       "14976"
      ]
     },
     "execution_count": 83,
     "metadata": {},
     "output_type": "execute_result"
    }
   ],
   "source": [
    "len(importance[0].tolist())"
   ]
  },
  {
   "cell_type": "code",
   "execution_count": 84,
   "metadata": {},
   "outputs": [
    {
     "data": {
      "text/plain": [
       "(['BM00000',\n",
       "  'BM00001',\n",
       "  'BM00002',\n",
       "  'BM00003',\n",
       "  'BM00004',\n",
       "  'BM00005',\n",
       "  'BM00006',\n",
       "  'BM00007',\n",
       "  'BM00008',\n",
       "  'BM00009'],\n",
       " ['race=american indian or alaska native',\n",
       "  'race=asian',\n",
       "  'race=black or african american',\n",
       "  'race=native hawaiian or other pacific islander',\n",
       "  'race=unknown',\n",
       "  'race=white',\n",
       "  'smoking_status=current',\n",
       "  'smoking_status=former',\n",
       "  'smoking_status=never',\n",
       "  'smoking_status=unknown'])"
      ]
     },
     "execution_count": 84,
     "metadata": {},
     "output_type": "execute_result"
    }
   ],
   "source": [
    "# the following are the first 10 and last 10 columns in X_train originally:\n",
    "Lst = X_train.columns.to_list()\n",
    "Lst[:10], Lst[-10:]"
   ]
  },
  {
   "cell_type": "code",
   "execution_count": 85,
   "metadata": {},
   "outputs": [
    {
     "name": "stdout",
     "output_type": "stream",
     "text": [
      "10 most important columns in positive way:  ('BM07629', 'BM13361', 'BM05369', 'BM12965', 'BM03942', 'BM09011', 'BM12689', 'BM02749', 'BM07862', 'BM10516') \n",
      "10 most important columns in negative way:  ('BM11831', 'BM08470', 'BM12940', 'BM13553', 'BM04160', 'BM12667', 'BM09770', 'BM04402', 'BM14192', 'BM10757')\n"
     ]
    }
   ],
   "source": [
    "# the following are 10 most importanct columns positively (in Lst1) and 10 most important columns negatively (in Lst2) according to feature importance\n",
    "imp,names_ = zip(*sorted(zip(importance[0],Lst)))\n",
    "imp1 = imp[:10]\n",
    "imp2 = imp[-10:]\n",
    "Lst1 = names_[-10:]\n",
    "Lst2 = names_[:10]\n",
    "L = list(Lst1 + Lst2)\n",
    "print('10 most important columns in positive way: ', Lst1, '\\n10 most important columns in negative way: ', Lst2)"
   ]
  },
  {
   "cell_type": "code",
   "execution_count": 86,
   "metadata": {},
   "outputs": [],
   "source": [
    "from matplotlib import pyplot as plt\n",
    "from sklearn import svm"
   ]
  },
  {
   "cell_type": "code",
   "execution_count": 87,
   "metadata": {},
   "outputs": [],
   "source": [
    "def f_importances(coef, names):\n",
    "    imp = coef\n",
    "    imp,names = zip(*sorted(zip(imp,names)))\n",
    "    imp1 = imp[:10]\n",
    "    imp2 = imp[-10:]\n",
    "    Lst1 = names[-10:]\n",
    "    Lst2 = names[:10]\n",
    "    L = Lst1 + Lst2\n",
    "\n",
    "    \n",
    "    fig = plt.figure(figsize=(12,4))\n",
    "    plt.subplot(1,2,1)\n",
    "    plt.barh(range(len(Lst2)), imp2, align='center')\n",
    "    plt.yticks(range(len(Lst2)), Lst2)\n",
    "    plt.title('10 most important features with positive values')\n",
    "\n",
    "    plt.subplot(1,2, 2)\n",
    "    plt.barh(range(len(Lst1)), imp1, align='center')\n",
    "    plt.yticks(range(len(Lst1)), Lst1)\n",
    "    plt.title('10 most important features with negative values')\n"
   ]
  },
  {
   "cell_type": "code",
   "execution_count": 88,
   "metadata": {},
   "outputs": [
    {
     "data": {
      "image/png": "[encoded data removed]",
      "text/plain": [
       "<Figure size 864x288 with 2 Axes>"
      ]
     },
     "metadata": {
      "needs_background": "light"
     },
     "output_type": "display_data"
    }
   ],
   "source": [
    "f_importances(importance[0], Lst)"
   ]
  },
  {
   "cell_type": "code",
   "execution_count": 89,
   "metadata": {},
   "outputs": [],
   "source": [
    "# rebuild the X_train and X_valid with reduced features"
   ]
  },
  {
   "cell_type": "code",
   "execution_count": 90,
   "metadata": {},
   "outputs": [],
   "source": [
    "X_train1 = X_train[L]\n",
    "X_valid1 = X_valid[L]\n"
   ]
  },
  {
   "cell_type": "code",
   "execution_count": null,
   "metadata": {},
   "outputs": [],
   "source": []
  },
  {
   "cell_type": "markdown",
   "metadata": {},
   "source": [
    "### 4.2 SVM model: for feature reduced X_train and X_valid"
   ]
  },
  {
   "cell_type": "code",
   "execution_count": 91,
   "metadata": {},
   "outputs": [
    {
     "name": "stdout",
     "output_type": "stream",
     "text": [
      "              precision    recall  f1-score   support\n",
      "\n",
      "           0       0.97      0.96      0.97       949\n",
      "           1       0.86      0.90      0.88       264\n",
      "\n",
      "    accuracy                           0.95      1213\n",
      "   macro avg       0.92      0.93      0.92      1213\n",
      "weighted avg       0.95      0.95      0.95      1213\n",
      "\n",
      "              precision    recall  f1-score   support\n",
      "\n",
      "           0       0.88      0.90      0.89       404\n",
      "           1       0.63      0.59      0.61       117\n",
      "\n",
      "    accuracy                           0.83       521\n",
      "   macro avg       0.76      0.75      0.75       521\n",
      "weighted avg       0.83      0.83      0.83       521\n",
      "\n"
     ]
    },
    {
     "name": "stderr",
     "output_type": "stream",
     "text": [
      "C:\\ProgramData\\Anaconda3\\lib\\site-packages\\sklearn\\utils\\deprecation.py:86: FutureWarning: Function safe_indexing is deprecated; safe_indexing is deprecated in version 0.22 and will be removed in version 0.24.\n",
      "  warnings.warn(msg, category=FutureWarning)\n"
     ]
    },
    {
     "data": {
      "text/plain": [
       "array([[911,  38],\n",
       "       [ 27, 237]], dtype=int64)"
      ]
     },
     "execution_count": 91,
     "metadata": {},
     "output_type": "execute_result"
    }
   ],
   "source": [
    "#from sklearn.pipeline import Pipeline\n",
    "from imblearn.over_sampling import SMOTE\n",
    "from imblearn.pipeline import Pipeline\n",
    "from sklearn.preprocessing import MinMaxScaler\n",
    "from sklearn.svm import SVC\n",
    "\n",
    "steps = [('smt', SMOTE (random_state=2019)),\n",
    "         ('rescale', MinMaxScaler()), \n",
    "         ('SVM', SVC( random_state = 2019)), ]\n",
    "model = Pipeline(steps)\n",
    "model.fit(X_train1, y_train)\n",
    "\n",
    "y_train_pred = model.predict(X_train1)\n",
    "\n",
    "y_valid_pred = model.predict(X_valid1)\n",
    "\n",
    "\n",
    "from sklearn.metrics import accuracy_score\n",
    "from sklearn.metrics import classification_report\n",
    "print(classification_report(y_train, y_train_pred,))\n",
    "\n",
    "print(classification_report(y_valid, y_valid_pred,))\n",
    "\n",
    "from sklearn.metrics import confusion_matrix\n",
    "cm = confusion_matrix(y_train, y_train_pred)\n",
    "cm"
   ]
  },
  {
   "cell_type": "code",
   "execution_count": 92,
   "metadata": {},
   "outputs": [
    {
     "data": {
      "text/plain": [
       "array([[364,  40],\n",
       "       [ 48,  69]], dtype=int64)"
      ]
     },
     "execution_count": 92,
     "metadata": {},
     "output_type": "execute_result"
    }
   ],
   "source": [
    "from sklearn.metrics import confusion_matrix\n",
    "cm = confusion_matrix(y_valid, y_valid_pred)\n",
    "cm"
   ]
  },
  {
   "cell_type": "code",
   "execution_count": 93,
   "metadata": {},
   "outputs": [
    {
     "name": "stdout",
     "output_type": "stream",
     "text": [
      "train roc_auc_scores: 0.9288425615480411\n",
      "valid roc_auc_scores:  0.7453668443767455\n"
     ]
    }
   ],
   "source": [
    "### ROC AUC\n",
    "from sklearn.metrics import roc_auc_score\n",
    "print('train roc_auc_scores:', roc_auc_score(y_train, y_train_pred, average='macro', ) )\n",
    "print('valid roc_auc_scores: ', roc_auc_score(y_valid, y_valid_pred, average='macro', ) )"
   ]
  },
  {
   "cell_type": "markdown",
   "metadata": {},
   "source": [
    "### <font color=blue>Note: I have tried not only above 20 features, but also first 5 important features, first 20 important features,  first 5 important features plus first 5 important negative features, first 20 important features plus first 20 negative features, respectively. After comparing the ROC AUC, I found that the features selected in above model has the best performance. So, next I will use these 20 features in train and valid data, use multiple models with hyperparameter tuning to see which one has the best performance. </font> "
   ]
  },
  {
   "cell_type": "markdown",
   "metadata": {},
   "source": [
    "### 4.3 Pipeline to buid multiple models, and Grid Searches to compare the performance of different models"
   ]
  },
  {
   "cell_type": "code",
   "execution_count": 94,
   "metadata": {},
   "outputs": [],
   "source": [
    "from sklearn.preprocessing import MinMaxScaler\n",
    "from imblearn.over_sampling import SMOTE\n",
    "from imblearn.pipeline import Pipeline\n",
    "from sklearn.decomposition import PCA\n",
    "from sklearn.linear_model import LogisticRegression\n",
    "from sklearn.model_selection import train_test_split\n",
    "\n",
    "#from sklearn.pipeline import Pipeline\n",
    "from sklearn.model_selection import GridSearchCV\n",
    "from sklearn.metrics import accuracy_score\n",
    "#import joblib\n",
    "from sklearn.ensemble import RandomForestClassifier\n",
    "from sklearn import svm"
   ]
  },
  {
   "cell_type": "code",
   "execution_count": 95,
   "metadata": {},
   "outputs": [
    {
     "name": "stdout",
     "output_type": "stream",
     "text": [
      "Performing model optimizations...\n",
      "\n",
      "Estimator: Logistic Regression\n"
     ]
    },
    {
     "name": "stderr",
     "output_type": "stream",
     "text": [
      "C:\\ProgramData\\Anaconda3\\lib\\site-packages\\sklearn\\utils\\deprecation.py:86: FutureWarning: Function safe_indexing is deprecated; safe_indexing is deprecated in version 0.22 and will be removed in version 0.24.\n",
      "  warnings.warn(msg, category=FutureWarning)\n",
      "C:\\ProgramData\\Anaconda3\\lib\\site-packages\\sklearn\\utils\\deprecation.py:86: FutureWarning: Function safe_indexing is deprecated; safe_indexing is deprecated in version 0.22 and will be removed in version 0.24.\n",
      "  warnings.warn(msg, category=FutureWarning)\n",
      "C:\\ProgramData\\Anaconda3\\lib\\site-packages\\sklearn\\utils\\deprecation.py:86: FutureWarning: Function safe_indexing is deprecated; safe_indexing is deprecated in version 0.22 and will be removed in version 0.24.\n",
      "  warnings.warn(msg, category=FutureWarning)\n",
      "C:\\ProgramData\\Anaconda3\\lib\\site-packages\\sklearn\\utils\\deprecation.py:86: FutureWarning: Function safe_indexing is deprecated; safe_indexing is deprecated in version 0.22 and will be removed in version 0.24.\n",
      "  warnings.warn(msg, category=FutureWarning)\n",
      "C:\\ProgramData\\Anaconda3\\lib\\site-packages\\sklearn\\utils\\deprecation.py:86: FutureWarning: Function safe_indexing is deprecated; safe_indexing is deprecated in version 0.22 and will be removed in version 0.24.\n",
      "  warnings.warn(msg, category=FutureWarning)\n",
      "C:\\ProgramData\\Anaconda3\\lib\\site-packages\\sklearn\\utils\\deprecation.py:86: FutureWarning: Function safe_indexing is deprecated; safe_indexing is deprecated in version 0.22 and will be removed in version 0.24.\n",
      "  warnings.warn(msg, category=FutureWarning)\n",
      "C:\\ProgramData\\Anaconda3\\lib\\site-packages\\sklearn\\utils\\deprecation.py:86: FutureWarning: Function safe_indexing is deprecated; safe_indexing is deprecated in version 0.22 and will be removed in version 0.24.\n",
      "  warnings.warn(msg, category=FutureWarning)\n",
      "C:\\ProgramData\\Anaconda3\\lib\\site-packages\\sklearn\\utils\\deprecation.py:86: FutureWarning: Function safe_indexing is deprecated; safe_indexing is deprecated in version 0.22 and will be removed in version 0.24.\n",
      "  warnings.warn(msg, category=FutureWarning)\n",
      "C:\\ProgramData\\Anaconda3\\lib\\site-packages\\sklearn\\utils\\deprecation.py:86: FutureWarning: Function safe_indexing is deprecated; safe_indexing is deprecated in version 0.22 and will be removed in version 0.24.\n",
      "  warnings.warn(msg, category=FutureWarning)\n",
      "C:\\ProgramData\\Anaconda3\\lib\\site-packages\\sklearn\\utils\\deprecation.py:86: FutureWarning: Function safe_indexing is deprecated; safe_indexing is deprecated in version 0.22 and will be removed in version 0.24.\n",
      "  warnings.warn(msg, category=FutureWarning)\n",
      "C:\\ProgramData\\Anaconda3\\lib\\site-packages\\sklearn\\utils\\deprecation.py:86: FutureWarning: Function safe_indexing is deprecated; safe_indexing is deprecated in version 0.22 and will be removed in version 0.24.\n",
      "  warnings.warn(msg, category=FutureWarning)\n",
      "C:\\ProgramData\\Anaconda3\\lib\\site-packages\\sklearn\\utils\\deprecation.py:86: FutureWarning: Function safe_indexing is deprecated; safe_indexing is deprecated in version 0.22 and will be removed in version 0.24.\n",
      "  warnings.warn(msg, category=FutureWarning)\n",
      "C:\\ProgramData\\Anaconda3\\lib\\site-packages\\sklearn\\utils\\deprecation.py:86: FutureWarning: Function safe_indexing is deprecated; safe_indexing is deprecated in version 0.22 and will be removed in version 0.24.\n",
      "  warnings.warn(msg, category=FutureWarning)\n",
      "C:\\ProgramData\\Anaconda3\\lib\\site-packages\\sklearn\\utils\\deprecation.py:86: FutureWarning: Function safe_indexing is deprecated; safe_indexing is deprecated in version 0.22 and will be removed in version 0.24.\n",
      "  warnings.warn(msg, category=FutureWarning)\n",
      "C:\\ProgramData\\Anaconda3\\lib\\site-packages\\sklearn\\utils\\deprecation.py:86: FutureWarning: Function safe_indexing is deprecated; safe_indexing is deprecated in version 0.22 and will be removed in version 0.24.\n",
      "  warnings.warn(msg, category=FutureWarning)\n",
      "C:\\ProgramData\\Anaconda3\\lib\\site-packages\\sklearn\\utils\\deprecation.py:86: FutureWarning: Function safe_indexing is deprecated; safe_indexing is deprecated in version 0.22 and will be removed in version 0.24.\n",
      "  warnings.warn(msg, category=FutureWarning)\n",
      "C:\\ProgramData\\Anaconda3\\lib\\site-packages\\sklearn\\utils\\deprecation.py:86: FutureWarning: Function safe_indexing is deprecated; safe_indexing is deprecated in version 0.22 and will be removed in version 0.24.\n",
      "  warnings.warn(msg, category=FutureWarning)\n",
      "C:\\ProgramData\\Anaconda3\\lib\\site-packages\\sklearn\\utils\\deprecation.py:86: FutureWarning: Function safe_indexing is deprecated; safe_indexing is deprecated in version 0.22 and will be removed in version 0.24.\n",
      "  warnings.warn(msg, category=FutureWarning)\n",
      "C:\\ProgramData\\Anaconda3\\lib\\site-packages\\sklearn\\utils\\deprecation.py:86: FutureWarning: Function safe_indexing is deprecated; safe_indexing is deprecated in version 0.22 and will be removed in version 0.24.\n",
      "  warnings.warn(msg, category=FutureWarning)\n",
      "C:\\ProgramData\\Anaconda3\\lib\\site-packages\\sklearn\\utils\\deprecation.py:86: FutureWarning: Function safe_indexing is deprecated; safe_indexing is deprecated in version 0.22 and will be removed in version 0.24.\n",
      "  warnings.warn(msg, category=FutureWarning)\n",
      "C:\\ProgramData\\Anaconda3\\lib\\site-packages\\sklearn\\utils\\deprecation.py:86: FutureWarning: Function safe_indexing is deprecated; safe_indexing is deprecated in version 0.22 and will be removed in version 0.24.\n",
      "  warnings.warn(msg, category=FutureWarning)\n",
      "C:\\ProgramData\\Anaconda3\\lib\\site-packages\\sklearn\\utils\\deprecation.py:86: FutureWarning: Function safe_indexing is deprecated; safe_indexing is deprecated in version 0.22 and will be removed in version 0.24.\n",
      "  warnings.warn(msg, category=FutureWarning)\n",
      "C:\\ProgramData\\Anaconda3\\lib\\site-packages\\sklearn\\utils\\deprecation.py:86: FutureWarning: Function safe_indexing is deprecated; safe_indexing is deprecated in version 0.22 and will be removed in version 0.24.\n",
      "  warnings.warn(msg, category=FutureWarning)\n",
      "C:\\ProgramData\\Anaconda3\\lib\\site-packages\\sklearn\\utils\\deprecation.py:86: FutureWarning: Function safe_indexing is deprecated; safe_indexing is deprecated in version 0.22 and will be removed in version 0.24.\n",
      "  warnings.warn(msg, category=FutureWarning)\n",
      "C:\\ProgramData\\Anaconda3\\lib\\site-packages\\sklearn\\utils\\deprecation.py:86: FutureWarning: Function safe_indexing is deprecated; safe_indexing is deprecated in version 0.22 and will be removed in version 0.24.\n",
      "  warnings.warn(msg, category=FutureWarning)\n",
      "C:\\ProgramData\\Anaconda3\\lib\\site-packages\\sklearn\\utils\\deprecation.py:86: FutureWarning: Function safe_indexing is deprecated; safe_indexing is deprecated in version 0.22 and will be removed in version 0.24.\n",
      "  warnings.warn(msg, category=FutureWarning)\n",
      "C:\\ProgramData\\Anaconda3\\lib\\site-packages\\sklearn\\utils\\deprecation.py:86: FutureWarning: Function safe_indexing is deprecated; safe_indexing is deprecated in version 0.22 and will be removed in version 0.24.\n",
      "  warnings.warn(msg, category=FutureWarning)\n",
      "C:\\ProgramData\\Anaconda3\\lib\\site-packages\\sklearn\\utils\\deprecation.py:86: FutureWarning: Function safe_indexing is deprecated; safe_indexing is deprecated in version 0.22 and will be removed in version 0.24.\n",
      "  warnings.warn(msg, category=FutureWarning)\n",
      "C:\\ProgramData\\Anaconda3\\lib\\site-packages\\sklearn\\utils\\deprecation.py:86: FutureWarning: Function safe_indexing is deprecated; safe_indexing is deprecated in version 0.22 and will be removed in version 0.24.\n",
      "  warnings.warn(msg, category=FutureWarning)\n",
      "C:\\ProgramData\\Anaconda3\\lib\\site-packages\\sklearn\\utils\\deprecation.py:86: FutureWarning: Function safe_indexing is deprecated; safe_indexing is deprecated in version 0.22 and will be removed in version 0.24.\n",
      "  warnings.warn(msg, category=FutureWarning)\n",
      "C:\\ProgramData\\Anaconda3\\lib\\site-packages\\sklearn\\utils\\deprecation.py:86: FutureWarning: Function safe_indexing is deprecated; safe_indexing is deprecated in version 0.22 and will be removed in version 0.24.\n",
      "  warnings.warn(msg, category=FutureWarning)\n",
      "C:\\ProgramData\\Anaconda3\\lib\\site-packages\\sklearn\\utils\\deprecation.py:86: FutureWarning: Function safe_indexing is deprecated; safe_indexing is deprecated in version 0.22 and will be removed in version 0.24.\n",
      "  warnings.warn(msg, category=FutureWarning)\n",
      "C:\\ProgramData\\Anaconda3\\lib\\site-packages\\sklearn\\utils\\deprecation.py:86: FutureWarning: Function safe_indexing is deprecated; safe_indexing is deprecated in version 0.22 and will be removed in version 0.24.\n",
      "  warnings.warn(msg, category=FutureWarning)\n",
      "C:\\ProgramData\\Anaconda3\\lib\\site-packages\\sklearn\\utils\\deprecation.py:86: FutureWarning: Function safe_indexing is deprecated; safe_indexing is deprecated in version 0.22 and will be removed in version 0.24.\n",
      "  warnings.warn(msg, category=FutureWarning)\n",
      "C:\\ProgramData\\Anaconda3\\lib\\site-packages\\sklearn\\utils\\deprecation.py:86: FutureWarning: Function safe_indexing is deprecated; safe_indexing is deprecated in version 0.22 and will be removed in version 0.24.\n",
      "  warnings.warn(msg, category=FutureWarning)\n",
      "C:\\ProgramData\\Anaconda3\\lib\\site-packages\\sklearn\\utils\\deprecation.py:86: FutureWarning: Function safe_indexing is deprecated; safe_indexing is deprecated in version 0.22 and will be removed in version 0.24.\n",
      "  warnings.warn(msg, category=FutureWarning)\n",
      "C:\\ProgramData\\Anaconda3\\lib\\site-packages\\sklearn\\utils\\deprecation.py:86: FutureWarning: Function safe_indexing is deprecated; safe_indexing is deprecated in version 0.22 and will be removed in version 0.24.\n",
      "  warnings.warn(msg, category=FutureWarning)\n",
      "C:\\ProgramData\\Anaconda3\\lib\\site-packages\\sklearn\\utils\\deprecation.py:86: FutureWarning: Function safe_indexing is deprecated; safe_indexing is deprecated in version 0.22 and will be removed in version 0.24.\n",
      "  warnings.warn(msg, category=FutureWarning)\n",
      "C:\\ProgramData\\Anaconda3\\lib\\site-packages\\sklearn\\utils\\deprecation.py:86: FutureWarning: Function safe_indexing is deprecated; safe_indexing is deprecated in version 0.22 and will be removed in version 0.24.\n",
      "  warnings.warn(msg, category=FutureWarning)\n",
      "C:\\ProgramData\\Anaconda3\\lib\\site-packages\\sklearn\\utils\\deprecation.py:86: FutureWarning: Function safe_indexing is deprecated; safe_indexing is deprecated in version 0.22 and will be removed in version 0.24.\n",
      "  warnings.warn(msg, category=FutureWarning)\n"
     ]
    },
    {
     "name": "stdout",
     "output_type": "stream",
     "text": [
      "Best params: {'clf__C': 10, 'clf__penalty': 'l1', 'clf__solver': 'liblinear'}\n",
      "Best training roc auc: 0.919\n",
      "Valid set auc score for best params: 0.757 \n",
      "\n",
      "Estimator: Logistic Regression w/PCA\n"
     ]
    },
    {
     "name": "stderr",
     "output_type": "stream",
     "text": [
      "C:\\ProgramData\\Anaconda3\\lib\\site-packages\\sklearn\\utils\\deprecation.py:86: FutureWarning: Function safe_indexing is deprecated; safe_indexing is deprecated in version 0.22 and will be removed in version 0.24.\n",
      "  warnings.warn(msg, category=FutureWarning)\n",
      "C:\\ProgramData\\Anaconda3\\lib\\site-packages\\sklearn\\utils\\deprecation.py:86: FutureWarning: Function safe_indexing is deprecated; safe_indexing is deprecated in version 0.22 and will be removed in version 0.24.\n",
      "  warnings.warn(msg, category=FutureWarning)\n",
      "C:\\ProgramData\\Anaconda3\\lib\\site-packages\\sklearn\\utils\\deprecation.py:86: FutureWarning: Function safe_indexing is deprecated; safe_indexing is deprecated in version 0.22 and will be removed in version 0.24.\n",
      "  warnings.warn(msg, category=FutureWarning)\n",
      "C:\\ProgramData\\Anaconda3\\lib\\site-packages\\sklearn\\utils\\deprecation.py:86: FutureWarning: Function safe_indexing is deprecated; safe_indexing is deprecated in version 0.22 and will be removed in version 0.24.\n",
      "  warnings.warn(msg, category=FutureWarning)\n",
      "C:\\ProgramData\\Anaconda3\\lib\\site-packages\\sklearn\\utils\\deprecation.py:86: FutureWarning: Function safe_indexing is deprecated; safe_indexing is deprecated in version 0.22 and will be removed in version 0.24.\n",
      "  warnings.warn(msg, category=FutureWarning)\n",
      "C:\\ProgramData\\Anaconda3\\lib\\site-packages\\sklearn\\utils\\deprecation.py:86: FutureWarning: Function safe_indexing is deprecated; safe_indexing is deprecated in version 0.22 and will be removed in version 0.24.\n",
      "  warnings.warn(msg, category=FutureWarning)\n",
      "C:\\ProgramData\\Anaconda3\\lib\\site-packages\\sklearn\\utils\\deprecation.py:86: FutureWarning: Function safe_indexing is deprecated; safe_indexing is deprecated in version 0.22 and will be removed in version 0.24.\n",
      "  warnings.warn(msg, category=FutureWarning)\n",
      "C:\\ProgramData\\Anaconda3\\lib\\site-packages\\sklearn\\utils\\deprecation.py:86: FutureWarning: Function safe_indexing is deprecated; safe_indexing is deprecated in version 0.22 and will be removed in version 0.24.\n",
      "  warnings.warn(msg, category=FutureWarning)\n",
      "C:\\ProgramData\\Anaconda3\\lib\\site-packages\\sklearn\\utils\\deprecation.py:86: FutureWarning: Function safe_indexing is deprecated; safe_indexing is deprecated in version 0.22 and will be removed in version 0.24.\n",
      "  warnings.warn(msg, category=FutureWarning)\n",
      "C:\\ProgramData\\Anaconda3\\lib\\site-packages\\sklearn\\utils\\deprecation.py:86: FutureWarning: Function safe_indexing is deprecated; safe_indexing is deprecated in version 0.22 and will be removed in version 0.24.\n",
      "  warnings.warn(msg, category=FutureWarning)\n",
      "C:\\ProgramData\\Anaconda3\\lib\\site-packages\\sklearn\\utils\\deprecation.py:86: FutureWarning: Function safe_indexing is deprecated; safe_indexing is deprecated in version 0.22 and will be removed in version 0.24.\n",
      "  warnings.warn(msg, category=FutureWarning)\n",
      "C:\\ProgramData\\Anaconda3\\lib\\site-packages\\sklearn\\utils\\deprecation.py:86: FutureWarning: Function safe_indexing is deprecated; safe_indexing is deprecated in version 0.22 and will be removed in version 0.24.\n",
      "  warnings.warn(msg, category=FutureWarning)\n",
      "C:\\ProgramData\\Anaconda3\\lib\\site-packages\\sklearn\\utils\\deprecation.py:86: FutureWarning: Function safe_indexing is deprecated; safe_indexing is deprecated in version 0.22 and will be removed in version 0.24.\n",
      "  warnings.warn(msg, category=FutureWarning)\n",
      "C:\\ProgramData\\Anaconda3\\lib\\site-packages\\sklearn\\utils\\deprecation.py:86: FutureWarning: Function safe_indexing is deprecated; safe_indexing is deprecated in version 0.22 and will be removed in version 0.24.\n",
      "  warnings.warn(msg, category=FutureWarning)\n",
      "C:\\ProgramData\\Anaconda3\\lib\\site-packages\\sklearn\\utils\\deprecation.py:86: FutureWarning: Function safe_indexing is deprecated; safe_indexing is deprecated in version 0.22 and will be removed in version 0.24.\n",
      "  warnings.warn(msg, category=FutureWarning)\n",
      "C:\\ProgramData\\Anaconda3\\lib\\site-packages\\sklearn\\utils\\deprecation.py:86: FutureWarning: Function safe_indexing is deprecated; safe_indexing is deprecated in version 0.22 and will be removed in version 0.24.\n",
      "  warnings.warn(msg, category=FutureWarning)\n",
      "C:\\ProgramData\\Anaconda3\\lib\\site-packages\\sklearn\\utils\\deprecation.py:86: FutureWarning: Function safe_indexing is deprecated; safe_indexing is deprecated in version 0.22 and will be removed in version 0.24.\n",
      "  warnings.warn(msg, category=FutureWarning)\n",
      "C:\\ProgramData\\Anaconda3\\lib\\site-packages\\sklearn\\utils\\deprecation.py:86: FutureWarning: Function safe_indexing is deprecated; safe_indexing is deprecated in version 0.22 and will be removed in version 0.24.\n",
      "  warnings.warn(msg, category=FutureWarning)\n",
      "C:\\ProgramData\\Anaconda3\\lib\\site-packages\\sklearn\\utils\\deprecation.py:86: FutureWarning: Function safe_indexing is deprecated; safe_indexing is deprecated in version 0.22 and will be removed in version 0.24.\n",
      "  warnings.warn(msg, category=FutureWarning)\n",
      "C:\\ProgramData\\Anaconda3\\lib\\site-packages\\sklearn\\utils\\deprecation.py:86: FutureWarning: Function safe_indexing is deprecated; safe_indexing is deprecated in version 0.22 and will be removed in version 0.24.\n",
      "  warnings.warn(msg, category=FutureWarning)\n",
      "C:\\ProgramData\\Anaconda3\\lib\\site-packages\\sklearn\\utils\\deprecation.py:86: FutureWarning: Function safe_indexing is deprecated; safe_indexing is deprecated in version 0.22 and will be removed in version 0.24.\n",
      "  warnings.warn(msg, category=FutureWarning)\n",
      "C:\\ProgramData\\Anaconda3\\lib\\site-packages\\sklearn\\utils\\deprecation.py:86: FutureWarning: Function safe_indexing is deprecated; safe_indexing is deprecated in version 0.22 and will be removed in version 0.24.\n",
      "  warnings.warn(msg, category=FutureWarning)\n"
     ]
    },
    {
     "name": "stdout",
     "output_type": "stream",
     "text": [
      "Best params: {'clf__C': 0.1, 'clf__penalty': 'l2', 'clf__solver': 'liblinear'}\n",
      "Best training roc auc: 0.841\n",
      "Valid set auc score for best params: 0.643 \n",
      "\n",
      "Estimator: Random Forest\n"
     ]
    },
    {
     "name": "stderr",
     "output_type": "stream",
     "text": [
      "C:\\ProgramData\\Anaconda3\\lib\\site-packages\\sklearn\\utils\\deprecation.py:86: FutureWarning: Function safe_indexing is deprecated; safe_indexing is deprecated in version 0.22 and will be removed in version 0.24.\n",
      "  warnings.warn(msg, category=FutureWarning)\n"
     ]
    },
    {
     "name": "stdout",
     "output_type": "stream",
     "text": [
      "Best params: {'clf__criterion': 'gini', 'clf__max_depth': 9, 'clf__min_samples_leaf': 7, 'clf__min_samples_split': 2}\n",
      "Best training roc auc: 0.915\n",
      "Valid set auc score for best params: 0.743 \n",
      "\n",
      "Estimator: Random Forest w/PCA\n"
     ]
    },
    {
     "name": "stderr",
     "output_type": "stream",
     "text": [
      "C:\\ProgramData\\Anaconda3\\lib\\site-packages\\sklearn\\utils\\deprecation.py:86: FutureWarning: Function safe_indexing is deprecated; safe_indexing is deprecated in version 0.22 and will be removed in version 0.24.\n",
      "  warnings.warn(msg, category=FutureWarning)\n"
     ]
    },
    {
     "name": "stdout",
     "output_type": "stream",
     "text": [
      "Best params: {'clf__criterion': 'entropy', 'clf__max_depth': 4, 'clf__min_samples_leaf': 7, 'clf__min_samples_split': 4}\n",
      "Best training roc auc: 0.843\n",
      "Valid set auc score for best params: 0.617 \n",
      "\n",
      "Estimator: Support Vector Machine\n"
     ]
    },
    {
     "name": "stderr",
     "output_type": "stream",
     "text": [
      "C:\\ProgramData\\Anaconda3\\lib\\site-packages\\sklearn\\utils\\deprecation.py:86: FutureWarning: Function safe_indexing is deprecated; safe_indexing is deprecated in version 0.22 and will be removed in version 0.24.\n",
      "  warnings.warn(msg, category=FutureWarning)\n"
     ]
    },
    {
     "name": "stdout",
     "output_type": "stream",
     "text": [
      "Best params: {'clf__C': 3, 'clf__kernel': 'linear'}\n",
      "Best training roc auc: 0.918\n",
      "Valid set auc score for best params: 0.747 \n",
      "\n",
      "Estimator: Support Vector Machine w/PCA\n",
      "Best params: {'clf__C': 4, 'clf__kernel': 'linear'}\n",
      "Best training roc auc: 0.840\n",
      "Valid set auc score for best params: 0.626 \n",
      "\n",
      "Classifier with best test set roc_auc: Logistic Regression\n"
     ]
    },
    {
     "name": "stderr",
     "output_type": "stream",
     "text": [
      "C:\\ProgramData\\Anaconda3\\lib\\site-packages\\sklearn\\utils\\deprecation.py:86: FutureWarning: Function safe_indexing is deprecated; safe_indexing is deprecated in version 0.22 and will be removed in version 0.24.\n",
      "  warnings.warn(msg, category=FutureWarning)\n"
     ]
    }
   ],
   "source": [
    "# Construct some pipelines\n",
    "pipe_lr = Pipeline([ ('smt', SMOTE (random_state=2019)),\n",
    "                     ('rescale', MinMaxScaler()), \n",
    "                     ('clf', LogisticRegression(random_state=2019))])\n",
    "\n",
    "pipe_lr_pca = Pipeline([('smt', SMOTE (random_state=2019)),\n",
    "                        ('rescale', MinMaxScaler()), \n",
    "                        ('pca', PCA(n_components=2)),\n",
    "                        ('clf', LogisticRegression(random_state=2019))])\n",
    "\n",
    "pipe_rf = Pipeline([('smt', SMOTE (random_state=2019)),\n",
    "                    ('rescale', MinMaxScaler()), \n",
    "                    ('clf', RandomForestClassifier(random_state=2019))])\n",
    "\n",
    "pipe_rf_pca = Pipeline([('smt', SMOTE (random_state=2019)),\n",
    "                        ('rescale', MinMaxScaler()), \n",
    "                        ('pca', PCA(n_components=2)),\n",
    "                        ('clf', RandomForestClassifier(random_state=2019))])\n",
    "\n",
    "pipe_svm = Pipeline([('smt', SMOTE (random_state=2019)),\n",
    "                     ('rescale', MinMaxScaler()), \n",
    "                     ('clf', svm.SVC(random_state=2019))])\n",
    "\n",
    "pipe_svm_pca = Pipeline([('smt', SMOTE (random_state=2019)),\n",
    "                         ('rescale', MinMaxScaler()), \n",
    "                         ('pca', PCA(n_components=2)),\n",
    "                         ('clf', svm.SVC(random_state=2019))])\n",
    "\n",
    "# Set grid search params\n",
    "param_range = [1, 2, 3, 4, 5, 6, 7, 8, 9, 10]\n",
    "param_range_fl = [10, 1.0, 0.1]\n",
    "\n",
    "grid_params_lr = [{ 'clf__penalty': ['l1', 'l2'],\n",
    "                    'clf__C': param_range_fl,\n",
    "                    'clf__solver': ['liblinear']}] \n",
    "\n",
    "grid_params_rf = [{'clf__criterion': ['gini', 'entropy'],\n",
    "                   'clf__min_samples_leaf': param_range,\n",
    "                   'clf__max_depth': param_range,\n",
    "                   'clf__min_samples_split': param_range[1:]}]\n",
    "\n",
    "grid_params_svm = [{'clf__kernel': ['linear', 'rbf'], \n",
    "                    'clf__C': param_range}]\n",
    "\n",
    "# Construct grid searches\n",
    "jobs = -1\n",
    "\n",
    "gs_lr = GridSearchCV(estimator=pipe_lr,\n",
    "                param_grid=grid_params_lr,\n",
    "                scoring='roc_auc',\n",
    "                cv=5) \n",
    "\n",
    "gs_lr_pca = GridSearchCV(estimator=pipe_lr_pca,\n",
    "                param_grid=grid_params_lr,\n",
    "                scoring='roc_auc',\n",
    "                cv=5)\n",
    "\n",
    "gs_rf = GridSearchCV(estimator=pipe_rf,\n",
    "                param_grid=grid_params_rf,\n",
    "                scoring='roc_auc',\n",
    "                cv=5, \n",
    "                n_jobs=jobs)\n",
    "\n",
    "gs_rf_pca = GridSearchCV(estimator=pipe_rf_pca,\n",
    "                param_grid=grid_params_rf,\n",
    "                scoring='roc_auc',\n",
    "                cv=5, \n",
    "                n_jobs=jobs)\n",
    "\n",
    "gs_svm = GridSearchCV(estimator=pipe_svm,\n",
    "                param_grid=grid_params_svm,\n",
    "                scoring='roc_auc',\n",
    "                cv=5,\n",
    "                n_jobs=jobs)\n",
    "\n",
    "gs_svm_pca = GridSearchCV(estimator=pipe_svm_pca,\n",
    "                param_grid=grid_params_svm,\n",
    "                scoring='roc_auc',\n",
    "                cv=5,\n",
    "                n_jobs=jobs)\n",
    "\n",
    "# List of pipelines for ease of iteration\n",
    "grids = [gs_lr, gs_lr_pca, gs_rf, gs_rf_pca, gs_svm, gs_svm_pca]\n",
    "\n",
    "# Dictionary of pipelines and classifier types for ease of reference\n",
    "grid_dict = {0: 'Logistic Regression', 1: 'Logistic Regression w/PCA', \n",
    "            2: 'Random Forest', 3: 'Random Forest w/PCA', \n",
    "            4: 'Support Vector Machine', 5: 'Support Vector Machine w/PCA'}\n",
    "\n",
    "\n",
    "# Fit the grid search objects\n",
    "print('Performing model optimizations...')\n",
    "best_auc = 0.0\n",
    "best_clf = 0\n",
    "best_gs = ''\n",
    "for idx, gs in enumerate(grids):\n",
    "    print('\\nEstimator: %s' % grid_dict[idx])\n",
    "    # Fit grid search\n",
    "    gs.fit(X_train1, y_train)\n",
    "    # Best params\n",
    "    print('Best params: %s' % gs.best_params_)\n",
    "    # Best training data roc auc\n",
    "    print('Best training roc auc: %.3f' % gs.best_score_)\n",
    "    # Predict on valid data with best params\n",
    "    y_pred = gs.predict(X_valid1)\n",
    "    # Test data auc of model with best params\n",
    "    print('Valid set auc score for best params: %.3f ' % roc_auc_score(y_valid, y_pred))\n",
    "    # Track best (highest test roc auc) model\n",
    "    if roc_auc_score(y_valid, y_pred) > best_auc:\n",
    "        best_auc = roc_auc_score(y_valid, y_pred)\n",
    "        best_gs = gs\n",
    "        best_clf = idx\n",
    "print('\\nClassifier with best test set roc_auc: %s' % grid_dict[best_clf])"
   ]
  },
  {
   "cell_type": "markdown",
   "metadata": {},
   "source": []
  },
  {
   "cell_type": "code",
   "execution_count": null,
   "metadata": {},
   "outputs": [],
   "source": []
  },
  {
   "cell_type": "markdown",
   "metadata": {},
   "source": [
    "### <font color=blue> I compared 6 models: Logistic, Logistic + PCA, Random Forest, Random Forest + PCA, SVM, SVM + PCA. From the output, you can see that Logistic Regression is the best model with ROC AUC of validation data 0.757 </font>\n",
    "\n",
    "### <font color=blue> Below is the final model: Logistic regression with hyperparameters setting obtained from above GridSearch model. Training set has a ROC AUC 0.847, and test data ROC AUC is 0.757. The test data has a precision of 0.53, recall 0.69, f1-score is 0.6 </font>"
   ]
  },
  {
   "cell_type": "code",
   "execution_count": 96,
   "metadata": {},
   "outputs": [
    {
     "name": "stderr",
     "output_type": "stream",
     "text": [
      "C:\\ProgramData\\Anaconda3\\lib\\site-packages\\sklearn\\utils\\deprecation.py:86: FutureWarning: Function safe_indexing is deprecated; safe_indexing is deprecated in version 0.22 and will be removed in version 0.24.\n",
      "  warnings.warn(msg, category=FutureWarning)\n"
     ]
    },
    {
     "data": {
      "text/plain": [
       "((1213,), (521,), (1213, 20), (521, 20))"
      ]
     },
     "execution_count": 96,
     "metadata": {},
     "output_type": "execute_result"
    }
   ],
   "source": [
    "from sklearn.preprocessing import MinMaxScaler\n",
    "from imblearn.over_sampling import SMOTE\n",
    "from imblearn.pipeline import Pipeline\n",
    "from sklearn.linear_model import LogisticRegression\n",
    "\n",
    "steps = [ ('smt', SMOTE (random_state=2019)),\n",
    "          ('rescale', MinMaxScaler()), \n",
    "          ('logr', LogisticRegression(C = 10, random_state = 2019, penalty='l1', solver = 'liblinear')), ]\n",
    "model = Pipeline(steps)\n",
    "model.fit(X_train1, y_train)\n",
    "\n",
    "y_train_pred = model.predict(X_train1)\n",
    "\n",
    "y_valid_pred = model.predict(X_valid1)\n",
    "\n",
    "y_train_pred.shape, y_valid_pred.shape, X_train1.shape, X_valid1.shape"
   ]
  },
  {
   "cell_type": "code",
   "execution_count": 97,
   "metadata": {},
   "outputs": [
    {
     "name": "stdout",
     "output_type": "stream",
     "text": [
      "              precision    recall  f1-score   support\n",
      "\n",
      "           0       0.95      0.88      0.91       949\n",
      "           1       0.65      0.82      0.72       264\n",
      "\n",
      "    accuracy                           0.86      1213\n",
      "   macro avg       0.80      0.85      0.82      1213\n",
      "weighted avg       0.88      0.86      0.87      1213\n",
      "\n",
      "              precision    recall  f1-score   support\n",
      "\n",
      "           0       0.90      0.82      0.86       404\n",
      "           1       0.53      0.69      0.60       117\n",
      "\n",
      "    accuracy                           0.79       521\n",
      "   macro avg       0.72      0.76      0.73       521\n",
      "weighted avg       0.82      0.79      0.80       521\n",
      "\n"
     ]
    },
    {
     "data": {
      "text/plain": [
       "array([[832, 117],\n",
       "       [ 48, 216]], dtype=int64)"
      ]
     },
     "execution_count": 97,
     "metadata": {},
     "output_type": "execute_result"
    }
   ],
   "source": [
    "# from sklearn.metrics import accuracy_score\n",
    "\n",
    "# print (\"y_train Accuracy Rate, which is calculated by accuracy_score() is: %.3f\"%accuracy_score(y_train, y_train_pred) )\n",
    "# print (\"y_test Accuracy Rate, which is calculated by accuracy_score() is: %.3f\"%accuracy_score(y_valid, y_valid_pred) )\n",
    "\n",
    "from sklearn.metrics import classification_report\n",
    "print(classification_report(y_train, y_train_pred,))\n",
    "\n",
    "print(classification_report(y_valid, y_valid_pred,))\n",
    "\n",
    "from sklearn.metrics import confusion_matrix\n",
    "cm = confusion_matrix(y_train, y_train_pred)\n",
    "cm"
   ]
  },
  {
   "cell_type": "code",
   "execution_count": 98,
   "metadata": {},
   "outputs": [
    {
     "data": {
      "text/plain": [
       "array([[332,  72],\n",
       "       [ 36,  81]], dtype=int64)"
      ]
     },
     "execution_count": 98,
     "metadata": {},
     "output_type": "execute_result"
    }
   ],
   "source": [
    "from sklearn.metrics import confusion_matrix\n",
    "cm = confusion_matrix(y_valid, y_valid_pred)\n",
    "cm"
   ]
  },
  {
   "cell_type": "code",
   "execution_count": 99,
   "metadata": {},
   "outputs": [
    {
     "name": "stdout",
     "output_type": "stream",
     "text": [
      "train roc_auc_scores: 0.8474470734744708\n",
      "valid roc_auc_scores:  0.7570449352627571\n"
     ]
    }
   ],
   "source": [
    "### ROC AUC\n",
    "from sklearn.metrics import roc_auc_score\n",
    "print('train roc_auc_scores:', roc_auc_score(y_train, y_train_pred, average='macro', ) )\n",
    "print('valid roc_auc_scores: ', roc_auc_score(y_valid, y_valid_pred, average='macro', ) )"
   ]
  },
  {
   "cell_type": "code",
   "execution_count": null,
   "metadata": {},
   "outputs": [],
   "source": []
  },
  {
   "cell_type": "markdown",
   "metadata": {},
   "source": [
    "### 5. Post-model Analysis: Model performance, actionable suggestions to business."
   ]
  },
  {
   "cell_type": "markdown",
   "metadata": {},
   "source": [
    "### 5.1 This is a preliminary analysis, more work need to be done to understand the data, to understand the patient demographic data and disease conditions and how are they linked to the biomarker performance."
   ]
  },
  {
   "cell_type": "markdown",
   "metadata": {},
   "source": [
    "### 5.2 More data are needed since this analysis has 10s of thousands of features, but there are only thousands of observations."
   ]
  },
  {
   "cell_type": "code",
   "execution_count": null,
   "metadata": {},
   "outputs": [],
   "source": []
  },
  {
   "cell_type": "code",
   "execution_count": null,
   "metadata": {},
   "outputs": [],
   "source": []
  }
 ],
 "metadata": {
  "kernelspec": {
   "display_name": "Python 3",
   "language": "python",
   "name": "python3"
  },
  "language_info": {
   "codemirror_mode": {
    "name": "ipython",
    "version": 3
   },
   "file_extension": ".py",
   "mimetype": "text/x-python",
   "name": "python",
   "nbconvert_exporter": "python",
   "pygments_lexer": "ipython3",
   "version": "3.7.4"
  }
 },
 "nbformat": 4,
 "nbformat_minor": 2
}
