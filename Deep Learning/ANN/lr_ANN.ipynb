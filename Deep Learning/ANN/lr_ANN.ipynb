{
 "cells": [
  {
   "cell_type": "markdown",
   "metadata": {
    "colab_type": "text",
    "id": "OV4cF4semGyH"
   },
   "source": [
    "[![Open In Colab](https://colab.research.google.com/assets/colab-badge.svg)](https://colab.research.google.com/github/nichangyuan/ML-DL/blob/master/Deep%20Learning/ANN/lr_ANN.ipynb)"
   ]
  },
  {
   "cell_type": "markdown",
   "metadata": {
    "colab_type": "text",
    "id": "OV4cF4semGyH"
   },
   "source": [
    "## Applying Artificial Neural Networks (ANNs) for Linear Regression: \n",
    "the ANN code adopted from the following 2 sources:\n",
    "\n",
    "https://sdsclub.com/applying-artificial-neural-networks-anns-for-linear-regression-yay-or-nay/?utm_content=educational&utm_campaign=2020-06-17&utm_source=email-sendgrid&utm_term=27129696&utm_medium=2968892\n",
    "\n",
    "https://www.geeksforgeeks.org/linear-regression-using-tensorflow/"
   ]
  },
  {
   "cell_type": "code",
   "execution_count": 1,
   "metadata": {
    "colab": {
     "base_uri": "https://localhost:8080/",
     "height": 33
    },
    "colab_type": "code",
    "executionInfo": {
     "elapsed": 4684,
     "status": "ok",
     "timestamp": 1592543561478,
     "user": {
      "displayName": "Changyuan Ni",
      "photoUrl": "",
      "userId": "04363278952278258827"
     },
     "user_tz": 420
    },
    "id": "b4i-v1N1mT85",
    "outputId": "63ca79d5-6552-4974-e029-29c017b28e35"
   },
   "outputs": [
    {
     "name": "stdout",
     "output_type": "stream",
     "text": [
      "TensorFlow 1.x selected.\n"
     ]
    }
   ],
   "source": [
    "import numpy as np\n",
    "%tensorflow_version 1.x\n",
    "import tensorflow as tf\n",
    "import matplotlib.pyplot as plt"
   ]
  },
  {
   "cell_type": "code",
   "execution_count": 1,
   "metadata": {
    "colab": {},
    "colab_type": "code",
    "executionInfo": {
     "elapsed": 304,
     "status": "ok",
     "timestamp": 1592543561479,
     "user": {
      "displayName": "Changyuan Ni",
      "photoUrl": "",
      "userId": "04363278952278258827"
     },
     "user_tz": 420
    },
    "id": "Kpg3a2ATm-tw"
   },
   "outputs": [],
   "source": []
  },
  {
   "cell_type": "code",
   "execution_count": 2,
   "metadata": {
    "colab": {},
    "colab_type": "code",
    "executionInfo": {
     "elapsed": 322,
     "status": "ok",
     "timestamp": 1592543564076,
     "user": {
      "displayName": "Changyuan Ni",
      "photoUrl": "",
      "userId": "04363278952278258827"
     },
     "user_tz": 420
    },
    "id": "_LajfBjem2kp"
   },
   "outputs": [],
   "source": [
    "np.random.seed(101)\n",
    "tf.set_random_seed(101)   #tf.random.set_seed(101) -- version 2"
   ]
  },
  {
   "cell_type": "code",
   "execution_count": 3,
   "metadata": {
    "colab": {},
    "colab_type": "code",
    "executionInfo": {
     "elapsed": 339,
     "status": "ok",
     "timestamp": 1592543565775,
     "user": {
      "displayName": "Changyuan Ni",
      "photoUrl": "",
      "userId": "04363278952278258827"
     },
     "user_tz": 420
    },
    "id": "VwQLH3-JnWWi"
   },
   "outputs": [],
   "source": [
    "# generating random linear data\n",
    "# 50 data points ranging from 0 to 50\n",
    "x = np.linspace(0, 50, 50)\n",
    "y = np.linspace(0, 50, 50)\n",
    "\n",
    "# Adding noise to the random linear data\n",
    "x += np.random.uniform(-4, 4, 50)\n",
    "y += np.random.uniform(-4, 4, 50)\n",
    "\n",
    "n = len(x) # Number of data points"
   ]
  },
  {
   "cell_type": "markdown",
   "metadata": {
    "colab_type": "text",
    "id": "t01AxbPJQPR3"
   },
   "source": [
    "1. First, let's do a routine pre-analysis diagnosis of the data"
   ]
  },
  {
   "cell_type": "code",
   "execution_count": 4,
   "metadata": {
    "colab": {
     "base_uri": "https://localhost:8080/",
     "height": 295
    },
    "colab_type": "code",
    "executionInfo": {
     "elapsed": 461,
     "status": "ok",
     "timestamp": 1592543567476,
     "user": {
      "displayName": "Changyuan Ni",
      "photoUrl": "",
      "userId": "04363278952278258827"
     },
     "user_tz": 420
    },
    "id": "m23oF75Unf1h",
    "outputId": "942bbe21-590b-4826-caed-a9c0eb2ededa"
   },
   "outputs": [
    {
     "data": {
      "image/png": "[encoded data removed]",
      "text/plain": [
       "<Figure size 432x288 with 1 Axes>"
      ]
     },
     "metadata": {
      "needs_background": "light",
      "tags": []
     },
     "output_type": "display_data"
    }
   ],
   "source": [
    "# Plot of training data\n",
    "plt.scatter(x, y)\n",
    "plt.xlabel('x')\n",
    "plt.ylabel('y')\n",
    "plt.title(\"Training Data\")\n",
    "plt.show()"
   ]
  },
  {
   "cell_type": "code",
   "execution_count": 7,
   "metadata": {
    "colab": {},
    "colab_type": "code",
    "executionInfo": {
     "elapsed": 337,
     "status": "ok",
     "timestamp": 1592543753584,
     "user": {
      "displayName": "Changyuan Ni",
      "photoUrl": "",
      "userId": "04363278952278258827"
     },
     "user_tz": 420
    },
    "id": "ILtRgUYt_cyc"
   },
   "outputs": [],
   "source": [
    "import numpy as np\n",
    "import pandas as pd\n",
    "import matplotlib.pyplot as plt\n",
    "import seaborn as sns\n",
    "import scipy.stats as sp\n",
    "import statistics as stats\n",
    "\n",
    "pd.set_option('display.max_rows', 100) \n",
    "%matplotlib inline\n"
   ]
  },
  {
   "cell_type": "code",
   "execution_count": 12,
   "metadata": {
    "colab": {
     "base_uri": "https://localhost:8080/",
     "height": 191
    },
    "colab_type": "code",
    "executionInfo": {
     "elapsed": 580,
     "status": "ok",
     "timestamp": 1592544065489,
     "user": {
      "displayName": "Changyuan Ni",
      "photoUrl": "",
      "userId": "04363278952278258827"
     },
     "user_tz": 420
    },
    "id": "rfYdtC3F_3Jx",
    "outputId": "0236ab0b-2783-4aed-c796-c5195c10ec8c"
   },
   "outputs": [
    {
     "data": {
      "text/html": [
       "<div>\n",
       "<style scoped>\n",
       "    .dataframe tbody tr th:only-of-type {\n",
       "        vertical-align: middle;\n",
       "    }\n",
       "\n",
       "    .dataframe tbody tr th {\n",
       "        vertical-align: top;\n",
       "    }\n",
       "\n",
       "    .dataframe thead th {\n",
       "        text-align: right;\n",
       "    }\n",
       "</style>\n",
       "<table border=\"1\" class=\"dataframe\">\n",
       "  <thead>\n",
       "    <tr style=\"text-align: right;\">\n",
       "      <th></th>\n",
       "      <th>X</th>\n",
       "      <th>Y</th>\n",
       "    </tr>\n",
       "  </thead>\n",
       "  <tbody>\n",
       "    <tr>\n",
       "      <th>0</th>\n",
       "      <td>0.131189</td>\n",
       "      <td>1.445422</td>\n",
       "    </tr>\n",
       "    <tr>\n",
       "      <th>1</th>\n",
       "      <td>1.585749</td>\n",
       "      <td>1.192794</td>\n",
       "    </tr>\n",
       "    <tr>\n",
       "      <th>2</th>\n",
       "      <td>-1.731390</td>\n",
       "      <td>-1.612010</td>\n",
       "    </tr>\n",
       "    <tr>\n",
       "      <th>3</th>\n",
       "      <td>0.433398</td>\n",
       "      <td>0.852717</td>\n",
       "    </tr>\n",
       "    <tr>\n",
       "      <th>4</th>\n",
       "      <td>5.563849</td>\n",
       "      <td>4.683273</td>\n",
       "    </tr>\n",
       "  </tbody>\n",
       "</table>\n",
       "</div>"
      ],
      "text/plain": [
       "          X         Y\n",
       "0  0.131189  1.445422\n",
       "1  1.585749  1.192794\n",
       "2 -1.731390 -1.612010\n",
       "3  0.433398  0.852717\n",
       "4  5.563849  4.683273"
      ]
     },
     "execution_count": 12,
     "metadata": {
      "tags": []
     },
     "output_type": "execute_result"
    }
   ],
   "source": [
    "df = pd.DataFrame({'X':x,'Y':y})\n",
    "df.head(5)"
   ]
  },
  {
   "cell_type": "code",
   "execution_count": 13,
   "metadata": {
    "colab": {
     "base_uri": "https://localhost:8080/",
     "height": 163
    },
    "colab_type": "code",
    "executionInfo": {
     "elapsed": 298,
     "status": "ok",
     "timestamp": 1592544109996,
     "user": {
      "displayName": "Changyuan Ni",
      "photoUrl": "",
      "userId": "04363278952278258827"
     },
     "user_tz": 420
    },
    "id": "9yXQ8QUeBjbU",
    "outputId": "93cc1f6f-cdcf-4f6b-eb03-64fedf9215f4"
   },
   "outputs": [
    {
     "name": "stdout",
     "output_type": "stream",
     "text": [
      "<class 'pandas.core.frame.DataFrame'>\n",
      "RangeIndex: 50 entries, 0 to 49\n",
      "Data columns (total 2 columns):\n",
      " #   Column  Non-Null Count  Dtype  \n",
      "---  ------  --------------  -----  \n",
      " 0   X       50 non-null     float64\n",
      " 1   Y       50 non-null     float64\n",
      "dtypes: float64(2)\n",
      "memory usage: 928.0 bytes\n"
     ]
    }
   ],
   "source": [
    "df.info()"
   ]
  },
  {
   "cell_type": "code",
   "execution_count": 14,
   "metadata": {
    "colab": {
     "base_uri": "https://localhost:8080/",
     "height": 33
    },
    "colab_type": "code",
    "executionInfo": {
     "elapsed": 341,
     "status": "ok",
     "timestamp": 1592544137878,
     "user": {
      "displayName": "Changyuan Ni",
      "photoUrl": "",
      "userId": "04363278952278258827"
     },
     "user_tz": 420
    },
    "id": "XGk_liKmBjh1",
    "outputId": "c00ae60e-ea1c-4f18-8abe-f70260d0e85a"
   },
   "outputs": [
    {
     "data": {
      "text/plain": [
       "Index(['X', 'Y'], dtype='object')"
      ]
     },
     "execution_count": 14,
     "metadata": {
      "tags": []
     },
     "output_type": "execute_result"
    }
   ],
   "source": [
    "df.columns"
   ]
  },
  {
   "cell_type": "code",
   "execution_count": 18,
   "metadata": {
    "colab": {
     "base_uri": "https://localhost:8080/",
     "height": 33
    },
    "colab_type": "code",
    "executionInfo": {
     "elapsed": 347,
     "status": "ok",
     "timestamp": 1592544390786,
     "user": {
      "displayName": "Changyuan Ni",
      "photoUrl": "",
      "userId": "04363278952278258827"
     },
     "user_tz": 420
    },
    "id": "eMOzQ3cjBj81",
    "outputId": "3faa796d-efd3-4c73-8dac-c75a3b9d5c8b"
   },
   "outputs": [
    {
     "data": {
      "text/plain": [
       "DescribeResult(nobs=50, minmax=(array([-1.73138986, -1.61201012]), array([50.59056093, 51.40223081])), mean=array([25.13057701, 24.78607989]), variance=array([231.66828086, 235.87698055]), skewness=array([-0.03937276, -0.03462013]), kurtosis=array([-1.20396216, -1.12718482]))"
      ]
     },
     "execution_count": 18,
     "metadata": {
      "tags": []
     },
     "output_type": "execute_result"
    }
   ],
   "source": [
    "from scipy.stats import describe\n",
    "describe(df, axis=0)"
   ]
  },
  {
   "cell_type": "code",
   "execution_count": 20,
   "metadata": {
    "colab": {
     "base_uri": "https://localhost:8080/",
     "height": 105
    },
    "colab_type": "code",
    "executionInfo": {
     "elapsed": 333,
     "status": "ok",
     "timestamp": 1592544669570,
     "user": {
      "displayName": "Changyuan Ni",
      "photoUrl": "",
      "userId": "04363278952278258827"
     },
     "user_tz": 420
    },
    "id": "5iIhNHJEDITP",
    "outputId": "31402bd6-2c2d-4211-b743-836e8db5f6b0"
   },
   "outputs": [
    {
     "data": {
      "text/html": [
       "<div>\n",
       "<style scoped>\n",
       "    .dataframe tbody tr th:only-of-type {\n",
       "        vertical-align: middle;\n",
       "    }\n",
       "\n",
       "    .dataframe tbody tr th {\n",
       "        vertical-align: top;\n",
       "    }\n",
       "\n",
       "    .dataframe thead th {\n",
       "        text-align: right;\n",
       "    }\n",
       "</style>\n",
       "<table border=\"1\" class=\"dataframe\">\n",
       "  <thead>\n",
       "    <tr style=\"text-align: right;\">\n",
       "      <th></th>\n",
       "      <th>count</th>\n",
       "      <th>mean</th>\n",
       "      <th>std</th>\n",
       "      <th>min</th>\n",
       "      <th>25%</th>\n",
       "      <th>50%</th>\n",
       "      <th>75%</th>\n",
       "      <th>max</th>\n",
       "      <th>var</th>\n",
       "      <th>skew</th>\n",
       "      <th>kurt</th>\n",
       "    </tr>\n",
       "  </thead>\n",
       "  <tbody>\n",
       "    <tr>\n",
       "      <th>X</th>\n",
       "      <td>50.0</td>\n",
       "      <td>25.130577</td>\n",
       "      <td>15.220653</td>\n",
       "      <td>-1.73139</td>\n",
       "      <td>11.227182</td>\n",
       "      <td>24.340735</td>\n",
       "      <td>38.573859</td>\n",
       "      <td>50.590561</td>\n",
       "      <td>231.668281</td>\n",
       "      <td>-0.040601</td>\n",
       "      <td>-1.203325</td>\n",
       "    </tr>\n",
       "    <tr>\n",
       "      <th>Y</th>\n",
       "      <td>50.0</td>\n",
       "      <td>24.786080</td>\n",
       "      <td>15.358287</td>\n",
       "      <td>-1.61201</td>\n",
       "      <td>14.042299</td>\n",
       "      <td>24.702840</td>\n",
       "      <td>35.472477</td>\n",
       "      <td>51.402231</td>\n",
       "      <td>235.876981</td>\n",
       "      <td>-0.035700</td>\n",
       "      <td>-1.118278</td>\n",
       "    </tr>\n",
       "  </tbody>\n",
       "</table>\n",
       "</div>"
      ],
      "text/plain": [
       "   count       mean        std  ...         var      skew      kurt\n",
       "X   50.0  25.130577  15.220653  ...  231.668281 -0.040601 -1.203325\n",
       "Y   50.0  24.786080  15.358287  ...  235.876981 -0.035700 -1.118278\n",
       "\n",
       "[2 rows x 11 columns]"
      ]
     },
     "execution_count": 20,
     "metadata": {
      "tags": []
     },
     "output_type": "execute_result"
    }
   ],
   "source": [
    "stats = df.describe()\n",
    "stats.loc['var'] = df.var().tolist()\n",
    "stats.loc['skew'] = df.skew().tolist()\n",
    "stats.loc['kurt'] = df.kurtosis().tolist()\n",
    "stats.T #transpose()"
   ]
  },
  {
   "cell_type": "code",
   "execution_count": 21,
   "metadata": {
    "colab": {
     "base_uri": "https://localhost:8080/",
     "height": 410
    },
    "colab_type": "code",
    "executionInfo": {
     "elapsed": 535,
     "status": "ok",
     "timestamp": 1592544875020,
     "user": {
      "displayName": "Changyuan Ni",
      "photoUrl": "",
      "userId": "04363278952278258827"
     },
     "user_tz": 420
    },
    "id": "qzi9VxSeDIW_",
    "outputId": "55c847a2-0bbd-4c21-cfde-8aac59ab6ea0"
   },
   "outputs": [
    {
     "data": {
      "text/plain": [
       "(2.5, -0.5)"
      ]
     },
     "execution_count": 21,
     "metadata": {
      "tags": []
     },
     "output_type": "execute_result"
    },
    {
     "data": {
      "image/png": "[encoded data removed]",
      "text/plain": [
       "<Figure size 432x432 with 2 Axes>"
      ]
     },
     "metadata": {
      "needs_background": "light",
      "tags": []
     },
     "output_type": "display_data"
    }
   ],
   "source": [
    "fig, ax = plt.subplots(1,1, figsize=(6, 6))\n",
    "sns.set_context(\"notebook\", font_scale=1.2, rc={\"font.size\":12,\"axes.titlesize\":15,\"axes.labelsize\":18})\n",
    "\n",
    "ax = sns.heatmap(df.corr(\"pearson\"), annot=True, fmt=\".2f\")\n",
    "plt.title(\"Pearson correlation heatmap\")\n",
    "plt.setp(ax.get_yticklabels(), rotation=0, ha=\"right\", rotation_mode=\"anchor\")  \n",
    "#ax.set_yticklabels(rotation=0)\n",
    "plt.setp(ax.get_xticklabels(), rotation=45, ha=\"right\", rotation_mode=\"anchor\")  \n",
    "#ax.set_xticks(rotation=30)\n",
    "bottom, top = ax.get_ylim()\n",
    "ax.set_ylim(bottom + 0.5, top - 0.5)"
   ]
  },
  {
   "cell_type": "code",
   "execution_count": 23,
   "metadata": {
    "colab": {
     "base_uri": "https://localhost:8080/",
     "height": 386
    },
    "colab_type": "code",
    "executionInfo": {
     "elapsed": 1416,
     "status": "ok",
     "timestamp": 1592545033235,
     "user": {
      "displayName": "Changyuan Ni",
      "photoUrl": "",
      "userId": "04363278952278258827"
     },
     "user_tz": 420
    },
    "id": "AUnkTt76DIa9",
    "outputId": "c796b2c9-d052-4536-d8d4-58f1b005ca20"
   },
   "outputs": [
    {
     "data": {
      "image/png": "[encoded data removed]",
      "text/plain": [
       "<Figure size 360x360 with 6 Axes>"
      ]
     },
     "metadata": {
      "needs_background": "light",
      "tags": []
     },
     "output_type": "display_data"
    }
   ],
   "source": [
    "g = sns.pairplot(df)"
   ]
  },
  {
   "cell_type": "markdown",
   "metadata": {
    "colab_type": "text",
    "id": "fIwDAg4FRU_d"
   },
   "source": [
    "2. Next, let's run the classical linear regression with machine learning packages"
   ]
  },
  {
   "cell_type": "code",
   "execution_count": 33,
   "metadata": {
    "colab": {},
    "colab_type": "code",
    "executionInfo": {
     "elapsed": 397,
     "status": "ok",
     "timestamp": 1592545700970,
     "user": {
      "displayName": "Changyuan Ni",
      "photoUrl": "",
      "userId": "04363278952278258827"
     },
     "user_tz": 420
    },
    "id": "Hzr8UoAZDIeh"
   },
   "outputs": [],
   "source": [
    "X_train = df[['X']]\n",
    "y_train = df['Y']"
   ]
  },
  {
   "cell_type": "code",
   "execution_count": 34,
   "metadata": {
    "colab": {
     "base_uri": "https://localhost:8080/",
     "height": 33
    },
    "colab_type": "code",
    "executionInfo": {
     "elapsed": 345,
     "status": "ok",
     "timestamp": 1592545702472,
     "user": {
      "displayName": "Changyuan Ni",
      "photoUrl": "",
      "userId": "04363278952278258827"
     },
     "user_tz": 420
    },
    "id": "qyMc3zxtDIiH",
    "outputId": "f3ff733d-e0ef-48ec-bfb9-021eda1562a5"
   },
   "outputs": [
    {
     "data": {
      "text/plain": [
       "(array([51.68371055]), -1.7482159323553503)"
      ]
     },
     "execution_count": 34,
     "metadata": {
      "tags": []
     },
     "output_type": "execute_result"
    }
   ],
   "source": [
    "from sklearn.pipeline import Pipeline\n",
    "from sklearn.linear_model import LinearRegression\n",
    "from sklearn.preprocessing import MinMaxScaler\n",
    "\n",
    "steps = [('Rescale', MinMaxScaler()),\n",
    "         ('lr', LinearRegression()),  ]\n",
    "model = Pipeline(steps)\n",
    "\n",
    "model.fit(X_train, y_train)\n",
    "model[1].coef_, model[1].intercept_"
   ]
  },
  {
   "cell_type": "code",
   "execution_count": 36,
   "metadata": {
    "colab": {
     "base_uri": "https://localhost:8080/",
     "height": 342
    },
    "colab_type": "code",
    "executionInfo": {
     "elapsed": 340,
     "status": "ok",
     "timestamp": 1592547243855,
     "user": {
      "displayName": "Changyuan Ni",
      "photoUrl": "",
      "userId": "04363278952278258827"
     },
     "user_tz": 420
    },
    "id": "U62jmfWmDIpr",
    "outputId": "c9e537db-f204-4821-d8a9-efbd7b845456"
   },
   "outputs": [
    {
     "data": {
      "text/plain": [
       "(array([ 0.09164261,  1.52845925, -1.74821593,  0.39016488,  5.45803274,\n",
       "         7.64044936,  4.48438649, 10.12827338,  9.77647218,  6.58347133,\n",
       "        10.47019162,  9.88110925,  9.54376683, 15.32248864, 17.7519472 ,\n",
       "        12.96641523, 12.79855843, 17.91567146, 19.91494534, 17.34505753,\n",
       "        21.58563891, 21.27042875, 18.56913164, 20.28344738, 21.67940246,\n",
       "        29.06738055, 26.33234355, 27.79962541, 30.0405961 , 29.52451899,\n",
       "        33.46579081, 33.64215382, 31.45025115, 32.09649102, 37.81154319,\n",
       "        34.00499715, 39.13381563, 39.86659786, 38.56613529, 42.61105625,\n",
       "        37.09697447, 38.14998712, 43.88880525, 46.39010554, 41.62203785,\n",
       "        43.54677545, 47.69135424, 44.68340027, 49.93549462, 49.25442596]),\n",
       " array([ 1.44542215,  1.1927937 , -1.61201012,  0.85271732,  4.68327335,\n",
       "         2.0655101 ,  6.12338269,  4.24693369,  4.58573251,  6.60988885,\n",
       "         9.74302668, 14.24518839, 15.83901099, 13.09064546, 13.97466902,\n",
       "        16.4044347 , 14.92339458, 14.28756352, 14.77615491, 20.48902432,\n",
       "        22.90629042, 22.79065479, 23.66312122, 22.8659393 , 25.74255861,\n",
       "        23.18349607, 27.8100084 , 27.7880076 , 30.55959153, 26.34189158,\n",
       "        32.8884197 , 33.13058936, 34.2136892 , 33.64840154, 38.49676657,\n",
       "        33.34250668, 35.12685715, 35.57634918, 35.16086129, 43.02768923,\n",
       "        37.45715484, 42.69446487, 43.90391649, 42.90108648, 41.00388727,\n",
       "        48.65612264, 46.01827748, 48.37251043, 50.66389696, 51.40223081]))"
      ]
     },
     "execution_count": 36,
     "metadata": {
      "tags": []
     },
     "output_type": "execute_result"
    }
   ],
   "source": [
    "y_pred = model.predict(X_train)\n",
    "y_pred, y"
   ]
  },
  {
   "cell_type": "code",
   "execution_count": 37,
   "metadata": {
    "colab": {
     "base_uri": "https://localhost:8080/",
     "height": 305
    },
    "colab_type": "code",
    "executionInfo": {
     "elapsed": 531,
     "status": "ok",
     "timestamp": 1592547304144,
     "user": {
      "displayName": "Changyuan Ni",
      "photoUrl": "",
      "userId": "04363278952278258827"
     },
     "user_tz": 420
    },
    "id": "4Bpak11NDImg",
    "outputId": "e28f86f0-b1b4-45a3-c146-70a6d52d31cb"
   },
   "outputs": [
    {
     "data": {
      "text/plain": [
       "<matplotlib.legend.Legend at 0x7fd8c4884c18>"
      ]
     },
     "execution_count": 37,
     "metadata": {
      "tags": []
     },
     "output_type": "execute_result"
    },
    {
     "data": {
      "image/png": "[encoded data removed]",
      "text/plain": [
       "<Figure size 432x288 with 1 Axes>"
      ]
     },
     "metadata": {
      "needs_background": "light",
      "tags": []
     },
     "output_type": "display_data"
    }
   ],
   "source": [
    "plt.plot(x, y, 'ro', label ='Original data') \n",
    "plt.plot(x, y_pred, label ='Fitted line') \n",
    "plt.title('Linear Regression Result') \n",
    "plt.legend() \n",
    "#plt.show() "
   ]
  },
  {
   "cell_type": "markdown",
   "metadata": {
    "colab_type": "text",
    "id": "DXzGKvZYSfsd"
   },
   "source": [
    "3. Now, it's time to advance to exploring linear regression with ANN !!!\n"
   ]
  },
  {
   "cell_type": "code",
   "execution_count": 47,
   "metadata": {
    "colab": {},
    "colab_type": "code",
    "executionInfo": {
     "elapsed": 1144,
     "status": "ok",
     "timestamp": 1592453867230,
     "user": {
      "displayName": "Changyuan Ni",
      "photoUrl": "",
      "userId": "04363278952278258827"
     },
     "user_tz": 420
    },
    "id": "d_zEgPgBnlq3"
   },
   "outputs": [],
   "source": [
    "# Define the placeholders for x & y\n",
    "X = tf.placeholder(\"float\")\n",
    "Y = tf.placeholder(\"float\")\n",
    "\n",
    "# Define 2 trainable Tensorflow variables for bias and weights. np.random.randn() will initialize them randomly\n",
    "W = tf.Variable(np.random.randn(), name = \"W\")\n",
    "b = tf.Variable(np.random.randn(), name = \"b\")\n",
    "\n",
    "# Define model's hyperparameters: Number of Epochs & the learning Rate\n",
    "learning_rate = 0.01\n",
    "training_epochs = 1000"
   ]
  },
  {
   "cell_type": "code",
   "execution_count": 48,
   "metadata": {
    "colab": {},
    "colab_type": "code",
    "executionInfo": {
     "elapsed": 1137,
     "status": "ok",
     "timestamp": 1592453867231,
     "user": {
      "displayName": "Changyuan Ni",
      "photoUrl": "",
      "userId": "04363278952278258827"
     },
     "user_tz": 420
    },
    "id": "oQAqFkM1nJG0"
   },
   "outputs": [],
   "source": [
    "# Build the cost optimizer, cost function, and the hypothesis. We are not going to implement the Gradient Descent Optimizer manually. That's because it's in-built. Now it's time to initianize the variables.\n",
    "\n",
    "#Hypothesis\n",
    "y_pred = tf.add(tf.multiply(X, W), b)\n",
    "\n",
    "# Mean Squared Error Cost Function\n",
    "# a = tf.pow(y_pred-Y, 2)\n",
    "# b = tf.reduce_sum(a)\n",
    "# c = b/(2*n)\n",
    "cost = tf.reduce_sum(tf.pow(y_pred-Y, 2)) / (2 * n)\n",
    "\n",
    "# Gradient Descent Optimizer\n",
    "optimizer = tf.train.GradientDescentOptimizer(learning_rate).minimize(cost)\n",
    "\n",
    "# Global Variables Initializer\n",
    "init = tf.global_variables_initializer()"
   ]
  },
  {
   "cell_type": "code",
   "execution_count": 49,
   "metadata": {
    "colab": {
     "base_uri": "https://localhost:8080/",
     "height": 342
    },
    "colab_type": "code",
    "executionInfo": {
     "elapsed": 23199,
     "status": "ok",
     "timestamp": 1592453889302,
     "user": {
      "displayName": "Changyuan Ni",
      "photoUrl": "",
      "userId": "04363278952278258827"
     },
     "user_tz": 420
    },
    "id": "yoM7x9E5x4iT",
    "outputId": "d26a0193-96ca-4f57-af0f-9b0b583bf16b"
   },
   "outputs": [
    {
     "name": "stdout",
     "output_type": "stream",
     "text": [
      "Epoch 50 : cost = 5.886804 W = 0.9951241 b = 1.2381054\n",
      "Epoch 100 : cost = 5.7912707 W = 0.99812365 b = 1.0914398\n",
      "Epoch 150 : cost = 5.7119684 W = 1.0008028 b = 0.96044314\n",
      "Epoch 200 : cost = 5.6459413 W = 1.0031956 b = 0.8434396\n",
      "Epoch 250 : cost = 5.5907993 W = 1.0053328 b = 0.73893565\n",
      "Epoch 300 : cost = 5.544605 W = 1.0072418 b = 0.6455924\n",
      "Epoch 350 : cost = 5.5057893 W = 1.008947 b = 0.56222016\n",
      "Epoch 400 : cost = 5.473066 W = 1.01047 b = 0.48775372\n",
      "Epoch 450 : cost = 5.445385 W = 1.0118302 b = 0.42124188\n",
      "Epoch 500 : cost = 5.4219036 W = 1.0130452 b = 0.36183503\n",
      "Epoch 550 : cost = 5.4019217 W = 1.0141305 b = 0.3087744\n",
      "Epoch 600 : cost = 5.3848577 W = 1.0150996 b = 0.26138142\n",
      "Epoch 650 : cost = 5.370246 W = 1.0159653 b = 0.21905117\n",
      "Epoch 700 : cost = 5.3576994 W = 1.0167387 b = 0.18124233\n",
      "Epoch 750 : cost = 5.346891 W = 1.0174292 b = 0.14747268\n",
      "Epoch 800 : cost = 5.337558 W = 1.0180461 b = 0.11730959\n",
      "Epoch 850 : cost = 5.3294754 W = 1.0185971 b = 0.09036876\n",
      "Epoch 900 : cost = 5.322459 W = 1.0190892 b = 0.06630599\n",
      "Epoch 950 : cost = 5.3163586 W = 1.0195289 b = 0.044813465\n",
      "Epoch 1000 : cost = 5.3110337 W = 1.0199214 b = 0.02561676\n"
     ]
    }
   ],
   "source": [
    "# Now we will begin the training process inside a Tensorflow Session.\n",
    "# Starting the Tensorflow Session \n",
    "with tf.Session() as sess: \n",
    "      \n",
    "    # Initializing the Variables \n",
    "    sess.run(init) \n",
    "      \n",
    "    # Iterating through all the epochs \n",
    "    for epoch in range(training_epochs): \n",
    "          \n",
    "        # Feeding each data point into the optimizer using Feed Dictionary \n",
    "        for (_x, _y) in zip(x, y): \n",
    "            sess.run(optimizer, feed_dict = {X : _x, Y : _y}) \n",
    "          \n",
    "        # Displaying the result after every 50 epochs \n",
    "        if (epoch + 1) % 50 == 0: \n",
    "            # Calculating the cost a every epoch \n",
    "            c = sess.run(cost, feed_dict = {X : x, Y : y}) \n",
    "            print(\"Epoch\", (epoch + 1), \": cost =\", c, \"W =\", sess.run(W), \"b =\", sess.run(b)) \n",
    "      \n",
    "    # Storing necessary values to be used outside the Session \n",
    "    training_cost = sess.run(cost, feed_dict ={X: x, Y: y}) \n",
    "    weight = sess.run(W) \n",
    "    bias = sess.run(b) \n",
    "\n",
    "\n"
   ]
  },
  {
   "cell_type": "code",
   "execution_count": 50,
   "metadata": {
    "colab": {
     "base_uri": "https://localhost:8080/",
     "height": 50
    },
    "colab_type": "code",
    "executionInfo": {
     "elapsed": 23192,
     "status": "ok",
     "timestamp": 1592453889304,
     "user": {
      "displayName": "Changyuan Ni",
      "photoUrl": "",
      "userId": "04363278952278258827"
     },
     "user_tz": 420
    },
    "id": "RVivGovX8OIx",
    "outputId": "29735380-1347-4bcf-ec5a-da88a0458e4b"
   },
   "outputs": [
    {
     "name": "stdout",
     "output_type": "stream",
     "text": [
      "Training cost = 5.3110337 Weight = 1.0199214 bias = 0.02561676 \n",
      "\n"
     ]
    }
   ],
   "source": [
    "# Now let us look at the result.\n",
    "# Calculating the predictions \n",
    "predictions = weight * x + bias \n",
    "print(\"Training cost =\", training_cost, \"Weight =\", weight, \"bias =\", bias, '\\n') \n"
   ]
  },
  {
   "cell_type": "code",
   "execution_count": 51,
   "metadata": {
    "colab": {
     "base_uri": "https://localhost:8080/",
     "height": 281
    },
    "colab_type": "code",
    "executionInfo": {
     "elapsed": 23423,
     "status": "ok",
     "timestamp": 1592453889550,
     "user": {
      "displayName": "Changyuan Ni",
      "photoUrl": "",
      "userId": "04363278952278258827"
     },
     "user_tz": 420
    },
    "id": "KyxmSNph9B0K",
    "outputId": "61cf5631-1edb-4713-c1c6-0a7abbd5747f"
   },
   "outputs": [
    {
     "data": {
      "image/png": "[encoded data removed]",
      "text/plain": [
       "<Figure size 432x288 with 1 Axes>"
      ]
     },
     "metadata": {
      "needs_background": "light",
      "tags": []
     },
     "output_type": "display_data"
    }
   ],
   "source": [
    "# Finally, we will plot our result.\n",
    "# Plotting the Results \n",
    "plt.plot(x, y, 'ro', label ='Original data') \n",
    "plt.plot(x, predictions, label ='Fitted line') \n",
    "plt.title('Linear Regression Result') \n",
    "plt.legend() \n",
    "plt.show() \n"
   ]
  },
  {
   "cell_type": "code",
   "execution_count": 51,
   "metadata": {
    "colab": {},
    "colab_type": "code",
    "executionInfo": {
     "elapsed": 23419,
     "status": "ok",
     "timestamp": 1592453889553,
     "user": {
      "displayName": "Changyuan Ni",
      "photoUrl": "",
      "userId": "04363278952278258827"
     },
     "user_tz": 420
    },
    "id": "QXPmCHZx9G9h"
   },
   "outputs": [],
   "source": []
  }
 ],
 "metadata": {
  "colab": {
   "authorship_tag": "ABX9TyMktVCUIZG5kRFb/61csRKN",
   "name": "lr_ANN.ipynb",
   "provenance": []
  },
  "kernelspec": {
   "display_name": "Python 3",
   "language": "python",
   "name": "python3"
  },
  "language_info": {
   "codemirror_mode": {
    "name": "ipython",
    "version": 3
   },
   "file_extension": ".py",
   "mimetype": "text/x-python",
   "name": "python",
   "nbconvert_exporter": "python",
   "pygments_lexer": "ipython3",
   "version": "3.7.4"
  }
 },
 "nbformat": 4,
 "nbformat_minor": 1
}
