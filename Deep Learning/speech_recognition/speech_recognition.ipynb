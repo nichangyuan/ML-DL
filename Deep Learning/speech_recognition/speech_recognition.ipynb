{
 "cells": [
  {
   "cell_type": "markdown",
   "metadata": {},
   "source": [
    "## Speech Recognition With Python\n",
    "[link](https://realpython.com/python-speech-recognition/#how-speech-recognition-works-an-overview)"
   ]
  },
  {
   "cell_type": "code",
   "execution_count": 1,
   "metadata": {},
   "outputs": [
    {
     "name": "stdout",
     "output_type": "stream",
     "text": [
      "Requirement already satisfied: SpeechRecognition in c:\\users\\chang\\.conda\\envs\\tensorflow\\lib\\site-packages (3.8.1)\n"
     ]
    }
   ],
   "source": [
    "!pip install SpeechRecognition"
   ]
  },
  {
   "cell_type": "code",
   "execution_count": 2,
   "metadata": {},
   "outputs": [
    {
     "data": {
      "text/plain": [
       "'3.8.1'"
      ]
     },
     "execution_count": 2,
     "metadata": {},
     "output_type": "execute_result"
    }
   ],
   "source": [
    "import speech_recognition as sr\n",
    "sr.__version__"
   ]
  },
  {
   "cell_type": "code",
   "execution_count": 3,
   "metadata": {},
   "outputs": [],
   "source": [
    "r = sr.Recognizer()"
   ]
  },
  {
   "cell_type": "markdown",
   "metadata": {},
   "source": [
    "### Working With Audio Files"
   ]
  },
  {
   "cell_type": "code",
   "execution_count": 4,
   "metadata": {},
   "outputs": [
    {
     "data": {
      "text/plain": [
       "speech_recognition.AudioData"
      ]
     },
     "execution_count": 4,
     "metadata": {},
     "output_type": "execute_result"
    }
   ],
   "source": [
    "harvard = sr.AudioFile('./data/harvard.wav')\n",
    "with harvard as source:\n",
    "    audio = r.record(source)\n",
    "\n",
    "type(audio)"
   ]
  },
  {
   "cell_type": "code",
   "execution_count": 5,
   "metadata": {},
   "outputs": [
    {
     "data": {
      "text/plain": [
       "'the stale smell of old beer lingers it takes heat to bring out the odor a cold dip restores health and zest a salt pickle taste fine with ham tacos al Pastore are my favorite a zestful food is be hot cross bun'"
      ]
     },
     "execution_count": 5,
     "metadata": {},
     "output_type": "execute_result"
    }
   ],
   "source": [
    "# Note, you can play this audio (harvard.wav) on Windows Media Player, so that you can compare how precise the following Speech Reconition does!\n",
    "\n",
    "r.recognize_google(audio)"
   ]
  },
  {
   "cell_type": "markdown",
   "metadata": {},
   "source": [
    "### Capturing Segments With offset and duration"
   ]
  },
  {
   "cell_type": "code",
   "execution_count": 6,
   "metadata": {},
   "outputs": [
    {
     "name": "stdout",
     "output_type": "stream",
     "text": [
      "the stale smell of old beer lingers\n"
     ]
    }
   ],
   "source": [
    "with harvard as source:\n",
    "     audio = r.record(source, duration=4)  # duration keyword argument that stops the recording after a specified number of seconds.\n",
    "\n",
    "print(r.recognize_google(audio) )"
   ]
  },
  {
   "cell_type": "code",
   "execution_count": 7,
   "metadata": {},
   "outputs": [
    {
     "name": "stdout",
     "output_type": "stream",
     "text": [
      "the stale smell of old beer lingers\n",
      "it takes heat to bring out the odor a cold dip\n"
     ]
    }
   ],
   "source": [
    "with harvard as source:\n",
    "     audio1 = r.record(source, duration=4)\n",
    "     audio2 = r.record(source, duration=4)\n",
    "\n",
    "print(r.recognize_google(audio1))\n",
    "print(r.recognize_google(audio2))"
   ]
  },
  {
   "cell_type": "code",
   "execution_count": 8,
   "metadata": {},
   "outputs": [
    {
     "name": "stdout",
     "output_type": "stream",
     "text": [
      "it takes heat to bring out the odor\n"
     ]
    }
   ],
   "source": [
    "with harvard as source:\n",
    "     audio = r.record(source, offset=4, duration=3)\n",
    "\n",
    "print(r.recognize_google(audio) )"
   ]
  },
  {
   "cell_type": "code",
   "execution_count": 9,
   "metadata": {},
   "outputs": [
    {
     "name": "stdout",
     "output_type": "stream",
     "text": [
      "Peta bring out the odor ecole\n"
     ]
    }
   ],
   "source": [
    "# be aware that inappropriate offset can have poor transcriptions:\n",
    "with harvard as source:\n",
    "     audio = r.record(source, offset=4.8, duration=2.8)\n",
    "\n",
    "print(r.recognize_google(audio) )"
   ]
  },
  {
   "cell_type": "markdown",
   "metadata": {},
   "source": [
    "### The Effect of Noise on Speech Recognition"
   ]
  },
  {
   "cell_type": "code",
   "execution_count": 10,
   "metadata": {},
   "outputs": [
    {
     "data": {
      "text/plain": [
       "'the snail smelly old gear vendors'"
      ]
     },
     "execution_count": 10,
     "metadata": {},
     "output_type": "execute_result"
    }
   ],
   "source": [
    "jackhammer = sr.AudioFile('./data/jackhammer.wav')\n",
    "with jackhammer as source:\n",
    "     audio = r.record(source)\n",
    "\n",
    "r.recognize_google(audio)"
   ]
  },
  {
   "cell_type": "code",
   "execution_count": 11,
   "metadata": {},
   "outputs": [
    {
     "data": {
      "text/plain": [
       "'still smell like old beer drinkers'"
      ]
     },
     "execution_count": 11,
     "metadata": {},
     "output_type": "execute_result"
    }
   ],
   "source": [
    "#One thing you can try is using the adjust_for_ambient_noise() method of the Recognizer class\n",
    "with jackhammer as source:\n",
    "     r.adjust_for_ambient_noise(source)\n",
    "     audio = r.record(source)\n",
    "\n",
    "r.recognize_google(audio)"
   ]
  },
  {
   "cell_type": "code",
   "execution_count": 12,
   "metadata": {},
   "outputs": [
    {
     "data": {
      "text/plain": [
       "'the stale smell of old gear vendors'"
      ]
     },
     "execution_count": 12,
     "metadata": {},
     "output_type": "execute_result"
    }
   ],
   "source": [
    "#You can adjust the time-frame that adjust_for_ambient_noise() uses for analysis with the duration keyword argument\n",
    "with jackhammer as source:\n",
    "     r.adjust_for_ambient_noise(source, duration=0.5)\n",
    "     audio = r.record(source)\n",
    "\n",
    "r.recognize_google(audio)"
   ]
  },
  {
   "cell_type": "code",
   "execution_count": 13,
   "metadata": {},
   "outputs": [],
   "source": [
    "# If you find yourself running up against these issues frequently, you may have to resort to some pre-processing of the audio. \n",
    "# This can be done with audio editing software or a Python package (such as SciPy) that can apply filters to the files.\n",
    "# For now, just be aware that ambient noise in an audio file can cause problems and must be addressed in order to maximize \n",
    "# the accuracy of speech recognition."
   ]
  },
  {
   "cell_type": "code",
   "execution_count": 14,
   "metadata": {},
   "outputs": [
    {
     "data": {
      "text/plain": [
       "{'alternative': [{'transcript': 'does still smell old gear vendors',\n",
       "   'confidence': 0.78407794},\n",
       "  {'transcript': 'the snail smelly old gear vendors'},\n",
       "  {'transcript': 'the still smell old gear vendors'},\n",
       "  {'transcript': 'the still smell of old gear vendors'},\n",
       "  {'transcript': 'the snail smell of old gear vendors'}],\n",
       " 'final': True}"
      ]
     },
     "execution_count": 14,
     "metadata": {},
     "output_type": "execute_result"
    }
   ],
   "source": [
    "r.recognize_google(audio, show_all=True)"
   ]
  },
  {
   "cell_type": "markdown",
   "metadata": {},
   "source": [
    "## <font color=red>Working With Microphones</font>"
   ]
  },
  {
   "cell_type": "code",
   "execution_count": 15,
   "metadata": {},
   "outputs": [
    {
     "name": "stdout",
     "output_type": "stream",
     "text": [
      "Requirement already satisfied: pyaudio in c:\\users\\chang\\.conda\\envs\\tensorflow\\lib\\site-packages (0.2.11)\n"
     ]
    }
   ],
   "source": [
    "!pip install pyaudio\n",
    "# Note: For this installation, it did not work for me in this way. Finally I installed it manually at Anaconda env 'tensorflow' \n",
    "# which is where this notebook is running at"
   ]
  },
  {
   "cell_type": "code",
   "execution_count": 17,
   "metadata": {},
   "outputs": [],
   "source": [
    "import speech_recognition as sr\n",
    "r = sr.Recognizer()"
   ]
  },
  {
   "cell_type": "code",
   "execution_count": 18,
   "metadata": {},
   "outputs": [],
   "source": [
    "mic = sr.Microphone()"
   ]
  },
  {
   "cell_type": "code",
   "execution_count": 19,
   "metadata": {},
   "outputs": [
    {
     "data": {
      "text/plain": [
       "['Microsoft Sound Mapper - Input',\n",
       " 'Headset Microphone (Plantronics',\n",
       " 'Microphone Array (Synaptics Aud',\n",
       " 'Microsoft Sound Mapper - Output',\n",
       " 'Headset Earphone (Plantronics B',\n",
       " 'Speakers (Synaptics Audio)',\n",
       " 'Microphone 1 (Synaptics Audio capture)',\n",
       " 'Microphone 2 (Synaptics Audio capture)',\n",
       " 'Microphone 3 (Synaptics Audio capture)',\n",
       " 'Output 1 (Synaptics Audio headphone)',\n",
       " 'Output 2 (Synaptics Audio headphone)',\n",
       " 'Input (Synaptics Audio headphone)',\n",
       " 'Microphone Array 1 (Synaptics Audio capture)',\n",
       " 'Microphone Array 2 (Synaptics Audio capture)',\n",
       " 'Microphone Array 3 (Synaptics Audio capture)',\n",
       " 'Output 1 (Synaptics Audio output)',\n",
       " 'Output 2 (Synaptics Audio output)',\n",
       " 'Input (Synaptics Audio output)',\n",
       " 'Headset Microphone (Plantronics BT600)',\n",
       " 'Headset Earphone (Plantronics BT600)']"
      ]
     },
     "execution_count": 19,
     "metadata": {},
     "output_type": "execute_result"
    }
   ],
   "source": [
    "sr.Microphone.list_microphone_names()"
   ]
  },
  {
   "cell_type": "code",
   "execution_count": null,
   "metadata": {},
   "outputs": [],
   "source": [
    "# from above devices index you choose any device of microphones eg: mic = sr.Microphone(device_index=1) will pick Plantronics\n",
    "# or do nothing to let the software to pick the default device"
   ]
  },
  {
   "cell_type": "code",
   "execution_count": 34,
   "metadata": {},
   "outputs": [],
   "source": [
    "with mic as source:\n",
    "     audio = r.listen(source)"
   ]
  },
  {
   "cell_type": "code",
   "execution_count": 36,
   "metadata": {},
   "outputs": [
    {
     "data": {
      "text/plain": [
       "\"hello good morning I'm Chuck I'm from Mountain View California\""
      ]
     },
     "execution_count": 36,
     "metadata": {},
     "output_type": "execute_result"
    }
   ],
   "source": [
    "r.recognize_google(audio)"
   ]
  },
  {
   "cell_type": "code",
   "execution_count": null,
   "metadata": {},
   "outputs": [],
   "source": [
    "# To handle ambient noise, you’ll need to use the adjust_for_ambient_noise() method of the Recognizer class, just like mentioned above\n",
    "with mic as source:\n",
    "     r.adjust_for_ambient_noise(source)\n",
    "     audio = r.listen(source)"
   ]
  },
  {
   "cell_type": "code",
   "execution_count": null,
   "metadata": {},
   "outputs": [],
   "source": [
    "# After running the above code, wait a second for adjust_for_ambient_noise() to do its thing, then try speaking “hello” into the\n",
    "# microphone. Again, you will have to wait a moment for the interpreter prompt to return before trying to recognize the speech.\n",
    "\n",
    "# Audio that cannot be matched to text by the API raises an UnknownValueError exception. "
   ]
  },
  {
   "cell_type": "code",
   "execution_count": 37,
   "metadata": {},
   "outputs": [
    {
     "name": "stdout",
     "output_type": "stream",
     "text": [
      "hello good morning I'm Chuck I'm from Mountain View California\n"
     ]
    }
   ],
   "source": [
    "text = r.recognize_google(audio)\n",
    "print(text)"
   ]
  },
  {
   "cell_type": "code",
   "execution_count": null,
   "metadata": {},
   "outputs": [],
   "source": []
  },
  {
   "cell_type": "code",
   "execution_count": null,
   "metadata": {},
   "outputs": [],
   "source": []
  },
  {
   "cell_type": "code",
   "execution_count": null,
   "metadata": {},
   "outputs": [],
   "source": []
  },
  {
   "cell_type": "code",
   "execution_count": null,
   "metadata": {},
   "outputs": [],
   "source": []
  },
  {
   "cell_type": "code",
   "execution_count": null,
   "metadata": {},
   "outputs": [],
   "source": []
  }
 ],
 "metadata": {
  "kernelspec": {
   "display_name": "Python 3",
   "language": "python",
   "name": "python3"
  },
  "language_info": {
   "codemirror_mode": {
    "name": "ipython",
    "version": 3
   },
   "file_extension": ".py",
   "mimetype": "text/x-python",
   "name": "python",
   "nbconvert_exporter": "python",
   "pygments_lexer": "ipython3",
   "version": "3.7.7"
  }
 },
 "nbformat": 4,
 "nbformat_minor": 4
}
