{
 "cells": [
  {
   "cell_type": "code",
   "execution_count": 1,
   "metadata": {},
   "outputs": [],
   "source": [
    "import numpy as np\n",
    "import math\n",
    "import re\n",
    "import pandas as pd\n",
    "from bs4 import BeautifulSoup\n",
    "\n",
    "import matplotlib.pyplot as plt\n",
    "%matplotlib inline\n",
    "import seaborn as sns\n",
    "from sklearn.preprocessing import MinMaxScaler\n",
    "from sklearn.model_selection import train_test_split\n",
    "\n",
    "pd.set_option('display.max_rows', 999)"
   ]
  },
  {
   "cell_type": "code",
   "execution_count": 2,
   "metadata": {},
   "outputs": [],
   "source": [
    "#from imblearn.over_sampling import SMOTE\n",
    "#from imblearn.pipeline import Pipeline"
   ]
  },
  {
   "cell_type": "code",
   "execution_count": 3,
   "metadata": {},
   "outputs": [],
   "source": [
    "data = pd.read_csv(\n",
    "    \"../data/JD5000_NLP.csv\",\n",
    "    engine=\"python\",\n",
    "    encoding=\"latin1\"\n",
    ")\n",
    "data.drop(columns=['Unnamed: 0'], axis = 1, inplace = True)\n",
    "#data.head(300)"
   ]
  },
  {
   "cell_type": "code",
   "execution_count": 4,
   "metadata": {},
   "outputs": [],
   "source": [
    "data = data.loc[data['search_title'] != 'machine learning engineer']\n",
    "#print(len(data), len(data2))"
   ]
  },
  {
   "cell_type": "code",
   "execution_count": 5,
   "metadata": {},
   "outputs": [],
   "source": [
    "#Label Encoder from characters to numeric\n",
    "from sklearn.preprocessing import LabelEncoder\n",
    "from sklearn.preprocessing import label_binarize\n",
    "\n",
    "le = LabelEncoder()\n",
    "le.fit(data[\"search_title\"])\n",
    "data['search_title_le'] = le.transform(data[\"search_title\"])\n",
    "#data = data.loc[data['search_title_le'] != 3]\n",
    "#data.head(100)"
   ]
  },
  {
   "cell_type": "code",
   "execution_count": 6,
   "metadata": {},
   "outputs": [
    {
     "data": {
      "text/plain": [
       "array(['data analyst', 'data engineer', 'data scientist'], dtype=object)"
      ]
     },
     "execution_count": 6,
     "metadata": {},
     "output_type": "execute_result"
    }
   ],
   "source": [
    "le.classes_"
   ]
  },
  {
   "cell_type": "code",
   "execution_count": 7,
   "metadata": {},
   "outputs": [
    {
     "data": {
      "text/plain": [
       "{0: 'data analyst', 1: 'data engineer', 2: 'data scientist'}"
      ]
     },
     "execution_count": 7,
     "metadata": {},
     "output_type": "execute_result"
    }
   ],
   "source": [
    "jd_dict = {0: le.classes_[0], 1: le.classes_[1], 2: le.classes_[2], }\n",
    "jd_dict"
   ]
  },
  {
   "cell_type": "code",
   "execution_count": 8,
   "metadata": {},
   "outputs": [
    {
     "data": {
      "text/plain": [
       "3"
      ]
     },
     "execution_count": 8,
     "metadata": {},
     "output_type": "execute_result"
    }
   ],
   "source": [
    "n_classes = len(jd_dict)\n",
    "n_classes"
   ]
  },
  {
   "cell_type": "code",
   "execution_count": 9,
   "metadata": {},
   "outputs": [
    {
     "data": {
      "text/plain": [
       "array([[1, 0, 0],\n",
       "       [0, 1, 0],\n",
       "       [0, 1, 0],\n",
       "       ...,\n",
       "       [0, 1, 0],\n",
       "       [0, 0, 1],\n",
       "       [1, 0, 0]])"
      ]
     },
     "execution_count": 9,
     "metadata": {},
     "output_type": "execute_result"
    }
   ],
   "source": [
    "y_roc = label_binarize(data['search_title_le'] , classes=[0,1,2])\n",
    "y_roc"
   ]
  },
  {
   "cell_type": "code",
   "execution_count": 10,
   "metadata": {},
   "outputs": [],
   "source": [
    "# tst = set(le.transform(data[\"search_title\"]))\n",
    "# set(le.transform(data[\"search_title\"]))"
   ]
  },
  {
   "cell_type": "code",
   "execution_count": 11,
   "metadata": {},
   "outputs": [],
   "source": [
    "#le.inverse_transform(list(tst))"
   ]
  },
  {
   "cell_type": "code",
   "execution_count": 12,
   "metadata": {},
   "outputs": [],
   "source": [
    "#data['search_title_le'].value_counts()"
   ]
  },
  {
   "cell_type": "code",
   "execution_count": 13,
   "metadata": {},
   "outputs": [],
   "source": [
    "#cleaning\n",
    "def clean_text(text):\n",
    "    # Removing the @\n",
    "    text = re.sub(r\"@[A-Za-z0-9]+\", ' ', text)\n",
    "    # Removing the URL links\n",
    "    text = re.sub(r\"https?://[A-Za-z0-9./]+\", ' ', text)\n",
    "    # Keeping only letters\n",
    "    text = re.sub(r\"[^a-zA-Z.!?']\", ' ', text)\n",
    "    # change capital to lowercase\n",
    "    text = text.lower()\n",
    "    # Removing additional whitespaces\n",
    "    text = re.sub(r\" +\", ' ', text)\n",
    "    return text"
   ]
  },
  {
   "cell_type": "code",
   "execution_count": 14,
   "metadata": {},
   "outputs": [],
   "source": [
    "data_clean = [clean_text(text) for text in data.description]\n",
    "#len(data_clean), data_clean"
   ]
  },
  {
   "cell_type": "code",
   "execution_count": 15,
   "metadata": {},
   "outputs": [],
   "source": [
    "data_labels = data['search_title_le']\n",
    "#data_labels, len(data_labels)\n",
    "#data_labels[data_labels == 1] = 5\n",
    "#data_labels"
   ]
  },
  {
   "cell_type": "code",
   "execution_count": 16,
   "metadata": {},
   "outputs": [],
   "source": [
    "X = data[\"description\"] # Note that it is a Series rather than a DataFrame here\n",
    "y = data['search_title_le']"
   ]
  },
  {
   "cell_type": "code",
   "execution_count": 17,
   "metadata": {},
   "outputs": [],
   "source": [
    "X_train, X_test, y_train, y_test = train_test_split(X, y, test_size=0.3, random_state=2020)"
   ]
  },
  {
   "cell_type": "code",
   "execution_count": 18,
   "metadata": {},
   "outputs": [],
   "source": [
    "#y_train"
   ]
  },
  {
   "cell_type": "code",
   "execution_count": 19,
   "metadata": {},
   "outputs": [],
   "source": [
    "# from sklearn.pipeline import Pipeline\n",
    "# from sklearn.linear_model import LogisticRegression\n",
    "# from sklearn.metrics import classification_report"
   ]
  },
  {
   "cell_type": "code",
   "execution_count": 20,
   "metadata": {},
   "outputs": [],
   "source": [
    "from sklearn.feature_extraction.text import TfidfVectorizer\n",
    "from nltk.corpus import stopwords\n",
    "from nltk.stem.snowball import EnglishStemmer\n",
    "import re"
   ]
  },
  {
   "cell_type": "code",
   "execution_count": 21,
   "metadata": {},
   "outputs": [
    {
     "name": "stderr",
     "output_type": "stream",
     "text": [
      "[nltk_data] Downloading package stopwords to\n",
      "[nltk_data]     /Users/nichangyuan/nltk_data...\n",
      "[nltk_data]   Package stopwords is already up-to-date!\n"
     ]
    },
    {
     "data": {
      "text/plain": [
       "True"
      ]
     },
     "execution_count": 21,
     "metadata": {},
     "output_type": "execute_result"
    }
   ],
   "source": [
    "import nltk\n",
    "nltk.download('stopwords')"
   ]
  },
  {
   "cell_type": "code",
   "execution_count": 22,
   "metadata": {},
   "outputs": [],
   "source": [
    "def stem_tokenizer(text):\n",
    "    stemmer = EnglishStemmer(ignore_stopwords=True)\n",
    "    # Removing the URL links\n",
    "    words = re.sub(r\"https?://[A-Za-z0-9./]+\", ' ', text)\n",
    "    words = re.sub(r\"[^A-Za-z0-9\\-]\", \" \", words).lower().split()\n",
    "    words = [stemmer.stem(word) for word in words]\n",
    "    return words"
   ]
  },
  {
   "cell_type": "code",
   "execution_count": 23,
   "metadata": {},
   "outputs": [],
   "source": [
    "tfidf = TfidfVectorizer(stop_words=stopwords.words('english'),\n",
    "                        tokenizer=stem_tokenizer,\n",
    "                        lowercase=True,\n",
    "                        max_df=0.9,\n",
    "                        min_df=1,\n",
    "                        ngram_range=(1, 3)\n",
    "                       )"
   ]
  },
  {
   "cell_type": "code",
   "execution_count": 24,
   "metadata": {},
   "outputs": [],
   "source": [
    "#X_train, y_train"
   ]
  },
  {
   "cell_type": "code",
   "execution_count": 25,
   "metadata": {},
   "outputs": [],
   "source": [
    "# Naive Bayes"
   ]
  },
  {
   "cell_type": "code",
   "execution_count": 26,
   "metadata": {},
   "outputs": [],
   "source": [
    "from sklearn.naive_bayes import MultinomialNB\n",
    "from sklearn.feature_extraction.text import CountVectorizer\n",
    "from sklearn.metrics import classification_report"
   ]
  },
  {
   "cell_type": "code",
   "execution_count": 27,
   "metadata": {},
   "outputs": [],
   "source": [
    "from imblearn.over_sampling import SMOTE\n",
    "from imblearn.pipeline import Pipeline"
   ]
  },
  {
   "cell_type": "code",
   "execution_count": 28,
   "metadata": {},
   "outputs": [],
   "source": [
    "cv = CountVectorizer(stop_words=stopwords.words('english'),\n",
    "                     tokenizer=stem_tokenizer,\n",
    "                     lowercase=True,\n",
    "                     max_df=0.4,\n",
    "                     min_df=5,\n",
    "                     ngram_range=(2, 3),\n",
    "                     binary=False\n",
    "                    )"
   ]
  },
  {
   "cell_type": "code",
   "execution_count": 29,
   "metadata": {},
   "outputs": [],
   "source": [
    "nbclassifier = Pipeline([('cv', cv),  \n",
    "\n",
    "                         ('nb', MultinomialNB())\n",
    "                        ])"
   ]
  },
  {
   "cell_type": "code",
   "execution_count": 30,
   "metadata": {
    "scrolled": true
   },
   "outputs": [],
   "source": [
    "nbclassifier = nbclassifier.fit(X_train, y_train)"
   ]
  },
  {
   "cell_type": "code",
   "execution_count": 31,
   "metadata": {
    "scrolled": true
   },
   "outputs": [
    {
     "name": "stdout",
     "output_type": "stream",
     "text": [
      "              precision    recall  f1-score   support\n",
      "\n",
      "           0       0.90      0.90      0.90       645\n",
      "           1       0.92      0.79      0.85       397\n",
      "           2       0.78      0.88      0.83       409\n",
      "\n",
      "    accuracy                           0.86      1451\n",
      "   macro avg       0.86      0.86      0.86      1451\n",
      "weighted avg       0.87      0.86      0.86      1451\n",
      "\n"
     ]
    }
   ],
   "source": [
    "print(classification_report(y_test, nbclassifier.predict(X_test)))"
   ]
  },
  {
   "cell_type": "code",
   "execution_count": 32,
   "metadata": {},
   "outputs": [],
   "source": [
    "#set(y_test) - set(nbclassifier.predict(X_test))"
   ]
  },
  {
   "cell_type": "code",
   "execution_count": 33,
   "metadata": {},
   "outputs": [
    {
     "name": "stdout",
     "output_type": "stream",
     "text": [
      "y_train Accuracy Rate, which is calculated by accuracy_score() is: 0.946\n",
      "y_test Accuracy Rate, which is calculated by accuracy_score() is: 0.864\n"
     ]
    }
   ],
   "source": [
    "from sklearn.metrics import accuracy_score\n",
    "\n",
    "print (\"y_train Accuracy Rate, which is calculated by accuracy_score() is: %.3f\"\\\n",
    "       %accuracy_score(y_train, nbclassifier.predict(X_train)) )\n",
    "print (\"y_test Accuracy Rate, which is calculated by accuracy_score() is: %.3f\"\\\n",
    "       %accuracy_score(y_test, nbclassifier.predict(X_test)) )"
   ]
  },
  {
   "cell_type": "code",
   "execution_count": 36,
   "metadata": {},
   "outputs": [
    {
     "data": {
      "text/plain": [
       "array([[1434,   18,   50],\n",
       "       [  28,  831,   26],\n",
       "       [  42,   20,  936]])"
      ]
     },
     "execution_count": 36,
     "metadata": {},
     "output_type": "execute_result"
    }
   ],
   "source": [
    "\n",
    "from sklearn.metrics import confusion_matrix\n",
    "cm = confusion_matrix(y_train, nbclassifier.predict(X_train))\n",
    "cm"
   ]
  },
  {
   "cell_type": "code",
   "execution_count": 37,
   "metadata": {},
   "outputs": [
    {
     "data": {
      "text/plain": [
       "array([[581,  15,  49],\n",
       "       [ 31, 313,  53],\n",
       "       [ 36,  13, 360]])"
      ]
     },
     "execution_count": 37,
     "metadata": {},
     "output_type": "execute_result"
    }
   ],
   "source": [
    "cm = confusion_matrix(y_test, nbclassifier.predict(X_test))\n",
    "cm"
   ]
  },
  {
   "cell_type": "code",
   "execution_count": null,
   "metadata": {},
   "outputs": [],
   "source": []
  },
  {
   "cell_type": "code",
   "execution_count": 39,
   "metadata": {
    "scrolled": true
   },
   "outputs": [
    {
     "name": "stderr",
     "output_type": "stream",
     "text": [
      "/Users/nichangyuan/anaconda3/lib/python3.8/site-packages/sklearn/utils/validation.py:68: FutureWarning: Pass classes=[0 1 2] as keyword args. From version 0.25 passing these as positional arguments will result in an error\n",
      "  warnings.warn(\"Pass {} as keyword args. From version 0.25 \"\n"
     ]
    },
    {
     "data": {
      "text/plain": [
       "(array([[6.00656547e-044, 1.58532225e-048, 1.00000000e+000],\n",
       "        [1.00000000e+000, 1.47742916e-066, 1.00000000e+000],\n",
       "        [1.00000000e+000, 5.39692785e-029, 2.05881399e-014],\n",
       "        ...,\n",
       "        [0.00000000e+000, 1.00000000e+000, 0.00000000e+000],\n",
       "        [1.00000000e+000, 0.00000000e+000, 0.00000000e+000],\n",
       "        [7.27037588e-040, 3.76022065e-138, 1.00000000e+000]]),\n",
       " 1451,\n",
       " 1451,\n",
       " array([[0, 0, 1],\n",
       "        [1, 0, 0],\n",
       "        [1, 0, 0],\n",
       "        ...,\n",
       "        [0, 1, 0],\n",
       "        [1, 0, 0],\n",
       "        [0, 0, 1]]))"
      ]
     },
     "execution_count": 39,
     "metadata": {},
     "output_type": "execute_result"
    }
   ],
   "source": [
    "# to get ROC AUC score, we need to do it individually for each class with one-vs-rest approach\n",
    "\n",
    "X_train2, X_test2, y_train2, y_test2 = train_test_split(X, y_roc, test_size=0.3, random_state=2020)\n",
    "\n",
    "# classifier\n",
    "from sklearn.metrics import roc_curve, auc\n",
    "from sklearn.multiclass import OneVsRestClassifier\n",
    "from sklearn.preprocessing import label_binarize\n",
    "\n",
    "clf = OneVsRestClassifier(MultinomialNB())\n",
    "\n",
    "nbclassifier2 = Pipeline([('cv', cv),  \n",
    "                         ('smt', SMOTE (random_state=42)), \n",
    "                         ('nb', OneVsRestClassifier(MultinomialNB()))\n",
    "                        ])\n",
    "\n",
    "nbclassifier2 = nbclassifier2.fit(X_train2, y_train2)\n",
    "\n",
    "y_score = nbclassifier2.predict_proba(X_test)\n",
    "y_score, len(y_score), len(y_test), y_test2"
   ]
  },
  {
   "cell_type": "code",
   "execution_count": 41,
   "metadata": {
    "scrolled": true
   },
   "outputs": [
    {
     "data": {
      "text/plain": [
       "(0.9340739030911573, 0.9385607903679877, 0.9367670316158975)"
      ]
     },
     "execution_count": 41,
     "metadata": {},
     "output_type": "execute_result"
    }
   ],
   "source": [
    "# Compute ROC curve and ROC area for each class\n",
    "fpr = dict()\n",
    "tpr = dict()\n",
    "roc_auc = dict()\n",
    "for i in range(n_classes):\n",
    "    fpr[i], tpr[i], _ = roc_curve(np.int32(y_test2[:, i]), y_score[:, i])\n",
    "    roc_auc[i] = auc(fpr[i], tpr[i])\n",
    "\n",
    "roc_auc[0], roc_auc[1], roc_auc[2]"
   ]
  },
  {
   "cell_type": "code",
   "execution_count": 42,
   "metadata": {},
   "outputs": [
    {
     "data": {
      "image/png": "[encoded data removed]",
      "text/plain": [
       "<Figure size 432x288 with 1 Axes>"
      ]
     },
     "metadata": {
      "needs_background": "light"
     },
     "output_type": "display_data"
    },
    {
     "data": {
      "image/png": "[encoded data removed]",
      "text/plain": [
       "<Figure size 432x288 with 1 Axes>"
      ]
     },
     "metadata": {
      "needs_background": "light"
     },
     "output_type": "display_data"
    },
    {
     "data": {
      "image/png": "[encoded data removed]",
      "text/plain": [
       "<Figure size 432x288 with 1 Axes>"
      ]
     },
     "metadata": {
      "needs_background": "light"
     },
     "output_type": "display_data"
    }
   ],
   "source": [
    "# Plot of a ROC curve for a specific class\n",
    "for i in range(n_classes):\n",
    "    plt.figure()\n",
    "    plt.plot(fpr[i], tpr[i], label='ROC curve (area = %0.2f)' % roc_auc[i])\n",
    "    plt.plot([0, 1], [0, 1], 'k--')\n",
    "    plt.xlim([0.0, 1.0])\n",
    "    plt.ylim([0.0, 1.05])\n",
    "    plt.xlabel('False Positive Rate')\n",
    "    plt.ylabel('True Positive Rate')\n",
    "    plt.title('Receiver operating characteristic example')\n",
    "    plt.legend(loc=\"lower right\")\n",
    "    plt.show()"
   ]
  },
  {
   "cell_type": "code",
   "execution_count": null,
   "metadata": {},
   "outputs": [],
   "source": []
  },
  {
   "cell_type": "code",
   "execution_count": null,
   "metadata": {},
   "outputs": [],
   "source": []
  },
  {
   "cell_type": "code",
   "execution_count": 43,
   "metadata": {},
   "outputs": [],
   "source": [
    "test = pd.Series(\"\"\"The world is facing a medical crisis, bacteria are increasingly evolving resistance to even our strongest antibiotics. The problem is already very real and immediate; for example, bloodstream infection leading to sepsis is now responsible for more than half of all deaths in hospitals and is the most expensive condition treated in hospitals. Sepsis mortality rate increases >6% every hour without effective antibiotic treatment. Yet, despite the life and death urgency, and healthcare cost impacts, current methodologies require 3 days to determine the correct antibiotic.\n",
    "\n",
    "Specific Diagnostics has developed a breakthrough solution to rapidly determine the effective antibiotic treatment for bloodstream and other acute infections. Used for bloodstream infection Specific’s solution provides results 2 days sooner than existing methods, saving patients suffering from drug-resistant infection.\n",
    "\n",
    "We have been funded by nearly $30 M in non-dilutive government sponsored research support and recently $17.5 M in venture capital. This is an opportunity to join us at an inflection point in our commercial growth as we bring our first key product to market and with recognition from major customers fueling an expansion of our staff.\n",
    "\n",
    "_The Job_\n",
    "**This is the job for you if want to be where your ideas to be central to a world-changing and lifesaving product. Data science and analytics are at the core of our company we are seeking an exceptional talent to join our team. You will be a key contributor and critical to the success of the company. The main analysis tasks you are expected to contribute to are:\n",
    "\n",
    "Analytical methods and statistical analysis for processing high-volume, temporal high-dimensional data streams generated in real-time from our proprietary sensor technology.\n",
    "The development of data-driven visualization tools for the explorative analysis of high-dimensional data.\n",
    "The application and development of suitable pre-processing, feature-selection and dimensional reduction techniques to detect, measure and account for data artifacts.\n",
    "The development and validation of applications for a medical instrument built under the guidance of a senior manager experienced in the application development discipline (so you’ll be learning the valuable skill of integrating your work into applications for medical diagnostic devices).\n",
    "Algorithm development for decisions and measurements from multi-dimensional data streams.\n",
    "This is not the job for a numbers only person. We want someone with a passion for and experience in the sciences that will lead you to look deeply into the sources of the data along with the scientists so that the data analysis is influenced by the science of our diagnostic technology and the science is influenced by the analysis.\n",
    "\n",
    "You\n",
    "You have a proven track record of successfully developing, validating and deploying data analysis and analytical methods to solve challenging real-world applications. You are deeply familiar with a broad range of analytical models and are at the pulse of developments in the field. Ideally you have proven expertise in the analysis of spatio-temporal data. You have a strong domain knowledge in the field of statistical analysis and signal processing. You should have a track record of success in your education and projects and have these characteristics and skills:\n",
    "\n",
    "MS degree in computer sciences, biomedical engineering, or related field and at least 5 years of interesting relevant experience.\n",
    "Expert in R and proficient with C++ and Python.\n",
    "Expertise in analytical methods and statistical analysis.\n",
    "Proficiency in SQL as well as NoSQL database technologies a plus.\n",
    "Full fluency (verbal and written) of the English language is a must.\n",
    "\"\"\")"
   ]
  },
  {
   "cell_type": "code",
   "execution_count": 44,
   "metadata": {},
   "outputs": [
    {
     "data": {
      "text/plain": [
       "array([[2.65577356e-21, 7.55124524e-21, 1.00000000e+00]])"
      ]
     },
     "execution_count": 44,
     "metadata": {},
     "output_type": "execute_result"
    }
   ],
   "source": [
    "nbclassifier.predict_proba(test)"
   ]
  },
  {
   "cell_type": "code",
   "execution_count": 45,
   "metadata": {},
   "outputs": [
    {
     "data": {
      "text/plain": [
       "array([[2.15271033e-15, 8.28174828e-24, 1.00000000e+00]])"
      ]
     },
     "execution_count": 45,
     "metadata": {},
     "output_type": "execute_result"
    }
   ],
   "source": [
    "nbclassifier2.predict_proba(test)"
   ]
  },
  {
   "cell_type": "code",
   "execution_count": 46,
   "metadata": {},
   "outputs": [],
   "source": [
    "pred = nbclassifier.predict_proba(test)"
   ]
  },
  {
   "cell_type": "code",
   "execution_count": 47,
   "metadata": {
    "scrolled": true
   },
   "outputs": [],
   "source": [
    "for inx, ele in enumerate(pred[0]):\n",
    "    cat = 0\n",
    "    Max = -1\n",
    "    if ele > Max:\n",
    "        cat, Max = inx, ele\n"
   ]
  },
  {
   "cell_type": "code",
   "execution_count": 48,
   "metadata": {},
   "outputs": [
    {
     "name": "stdout",
     "output_type": "stream",
     "text": [
      "This job is categorized as DATA SCIENTIST with a probability of 100.0%\n"
     ]
    }
   ],
   "source": [
    "print(\"This job is categorized as {} with a probability of {}%\"\\\n",
    "      .format(jd_dict[cat].upper(), str(round(100*Max, 3))))"
   ]
  },
  {
   "cell_type": "code",
   "execution_count": 49,
   "metadata": {},
   "outputs": [
    {
     "name": "stdout",
     "output_type": "stream",
     "text": [
      "ROC AUC (One-vs-Rest) of this class is 0.9367670316158975\n"
     ]
    }
   ],
   "source": [
    "print(\"ROC AUC (One-vs-Rest) of this class is {}\".format(roc_auc[cat]))"
   ]
  },
  {
   "cell_type": "code",
   "execution_count": 50,
   "metadata": {},
   "outputs": [
    {
     "data": {
      "text/plain": [
       "array([2])"
      ]
     },
     "execution_count": 50,
     "metadata": {},
     "output_type": "execute_result"
    }
   ],
   "source": [
    "nbclassifier.predict(test)\n",
    "#test = pd.Series(test)"
   ]
  },
  {
   "cell_type": "code",
   "execution_count": 51,
   "metadata": {},
   "outputs": [],
   "source": [
    "test2 = pd.Series(\"\"\"Summary:\n",
    "Gather, decompose, and document requirements needed to build reports for our Operations and Finance partners\n",
    "Practice iterative, end-to-end development, to rapidly develop and deliver complex reports and dashboards, as required by business stakeholders\n",
    "Understands and applies technical and reporting best practices\n",
    "Articulate issues, problems, impacts, and needs across internal and external teams\n",
    "Innovate and suggest out-of-the-box solutions to improve productivity and processes\n",
    "Writes complex SQL as necessary to extract and transform data for reports or dashboards\n",
    "\n",
    "Skills: \n",
    "3+ years hands-on experience using SAP Business Objects (BOBJ), Oracle EBS/Cloud Reporting tools, Oracle Transactional Business Intelligence (OTBI)\n",
    "Experience using at least one Oracle ERP Module (O2C, P2P, I2R, MDM, OTBI, Finance/Accounting)\n",
    "Expert level report requirements gathering, designing, developing, and testing reports to meet business needs\n",
    "Strong understanding of data management\n",
    "Ability to operating independently, be detail-oriented, and deliver results\n",
    "Excellent communication and project management skills across a broad range of audiences\n",
    "\"\"\")"
   ]
  },
  {
   "cell_type": "code",
   "execution_count": 52,
   "metadata": {},
   "outputs": [
    {
     "data": {
      "text/plain": [
       "array([[9.99999998e-01, 1.91008458e-09, 1.10007896e-14]])"
      ]
     },
     "execution_count": 52,
     "metadata": {},
     "output_type": "execute_result"
    }
   ],
   "source": [
    "nbclassifier.predict_proba(test2)"
   ]
  },
  {
   "cell_type": "code",
   "execution_count": 53,
   "metadata": {},
   "outputs": [
    {
     "data": {
      "text/plain": [
       "array([0])"
      ]
     },
     "execution_count": 53,
     "metadata": {},
     "output_type": "execute_result"
    }
   ],
   "source": [
    "nbclassifier.predict(test2)\n",
    "#test = pd.Series(test)"
   ]
  },
  {
   "cell_type": "code",
   "execution_count": 54,
   "metadata": {},
   "outputs": [],
   "source": [
    "test3 = pd.Series(\"\"\"Medical Device Start up is looking for a Lab Technician. \n",
    "\n",
    "Job Duties:\n",
    "Help build up components in support of development team experiments\n",
    "Run simple engineering experiments under the guidance of a scientist or engineer\n",
    "Help qualify lots of reagents or engineering assemblies using established protocols\n",
    "Working with bio-hazardous materials and infectious agents.\n",
    "Following Good Documentation Practice (GDP) and record all data and results from experiments in a laboratory notebook\n",
    "Requirements:\n",
    "Entry level position \n",
    "\n",
    "Strong attention to detail \n",
    "\n",
    "Strong manual dexterity \n",
    "\n",
    "Experience in laboratory in academic or industrial setting preferred \n",
    "\n",
    "Education:\n",
    "Bachelor's Degree, preferably in a scientific field.\n",
    "BS in biological science (or related) preferred, not required\n",
    "About Aerotek:\n",
    "Your success starts with the right career opportunity. Aerotek uses a people-focused approach to connect job seekers to incredible opportunities with leading organizations. Established in 1983, we've grown to become a consistent Best of Staffing® winner for talent satisfaction because of our dedication to exceptional service. Serving over 300,000 contract workers every year, we specialize in placing workers with engineering, scientific, professional and industrial skill sets. Aerotek is proud to offer competitive benefits, including contributory medical, dental and vision insurance, weekly pay, discounts on consumer goods and services and more.\n",
    "\"\"\")"
   ]
  },
  {
   "cell_type": "code",
   "execution_count": 55,
   "metadata": {},
   "outputs": [
    {
     "data": {
      "text/plain": [
       "array([[8.20070017e-01, 5.12899851e-07, 1.79929470e-01]])"
      ]
     },
     "execution_count": 55,
     "metadata": {},
     "output_type": "execute_result"
    }
   ],
   "source": [
    "nbclassifier.predict_proba(test3)"
   ]
  },
  {
   "cell_type": "code",
   "execution_count": 56,
   "metadata": {},
   "outputs": [
    {
     "data": {
      "text/plain": [
       "array([0])"
      ]
     },
     "execution_count": 56,
     "metadata": {},
     "output_type": "execute_result"
    }
   ],
   "source": [
    "nbclassifier.predict(test3)\n",
    "#test = pd.Series(test)"
   ]
  },
  {
   "cell_type": "code",
   "execution_count": null,
   "metadata": {},
   "outputs": [],
   "source": []
  },
  {
   "cell_type": "code",
   "execution_count": null,
   "metadata": {
    "scrolled": false
   },
   "outputs": [],
   "source": []
  },
  {
   "cell_type": "code",
   "execution_count": null,
   "metadata": {},
   "outputs": [],
   "source": []
  }
 ],
 "metadata": {
  "kernelspec": {
   "display_name": "Python 3",
   "language": "python",
   "name": "python3"
  },
  "language_info": {
   "codemirror_mode": {
    "name": "ipython",
    "version": 3
   },
   "file_extension": ".py",
   "mimetype": "text/x-python",
   "name": "python",
   "nbconvert_exporter": "python",
   "pygments_lexer": "ipython3",
   "version": "3.8.3"
  }
 },
 "nbformat": 4,
 "nbformat_minor": 4
}
